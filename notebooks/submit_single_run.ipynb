{
 "cells": [
  {
   "cell_type": "code",
   "execution_count": 1,
   "id": "8b1af2d3-0a1a-42c8-825e-5f94bf1cae4e",
   "metadata": {},
   "outputs": [
    {
     "data": {
      "text/plain": [
       "\"192.168.65.3\""
      ]
     },
     "execution_count": 1,
     "metadata": {},
     "output_type": "execute_result"
    }
   ],
   "source": [
    "RUBY_CMD = 'ruby'\n",
    "BUNDLE_CMD = 'bundle exec ruby'\n",
    "META_CLI = File.absolute_path('/opt/OpenStudio-server/bin/openstudio_meta')\n",
    "PROJECT = File.absolute_path('/opt/OpenStudio-server/server/spec/files')\n",
    "HOST = '192.168.65.3'"
   ]
  },
  {
   "cell_type": "code",
   "execution_count": 2,
   "id": "e68a0b41-b2b8-4069-9f72-f676b7fc818d",
   "metadata": {},
   "outputs": [
    {
     "data": {
      "text/plain": [
       "\"bundle exec ruby\""
      ]
     },
     "execution_count": 2,
     "metadata": {},
     "output_type": "execute_result"
    }
   ],
   "source": [
    "@host = HOST\n",
    "@project = PROJECT\n",
    "@meta_cli = META_CLI\n",
    "@ruby_cmd = RUBY_CMD\n",
    "@bundle_cmd = BUNDLE_CMD"
   ]
  },
  {
   "cell_type": "code",
   "execution_count": 3,
   "id": "5b676e33-24df-4eab-815a-4de3477f4ba0",
   "metadata": {},
   "outputs": [],
   "source": [
    "#Single Run"
   ]
  },
  {
   "cell_type": "code",
   "execution_count": 4,
   "id": "85e789ca-c93f-4a2a-8ca8-b1481efa0b79",
   "metadata": {},
   "outputs": [
    {
     "data": {
      "text/plain": [
       "\"/opt/OpenStudio-server/bin/openstudio_meta run_analysis --debug --verbose '/opt/OpenStudio-server/server/spec/files/SEB_calibration_single_run_2013.json' 'http://192.168.65.3' -z 'SEB_calibration_NSGA_2013' -a single_run\""
      ]
     },
     "execution_count": 4,
     "metadata": {},
     "output_type": "execute_result"
    }
   ],
   "source": [
    "command = \"#{@meta_cli} run_analysis --debug --verbose '#{@project}/SEB_calibration_single_run_2013.json' 'http://#{@host}' -z 'SEB_calibration_NSGA_2013' -a single_run\""
   ]
  },
  {
   "cell_type": "code",
   "execution_count": 5,
   "id": "e691df28-69f1-4398-a0ba-64478578dbfb",
   "metadata": {},
   "outputs": [
    {
     "data": {
      "text/plain": [
       "true"
      ]
     },
     "execution_count": 5,
     "metadata": {},
     "output_type": "execute_result"
    }
   ],
   "source": [
    "run_analysis = system(command)"
   ]
  },
  {
   "cell_type": "code",
   "execution_count": 6,
   "id": "1d5e7da4-fac8-4b13-ac80-e34a879cf707",
   "metadata": {},
   "outputs": [
    {
     "data": {
      "text/plain": [
       "\"e10afc98-763f-4496-a9e7-b87de7278b68\""
      ]
     },
     "execution_count": 6,
     "metadata": {},
     "output_type": "execute_result"
    }
   ],
   "source": [
    "require 'rest-client'\n",
    "require 'json'\n",
    "a = RestClient.get \"http://#{@host}/analyses.json\"\n",
    "a = JSON.parse(a, symbolize_names: true)\n",
    "a = a.sort { |x, y| x[:created_at] <=> y[:created_at] }.reverse\n",
    "analysis = a[0]\n",
    "analysis_id = analysis[:_id]"
   ]
  },
  {
   "cell_type": "code",
   "execution_count": 7,
   "id": "1a2bd77e-6db8-4e50-b660-cad52d34984a",
   "metadata": {},
   "outputs": [
    {
     "data": {
      "text/plain": [
       "\"started\""
      ]
     },
     "execution_count": 7,
     "metadata": {},
     "output_type": "execute_result"
    }
   ],
   "source": [
    "a = RestClient.get \"http://#{@host}/analyses/#{analysis_id}/status.json\"\n",
    "a = JSON.parse(a, symbolize_names: true)\n",
    "status = a[:analysis][:status]"
   ]
  },
  {
   "cell_type": "code",
   "execution_count": 8,
   "id": "9a2dd0fa-ce11-4c5b-9e39-b85d15fe7841",
   "metadata": {},
   "outputs": [
    {
     "data": {
      "text/plain": [
       "\"single_run\""
      ]
     },
     "execution_count": 8,
     "metadata": {},
     "output_type": "execute_result"
    }
   ],
   "source": [
    "a = RestClient.get \"http://#{@host}/analyses/#{analysis_id}.json\"\n",
    "a = JSON.parse(a, symbolize_names: true)\n",
    "status = a[:analysis][:problem][:analysis_type]"
   ]
  },
  {
   "cell_type": "code",
   "execution_count": 9,
   "id": "47a6bf5e-ad0f-464b-9a2e-25bb04819e83",
   "metadata": {},
   "outputs": [
    {
     "data": {
      "text/plain": [
       "false"
      ]
     },
     "execution_count": 9,
     "metadata": {},
     "output_type": "execute_result"
    }
   ],
   "source": [
    "a[:analysis][:urbanopt]"
   ]
  },
  {
   "cell_type": "code",
   "execution_count": 10,
   "id": "f2db0533-bef6-4db0-8a5a-0692cb1fb01d",
   "metadata": {},
   "outputs": [
    {
     "data": {
      "text/plain": [
       "1"
      ]
     },
     "execution_count": 10,
     "metadata": {},
     "output_type": "execute_result"
    }
   ],
   "source": [
    "# get all data points in this analysis\n",
    "a = RestClient.get \"http://#{@host}/data_points.json\"\n",
    "a = JSON.parse(a, symbolize_names: true)\n",
    "data_points = []\n",
    "a.each do |data_point|\n",
    "  if data_point[:analysis_id] == analysis_id\n",
    "    data_points << data_point\n",
    "  end\n",
    "end\n",
    "data_points.size"
   ]
  },
  {
   "cell_type": "code",
   "execution_count": 11,
   "id": "e7654c0a-55d1-4f99-80f6-a07c6a0c22d8",
   "metadata": {},
   "outputs": [
    {
     "data": {
      "text/plain": [
       "\"ec654306-de41-498f-94b9-d968f8578248\""
      ]
     },
     "execution_count": 11,
     "metadata": {},
     "output_type": "execute_result"
    }
   ],
   "source": [
    "data_point_id = data_points[0][:_id]"
   ]
  },
  {
   "cell_type": "code",
   "execution_count": 14,
   "id": "61a50334-19d5-41c2-8cfc-1069d40637ce",
   "metadata": {},
   "outputs": [
    {
     "data": {
      "text/plain": [
       "\"completed\""
      ]
     },
     "execution_count": 14,
     "metadata": {},
     "output_type": "execute_result"
    }
   ],
   "source": [
    "dp = RestClient.get \"http://#{@host}/data_points/#{data_point_id}.json\"\n",
    "dp = JSON.parse(dp, symbolize_names: true)\n",
    "data_points_status = dp[:data_point][:status]"
   ]
  },
  {
   "cell_type": "code",
   "execution_count": 15,
   "id": "a8687c48-59cc-4e88-891d-c784e0f219ab",
   "metadata": {},
   "outputs": [
    {
     "data": {
      "text/plain": [
       "\"completed normal\""
      ]
     },
     "execution_count": 15,
     "metadata": {},
     "output_type": "execute_result"
    }
   ],
   "source": [
    "dp[:data_point][:status_message]"
   ]
  },
  {
   "cell_type": "code",
   "execution_count": 16,
   "id": "8bc29792-222a-475e-b596-cc88d0d37530",
   "metadata": {},
   "outputs": [
    {
     "data": {
      "text/plain": [
       "{:electric_nmbe_limit=>5.0, :electric_cvrmse_limit=>15.0, :gas_nmbe_limit=>5.0, :gas_cvrmse_limit=>15.0, :ashrae_max_nmbe=>5.0, :ashrae_max_cvrmse=>15.0, :femp_max_nmbe=>15.0, :femp_max_cvrmse=>10.0, :electricity_consumption_cvrmse=>34.85459811334266, :electricity_consumption_nmbe=>-35.591021413089216, :electricity_period_1_start_date=>\"2013-Jan-01\", :electricity_period_1_end_date=>\"2013-Jan-30\", :electricity_period_1_consumption_actual=>1562.0, :electricity_period_1_consumption_modeled=>1973.4347488620274, :electricity_period_1_peak_demand_modeled=>6.313304755609102, :electricity_period_1_consumption_nmbe=>26.340252808068335, :electricity_period_2_start_date=>\"2013-Feb-01\", :electricity_period_2_end_date=>\"2013-Feb-28\", :electricity_period_2_consumption_actual=>1395.0, :electricity_period_2_consumption_modeled=>1749.6053975455463, :electricity_period_2_peak_demand_modeled=>4.913394065262417, :electricity_period_2_consumption_nmbe=>25.419741759537374, :electricity_period_3_start_date=>\"2013-Mar-01\", :electricity_period_3_end_date=>\"2013-Mar-31\", :electricity_period_3_consumption_actual=>1279.0, :electricity_period_3_consumption_modeled=>1927.1116385395917, :electricity_period_3_peak_demand_modeled=>5.515628925965543, :electricity_period_3_consumption_nmbe=>50.67331028456542, :electricity_period_4_start_date=>\"2013-Apr-01\", :electricity_period_4_end_date=>\"2013-Apr-30\", :electricity_period_4_consumption_actual=>1347.0, :electricity_period_4_consumption_modeled=>1906.6224574785117, :electricity_period_4_peak_demand_modeled=>5.708308626429569, :electricity_period_4_consumption_nmbe=>41.54583945645967, :electricity_period_5_start_date=>\"2013-May-01\", :electricity_period_5_end_date=>\"2013-May-31\", :electricity_period_5_consumption_actual=>1363.0, :electricity_period_5_consumption_modeled=>2040.6311651548574, :electricity_period_5_peak_demand_modeled=>6.203897523398837, :electricity_period_5_consumption_nmbe=>49.71615298274816, :electricity_period_6_start_date=>\"2013-Jun-01\", :electricity_period_6_end_date=>\"2013-Jun-30\", :electricity_period_6_consumption_actual=>1691.0, :electricity_period_6_consumption_modeled=>2166.8572581239164, :electricity_period_6_peak_demand_modeled=>6.980355306463647, :electricity_period_6_consumption_nmbe=>28.140582975985595, :electricity_period_7_start_date=>\"2013-Jul-01\", :electricity_period_7_end_date=>\"2013-Jul-31\", :electricity_period_7_consumption_actual=>1852.0, :electricity_period_7_consumption_modeled=>2332.7576552085225, :electricity_period_7_peak_demand_modeled=>6.927494772556913, :electricity_period_7_consumption_nmbe=>25.958836674326268, :electricity_period_8_start_date=>\"2013-Aug-01\", :electricity_period_8_end_date=>\"2013-Aug-31\", :electricity_period_8_consumption_actual=>1983.0, :electricity_period_8_consumption_modeled=>2304.662617768266, :electricity_period_8_peak_demand_modeled=>6.91281364414184, :electricity_period_8_consumption_nmbe=>16.221009468898945, :electricity_period_9_start_date=>\"2013-Sep-01\", :electricity_period_9_end_date=>\"2013-Sep-30\", :electricity_period_9_consumption_actual=>1650.0, :electricity_period_9_consumption_modeled=>2054.872395786451, :electricity_period_9_peak_demand_modeled=>6.830370815428097, :electricity_period_9_consumption_nmbe=>24.537720956754598, :electricity_period_10_start_date=>\"2013-Oct-01\", :electricity_period_10_end_date=>\"2013-Oct-31\", :electricity_period_10_consumption_actual=>1385.0, :electricity_period_10_consumption_modeled=>1958.721962390736, :electricity_period_10_peak_demand_modeled=>5.773444128089322, :electricity_period_10_consumption_nmbe=>41.42396840366325, :electricity_period_11_start_date=>\"2013-Nov-01\", :electricity_period_11_end_date=>\"2013-Nov-30\", :electricity_period_11_consumption_actual=>1347.0, :electricity_period_11_consumption_modeled=>1864.3196395424227, :electricity_period_11_peak_demand_modeled=>5.257643488766504, :electricity_period_11_consumption_nmbe=>38.40531845155328, :electricity_period_12_start_date=>\"2013-Dec-01\", :electricity_period_12_end_date=>\"2013-Dec-31\", :electricity_period_12_consumption_actual=>1524.0, :electricity_period_12_consumption_modeled=>2094.2444859552265, :electricity_period_12_peak_demand_modeled=>6.3134295221895815, :electricity_period_12_consumption_nmbe=>37.41761718866316, :electricity_consumption_actual=>18378.0, :electricity_consumption_modeled=>24373.841422356076, :electricity_sum_of_squares=>3134345.350491809, :electricity_dof=>12, :electricity_rmse=>511.07283813006285, :natural_gas_consumption_cvrmse=>162.94187840634328, :natural_gas_consumption_nmbe=>-130.58339588071794, :natural_gas_period_1_start_date=>\"2013-Jan-18\", :natural_gas_period_1_end_date=>\"2013-Feb-18\", :natural_gas_period_1_consumption_actual=>52.0, :natural_gas_period_1_consumption_modeled=>90.98224212686516, :natural_gas_period_1_consumption_nmbe=>74.96585024397146, :natural_gas_period_2_start_date=>\"2013-Feb-19\", :natural_gas_period_2_end_date=>\"2013-Mar-18\", :natural_gas_period_2_consumption_actual=>54.0, :natural_gas_period_2_consumption_modeled=>96.66784096823487, :natural_gas_period_2_consumption_nmbe=>79.01452031154605, :natural_gas_period_3_start_date=>\"2013-Mar-19\", :natural_gas_period_3_end_date=>\"2013-Apr-17\", :natural_gas_period_3_consumption_actual=>41.0, :natural_gas_period_3_consumption_modeled=>89.85546643072867, :natural_gas_period_3_consumption_nmbe=>119.15967422128944, :natural_gas_period_4_start_date=>\"2013-Apr-18\", :natural_gas_period_4_end_date=>\"2013-May-16\", :natural_gas_period_4_consumption_actual=>14.0, :natural_gas_period_4_consumption_modeled=>41.946259127926666, :natural_gas_period_4_consumption_nmbe=>199.6161366280476, :natural_gas_period_5_start_date=>\"2013-May-17\", :natural_gas_period_5_end_date=>\"2013-Jun-17\", :natural_gas_period_5_consumption_actual=>1.0, :natural_gas_period_5_consumption_modeled=>4.415238082143628, :natural_gas_period_5_consumption_nmbe=>341.5238082143628, :natural_gas_period_6_start_date=>\"2013-Jun-18\", :natural_gas_period_6_end_date=>\"2013-Jul-17\", :natural_gas_period_6_consumption_actual=>0.0, :natural_gas_period_6_consumption_modeled=>0.7319869296056153, :natural_gas_period_7_start_date=>\"2013-Jul-18\", :natural_gas_period_7_end_date=>\"2013-Aug-18\", :natural_gas_period_7_consumption_actual=>0.0, :natural_gas_period_7_consumption_modeled=>1.001196049688278, :natural_gas_period_8_start_date=>\"2013-Aug-19\", :natural_gas_period_8_end_date=>\"2013-Sep-16\", :natural_gas_period_8_consumption_actual=>0.0, :natural_gas_period_8_consumption_modeled=>1.13226430413926, :natural_gas_period_9_start_date=>\"2013-Sep-17\", :natural_gas_period_9_end_date=>\"2013-Oct-15\", :natural_gas_period_9_consumption_actual=>1.0, :natural_gas_period_9_consumption_modeled=>18.884828414590608, :natural_gas_period_9_consumption_nmbe=>1788.4828414590609, :natural_gas_period_10_start_date=>\"2013-Oct-16\", :natural_gas_period_10_end_date=>\"2013-Nov-13\", :natural_gas_period_10_consumption_actual=>19.0, :natural_gas_period_10_consumption_modeled=>47.91446625284252, :natural_gas_period_10_consumption_nmbe=>152.1814013307501, :natural_gas_period_11_start_date=>\"2013-Nov-14\", :natural_gas_period_11_end_date=>\"2013-Dec-17\", :natural_gas_period_11_consumption_actual=>51.0, :natural_gas_period_11_consumption_modeled=>116.06758622421002, :natural_gas_period_11_consumption_nmbe=>127.5835024004118, :natural_gas_consumption_actual=>233.0, :natural_gas_consumption_modeled=>509.59937491097537, :natural_gas_sum_of_squares=>11912.198148695701, :natural_gas_dof=>11, :natural_gas_rmse=>32.90785779151967, :total_sum_of_squares=>1.7322089710727496e+20, :total_dof=>23, :total_rmse=>2744329308.317465, :electricity_cvrmse_within_limit=>0, :electricity_nmbe_within_limit=>0, :natural_gas_cvrmse_within_limit=>0, :natural_gas_nmbe_within_limit=>0, :applicable=>true}"
      ]
     },
     "execution_count": 16,
     "metadata": {},
     "output_type": "execute_result"
    }
   ],
   "source": [
    "results = dp[:data_point][:results][:calibration_reports_enhanced_20]"
   ]
  },
  {
   "cell_type": "code",
   "execution_count": 17,
   "id": "f9d29173-31ec-43d1-992b-bd15da0426d9",
   "metadata": {},
   "outputs": [
    {
     "data": {
      "text/plain": [
       "{:electricity_consumption_cvrmse=>34.85459811334266, :electricity_consumption_nmbe=>-35.591021413089216, :natural_gas_consumption_cvrmse=>162.94187840634328, :natural_gas_consumption_nmbe=>-130.58339588071794}"
      ]
     },
     "execution_count": 17,
     "metadata": {},
     "output_type": "execute_result"
    }
   ],
   "source": [
    "results.slice(:electricity_consumption_cvrmse, :electricity_consumption_nmbe, :natural_gas_consumption_cvrmse, :natural_gas_consumption_nmbe)"
   ]
  },
  {
   "cell_type": "code",
   "execution_count": 18,
   "id": "ffbea07f-2f42-45d8-9278-0a8aaef2229e",
   "metadata": {},
   "outputs": [
    {
     "data": {
      "text/plain": [
       "{:objective_function_1=>34.85459811334266, :objective_function_target_1=>0.0, :objective_function_group_1=>1.0, :objective_function_2=>-35.591021413089216, :objective_function_target_2=>0.0, :objective_function_group_2=>2.0, :objective_function_3=>162.94187840634328, :objective_function_target_3=>0.0, :objective_function_group_3=>3.0, :objective_function_4=>-130.58339588071794, :objective_function_target_4=>0.0, :objective_function_group_4=>4.0}"
      ]
     },
     "execution_count": 18,
     "metadata": {},
     "output_type": "execute_result"
    }
   ],
   "source": [
    "objectives_json = RestClient.get \"http://#{@host}/data_points/#{data_point_id}/download_result_file?filename=objectives.json\"\n",
    "objectives_json = JSON.parse(objectives_json, symbolize_names: true)"
   ]
  },
  {
   "cell_type": "code",
   "execution_count": 19,
   "id": "2247c8e5-0fbb-4c59-93f1-ba9888a79ad8",
   "metadata": {},
   "outputs": [
    {
     "data": {
      "text/plain": [
       "2207"
      ]
     },
     "execution_count": 19,
     "metadata": {},
     "output_type": "execute_result"
    }
   ],
   "source": [
    "require 'open-uri'\n",
    "File.write 'results.csv', URI.open(\"http://#{@host}/analyses/#{analysis_id}/download_data.csv?export=true\").read\n"
   ]
  },
  {
   "cell_type": "code",
   "execution_count": null,
   "id": "59d815d8-592a-4b64-a4f1-1906cd49db2d",
   "metadata": {},
   "outputs": [],
   "source": []
  }
 ],
 "metadata": {
  "kernelspec": {
   "display_name": "Ruby 2.7.2",
   "language": "ruby",
   "name": "ruby"
  },
  "language_info": {
   "file_extension": ".rb",
   "mimetype": "application/x-ruby",
   "name": "ruby",
   "version": "2.7.2"
  }
 },
 "nbformat": 4,
 "nbformat_minor": 5
}
