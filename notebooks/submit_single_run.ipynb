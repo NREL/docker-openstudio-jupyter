{
 "cells": [
  {
   "cell_type": "code",
   "execution_count": 1,
   "id": "8b1af2d3-0a1a-42c8-825e-5f94bf1cae4e",
   "metadata": {},
   "outputs": [
    {
     "data": {
      "text/plain": [
       "\"192.168.65.3\""
      ]
     },
     "execution_count": 1,
     "metadata": {},
     "output_type": "execute_result"
    }
   ],
   "source": [
    "RUBY_CMD = 'ruby'\n",
    "BUNDLE_CMD = 'bundle exec ruby'\n",
    "META_CLI = File.absolute_path('/opt/OpenStudio-server/bin/openstudio_meta')\n",
    "PROJECT = File.absolute_path('/opt/OpenStudio-server/server/spec/files')\n",
    "HOST = '192.168.65.3'"
   ]
  },
  {
   "cell_type": "code",
   "execution_count": 2,
   "id": "e68a0b41-b2b8-4069-9f72-f676b7fc818d",
   "metadata": {},
   "outputs": [
    {
     "data": {
      "text/plain": [
       "\"bundle exec ruby\""
      ]
     },
     "execution_count": 2,
     "metadata": {},
     "output_type": "execute_result"
    }
   ],
   "source": [
    "@host = HOST\n",
    "@project = PROJECT\n",
    "@meta_cli = META_CLI\n",
    "@ruby_cmd = RUBY_CMD\n",
    "@bundle_cmd = BUNDLE_CMD"
   ]
  },
  {
   "cell_type": "code",
   "execution_count": 3,
   "id": "85e789ca-c93f-4a2a-8ca8-b1481efa0b79",
   "metadata": {},
   "outputs": [
    {
     "data": {
      "text/plain": [
       "\"/opt/OpenStudio-server/bin/openstudio_meta run_analysis --debug --verbose '/opt/OpenStudio-server/server/spec/files/SEB_calibration_single_run_2013.json' 'http://192.168.65.3' -z 'SEB_calibration_NSGA_2013' -a single_run\""
      ]
     },
     "execution_count": 3,
     "metadata": {},
     "output_type": "execute_result"
    }
   ],
   "source": [
    "command = \"#{@meta_cli} run_analysis --debug --verbose '#{@project}/SEB_calibration_single_run_2013.json' 'http://#{@host}' -z 'SEB_calibration_NSGA_2013' -a single_run\""
   ]
  },
  {
   "cell_type": "code",
   "execution_count": 4,
   "id": "e691df28-69f1-4398-a0ba-64478578dbfb",
   "metadata": {},
   "outputs": [
    {
     "data": {
      "text/plain": [
       "true"
      ]
     },
     "execution_count": 4,
     "metadata": {},
     "output_type": "execute_result"
    }
   ],
   "source": [
    "run_analysis = system(command)"
   ]
  },
  {
   "cell_type": "code",
   "execution_count": null,
   "id": "768ff99c-5782-4953-b22d-5f889af62e27",
   "metadata": {},
   "outputs": [],
   "source": []
  }
 ],
 "metadata": {
  "kernelspec": {
   "display_name": "Ruby 2.7.2",
   "language": "ruby",
   "name": "ruby"
  },
  "language_info": {
   "file_extension": ".rb",
   "mimetype": "application/x-ruby",
   "name": "ruby",
   "version": "2.7.2"
  }
 },
 "nbformat": 4,
 "nbformat_minor": 5
}
