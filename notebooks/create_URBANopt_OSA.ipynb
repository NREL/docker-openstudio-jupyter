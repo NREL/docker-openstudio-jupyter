{
 "cells": [
  {
   "cell_type": "code",
   "execution_count": 1,
   "id": "967b8409-9336-42a7-9e65-b2a253565901",
   "metadata": {},
   "outputs": [
    {
     "data": {
      "text/plain": [
       "\"/examples/notebooks\""
      ]
     },
     "execution_count": 1,
     "metadata": {},
     "output_type": "execute_result"
    }
   ],
   "source": [
    "Dir.pwd"
   ]
  },
  {
   "cell_type": "code",
   "execution_count": 2,
   "id": "710db254-8dc2-4267-a9a8-29b6b10878bd",
   "metadata": {},
   "outputs": [
    {
     "data": {
      "text/plain": [
       "\"uo create --project-folder /examples/notebooks/URBANoptOSA\""
      ]
     },
     "execution_count": 2,
     "metadata": {},
     "output_type": "execute_result"
    }
   ],
   "source": [
    "command = \"uo create --project-folder #{Dir.pwd}/URBANoptOSA\""
   ]
  },
  {
   "cell_type": "code",
   "execution_count": 3,
   "id": "c5511b4e-2254-4a5e-9a59-122e28f6d548",
   "metadata": {},
   "outputs": [
    {
     "data": {
      "text/plain": [
       "\"\\nCreating a new project folder...\\nWeather data is provided for the example FeatureFile. Additional weather data files may be downloaded from energyplus.net/weather for free\\nIf you use additional weather files, ensure they are added to the 'weather' directory. You will need to configure your mapper file and your osw file to use the desired weather file\\nWe recommend using absolute paths for all commands, for cleaner output\\n\""
      ]
     },
     "execution_count": 3,
     "metadata": {},
     "output_type": "execute_result"
    }
   ],
   "source": [
    "output = `#{command}`"
   ]
  },
  {
   "cell_type": "code",
   "execution_count": 4,
   "id": "7ea89865-9348-4b50-80c5-4d01bb90cd5e",
   "metadata": {},
   "outputs": [],
   "source": [
    "#output = `#{command} 2>&1`  #if there are errors and you need stderr"
   ]
  },
  {
   "cell_type": "code",
   "execution_count": 5,
   "id": "cb4687c6-74cb-4654-8bce-2bf22a567442",
   "metadata": {},
   "outputs": [
    {
     "data": {
      "text/plain": [
       "[\"..\", \".\", \"URBANoptOSA\", \".ipynb_checkpoints\", \"URBANopt_template.json\", \"create_URBANopt_OSA.ipynb\", \"create_URBANopt.ipynb\", \"submit_URBANopt.ipynb\", \"submit_single_run.ipynb\"]"
      ]
     },
     "execution_count": 5,
     "metadata": {},
     "output_type": "execute_result"
    }
   ],
   "source": [
    "Dir.entries(\".\")"
   ]
  },
  {
   "cell_type": "code",
   "execution_count": 6,
   "id": "fab3c42b-e438-4b71-bb43-7b92c7cbd58c",
   "metadata": {},
   "outputs": [
    {
     "data": {
      "text/plain": [
       "[\"example_project.json\", \"mappers\", \"osm_building\", \"runner.conf\", \"Gemfile\", \"visualization\", \"..\", \"validation_schema.yaml\", \".\", \"weather\"]"
      ]
     },
     "execution_count": 6,
     "metadata": {},
     "output_type": "execute_result"
    }
   ],
   "source": [
    "Dir.entries(\"URBANoptOSA\")"
   ]
  },
  {
   "cell_type": "code",
   "execution_count": 7,
   "id": "9795578b-a9eb-40a8-9a3b-8121c3692d00",
   "metadata": {},
   "outputs": [
    {
     "data": {
      "text/plain": [
       "\"uo create --scenario-file /examples/notebooks/URBANoptOSA/example_project.json\""
      ]
     },
     "execution_count": 7,
     "metadata": {},
     "output_type": "execute_result"
    }
   ],
   "source": [
    "command = \"uo create --scenario-file #{Dir.pwd}/URBANoptOSA/example_project.json\""
   ]
  },
  {
   "cell_type": "code",
   "execution_count": 8,
   "id": "7a9268f4-6db2-4c91-8ec1-07f289f0bceb",
   "metadata": {},
   "outputs": [
    {
     "data": {
      "text/plain": [
       "\"\\nBuilding sample ScenarioFiles, assigning mapper classes to each feature from example_project.json\\n\\nDone\\n\""
      ]
     },
     "execution_count": 8,
     "metadata": {},
     "output_type": "execute_result"
    }
   ],
   "source": [
    "output = `#{command}`"
   ]
  },
  {
   "cell_type": "code",
   "execution_count": 9,
   "id": "15b08b91-915d-4389-83ec-71ca1b6f3218",
   "metadata": {},
   "outputs": [
    {
     "data": {
      "text/plain": [
       "[\"highefficiency_scenario.csv\", \"example_project.json\", \"evcharging_scenario.csv\", \"mappers\", \"thermalstorage_scenario.csv\", \"osm_building\", \"runner.conf\", \"Gemfile\", \"visualization\", \"baseline_scenario.csv\", \"..\", \"validation_schema.yaml\", \".\", \"weather\", \"flexiblehotwater_scenario.csv\"]"
      ]
     },
     "execution_count": 9,
     "metadata": {},
     "output_type": "execute_result"
    }
   ],
   "source": [
    "Dir.entries(\"URBANoptOSA\")"
   ]
  },
  {
   "cell_type": "code",
   "execution_count": 10,
   "id": "ba1fdd9f-36bb-4183-bec9-7825be2e385c",
   "metadata": {},
   "outputs": [
    {
     "data": {
      "text/plain": [
       "#<CSV io_type:File io_path:\"/examples/notebooks/URBANoptOSA/highefficiency_scenario.csv\" encoding:ASCII-8BIT lineno:3 col_sep:\",\" row_sep:\"\\n\" quote_char:\"\\\"\">"
      ]
     },
     "execution_count": 10,
     "metadata": {},
     "output_type": "execute_result"
    }
   ],
   "source": [
    "require 'csv'\n",
    "file = CSV.table(\"#{Dir.pwd}/URBANoptOSA/highefficiency_scenario.csv\")\n",
    "CSV.open(\"#{Dir.pwd}/URBANoptOSA/highefficiency_scenario.csv\", \"wb\") do |csv|\n",
    "    csv << file[0]\n",
    "    csv << file[1]\n",
    "    csv << file[2]\n",
    "end"
   ]
  },
  {
   "cell_type": "code",
   "execution_count": 11,
   "id": "0adc8c2c-28d9-4217-9646-cf9bea5246ad",
   "metadata": {},
   "outputs": [
    {
     "data": {
      "text/plain": [
       "[\"/examples/notebooks/OSA/lib/urbanopt\"]"
      ]
     },
     "execution_count": 11,
     "metadata": {},
     "output_type": "execute_result"
    }
   ],
   "source": [
    "require 'fileutils'\n",
    "FileUtils.mkdir_p \"#{Dir.pwd}/OSA/lib/urbanopt\""
   ]
  },
  {
   "cell_type": "code",
   "execution_count": 12,
   "id": "d1ca6411-983f-4653-9cba-de8b9cd57163",
   "metadata": {},
   "outputs": [],
   "source": [
    "FileUtils.cp_r \"#{Dir.pwd}/URBANoptOSA/.\", \"#{Dir.pwd}/OSA/lib/urbanopt\""
   ]
  },
  {
   "cell_type": "code",
   "execution_count": 13,
   "id": "6304ccd6-87a7-41ed-a86f-5ce6e88d5622",
   "metadata": {},
   "outputs": [
    {
     "data": {
      "text/plain": [
       "true"
      ]
     },
     "execution_count": 13,
     "metadata": {},
     "output_type": "execute_result"
    }
   ],
   "source": [
    "require 'zip'"
   ]
  },
  {
   "cell_type": "code",
   "execution_count": 14,
   "id": "43f9369d-6906-4530-87c4-6a19f58b11e7",
   "metadata": {},
   "outputs": [
    {
     "data": {
      "text/plain": [
       ":put_into_archive"
      ]
     },
     "execution_count": 14,
     "metadata": {},
     "output_type": "execute_result"
    }
   ],
   "source": [
    "class ZipFileGenerator\n",
    "  # Initialize with the directory to zip and the location of the output archive.\n",
    "  def initialize(input_dir, output_file)\n",
    "    @input_dir = input_dir\n",
    "    @output_file = output_file\n",
    "  end\n",
    "\n",
    "  # Zip the input directory.\n",
    "  def write\n",
    "    entries = Dir.entries(@input_dir) - %w[. ..]\n",
    "\n",
    "    ::Zip::File.open(@output_file, create: true) do |zipfile|\n",
    "      write_entries entries, '', zipfile\n",
    "    end\n",
    "  end\n",
    "\n",
    "  private\n",
    "\n",
    "  # A helper method to make the recursion work.\n",
    "  def write_entries(entries, path, zipfile)\n",
    "    entries.each do |e|\n",
    "      zipfile_path = path == '' ? e : File.join(path, e)\n",
    "      disk_file_path = File.join(@input_dir, zipfile_path)\n",
    "\n",
    "      if File.directory? disk_file_path\n",
    "        recursively_deflate_directory(disk_file_path, zipfile, zipfile_path)\n",
    "      else\n",
    "        put_into_archive(disk_file_path, zipfile, zipfile_path)\n",
    "      end\n",
    "    end\n",
    "  end\n",
    "\n",
    "  def recursively_deflate_directory(disk_file_path, zipfile, zipfile_path)\n",
    "    zipfile.mkdir zipfile_path\n",
    "    subdir = Dir.entries(disk_file_path) - %w[. ..]\n",
    "    write_entries subdir, zipfile_path, zipfile\n",
    "  end\n",
    "\n",
    "  def put_into_archive(disk_file_path, zipfile, zipfile_path)\n",
    "    zipfile.add(zipfile_path, disk_file_path)\n",
    "  end\n",
    "end\n"
   ]
  },
  {
   "cell_type": "code",
   "execution_count": 15,
   "id": "3e274912-5aa2-46ab-a2f7-b345e7e0138f",
   "metadata": {},
   "outputs": [
    {
     "data": {
      "text/plain": [
       "[\"lib\"]"
      ]
     },
     "execution_count": 15,
     "metadata": {},
     "output_type": "execute_result"
    }
   ],
   "source": [
    "zf = ZipFileGenerator.new(\"#{Dir.pwd}/OSA\", \"#{Dir.pwd}/URBANopt.zip\")\n",
    "zf.write()"
   ]
  },
  {
   "cell_type": "code",
   "execution_count": 16,
   "id": "209979eb-2d15-49ef-aebc-109935b26584",
   "metadata": {},
   "outputs": [
    {
     "data": {
      "text/plain": [
       "\"192.168.65.3\""
      ]
     },
     "execution_count": 16,
     "metadata": {},
     "output_type": "execute_result"
    }
   ],
   "source": [
    "RUBY_CMD = 'ruby'\n",
    "BUNDLE_CMD = 'bundle exec ruby'\n",
    "META_CLI = File.absolute_path('/opt/OpenStudio-server/bin/openstudio_meta')\n",
    "PROJECT = File.absolute_path(\"#{Dir.pwd}\")\n",
    "HOST = '192.168.65.3'"
   ]
  },
  {
   "cell_type": "code",
   "execution_count": 17,
   "id": "3ae06259-fcca-421c-ba34-5e6e1c04c503",
   "metadata": {},
   "outputs": [
    {
     "data": {
      "text/plain": [
       "\"bundle exec ruby\""
      ]
     },
     "execution_count": 17,
     "metadata": {},
     "output_type": "execute_result"
    }
   ],
   "source": [
    "@host = HOST\n",
    "@project = PROJECT\n",
    "@meta_cli = META_CLI\n",
    "@ruby_cmd = RUBY_CMD\n",
    "@bundle_cmd = BUNDLE_CMD"
   ]
  },
  {
   "cell_type": "code",
   "execution_count": 18,
   "id": "867bc20d-3dfa-4476-ab85-273a10da6fc9",
   "metadata": {},
   "outputs": [
    {
     "data": {
      "text/plain": [
       "\"/opt/OpenStudio-server/bin/openstudio_meta run_analysis --debug --verbose '/examples/notebooks/URBANopt_template.json' 'http://192.168.65.3' -z 'URBANopt' -a single_run\""
      ]
     },
     "execution_count": 18,
     "metadata": {},
     "output_type": "execute_result"
    }
   ],
   "source": [
    "command = \"#{@meta_cli} run_analysis --debug --verbose '#{@project}/URBANopt_template.json' 'http://#{@host}' -z 'URBANopt' -a single_run\""
   ]
  },
  {
   "cell_type": "code",
   "execution_count": 19,
   "id": "a83ceda2-1d61-4be4-a6c1-d2cd1e8bfff5",
   "metadata": {},
   "outputs": [
    {
     "data": {
      "text/plain": [
       "true"
      ]
     },
     "execution_count": 19,
     "metadata": {},
     "output_type": "execute_result"
    }
   ],
   "source": [
    "run_analysis = system(command)"
   ]
  },
  {
   "cell_type": "code",
   "execution_count": 20,
   "id": "199c0824-2c98-4c68-af2a-46843150d6f8",
   "metadata": {},
   "outputs": [
    {
     "data": {
      "text/plain": [
       "\"5f206eb4-ed8d-440a-997e-6228c7e2821c\""
      ]
     },
     "execution_count": 20,
     "metadata": {},
     "output_type": "execute_result"
    }
   ],
   "source": [
    "require 'rest-client'\n",
    "require 'json'\n",
    "a = RestClient.get \"http://#{@host}/analyses.json\"\n",
    "a = JSON.parse(a, symbolize_names: true)\n",
    "a = a.sort { |x, y| x[:created_at] <=> y[:created_at] }.reverse\n",
    "analysis = a[0]\n",
    "analysis_id = analysis[:_id]"
   ]
  },
  {
   "cell_type": "code",
   "execution_count": null,
   "id": "2cf32dea-5b01-4c39-b70e-db00260998b7",
   "metadata": {},
   "outputs": [],
   "source": [
    "    status = 'queued'\n",
    "    timeout_seconds = 360\n",
    "    begin\n",
    "      ::Timeout.timeout(timeout_seconds) do\n",
    "        while status != 'completed'\n",
    "          # get the analysis pages\n",
    "          get_count = 0\n",
    "          get_count_max = 12\n",
    "          begin\n",
    "            a = RestClient.get \"http://#{@host}/analyses/#{analysis_id}/status.json\"\n",
    "            a = JSON.parse(a, symbolize_names: true)\n",
    "            analysis_type = a[:analysis][:analysis_type]\n",
    "\n",
    "            status = a[:analysis][:status]\n",
    "            puts \"Accessed pages for analysis: #{analysis_id}, analysis_type: #{analysis_type}, status: #{status}\"\n",
    "            jobs = a[:analysis][:jobs]\n",
    "            puts \"jobs: #{jobs}\"\n",
    "\n",
    "            a = RestClient.get \"http://#{@host}/analyses/#{analysis_id}.json\"\n",
    "            a = JSON.parse(a, symbolize_names: true)\n",
    "            status_message = a[:analysis][:status_message]\n",
    "            puts \"status_message: #{status_message}\"\n",
    "\n",
    "            # get all data points in this analysis\n",
    "            a = RestClient.get \"http://#{@host}/data_points.json\"\n",
    "            a = JSON.parse(a, symbolize_names: true)\n",
    "            data_points = []\n",
    "            a.each do |data_point|\n",
    "              if data_point[:analysis_id] == analysis_id\n",
    "                data_points << data_point\n",
    "              end\n",
    "            end\n",
    "            # confirm that queueing is working\n",
    "            data_points.each do |data_point|\n",
    "              # get the datapoint pages\n",
    "              data_point_id = data_point[:_id]\n",
    "\n",
    "              a = RestClient.get \"http://#{@host}/data_points/#{data_point_id}.json\"\n",
    "              a = JSON.parse(a, symbolize_names: true)\n",
    "\n",
    "              data_points_status = a[:data_point][:status]\n",
    "              puts \"Accessed pages for data_point #{data_point_id}, data_points_status = #{data_points_status}\"\n",
    "            end\n",
    "          rescue RestClient::ExceptionWithResponse => e\n",
    "            puts \"rescue: #{e} get_count: #{get_count}\"\n",
    "            sleep(30)\n",
    "            retry if get_count <= get_count_max\n",
    "          end\n",
    "          puts ''\n",
    "          sleep(30)\n",
    "        end\n",
    "      end\n",
    "    rescue ::Timeout::Error\n",
    "      puts \"Analysis status is `#{status}` after #{timeout_seconds} seconds; assuming error.\"\n",
    "    end\n",
    "    puts \"Analysis status is `#{status}`\""
   ]
  },
  {
   "cell_type": "code",
   "execution_count": null,
   "id": "72e768b4-aa9f-4250-b67f-208ab85cd7fc",
   "metadata": {},
   "outputs": [],
   "source": []
  }
 ],
 "metadata": {
  "kernelspec": {
   "display_name": "Ruby 2.7.2",
   "language": "ruby",
   "name": "ruby"
  },
  "language_info": {
   "file_extension": ".rb",
   "mimetype": "application/x-ruby",
   "name": "ruby",
   "version": "2.7.2"
  }
 },
 "nbformat": 4,
 "nbformat_minor": 5
}
