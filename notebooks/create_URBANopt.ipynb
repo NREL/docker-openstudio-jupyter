{
 "cells": [
  {
   "cell_type": "code",
   "execution_count": 1,
   "id": "967b8409-9336-42a7-9e65-b2a253565901",
   "metadata": {},
   "outputs": [
    {
     "data": {
      "text/plain": [
       "\"/examples/notebooks\""
      ]
     },
     "execution_count": 1,
     "metadata": {},
     "output_type": "execute_result"
    }
   ],
   "source": [
    "Dir.pwd"
   ]
  },
  {
   "cell_type": "code",
   "execution_count": 14,
   "id": "710db254-8dc2-4267-a9a8-29b6b10878bd",
   "metadata": {},
   "outputs": [
    {
     "data": {
      "text/plain": [
       "\"uo create --project-folder /examples/notebooks/URBANopt\""
      ]
     },
     "execution_count": 14,
     "metadata": {},
     "output_type": "execute_result"
    }
   ],
   "source": [
    "command = \"uo create --project-folder #{Dir.pwd}/URBANopt\""
   ]
  },
  {
   "cell_type": "code",
   "execution_count": 16,
   "id": "c5511b4e-2254-4a5e-9a59-122e28f6d548",
   "metadata": {},
   "outputs": [
    {
     "data": {
      "text/plain": [
       "\"\\nCreating a new project folder...\\nWeather data is provided for the example FeatureFile. Additional weather data files may be downloaded from energyplus.net/weather for free\\nIf you use additional weather files, ensure they are added to the 'weather' directory. You will need to configure your mapper file and your osw file to use the desired weather file\\nWe recommend using absolute paths for all commands, for cleaner output\\n\""
      ]
     },
     "execution_count": 16,
     "metadata": {},
     "output_type": "execute_result"
    }
   ],
   "source": [
    "output = `#{command}`"
   ]
  },
  {
   "cell_type": "code",
   "execution_count": null,
   "id": "7ea89865-9348-4b50-80c5-4d01bb90cd5e",
   "metadata": {},
   "outputs": [],
   "source": [
    "#output = `#{command} 2>&1`  #if there are errors and you need stderr"
   ]
  },
  {
   "cell_type": "code",
   "execution_count": 18,
   "id": "cb4687c6-74cb-4654-8bce-2bf22a567442",
   "metadata": {},
   "outputs": [
    {
     "data": {
      "text/plain": [
       "[\"..\", \".\", \"Untitled.ipynb\", \".ipynb_checkpoints\", \"URBANopt\", \"submit_URBANopt.ipynb\", \"submit_single_run.ipynb\"]"
      ]
     },
     "execution_count": 18,
     "metadata": {},
     "output_type": "execute_result"
    }
   ],
   "source": [
    "Dir.entries(\".\")"
   ]
  },
  {
   "cell_type": "code",
   "execution_count": 24,
   "id": "fab3c42b-e438-4b71-bb43-7b92c7cbd58c",
   "metadata": {},
   "outputs": [
    {
     "data": {
      "text/plain": [
       "[\"example_project.json\", \"mappers\", \"osm_building\", \"runner.conf\", \"Gemfile\", \"visualization\", \"..\", \"validation_schema.yaml\", \".\", \"weather\"]"
      ]
     },
     "execution_count": 24,
     "metadata": {},
     "output_type": "execute_result"
    }
   ],
   "source": [
    "Dir.entries(\"URBANopt\")"
   ]
  },
  {
   "cell_type": "code",
   "execution_count": 27,
   "id": "9795578b-a9eb-40a8-9a3b-8121c3692d00",
   "metadata": {},
   "outputs": [
    {
     "data": {
      "text/plain": [
       "\"uo create --scenario-file /examples/notebooks/URBANopt/example_project.json\""
      ]
     },
     "execution_count": 27,
     "metadata": {},
     "output_type": "execute_result"
    }
   ],
   "source": [
    "command = \"uo create --scenario-file #{Dir.pwd}/URBANopt/example_project.json\""
   ]
  },
  {
   "cell_type": "code",
   "execution_count": 28,
   "id": "7a9268f4-6db2-4c91-8ec1-07f289f0bceb",
   "metadata": {},
   "outputs": [
    {
     "data": {
      "text/plain": [
       "\"\\nBuilding sample ScenarioFiles, assigning mapper classes to each feature from example_project.json\\n\\nDone\\n\""
      ]
     },
     "execution_count": 28,
     "metadata": {},
     "output_type": "execute_result"
    }
   ],
   "source": [
    "output = `#{command}`"
   ]
  },
  {
   "cell_type": "code",
   "execution_count": 30,
   "id": "15b08b91-915d-4389-83ec-71ca1b6f3218",
   "metadata": {},
   "outputs": [
    {
     "data": {
      "text/plain": [
       "[\"highefficiency_scenario.csv\", \"example_project.json\", \"evcharging_scenario.csv\", \"mappers\", \"thermalstorage_scenario.csv\", \"osm_building\", \"runner.conf\", \"Gemfile\", \"visualization\", \"baseline_scenario.csv\", \"..\", \"validation_schema.yaml\", \".\", \"weather\", \"flexiblehotwater_scenario.csv\"]"
      ]
     },
     "execution_count": 30,
     "metadata": {},
     "output_type": "execute_result"
    }
   ],
   "source": [
    "Dir.entries(\"URBANopt\")"
   ]
  },
  {
   "cell_type": "code",
   "execution_count": 36,
   "id": "4171cd2e-9f72-4998-8e35-fba00a578b8f",
   "metadata": {},
   "outputs": [
    {
     "data": {
      "text/plain": [
       "\"uo run --feature /examples/notebooks/URBANopt/example_project.json --scenario /examples/notebooks/URBANopt/flexiblehotwater_scenario.csv\""
      ]
     },
     "execution_count": 36,
     "metadata": {},
     "output_type": "execute_result"
    }
   ],
   "source": [
    "command = \"uo run --feature #{Dir.pwd}/URBANopt/example_project.json --scenario #{Dir.pwd}/URBANopt/flexiblehotwater_scenario.csv\""
   ]
  },
  {
   "cell_type": "code",
   "execution_count": null,
   "id": "8d18db76-2c4d-41ce-8617-ae21b27e27d2",
   "metadata": {},
   "outputs": [],
   "source": [
    "#output = `#{command}`"
   ]
  },
  {
   "cell_type": "code",
   "execution_count": 37,
   "id": "fe4becd2-2f61-48a0-9ae5-0275d94adb8f",
   "metadata": {},
   "outputs": [
    {
     "name": "stdout",
     "output_type": "stream",
     "text": [
      "\n",
      "Simulating features of 'example_project.json' as directed by 'flexiblehotwater_scenario.csv'...\n",
      "\n",
      "Using runner options from runner.conf file\n",
      "Initializing runner with dirname: '/examples/notebooks/URBANopt' and options: {:file_version=>\"0.1.0\", :max_datapoints=>1000000000, :num_parallel=>2, :run_simulations=>true, :verbose=>false, :gemfile_path=>\"\", :bundle_install_path=>\"\"}\n",
      "@bundle_without_string = ''\n",
      "config exists\n",
      "Gemfile.lock exists\n",
      "needs_config = false\n",
      "needs_platform = false\n",
      "needs_update = false\n",
      "run_dir '/examples/notebooks/URBANopt/run/flexiblehotwater_scenario/1/' does not exist, simulation dir '/examples/notebooks/URBANopt/run/flexiblehotwater_scenario/1/' out of date\n",
      "simulation_dir /examples/notebooks/URBANopt/run/flexiblehotwater_scenario/1/ is out of date, regenerating input files\n",
      "Setting weather_file_name to USA_NY_Buffalo-Greater.Buffalo.Intl.AP.725280_TMY3.epw as specified in the FeatureFile\n",
      "Emissions is not activated for this feature. Please set emissions to true in the the Feature properties in the GeoJSON file to add emissions results.\n",
      "run_dir '/examples/notebooks/URBANopt/run/flexiblehotwater_scenario/2/' does not exist, simulation dir '/examples/notebooks/URBANopt/run/flexiblehotwater_scenario/2/' out of date\n",
      "simulation_dir /examples/notebooks/URBANopt/run/flexiblehotwater_scenario/2/ is out of date, regenerating input files\n",
      "Setting weather_file_name to USA_NY_Buffalo-Greater.Buffalo.Intl.AP.725280_TMY3.epw as specified in the FeatureFile\n",
      "Emissions is not activated for this feature. Please set emissions to true in the the Feature properties in the GeoJSON file to add emissions results.\n",
      "run_dir '/examples/notebooks/URBANopt/run/flexiblehotwater_scenario/3/' does not exist, simulation dir '/examples/notebooks/URBANopt/run/flexiblehotwater_scenario/3/' out of date\n",
      "simulation_dir /examples/notebooks/URBANopt/run/flexiblehotwater_scenario/3/ is out of date, regenerating input files\n",
      "Setting weather_file_name to USA_NY_Buffalo-Greater.Buffalo.Intl.AP.725280_TMY3.epw as specified in the FeatureFile\n",
      "\n",
      "emission_future_subregion is not assigned for feature 3. Defining subregion based on the State....\n",
      "emissions_future_subregion for NY is assigned to: NYSTc\n",
      "You can overwrite this assigned input by specifiying the emissions_future_subregion input in the FeatureFile\n",
      "\n",
      "emissions_hourly_historical_subregion is not assigned for feature 3. Defining subregion based on the State....\n",
      "emissions_hourly_historical_subregion for NY is assigned to: New York\n",
      "You can overwrite this assigned input by specifiying the emissions_hourly_historical_subregion input in the FeatureFile\n",
      "\n",
      "emissions_annual_historical_subregion is not assigned for feature 3. Defining subregion based on the State....\n",
      "emissions_annual_historical_subregion for NY is assigned to: NYCW\n",
      "You can overwrite this assigned input by specifiying the emissions_annual_historical_subregion input in the FeatureFile\n",
      "\n",
      " building 3 emission inputs summarry: \n",
      "              emissions_future_subregion = NYSTc; \n",
      "              emissions_hourly_historical_subregion = New York; \n",
      "              emissions_annual_historical_subregion = NYCW; \n",
      "              emissions_future_year = 2020;\n",
      "              emissions_hourly_historical_year = 2019;\n",
      "              emissions_annual_historical_year = 2019 \n",
      " \n",
      "run_dir '/examples/notebooks/URBANopt/run/flexiblehotwater_scenario/4/' does not exist, simulation dir '/examples/notebooks/URBANopt/run/flexiblehotwater_scenario/4/' out of date\n",
      "simulation_dir /examples/notebooks/URBANopt/run/flexiblehotwater_scenario/4/ is out of date, regenerating input files\n",
      "Setting weather_file_name to USA_NY_Buffalo-Greater.Buffalo.Intl.AP.725280_TMY3.epw as specified in the FeatureFile\n",
      "Emissions is not activated for this feature. Please set emissions to true in the the Feature properties in the GeoJSON file to add emissions results.\n",
      "run_dir '/examples/notebooks/URBANopt/run/flexiblehotwater_scenario/5/' does not exist, simulation dir '/examples/notebooks/URBANopt/run/flexiblehotwater_scenario/5/' out of date\n",
      "simulation_dir /examples/notebooks/URBANopt/run/flexiblehotwater_scenario/5/ is out of date, regenerating input files\n",
      "Setting weather_file_name to USA_NY_Buffalo-Greater.Buffalo.Intl.AP.725280_TMY3.epw as specified in the FeatureFile\n",
      "Emissions is not activated for this feature. Please set emissions to true in the the Feature properties in the GeoJSON file to add emissions results.\n",
      "run_dir '/examples/notebooks/URBANopt/run/flexiblehotwater_scenario/6/' does not exist, simulation dir '/examples/notebooks/URBANopt/run/flexiblehotwater_scenario/6/' out of date\n",
      "simulation_dir /examples/notebooks/URBANopt/run/flexiblehotwater_scenario/6/ is out of date, regenerating input files\n",
      "Setting weather_file_name to USA_NY_Buffalo-Greater.Buffalo.Intl.AP.725280_TMY3.epw as specified in the FeatureFile\n",
      "Emissions is not activated for this feature. Please set emissions to true in the the Feature properties in the GeoJSON file to add emissions results.\n",
      "run_dir '/examples/notebooks/URBANopt/run/flexiblehotwater_scenario/7/' does not exist, simulation dir '/examples/notebooks/URBANopt/run/flexiblehotwater_scenario/7/' out of date\n",
      "simulation_dir /examples/notebooks/URBANopt/run/flexiblehotwater_scenario/7/ is out of date, regenerating input files\n",
      "\n",
      " building 7 emission inputs summarry: \n",
      "              emissions_future_subregion = RMPAc; \n",
      "              emissions_hourly_historical_subregion = Rocky Mountains; \n",
      "              emissions_annual_historical_subregion = RMPA; \n",
      "              emissions_future_year = 2020;\n",
      "              emissions_hourly_historical_year = 2019;\n",
      "              emissions_annual_historical_year = 2019 \n",
      " \n",
      "run_dir '/examples/notebooks/URBANopt/run/flexiblehotwater_scenario/8/' does not exist, simulation dir '/examples/notebooks/URBANopt/run/flexiblehotwater_scenario/8/' out of date\n",
      "simulation_dir /examples/notebooks/URBANopt/run/flexiblehotwater_scenario/8/ is out of date, regenerating input files\n",
      "Emissions is not activated for this feature. Please set emissions to true in the the Feature properties in the GeoJSON file to add emissions results.\n",
      "run_dir '/examples/notebooks/URBANopt/run/flexiblehotwater_scenario/9/' does not exist, simulation dir '/examples/notebooks/URBANopt/run/flexiblehotwater_scenario/9/' out of date\n",
      "simulation_dir /examples/notebooks/URBANopt/run/flexiblehotwater_scenario/9/ is out of date, regenerating input files\n",
      "Emissions is not activated for this feature. Please set emissions to true in the the Feature properties in the GeoJSON file to add emissions results.\n",
      "run_dir '/examples/notebooks/URBANopt/run/flexiblehotwater_scenario/10/' does not exist, simulation dir '/examples/notebooks/URBANopt/run/flexiblehotwater_scenario/10/' out of date\n",
      "simulation_dir /examples/notebooks/URBANopt/run/flexiblehotwater_scenario/10/ is out of date, regenerating input files\n",
      "Setting weather_file_name to USA_NY_Buffalo-Greater.Buffalo.Intl.AP.725280_TMY3.epw as specified in the FeatureFile\n",
      "Emissions is not activated for this feature. Please set emissions to true in the the Feature properties in the GeoJSON file to add emissions results.\n",
      "run_dir '/examples/notebooks/URBANopt/run/flexiblehotwater_scenario/11/' does not exist, simulation dir '/examples/notebooks/URBANopt/run/flexiblehotwater_scenario/11/' out of date\n",
      "simulation_dir /examples/notebooks/URBANopt/run/flexiblehotwater_scenario/11/ is out of date, regenerating input files\n",
      "Setting weather_file_name to USA_NY_Buffalo-Greater.Buffalo.Intl.AP.725280_TMY3.epw as specified in the FeatureFile\n",
      "Emissions is not activated for this feature. Please set emissions to true in the the Feature properties in the GeoJSON file to add emissions results.\n",
      "run_dir '/examples/notebooks/URBANopt/run/flexiblehotwater_scenario/12/' does not exist, simulation dir '/examples/notebooks/URBANopt/run/flexiblehotwater_scenario/12/' out of date\n",
      "simulation_dir /examples/notebooks/URBANopt/run/flexiblehotwater_scenario/12/ is out of date, regenerating input files\n",
      "Setting weather_file_name to USA_NY_Buffalo-Greater.Buffalo.Intl.AP.725280_TMY3.epw as specified in the FeatureFile\n",
      "Emissions is not activated for this feature. Please set emissions to true in the the Feature properties in the GeoJSON file to add emissions results.\n",
      "run_dir '/examples/notebooks/URBANopt/run/flexiblehotwater_scenario/13/' does not exist, simulation dir '/examples/notebooks/URBANopt/run/flexiblehotwater_scenario/13/' out of date\n",
      "simulation_dir /examples/notebooks/URBANopt/run/flexiblehotwater_scenario/13/ is out of date, regenerating input files\n",
      "Setting weather_file_name to USA_NY_Buffalo-Greater.Buffalo.Intl.AP.725280_TMY3.epw as specified in the FeatureFile\n",
      "Emissions is not activated for this feature. Please set emissions to true in the the Feature properties in the GeoJSON file to add emissions results.\n",
      "finished_job_path '/examples/notebooks/URBANopt/run/flexiblehotwater_scenario/1/finished.job' does not exist, simulation dir '/examples/notebooks/URBANopt/run/flexiblehotwater_scenario/1/' out of date\n",
      "finished_job_path '/examples/notebooks/URBANopt/run/flexiblehotwater_scenario/2/finished.job' does not exist, simulation dir '/examples/notebooks/URBANopt/run/flexiblehotwater_scenario/2/' out of date\n",
      "finished_job_path '/examples/notebooks/URBANopt/run/flexiblehotwater_scenario/3/finished.job' does not exist, simulation dir '/examples/notebooks/URBANopt/run/flexiblehotwater_scenario/3/' out of date\n",
      "finished_job_path '/examples/notebooks/URBANopt/run/flexiblehotwater_scenario/4/finished.job' does not exist, simulation dir '/examples/notebooks/URBANopt/run/flexiblehotwater_scenario/4/' out of date\n",
      "finished_job_path '/examples/notebooks/URBANopt/run/flexiblehotwater_scenario/5/finished.job' does not exist, simulation dir '/examples/notebooks/URBANopt/run/flexiblehotwater_scenario/5/' out of date\n",
      "finished_job_path '/examples/notebooks/URBANopt/run/flexiblehotwater_scenario/6/finished.job' does not exist, simulation dir '/examples/notebooks/URBANopt/run/flexiblehotwater_scenario/6/' out of date\n",
      "finished_job_path '/examples/notebooks/URBANopt/run/flexiblehotwater_scenario/7/finished.job' does not exist, simulation dir '/examples/notebooks/URBANopt/run/flexiblehotwater_scenario/7/' out of date\n",
      "finished_job_path '/examples/notebooks/URBANopt/run/flexiblehotwater_scenario/8/finished.job' does not exist, simulation dir '/examples/notebooks/URBANopt/run/flexiblehotwater_scenario/8/' out of date\n",
      "finished_job_path '/examples/notebooks/URBANopt/run/flexiblehotwater_scenario/9/finished.job' does not exist, simulation dir '/examples/notebooks/URBANopt/run/flexiblehotwater_scenario/9/' out of date\n",
      "finished_job_path '/examples/notebooks/URBANopt/run/flexiblehotwater_scenario/10/finished.job' does not exist, simulation dir '/examples/notebooks/URBANopt/run/flexiblehotwater_scenario/10/' out of date\n",
      "finished_job_path '/examples/notebooks/URBANopt/run/flexiblehotwater_scenario/11/finished.job' does not exist, simulation dir '/examples/notebooks/URBANopt/run/flexiblehotwater_scenario/11/' out of date\n",
      "finished_job_path '/examples/notebooks/URBANopt/run/flexiblehotwater_scenario/12/finished.job' does not exist, simulation dir '/examples/notebooks/URBANopt/run/flexiblehotwater_scenario/12/' out of date\n",
      "finished_job_path '/examples/notebooks/URBANopt/run/flexiblehotwater_scenario/13/finished.job' does not exist, simulation dir '/examples/notebooks/URBANopt/run/flexiblehotwater_scenario/13/' out of date\n",
      "SYSTEM CALL:\n",
      "/usr/local/openstudio-3.4.1-alpha/bin/openstudio --bundle '/examples/notebooks/URBANopt/Gemfile' --bundle_path '/examples/notebooks/URBANopt/.bundle/install/' run -w '/examples/notebooks/URBANopt/run/flexiblehotwater_scenario/1/in.osw' 2>&1 > \"/examples/notebooks/URBANopt/run/flexiblehotwater_scenario/1/in.osw.log\"\n",
      "SYSTEM CALL:\n",
      "/usr/local/openstudio-3.4.1-alpha/bin/openstudio --bundle '/examples/notebooks/URBANopt/Gemfile' --bundle_path '/examples/notebooks/URBANopt/.bundle/install/' run -w '/examples/notebooks/URBANopt/run/flexiblehotwater_scenario/2/in.osw' 2>&1 > \"/examples/notebooks/URBANopt/run/flexiblehotwater_scenario/2/in.osw.log\"\n",
      "DONE, result = true\n",
      "SYSTEM CALL:\n",
      "/usr/local/openstudio-3.4.1-alpha/bin/openstudio --bundle '/examples/notebooks/URBANopt/Gemfile' --bundle_path '/examples/notebooks/URBANopt/.bundle/install/' run -w '/examples/notebooks/URBANopt/run/flexiblehotwater_scenario/3/in.osw' 2>&1 > \"/examples/notebooks/URBANopt/run/flexiblehotwater_scenario/3/in.osw.log\"\n",
      "DONE, result = true\n",
      "SYSTEM CALL:\n",
      "/usr/local/openstudio-3.4.1-alpha/bin/openstudio --bundle '/examples/notebooks/URBANopt/Gemfile' --bundle_path '/examples/notebooks/URBANopt/.bundle/install/' run -w '/examples/notebooks/URBANopt/run/flexiblehotwater_scenario/4/in.osw' 2>&1 > \"/examples/notebooks/URBANopt/run/flexiblehotwater_scenario/4/in.osw.log\"\n",
      "DONE, result = true\n",
      "SYSTEM CALL:\n",
      "/usr/local/openstudio-3.4.1-alpha/bin/openstudio --bundle '/examples/notebooks/URBANopt/Gemfile' --bundle_path '/examples/notebooks/URBANopt/.bundle/install/' run -w '/examples/notebooks/URBANopt/run/flexiblehotwater_scenario/5/in.osw' 2>&1 > \"/examples/notebooks/URBANopt/run/flexiblehotwater_scenario/5/in.osw.log\"\n",
      "DONE, result = true\n",
      "SYSTEM CALL:\n",
      "/usr/local/openstudio-3.4.1-alpha/bin/openstudio --bundle '/examples/notebooks/URBANopt/Gemfile' --bundle_path '/examples/notebooks/URBANopt/.bundle/install/' run -w '/examples/notebooks/URBANopt/run/flexiblehotwater_scenario/6/in.osw' 2>&1 > \"/examples/notebooks/URBANopt/run/flexiblehotwater_scenario/6/in.osw.log\"\n",
      "DONE, result = true\n",
      "SYSTEM CALL:\n",
      "/usr/local/openstudio-3.4.1-alpha/bin/openstudio --bundle '/examples/notebooks/URBANopt/Gemfile' --bundle_path '/examples/notebooks/URBANopt/.bundle/install/' run -w '/examples/notebooks/URBANopt/run/flexiblehotwater_scenario/7/in.osw' 2>&1 > \"/examples/notebooks/URBANopt/run/flexiblehotwater_scenario/7/in.osw.log\"\n",
      "DONE, result = true\n",
      "SYSTEM CALL:\n",
      "/usr/local/openstudio-3.4.1-alpha/bin/openstudio --bundle '/examples/notebooks/URBANopt/Gemfile' --bundle_path '/examples/notebooks/URBANopt/.bundle/install/' run -w '/examples/notebooks/URBANopt/run/flexiblehotwater_scenario/8/in.osw' 2>&1 > \"/examples/notebooks/URBANopt/run/flexiblehotwater_scenario/8/in.osw.log\"\n",
      "DONE, result = true\n",
      "SYSTEM CALL:\n",
      "/usr/local/openstudio-3.4.1-alpha/bin/openstudio --bundle '/examples/notebooks/URBANopt/Gemfile' --bundle_path '/examples/notebooks/URBANopt/.bundle/install/' run -w '/examples/notebooks/URBANopt/run/flexiblehotwater_scenario/9/in.osw' 2>&1 > \"/examples/notebooks/URBANopt/run/flexiblehotwater_scenario/9/in.osw.log\"\n",
      "DONE, result = true\n",
      "SYSTEM CALL:\n",
      "/usr/local/openstudio-3.4.1-alpha/bin/openstudio --bundle '/examples/notebooks/URBANopt/Gemfile' --bundle_path '/examples/notebooks/URBANopt/.bundle/install/' run -w '/examples/notebooks/URBANopt/run/flexiblehotwater_scenario/10/in.osw' 2>&1 > \"/examples/notebooks/URBANopt/run/flexiblehotwater_scenario/10/in.osw.log\"\n",
      "DONE, result = true\n",
      "SYSTEM CALL:\n",
      "/usr/local/openstudio-3.4.1-alpha/bin/openstudio --bundle '/examples/notebooks/URBANopt/Gemfile' --bundle_path '/examples/notebooks/URBANopt/.bundle/install/' run -w '/examples/notebooks/URBANopt/run/flexiblehotwater_scenario/11/in.osw' 2>&1 > \"/examples/notebooks/URBANopt/run/flexiblehotwater_scenario/11/in.osw.log\"\n",
      "DONE, result = true\n",
      "SYSTEM CALL:\n",
      "/usr/local/openstudio-3.4.1-alpha/bin/openstudio --bundle '/examples/notebooks/URBANopt/Gemfile' --bundle_path '/examples/notebooks/URBANopt/.bundle/install/' run -w '/examples/notebooks/URBANopt/run/flexiblehotwater_scenario/12/in.osw' 2>&1 > \"/examples/notebooks/URBANopt/run/flexiblehotwater_scenario/12/in.osw.log\"\n",
      "DONE, result = true\n",
      "SYSTEM CALL:\n",
      "/usr/local/openstudio-3.4.1-alpha/bin/openstudio --bundle '/examples/notebooks/URBANopt/Gemfile' --bundle_path '/examples/notebooks/URBANopt/.bundle/install/' run -w '/examples/notebooks/URBANopt/run/flexiblehotwater_scenario/13/in.osw' 2>&1 > \"/examples/notebooks/URBANopt/run/flexiblehotwater_scenario/13/in.osw.log\"\n",
      "DONE, result = true\n",
      "DONE, result = true\n",
      "Done Running Scenario\n",
      "\n",
      "Done\n"
     ]
    }
   ],
   "source": [
    "require 'open3'\n",
    "Open3.popen3(\"#{command}\") do |stdout, stderr, status, thread|\n",
    "  while line=stderr.gets do \n",
    "    puts(line) \n",
    "  end\n",
    "end"
   ]
  },
  {
   "cell_type": "code",
   "execution_count": null,
   "id": "0adc8c2c-28d9-4217-9646-cf9bea5246ad",
   "metadata": {},
   "outputs": [],
   "source": []
  }
 ],
 "metadata": {
  "kernelspec": {
   "display_name": "Ruby 2.7.2",
   "language": "ruby",
   "name": "ruby"
  },
  "language_info": {
   "file_extension": ".rb",
   "mimetype": "application/x-ruby",
   "name": "ruby",
   "version": "2.7.2"
  }
 },
 "nbformat": 4,
 "nbformat_minor": 5
}
