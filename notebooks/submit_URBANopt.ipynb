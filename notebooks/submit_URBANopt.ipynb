{
 "cells": [
  {
   "cell_type": "code",
   "execution_count": 1,
   "id": "8b1af2d3-0a1a-42c8-825e-5f94bf1cae4e",
   "metadata": {},
   "outputs": [
    {
     "data": {
      "text/plain": [
       "\"192.168.65.3\""
      ]
     },
     "execution_count": 1,
     "metadata": {},
     "output_type": "execute_result"
    }
   ],
   "source": [
    "RUBY_CMD = 'ruby'\n",
    "BUNDLE_CMD = 'bundle exec ruby'\n",
    "META_CLI = File.absolute_path('/opt/OpenStudio-server/bin/openstudio_meta')\n",
    "PROJECT = File.absolute_path('/opt/OpenStudio-server/server/spec/files')\n",
    "HOST = '192.168.65.3'"
   ]
  },
  {
   "cell_type": "code",
   "execution_count": 2,
   "id": "e68a0b41-b2b8-4069-9f72-f676b7fc818d",
   "metadata": {},
   "outputs": [
    {
     "data": {
      "text/plain": [
       "\"bundle exec ruby\""
      ]
     },
     "execution_count": 2,
     "metadata": {},
     "output_type": "execute_result"
    }
   ],
   "source": [
    "@host = HOST\n",
    "@project = PROJECT\n",
    "@meta_cli = META_CLI\n",
    "@ruby_cmd = RUBY_CMD\n",
    "@bundle_cmd = BUNDLE_CMD"
   ]
  },
  {
   "cell_type": "code",
   "execution_count": 3,
   "id": "a067fa1e-9ee5-4a7b-aae8-c9a6d50715a1",
   "metadata": {},
   "outputs": [],
   "source": [
    "#URBANopt run"
   ]
  },
  {
   "cell_type": "code",
   "execution_count": 4,
   "id": "768ff99c-5782-4953-b22d-5f889af62e27",
   "metadata": {},
   "outputs": [
    {
     "data": {
      "text/plain": [
       "\"/opt/OpenStudio-server/bin/openstudio_meta run_analysis --debug --verbose '/opt/OpenStudio-server/server/spec/files/URBANopt_template.json' 'http://192.168.65.3' -z 'URBANopt_071' -a single_run\""
      ]
     },
     "execution_count": 4,
     "metadata": {},
     "output_type": "execute_result"
    }
   ],
   "source": [
    "command = \"#{@meta_cli} run_analysis --debug --verbose '#{@project}/URBANopt_template.json' 'http://#{@host}' -z 'URBANopt_071' -a single_run\""
   ]
  },
  {
   "cell_type": "code",
   "execution_count": 5,
   "id": "331171c1-71c4-4836-a801-3b6f9bb437d1",
   "metadata": {},
   "outputs": [
    {
     "data": {
      "text/plain": [
       "true"
      ]
     },
     "execution_count": 5,
     "metadata": {},
     "output_type": "execute_result"
    }
   ],
   "source": [
    "run_analysis = system(command)"
   ]
  },
  {
   "cell_type": "code",
   "execution_count": 6,
   "id": "622cf11e-b2d1-4927-b118-7a5e2373044d",
   "metadata": {},
   "outputs": [
    {
     "data": {
      "text/plain": [
       "\"f03c2954-6d7c-4c49-872a-98f77fc5cc47\""
      ]
     },
     "execution_count": 6,
     "metadata": {},
     "output_type": "execute_result"
    }
   ],
   "source": [
    "require 'rest-client'\n",
    "require 'json'\n",
    "a = RestClient.get \"http://#{@host}/analyses.json\"\n",
    "a = JSON.parse(a, symbolize_names: true)\n",
    "a = a.sort { |x, y| x[:created_at] <=> y[:created_at] }.reverse\n",
    "analysis = a[0]\n",
    "analysis_id = analysis[:_id]"
   ]
  },
  {
   "cell_type": "code",
   "execution_count": 7,
   "id": "3c0eed43-025c-4ab2-96d6-887305e4ca2f",
   "metadata": {},
   "outputs": [
    {
     "data": {
      "text/plain": [
       "\"queued\""
      ]
     },
     "execution_count": 7,
     "metadata": {},
     "output_type": "execute_result"
    }
   ],
   "source": [
    "a = RestClient.get \"http://#{@host}/analyses/#{analysis_id}/status.json\"\n",
    "a = JSON.parse(a, symbolize_names: true)\n",
    "status = a[:analysis][:status]"
   ]
  },
  {
   "cell_type": "code",
   "execution_count": 8,
   "id": "1c02af94-848c-4d05-b94c-385f48abe75a",
   "metadata": {},
   "outputs": [
    {
     "data": {
      "text/plain": [
       "\"single_run\""
      ]
     },
     "execution_count": 8,
     "metadata": {},
     "output_type": "execute_result"
    }
   ],
   "source": [
    "a = RestClient.get \"http://#{@host}/analyses/#{analysis_id}.json\"\n",
    "a = JSON.parse(a, symbolize_names: true)\n",
    "status = a[:analysis][:problem][:analysis_type]"
   ]
  },
  {
   "cell_type": "code",
   "execution_count": 9,
   "id": "86a0752c-4fee-490f-9b85-20a3815aa885",
   "metadata": {},
   "outputs": [
    {
     "data": {
      "text/plain": [
       "true"
      ]
     },
     "execution_count": 9,
     "metadata": {},
     "output_type": "execute_result"
    }
   ],
   "source": [
    "a[:analysis][:urbanopt]"
   ]
  },
  {
   "cell_type": "code",
   "execution_count": 11,
   "id": "c2cf68f7-e40a-4a16-a92d-36cb084ecb19",
   "metadata": {},
   "outputs": [
    {
     "data": {
      "text/plain": [
       "1"
      ]
     },
     "execution_count": 11,
     "metadata": {},
     "output_type": "execute_result"
    }
   ],
   "source": [
    "# get all data points in this analysis\n",
    "a = RestClient.get \"http://#{@host}/data_points.json\"\n",
    "a = JSON.parse(a, symbolize_names: true)\n",
    "data_points = []\n",
    "a.each do |data_point|\n",
    "  if data_point[:analysis_id] == analysis_id\n",
    "    data_points << data_point\n",
    "  end\n",
    "end\n",
    "data_points.size"
   ]
  },
  {
   "cell_type": "code",
   "execution_count": 12,
   "id": "9635d5a3-0563-4c84-8934-d45a2ea1405c",
   "metadata": {},
   "outputs": [
    {
     "data": {
      "text/plain": [
       "\"2ba8093e-5486-483d-bd48-806af3571140\""
      ]
     },
     "execution_count": 12,
     "metadata": {},
     "output_type": "execute_result"
    }
   ],
   "source": [
    "data_point_id = data_points[0][:_id]"
   ]
  },
  {
   "cell_type": "code",
   "execution_count": 13,
   "id": "7581a1f3-c0d3-43aa-a313-e530a05f0c65",
   "metadata": {},
   "outputs": [
    {
     "data": {
      "text/plain": [
       "\"started\""
      ]
     },
     "execution_count": 13,
     "metadata": {},
     "output_type": "execute_result"
    }
   ],
   "source": [
    "dp = RestClient.get \"http://#{@host}/data_points/#{data_point_id}.json\"\n",
    "dp = JSON.parse(dp, symbolize_names: true)\n",
    "data_points_status = dp[:data_point][:status]"
   ]
  },
  {
   "cell_type": "code",
   "execution_count": 14,
   "id": "73cfd39a-25e5-45b7-9851-98af095e7d20",
   "metadata": {},
   "outputs": [
    {
     "data": {
      "text/plain": [
       "\"\""
      ]
     },
     "execution_count": 14,
     "metadata": {},
     "output_type": "execute_result"
    }
   ],
   "source": [
    "dp[:data_point][:status_message]"
   ]
  },
  {
   "cell_type": "code",
   "execution_count": 48,
   "id": "72864ba5-48de-443f-8258-158a3f4a1c16",
   "metadata": {},
   "outputs": [
    {
     "data": {
      "text/plain": [
       "{}"
      ]
     },
     "execution_count": 48,
     "metadata": {},
     "output_type": "execute_result"
    }
   ],
   "source": [
    "results = dp[:data_point][:results]"
   ]
  },
  {
   "cell_type": "code",
   "execution_count": 49,
   "id": "394ade9b-26af-4e4e-91c8-5ce588f7e593",
   "metadata": {},
   "outputs": [
    {
     "data": {
      "text/plain": [
       "<RestClient::Response 200 \"PK\\x03\\x04\\x14\\x00\\x00\\x00\\x00\\x00\\xB4...\">"
      ]
     },
     "execution_count": 49,
     "metadata": {},
     "output_type": "execute_result"
    }
   ],
   "source": [
    "zip = RestClient.get \"http://#{@host}/data_points/#{data_point_id}/download_result_file?filename=data_point.zip\""
   ]
  },
  {
   "cell_type": "code",
   "execution_count": 50,
   "id": "268274e5-7e92-4a57-b637-da7df5bfdf8f",
   "metadata": {},
   "outputs": [
    {
     "data": {
      "text/plain": [
       "{:content_type=>\"application/zip\", :transfer_encoding=>\"chunked\", :connection=>\"close\", :status=>\"200 OK\", :cache_control=>\"private\", :vary=>\"Accept\", :referrer_policy=>\"strict-origin-when-cross-origin\", :x_permitted_cross_domain_policies=>\"none\", :x_xss_protection=>\"1; mode=block\", :x_request_id=>\"c5d0c559-bb2e-45fc-879a-525bbc8782e8\", :content_disposition=>\"attachment; filename=\\\"data_point.zip\\\"; filename*=UTF-8''data_point.zip\", :x_download_options=>\"noopen\", :content_transfer_encoding=>\"binary\", :etag=>\"W/\\\"11d9663d4426e5eef626a3caebc7d70a\\\"\", :x_runtime=>\"0.158127\", :x_content_type_options=>\"nosniff\", :date=>\"Wed, 22 Jun 2022 17:09:54 GMT\", :x_powered_by=>\"Phusion Passenger 6.0.2\", :server=>\"nginx/1.15.8 + Phusion Passenger 6.0.2\"}"
      ]
     },
     "execution_count": 50,
     "metadata": {},
     "output_type": "execute_result"
    }
   ],
   "source": [
    "zip.headers"
   ]
  },
  {
   "cell_type": "code",
   "execution_count": 54,
   "id": "d84e6827-b62f-4ae5-ba6c-fe7cb493b90d",
   "metadata": {},
   "outputs": [
    {
     "data": {
      "text/plain": [
       "\"attachment; filename=\\\"data_point.zip\\\"; filename*=UTF-8''data_point.zip\""
      ]
     },
     "execution_count": 54,
     "metadata": {},
     "output_type": "execute_result"
    }
   ],
   "source": [
    "zip.headers[:content_disposition]"
   ]
  },
  {
   "cell_type": "code",
   "execution_count": 57,
   "id": "2d5c6f04-51c8-46e9-ac05-dfb2d5c05de7",
   "metadata": {},
   "outputs": [
    {
     "data": {
      "text/plain": [
       "163118268"
      ]
     },
     "execution_count": 57,
     "metadata": {},
     "output_type": "execute_result"
    }
   ],
   "source": [
    "require 'open-uri'\n",
    "File.write 'datapoint.zip', URI.open(\"http://#{@host}/data_points/#{data_point_id}/download_result_file?filename=data_point.zip\").read"
   ]
  },
  {
   "cell_type": "code",
   "execution_count": null,
   "id": "55a0099c-3201-499d-b1b0-1573b9ed6c26",
   "metadata": {},
   "outputs": [],
   "source": []
  }
 ],
 "metadata": {
  "kernelspec": {
   "display_name": "Ruby 2.7.2",
   "language": "ruby",
   "name": "ruby"
  },
  "language_info": {
   "file_extension": ".rb",
   "mimetype": "application/x-ruby",
   "name": "ruby",
   "version": "2.7.2"
  }
 },
 "nbformat": 4,
 "nbformat_minor": 5
}
