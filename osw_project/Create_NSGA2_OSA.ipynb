{
 "cells": [
  {
   "cell_type": "markdown",
   "id": "7eca5df4-ada8-4279-b40c-583ad768f92b",
   "metadata": {},
   "source": [
    "**Create an OpenStudio Analysis JSON (OSA)**\n",
    "\n",
    "The following is taken from: https://www.tandfonline.com/doi/full/10.1080/19401493.2020.1778788\n",
    "\n",
    "The OpenStudio Analysis Framework (OSAF) was developed with the intention of putting advanced energy modelling capabilities in the hands of industry practitioners. To do this, OSAF uses analysis workflows that are shareable, transportable, and reproducible by using a standardized OSA problem definition JSON file, and supporting files that can be easily compressed and used on different computing environments. The OSA contains information on the algorithm and its parameters, variables with their uncertainty descriptions (e.g. the minimum and maximum allowed values, normally or uniformly distributed), output variables, and objective functions.\n",
    "\n",
    "In these workflows, individual models are no longer the basis from which the analysis is derived. Instead, the paradigm involves a ‘seed’, which is the baseline model around which the analysis is built, and a chain of scripts, which are run by the Workflow Gem and are used to programmatically implement changes to the baseline model. The scripts, called Measures (Roth, Goldwasser, and Parker 2016; Brackney et al. 2018; Roth et al. 2018), can be generic and reusable across different models and analyses. The chain of scripts and their arguments, as well as the definition of the variables, is described in the ‘workflow’ section of the OSA.\n",
    "\n",
    "The Measure-based workflow can be described abstractly as a black box mathematical function  \n",
    "\n",
    "    y=F(x)        equation (1)    \n",
    "\n",
    "where x is a vector of independent variables or inputs, y is a vector of output variables, and the function F is the application of Measures on the seed model followed by the simulation of the building energy model and any reporting Measures that are part of the workflow and used to compute the output variables. Formulating the problem in this way enables the application and switching between the algorithms that operate on the entire BEM based workflow, since the algorithms are designed to operate on processes which can be defined by equation (1). In this context, an independent variable x is simply a Measure input argument that is no longer fixed to a specific value, but one that has an allowed range of values and an uncertainty distribution type. To compute the outputs y, the selected algorithm creates a set of specific x variable values (based on the problem type and variable uncertainty descriptions) along with the information in the workflow section, and eventually gets transformed to a set of specific OSWs, which are then simulated.\n",
    "\n",
    "![Image description](OSA.png)\n",
    "\n",
    "The baseline model changes can be varied manually by the user or automatically by an algorithm. Although manually configured analyses are limited by nature in the number of design alternatives they contain, algorithmic analyses can have a much larger number of design alternatives. The use of the same simulation workflow is key to enabling different algorithmic types of analyses (i.e. change from full factorial to sensitivity analysis to uncertainty quantification to optimization to calibration).\n",
    "\n",
    "OSAs can be created using the GUI OpenStudio Parametric Analysis Tool (PAT) or programatically using the OpenStudio-Analysis gem, which is the focus of this notebook.\n",
    "To start, load the openstudio-analysis gem.  The features described here require Version >= 1.3.0-0"
   ]
  },
  {
   "cell_type": "code",
   "execution_count": 1,
   "id": "e0a1c6a8-2342-47b4-91b3-7411848a8940",
   "metadata": {},
   "outputs": [
    {
     "name": "stderr",
     "output_type": "stream",
     "text": [
      "Top level ::CompositeIO is deprecated, require 'multipart/post' and use `Multipart::Post::CompositeReadIO` instead!\n",
      "Top level ::Parts is deprecated, require 'multipart/post' and use `Multipart::Post::Parts` instead!\n"
     ]
    },
    {
     "data": {
      "text/plain": [
       "\"1.3.0\""
      ]
     },
     "execution_count": 1,
     "metadata": {},
     "output_type": "execute_result"
    }
   ],
   "source": [
    "gem 'openstudio-analysis', '1.3.0'\n",
    "require 'openstudio-analysis'\n",
    "\n",
    "OpenStudio::Analysis::VERSION"
   ]
  },
  {
   "cell_type": "markdown",
   "id": "0a143fc6-c565-4713-b676-e65a7c585dbf",
   "metadata": {},
   "source": [
    "We previously defined our workflow in the OSW 'optimization_workflow.osw'. We can use that as a starting point and turn that workflow into an OSA.\n",
    "To start, create an OpenStudio::Analysis object and call it 'Optimization Example'.\n",
    "Next, call the .convert_osw function on the OSW to move the [:steps] section of the OSW into the [:problem][:workflow] section of the OSA."
   ]
  },
  {
   "cell_type": "code",
   "execution_count": 2,
   "id": "e8cd31dc-7c0e-4d7e-b456-d5d85c7bc261",
   "metadata": {},
   "outputs": [
    {
     "data": {
      "text/plain": [
       "[{:arguments=>{:r_value_perc_change=>10.0}, :measure_dir_name=>\"measures/ExteriorWallThermalPropertiesPercentChange\"}, {:arguments=>{:r_value_perc_change=>10.0}, :measure_dir_name=>\"measures/RoofThermalPropertiesPercentChange\"}, {:arguments=>{:coil=>\"*All Gas Heating Coils*\", :coil_efficiency_perc_change=>10.0}, :measure_dir_name=>\"measures/CoilHeatingGasPercentChange\"}, {:arguments=>{:coil=>\"*All DX Cooling Coils*\", :rated_cop_perc_change=>10.0}, :measure_dir_name=>\"measures/CoilCoolingDXSingleSpeedPercentChange\"}, {:arguments=>{:fan=>\"*All Fans*\", :fan_efficiency_perc_change=>10.0}, :measure_dir_name=>\"measures/FansPercentChange\"}, {:arguments=>{:ElectricEquipment_perc_change=>10.0, :lights_perc_change=>10.0, :space=>\"*All Spaces*\", :space_type=>\"*All SpaceTypes*\"}, :measure_dir_name=>\"measures/GeneralCalibrationMeasurePercentChange\"}, {:arguments=>{}, :measure_dir_name=>\"measures/openstudio_results\"}]"
      ]
     },
     "execution_count": 2,
     "metadata": {},
     "output_type": "execute_result"
    }
   ],
   "source": [
    "analysis = OpenStudio::Analysis.create('Optimization Example')\n",
    "analysis.convert_osw('optimization_workflow.osw')"
   ]
  },
  {
   "cell_type": "markdown",
   "id": "0429d45f-3e63-4db5-8779-421557787b4d",
   "metadata": {},
   "source": [
    "Next we will define Output Variables and Objective Functions.  Notice that the first four Output Variables below are turned into Objective Functions by setting the :objective_function key to `True`.  Multi-Objective algorithms have the ability to group Objective Functions together in the sense that they will be added together and treated as a single value, typically using the L2 Norm.  The default value for key :objective_function_group is 1, so to make them separate groups so that they can be optimized or treated separately we will change their values to 2,3,4.  "
   ]
  },
  {
   "cell_type": "code",
   "execution_count": 3,
   "id": "75cacad9-edda-4e68-8582-4ed8a95c2228",
   "metadata": {},
   "outputs": [
    {
     "data": {
      "text/plain": [
       "[{:units=>\"kWh\", :objective_function=>true, :objective_function_index=>0, :objective_function_target=>nil, :objective_function_group=>1, :scaling_factor=>nil, :visualize=>true, :metadata_id=>nil, :export=>true, :display_name=>\"electricity_cooling_ip\", :display_name_short=>\"electricity_cooling_ip\", :name=>\"openstudio_results.electricity_cooling_ip\"}, {:units=>\"MBtu\", :objective_function=>true, :objective_function_index=>1, :objective_function_target=>nil, :objective_function_group=>2, :scaling_factor=>nil, :visualize=>true, :metadata_id=>nil, :export=>true, :display_name=>\"natural_gas_heating_ip\", :display_name_short=>\"natural_gas_heating_ip\", :name=>\"openstudio_results.natural_gas_heating_ip\"}, {:units=>\"kW\", :objective_function=>true, :objective_function_index=>2, :objective_function_target=>nil, :objective_function_group=>3, :scaling_factor=>nil, :visualize=>true, :metadata_id=>nil, :export=>true, :display_name=>\"annual_peak_electric_demand\", :display_name_short=>\"annual_peak_electric_demand\", :name=>\"openstudio_results.annual_peak_electric_demand\"}, {:units=>\"kWh\", :objective_function=>true, :objective_function_index=>3, :objective_function_target=>nil, :objective_function_group=>4, :scaling_factor=>nil, :visualize=>true, :metadata_id=>nil, :export=>true, :display_name=>\"electricity_ip\", :display_name_short=>\"elec_ip\", :name=>\"openstudio_results.electricity_ip\"}]"
      ]
     },
     "execution_count": 3,
     "metadata": {},
     "output_type": "execute_result"
    }
   ],
   "source": [
    "o = analysis.add_output(\n",
    "      display_name: 'electricity_cooling_ip',\n",
    "      display_name_short: 'electricity_cooling_ip',\n",
    "      name: 'openstudio_results.electricity_cooling_ip',\n",
    "      units: 'kWh',\n",
    "      objective_function: true\n",
    "    )\n",
    "\n",
    "o = analysis.add_output(\n",
    "      display_name: 'natural_gas_heating_ip',\n",
    "      display_name_short: 'natural_gas_heating_ip',\n",
    "      name: 'openstudio_results.natural_gas_heating_ip',\n",
    "      units: 'MBtu',\n",
    "      objective_function: true,\n",
    "      objective_function_group: 2\n",
    "    )\n",
    "\n",
    "o = analysis.add_output(\n",
    "      display_name: 'annual_peak_electric_demand',\n",
    "      display_name_short: 'annual_peak_electric_demand',\n",
    "      name: 'openstudio_results.annual_peak_electric_demand',\n",
    "      units: 'kW',\n",
    "      objective_function: true,\n",
    "      objective_function_group: 3\n",
    "    )\n",
    "\n",
    "o = analysis.add_output(\n",
    "      display_name: 'electricity_ip',\n",
    "      display_name_short: 'elec_ip',\n",
    "      name: 'openstudio_results.electricity_ip',\n",
    "      units: 'kWh',\n",
    "      objective_function: true,\n",
    "      objective_function_group: 4\n",
    "    )"
   ]
  },
  {
   "cell_type": "markdown",
   "id": "c2307931-7816-401b-b57e-97ea92297a95",
   "metadata": {},
   "source": [
    "A static Measure Argument can be turned into a Variable by assigning a likelihood distribution type to it along with parameters that best describe its variability.  As an example, we could describe a variable with equal probability of taking values from 0 to 10 as a `uniform` distribution with a `:minimum` value of `0` and a `:maximum` value of `10`.  \n",
    "\n",
    "The distribution is described by a hash with the following keys, not all of them are required:  \n",
    "\n",
    "`:type` of distributions are: `discrete`, `uniform`, `triangle`, `normal`, `lognormal`, `integer_sequence`. **required**  \n",
    "`:minimum` Minimum value of the distribution, **required** for all distributions  \n",
    "`:maximum` Maximum value of the distribution, **required** for all distributions  \n",
    "`:standard_deviation` The standard deviation, if the distribution requires it.  \n",
    "`:mode` The mean/mode of the distribution (if required)  \n",
    "`:mean` Alias for the mode. If this is used it will override the mode  \n",
    "`:relation_to_output` How is the variable correlates to the output of interest (for continuous distributions)  \n",
    "`:step_size` Minimum step size (delta_x) of the variable (for continuous distributions)  \n",
    "`:values` If discrete, then the values to run  \n",
    "`:weights` If discrete, then the weights for each of the discrete values, must be the same length as values, and sum to 1. If empty, then it will create this automatically to be uniform.  \n",
    "\n",
    "The steps to making a Variable is to  \n",
    "  1. find the Measure in the workflow.  \n",
    "  2. create distribution hash.  \n",
    "  3. call `.make_variable` with the name of the argument that will become a variable and the name you wish to call the variable, along with the distribution hash. \n"
   ]
  },
  {
   "cell_type": "code",
   "execution_count": 4,
   "id": "5d55a6d7-5fe9-43e5-b93b-826d1e7305d7",
   "metadata": {},
   "outputs": [
    {
     "data": {
      "text/plain": [
       "true"
      ]
     },
     "execution_count": 4,
     "metadata": {},
     "output_type": "execute_result"
    }
   ],
   "source": [
    "m = analysis.workflow.find_measure('exterior_wall_thermal_properties_percent_change')\n",
    "d = {\n",
    "      type: 'uniform',\n",
    "      minimum: -50,\n",
    "      maximum: 50,\n",
    "      mean: 0\n",
    "    }\n",
    "    m.make_variable('r_value_perc_change', 'Exterior wall total R-value Percent Change', d)\n",
    "\n",
    "m = analysis.workflow.find_measure('roof_thermal_properties_percent_change')\n",
    "d = {\n",
    "      type: 'uniform',\n",
    "      minimum: -50,\n",
    "      maximum: 50,\n",
    "      mean: 0\n",
    "    }\n",
    "    m.make_variable('r_value_perc_change', 'Roof total R-value Percent Change', d)\n",
    "\n",
    "m = analysis.workflow.find_measure('coil_heating_gas_percent_change')\n",
    "d = {\n",
    "      type: 'uniform',\n",
    "      minimum: -50,\n",
    "      maximum: 50,\n",
    "      mean: 0\n",
    "    }\n",
    "    m.make_variable('coil_efficiency_perc_change', 'Percent Change for heating coil Efficiency', d)\n",
    "\n",
    "m = analysis.workflow.find_measure('coil_cooling_dx_single_speed_percent_change')\n",
    "d = {\n",
    "      type: 'uniform',\n",
    "      minimum: -50,\n",
    "      maximum: 50,\n",
    "      mean: 0\n",
    "    }\n",
    "    m.make_variable('rated_cop_perc_change', 'Percent Change for DX COP', d)\n",
    "\n",
    "m = analysis.workflow.find_measure('fans_percent_change')\n",
    "d = {\n",
    "      type: 'uniform',\n",
    "      minimum: -50,\n",
    "      maximum: 50,\n",
    "      mean: 0\n",
    "    }\n",
    "    m.make_variable('fan_efficiency_perc_change', 'Percent Change for Fan Efficiency', d)\n",
    "\n",
    "m = analysis.workflow.find_measure('general_calibration_measure_percent_change')\n",
    "d = {\n",
    "      type: 'uniform',\n",
    "      minimum: -50,\n",
    "      maximum: 50,\n",
    "      mean: 0\n",
    "    }\n",
    "    m.make_variable('lights_perc_change', 'Lights Percent Change', d)\n",
    "\n",
    "m = analysis.workflow.find_measure('general_calibration_measure_percent_change')\n",
    "d = {\n",
    "      type: 'uniform',\n",
    "      minimum: -50,\n",
    "      maximum: 50,\n",
    "      mean: 0\n",
    "    }\n",
    "    m.make_variable('ElectricEquipment_perc_change', 'Electric Equipment Percent Change', d)"
   ]
  },
  {
   "cell_type": "markdown",
   "id": "f05c48be-2e09-4529-8f3f-6c9ee03f5274",
   "metadata": {},
   "source": [
    "Server scripts are bash scripts that can be used for various purposes such as changing the Gems that are used in an analysis or sending results to an S3 bucket.  There are 2 types of scripts: `Analysis` and `DataPoint` and they can be either `initialization` or `finalization`.  As an example, we have a dummy script that simply prints a one, two, three or four and various locations in the analysis.  These scripts need to be added so that the scripts are added to the .zip payload that gets submitted to the Server along with the Measures, seed models, etc. The path to the scripts is the first argument, an array of arguments for the script is next, followed by when the script should run."
   ]
  },
  {
   "cell_type": "code",
   "execution_count": 5,
   "id": "1e60ebad-edcc-4534-a1c3-350b993fa788",
   "metadata": {},
   "outputs": [
    {
     "data": {
      "text/plain": [
       "true"
      ]
     },
     "execution_count": 5,
     "metadata": {},
     "output_type": "execute_result"
    }
   ],
   "source": [
    "#full_path_to_file = File.expand_path(\"scripts/script.sh\", path_to_this_file)\n",
    "analysis.server_scripts.add('scripts/script.sh', ['one', 'two'])\n",
    "# add analysis finalization script\n",
    "analysis.server_scripts.add('scripts/script.sh', ['three', 'four'], 'finalization', 'analysis')  "
   ]
  },
  {
   "cell_type": "code",
   "execution_count": 6,
   "id": "ba189b20-2862-480c-a947-734867c27050",
   "metadata": {},
   "outputs": [
    {
     "data": {
      "text/plain": [
       "40451"
      ]
     },
     "execution_count": 6,
     "metadata": {},
     "output_type": "execute_result"
    }
   ],
   "source": [
    "#default analysis is single_run, change to nsga_nrel\n",
    "analysis.analysis_type = 'nsga_nrel'\n",
    "#number_of_samples\n",
    "analysis.algorithm.set_attribute('number_of_samples', 20)\n",
    "#generations\n",
    "analysis.algorithm.set_attribute('generations', 10)\n",
    "#tournament_size\n",
    "analysis.algorithm.set_attribute('tournament_size', 5)\n",
    "#max_queued_jobs\n",
    "analysis.algorithm.set_attribute('max_queued_jobs', 20)\n",
    "File.write('analysis.json',JSON.pretty_generate(analysis.to_hash))"
   ]
  },
  {
   "cell_type": "code",
   "execution_count": null,
   "id": "32837fd0-4175-4acc-a197-8230b85a12ca",
   "metadata": {},
   "outputs": [],
   "source": []
  },
  {
   "cell_type": "code",
   "execution_count": 7,
   "id": "cfd2ab34-6147-4d41-b947-8e799711b82f",
   "metadata": {},
   "outputs": [
    {
     "name": "stdout",
     "output_type": "stream",
     "text": [
      "osw_path: C:/Projects/Notebooks/osw_project/optimization_workflow.osw\n",
      "osw_full_path: C:/Projects/Notebooks/osw_project\n",
      "Adding Support Files: Weather\n",
      "  Adding weather/USA_CO_Golden-NREL.724666_TMY3.epw\n",
      "Adding Support Files: Seed Models\n",
      "  Adding C:/Projects/Notebooks/osw_project/Optimization/seeds/example_model.osm\n",
      "Adding Support Files: Libraries\n",
      "Adding Support Files: Server Scripts\n",
      "  Adding C:/Projects/Notebooks/osw_project/scripts/script.sh as scripts/data_point/initialization.sh\n",
      "  Adding arguments as scripts/data_point/initialization.args\n",
      "  Adding C:/Projects/Notebooks/osw_project/scripts/script.sh as scripts/analysis/finalization.sh\n",
      "  Adding arguments as scripts/analysis/finalization.args\n",
      "Adding Measures\n",
      "  Adding ExteriorWallThermalPropertiesPercentChange\n",
      "    Adding File C:/Projects/Notebooks/osw_project/measures/ExteriorWallThermalPropertiesPercentChange/LICENSE.md\n",
      "    Adding File C:/Projects/Notebooks/osw_project/measures/ExteriorWallThermalPropertiesPercentChange/measure.rb\n",
      "    Adding File C:/Projects/Notebooks/osw_project/measures/ExteriorWallThermalPropertiesPercentChange/measure.xml\n",
      "    Adding File C:/Projects/Notebooks/osw_project/measures/ExteriorWallThermalPropertiesPercentChange/README.md\n",
      "    Adding File C:/Projects/Notebooks/osw_project/measures/ExteriorWallThermalPropertiesPercentChange/README.md.erb\n",
      "  Adding RoofThermalPropertiesPercentChange\n",
      "    Adding File C:/Projects/Notebooks/osw_project/measures/RoofThermalPropertiesPercentChange/LICENSE.md\n",
      "    Adding File C:/Projects/Notebooks/osw_project/measures/RoofThermalPropertiesPercentChange/measure.rb\n",
      "    Adding File C:/Projects/Notebooks/osw_project/measures/RoofThermalPropertiesPercentChange/measure.xml\n",
      "    Adding File C:/Projects/Notebooks/osw_project/measures/RoofThermalPropertiesPercentChange/README.md\n",
      "    Adding File C:/Projects/Notebooks/osw_project/measures/RoofThermalPropertiesPercentChange/README.md.erb\n",
      "  Adding CoilHeatingGasPercentChange\n",
      "    Adding File C:/Projects/Notebooks/osw_project/measures/CoilHeatingGasPercentChange/LICENSE.md\n",
      "    Adding File C:/Projects/Notebooks/osw_project/measures/CoilHeatingGasPercentChange/measure.rb\n",
      "    Adding File C:/Projects/Notebooks/osw_project/measures/CoilHeatingGasPercentChange/measure.xml\n",
      "    Adding File C:/Projects/Notebooks/osw_project/measures/CoilHeatingGasPercentChange/README.md\n",
      "    Adding File C:/Projects/Notebooks/osw_project/measures/CoilHeatingGasPercentChange/README.md.erb\n",
      "  Adding CoilCoolingDXSingleSpeedPercentChange\n",
      "    Adding File C:/Projects/Notebooks/osw_project/measures/CoilCoolingDXSingleSpeedPercentChange/LICENSE.md\n",
      "    Adding File C:/Projects/Notebooks/osw_project/measures/CoilCoolingDXSingleSpeedPercentChange/measure.rb\n",
      "    Adding File C:/Projects/Notebooks/osw_project/measures/CoilCoolingDXSingleSpeedPercentChange/measure.xml\n",
      "    Adding File C:/Projects/Notebooks/osw_project/measures/CoilCoolingDXSingleSpeedPercentChange/README.md\n",
      "    Adding File C:/Projects/Notebooks/osw_project/measures/CoilCoolingDXSingleSpeedPercentChange/README.md.erb\n",
      "  Adding FansPercentChange\n",
      "    Adding File C:/Projects/Notebooks/osw_project/measures/FansPercentChange/LICENSE.md\n",
      "    Adding File C:/Projects/Notebooks/osw_project/measures/FansPercentChange/measure.rb\n",
      "    Adding File C:/Projects/Notebooks/osw_project/measures/FansPercentChange/measure.xml\n",
      "    Adding File C:/Projects/Notebooks/osw_project/measures/FansPercentChange/README.md\n",
      "    Adding File C:/Projects/Notebooks/osw_project/measures/FansPercentChange/README.md.erb\n",
      "  Adding GeneralCalibrationMeasurePercentChange\n",
      "    Adding File C:/Projects/Notebooks/osw_project/measures/GeneralCalibrationMeasurePercentChange/LICENSE.md\n",
      "    Adding File C:/Projects/Notebooks/osw_project/measures/GeneralCalibrationMeasurePercentChange/measure.rb\n",
      "    Adding File C:/Projects/Notebooks/osw_project/measures/GeneralCalibrationMeasurePercentChange/measure.xml\n",
      "    Adding File C:/Projects/Notebooks/osw_project/measures/GeneralCalibrationMeasurePercentChange/README.md\n",
      "    Adding File C:/Projects/Notebooks/osw_project/measures/GeneralCalibrationMeasurePercentChange/README.md.erb\n",
      "  Adding openstudio_results\n",
      "    Adding File C:/Projects/Notebooks/osw_project/measures/openstudio_results/LICENSE.md\n",
      "    Adding File C:/Projects/Notebooks/osw_project/measures/openstudio_results/measure.rb\n",
      "    Adding File C:/Projects/Notebooks/osw_project/measures/openstudio_results/measure.xml\n",
      "    Adding File C:/Projects/Notebooks/osw_project/measures/openstudio_results/README.md\n",
      "    Adding File C:/Projects/Notebooks/osw_project/measures/openstudio_results/README.md.erb\n",
      "Add Directory C:/Projects/Notebooks/osw_project/measures/openstudio_results/resources\n",
      "Adding File C:/Projects/Notebooks/osw_project/measures/openstudio_results/resources/os_lib_reporting.rb\n",
      "Adding File C:/Projects/Notebooks/osw_project/measures/openstudio_results/resources/report.html.erb\n",
      "Adding File C:/Projects/Notebooks/osw_project/measures/openstudio_results/resources/Siz.AirConditionerVariableRefrigerantFlow.rb\n",
      "Adding File C:/Projects/Notebooks/osw_project/measures/openstudio_results/resources/Siz.AirLoopHVAC.rb\n",
      "Adding File C:/Projects/Notebooks/osw_project/measures/openstudio_results/resources/Siz.AirLoopHVACUnitaryHeatCoolVAVChangeoverBypass.rb\n",
      "Adding File C:/Projects/Notebooks/osw_project/measures/openstudio_results/resources/Siz.AirLoopHVACUnitaryHeatPumpAirToAir.rb\n",
      "Adding File C:/Projects/Notebooks/osw_project/measures/openstudio_results/resources/Siz.AirLoopHVACUnitaryHeatPumpAirToAirMultiSpeed.rb\n",
      "Adding File C:/Projects/Notebooks/osw_project/measures/openstudio_results/resources/Siz.AirLoopHVACUnitarySystem.rb\n",
      "Adding File C:/Projects/Notebooks/osw_project/measures/openstudio_results/resources/Siz.AirTerminalDualDuctVAV.rb\n",
      "Adding File C:/Projects/Notebooks/osw_project/measures/openstudio_results/resources/Siz.AirTerminalSingleDuctConstantVolumeCooledBeam.rb\n",
      "Adding File C:/Projects/Notebooks/osw_project/measures/openstudio_results/resources/Siz.AirTerminalSingleDuctConstantVolumeFourPipeInduction.rb\n",
      "Adding File C:/Projects/Notebooks/osw_project/measures/openstudio_results/resources/Siz.AirTerminalSingleDuctConstantVolumeReheat.rb\n",
      "Adding File C:/Projects/Notebooks/osw_project/measures/openstudio_results/resources/Siz.AirTerminalSingleDuctParallelPIUReheat.rb\n",
      "Adding File C:/Projects/Notebooks/osw_project/measures/openstudio_results/resources/Siz.AirTerminalSingleDuctSeriesPIUReheat.rb\n",
      "Adding File C:/Projects/Notebooks/osw_project/measures/openstudio_results/resources/Siz.AirTerminalSingleDuctUncontrolled.rb\n",
      "Adding File C:/Projects/Notebooks/osw_project/measures/openstudio_results/resources/Siz.AirTerminalSingleDuctVAVHeatAndCoolNoReheat.rb\n",
      "Adding File C:/Projects/Notebooks/osw_project/measures/openstudio_results/resources/Siz.AirTerminalSingleDuctVAVHeatAndCoolReheat.rb\n",
      "Adding File C:/Projects/Notebooks/osw_project/measures/openstudio_results/resources/Siz.AirTerminalSingleDuctVAVNoReheat.rb\n",
      "Adding File C:/Projects/Notebooks/osw_project/measures/openstudio_results/resources/Siz.AirTerminalSingleDuctVAVReheat.rb\n",
      "Adding File C:/Projects/Notebooks/osw_project/measures/openstudio_results/resources/Siz.BoilerHotWater.rb\n",
      "Adding File C:/Projects/Notebooks/osw_project/measures/openstudio_results/resources/Siz.BoilerSteam.rb\n",
      "Adding File C:/Projects/Notebooks/osw_project/measures/openstudio_results/resources/Siz.ChillerAbsorption.rb\n",
      "Adding File C:/Projects/Notebooks/osw_project/measures/openstudio_results/resources/Siz.ChillerAbsorptionIndirect.rb\n",
      "Adding File C:/Projects/Notebooks/osw_project/measures/openstudio_results/resources/Siz.ChillerElectricEIR.rb\n",
      "Adding File C:/Projects/Notebooks/osw_project/measures/openstudio_results/resources/Siz.ChillerHeaterPerformanceElectricEIR.rb\n",
      "Adding File C:/Projects/Notebooks/osw_project/measures/openstudio_results/resources/Siz.CoilCoolingDXMultiSpeed.rb\n",
      "Adding File C:/Projects/Notebooks/osw_project/measures/openstudio_results/resources/Siz.CoilCoolingDXMultiSpeedStageData.rb\n",
      "Adding File C:/Projects/Notebooks/osw_project/measures/openstudio_results/resources/Siz.CoilCoolingDXSingleSpeed.rb\n",
      "Adding File C:/Projects/Notebooks/osw_project/measures/openstudio_results/resources/Siz.CoilCoolingDXTwoSpeed.rb\n",
      "Adding File C:/Projects/Notebooks/osw_project/measures/openstudio_results/resources/Siz.CoilCoolingDXTwoStageWithHumidityControlMode.rb\n",
      "Adding File C:/Projects/Notebooks/osw_project/measures/openstudio_results/resources/Siz.CoilCoolingDXVariableRefrigerantFlow.rb\n",
      "Adding File C:/Projects/Notebooks/osw_project/measures/openstudio_results/resources/Siz.CoilCoolingDXVariableSpeed.rb\n",
      "Adding File C:/Projects/Notebooks/osw_project/measures/openstudio_results/resources/Siz.CoilCoolingDXVariableSpeedSpeedData.rb\n",
      "Adding File C:/Projects/Notebooks/osw_project/measures/openstudio_results/resources/Siz.CoilCoolingLowTempRadiantVarFlow.rb\n",
      "Adding File C:/Projects/Notebooks/osw_project/measures/openstudio_results/resources/Siz.CoilCoolingWater.rb\n",
      "Adding File C:/Projects/Notebooks/osw_project/measures/openstudio_results/resources/Siz.CoilCoolingWaterToAirHeatPumpEquationFit.rb\n",
      "Adding File C:/Projects/Notebooks/osw_project/measures/openstudio_results/resources/Siz.CoilCoolingWaterToAirHeatPumpVariableSpeedEquationFit.rb\n",
      "Adding File C:/Projects/Notebooks/osw_project/measures/openstudio_results/resources/Siz.CoilCoolingWaterToAirHeatPumpVariableSpeedEquationFitSpeedData.rb\n",
      "Adding File C:/Projects/Notebooks/osw_project/measures/openstudio_results/resources/Siz.CoilHeatingDesuperheater.rb\n",
      "Adding File C:/Projects/Notebooks/osw_project/measures/openstudio_results/resources/Siz.CoilHeatingDXMultiSpeed.rb\n",
      "Adding File C:/Projects/Notebooks/osw_project/measures/openstudio_results/resources/Siz.CoilHeatingDXMultiSpeedStageData.rb\n",
      "Adding File C:/Projects/Notebooks/osw_project/measures/openstudio_results/resources/Siz.CoilHeatingDXSingleSpeed.rb\n",
      "Adding File C:/Projects/Notebooks/osw_project/measures/openstudio_results/resources/Siz.CoilHeatingDXVariableRefrigerantFlow.rb\n",
      "Adding File C:/Projects/Notebooks/osw_project/measures/openstudio_results/resources/Siz.CoilHeatingDXVariableSpeed.rb\n",
      "Adding File C:/Projects/Notebooks/osw_project/measures/openstudio_results/resources/Siz.CoilHeatingDXVariableSpeedSpeedData.rb\n",
      "Adding File C:/Projects/Notebooks/osw_project/measures/openstudio_results/resources/Siz.CoilHeatingElectric.rb\n",
      "Adding File C:/Projects/Notebooks/osw_project/measures/openstudio_results/resources/Siz.CoilHeatingGas.rb\n",
      "Adding File C:/Projects/Notebooks/osw_project/measures/openstudio_results/resources/Siz.CoilHeatingGasMultiStage.rb\n",
      "Adding File C:/Projects/Notebooks/osw_project/measures/openstudio_results/resources/Siz.CoilHeatingGasMultiStageStageData.rb\n",
      "Adding File C:/Projects/Notebooks/osw_project/measures/openstudio_results/resources/Siz.CoilHeatingLowTempRadiantVarFlow.rb\n",
      "Adding File C:/Projects/Notebooks/osw_project/measures/openstudio_results/resources/Siz.CoilHeatingWater.rb\n",
      "Adding File C:/Projects/Notebooks/osw_project/measures/openstudio_results/resources/Siz.CoilHeatingWaterBaseboard.rb\n",
      "Adding File C:/Projects/Notebooks/osw_project/measures/openstudio_results/resources/Siz.CoilHeatingWaterBaseboardRadiant.rb\n",
      "Adding File C:/Projects/Notebooks/osw_project/measures/openstudio_results/resources/Siz.CoilHeatingWaterToAirHeatPumpEquationFit.rb\n",
      "Adding File C:/Projects/Notebooks/osw_project/measures/openstudio_results/resources/Siz.CoilHeatingWaterToAirHeatPumpVariableSpeedEquationFit.rb\n",
      "Adding File C:/Projects/Notebooks/osw_project/measures/openstudio_results/resources/Siz.CoilHeatingWaterToAirHeatPumpVariableSpeedEquationFitSpeedData.rb\n",
      "Adding File C:/Projects/Notebooks/osw_project/measures/openstudio_results/resources/Siz.CoilPerformanceDXCooling.rb\n",
      "Adding File C:/Projects/Notebooks/osw_project/measures/openstudio_results/resources/Siz.CoilSystemCoolingDXHeatExchangerAssisted.rb\n",
      "Adding File C:/Projects/Notebooks/osw_project/measures/openstudio_results/resources/Siz.CoilSystemCoolingWaterHeatExchangerAssisted.rb\n",
      "Adding File C:/Projects/Notebooks/osw_project/measures/openstudio_results/resources/Siz.CoilWaterHeatingAirToWaterHeatPump.rb\n",
      "Adding File C:/Projects/Notebooks/osw_project/measures/openstudio_results/resources/Siz.CoilWaterHeatingAirToWaterHeatPumpWrapped.rb\n",
      "Adding File C:/Projects/Notebooks/osw_project/measures/openstudio_results/resources/Siz.CoilWaterHeatingDesuperheater.rb\n",
      "Adding File C:/Projects/Notebooks/osw_project/measures/openstudio_results/resources/Siz.ControllerOutdoorAir.rb\n",
      "Adding File C:/Projects/Notebooks/osw_project/measures/openstudio_results/resources/Siz.CoolingTowerSingleSpeed.rb\n",
      "Adding File C:/Projects/Notebooks/osw_project/measures/openstudio_results/resources/Siz.CoolingTowerTwoSpeed.rb\n",
      "Adding File C:/Projects/Notebooks/osw_project/measures/openstudio_results/resources/Siz.CoolingTowerVariableSpeed.rb\n",
      "Adding File C:/Projects/Notebooks/osw_project/measures/openstudio_results/resources/Siz.DistrictCooling.rb\n",
      "Adding File C:/Projects/Notebooks/osw_project/measures/openstudio_results/resources/Siz.DistrictHeating.rb\n",
      "Adding File C:/Projects/Notebooks/osw_project/measures/openstudio_results/resources/Siz.ElectricLoadCenterInverterLookUpTable.rb\n",
      "Adding File C:/Projects/Notebooks/osw_project/measures/openstudio_results/resources/Siz.ElectricLoadCenterInverterSimple.rb\n",
      "Adding File C:/Projects/Notebooks/osw_project/measures/openstudio_results/resources/Siz.ElectricLoadCenterStorageConverter.rb\n",
      "Adding File C:/Projects/Notebooks/osw_project/measures/openstudio_results/resources/Siz.ElectricLoadCenterStorageSimple.rb\n",
      "Adding File C:/Projects/Notebooks/osw_project/measures/openstudio_results/resources/Siz.EvaporativeCoolerDirectResearchSpecial.rb\n",
      "Adding File C:/Projects/Notebooks/osw_project/measures/openstudio_results/resources/Siz.EvaporativeCoolerIndirectResearchSpecial.rb\n",
      "Adding File C:/Projects/Notebooks/osw_project/measures/openstudio_results/resources/Siz.EvaporativeFluidCoolerSingleSpeed.rb\n",
      "Adding File C:/Projects/Notebooks/osw_project/measures/openstudio_results/resources/Siz.EvaporativeFluidCoolerTwoSpeed.rb\n",
      "Adding File C:/Projects/Notebooks/osw_project/measures/openstudio_results/resources/Siz.FanConstantVolume.rb\n",
      "Adding File C:/Projects/Notebooks/osw_project/measures/openstudio_results/resources/Siz.FanOnOff.rb\n",
      "Adding File C:/Projects/Notebooks/osw_project/measures/openstudio_results/resources/Siz.FanVariableVolume.rb\n",
      "Adding File C:/Projects/Notebooks/osw_project/measures/openstudio_results/resources/Siz.FanZoneExhaust.rb\n",
      "Adding File C:/Projects/Notebooks/osw_project/measures/openstudio_results/resources/Siz.FluidCoolerSingleSpeed.rb\n",
      "Adding File C:/Projects/Notebooks/osw_project/measures/openstudio_results/resources/Siz.FluidCoolerTwoSpeed.rb\n",
      "Adding File C:/Projects/Notebooks/osw_project/measures/openstudio_results/resources/Siz.GeneratorFuelCellElectricalStorage.rb\n",
      "Adding File C:/Projects/Notebooks/osw_project/measures/openstudio_results/resources/Siz.GeneratorFuelCellInverter.rb\n",
      "Adding File C:/Projects/Notebooks/osw_project/measures/openstudio_results/resources/Siz.GeneratorFuelCellPowerModule.rb\n",
      "Adding File C:/Projects/Notebooks/osw_project/measures/openstudio_results/resources/Siz.GeneratorMicroTurbine.rb\n",
      "Adding File C:/Projects/Notebooks/osw_project/measures/openstudio_results/resources/Siz.GeneratorMicroTurbineHeatRecovery.rb\n",
      "Adding File C:/Projects/Notebooks/osw_project/measures/openstudio_results/resources/Siz.HeaderedPumpsConstantSpeed.rb\n",
      "Adding File C:/Projects/Notebooks/osw_project/measures/openstudio_results/resources/Siz.HeaderedPumpsVariableSpeed.rb\n",
      "Adding File C:/Projects/Notebooks/osw_project/measures/openstudio_results/resources/Siz.HeatExchangerAirToAirSensibleAndLatent.rb\n",
      "Adding File C:/Projects/Notebooks/osw_project/measures/openstudio_results/resources/Siz.HeatExchangerFluidToFluid.rb\n",
      "Adding File C:/Projects/Notebooks/osw_project/measures/openstudio_results/resources/Siz.HeatPumpWaterToWaterEquationFitCooling.rb\n",
      "Adding File C:/Projects/Notebooks/osw_project/measures/openstudio_results/resources/Siz.HeatPumpWaterToWaterEquationFitHeating.rb\n",
      "Adding File C:/Projects/Notebooks/osw_project/measures/openstudio_results/resources/Siz.HumidifierSteamElectric.rb\n",
      "Adding File C:/Projects/Notebooks/osw_project/measures/openstudio_results/resources/Siz.HVACComponent.rb\n",
      "Adding File C:/Projects/Notebooks/osw_project/measures/openstudio_results/resources/Siz.Model.rb\n",
      "Adding File C:/Projects/Notebooks/osw_project/measures/openstudio_results/resources/Siz.ModelObject.rb\n",
      "Adding File C:/Projects/Notebooks/osw_project/measures/openstudio_results/resources/Siz.PhotovoltaicPerformanceSimple.rb\n",
      "Adding File C:/Projects/Notebooks/osw_project/measures/openstudio_results/resources/Siz.PlantComponentTemperatureSource.rb\n",
      "Adding File C:/Projects/Notebooks/osw_project/measures/openstudio_results/resources/Siz.PlantLoop.rb\n",
      "Adding File C:/Projects/Notebooks/osw_project/measures/openstudio_results/resources/Siz.PumpConstantSpeed.rb\n",
      "Adding File C:/Projects/Notebooks/osw_project/measures/openstudio_results/resources/Siz.PumpVariableSpeed.rb\n",
      "Adding File C:/Projects/Notebooks/osw_project/measures/openstudio_results/resources/Siz.RefrigerationSecondarySystem.rb\n",
      "Adding File C:/Projects/Notebooks/osw_project/measures/openstudio_results/resources/Siz.RefrigerationSystem.rb\n",
      "Adding File C:/Projects/Notebooks/osw_project/measures/openstudio_results/resources/Siz.RefrigerationTranscriticalSystem.rb\n",
      "Adding File C:/Projects/Notebooks/osw_project/measures/openstudio_results/resources/Siz.SizingSystem.rb\n",
      "Adding File C:/Projects/Notebooks/osw_project/measures/openstudio_results/resources/Siz.SolarCollectorFlatPlatePhotovoltaicThermal.rb\n",
      "Adding File C:/Projects/Notebooks/osw_project/measures/openstudio_results/resources/Siz.SolarCollectorPerformancePhotovoltaicThermalSimple.rb\n",
      "Adding File C:/Projects/Notebooks/osw_project/measures/openstudio_results/resources/Siz.ThermalStorageChilledWaterStratified.rb\n",
      "Adding File C:/Projects/Notebooks/osw_project/measures/openstudio_results/resources/Siz.WaterHeaterHeatPump.rb\n",
      "Adding File C:/Projects/Notebooks/osw_project/measures/openstudio_results/resources/Siz.WaterHeaterHeatPumpWrappedCondenser.rb\n",
      "Adding File C:/Projects/Notebooks/osw_project/measures/openstudio_results/resources/Siz.WaterHeaterMixed.rb\n",
      "Adding File C:/Projects/Notebooks/osw_project/measures/openstudio_results/resources/Siz.WaterHeaterStratified.rb\n",
      "Adding File C:/Projects/Notebooks/osw_project/measures/openstudio_results/resources/Siz.ZoneHVACBaseboardConvectiveElectric.rb\n",
      "Adding File C:/Projects/Notebooks/osw_project/measures/openstudio_results/resources/Siz.ZoneHVACBaseboardConvectiveWater.rb\n",
      "Adding File C:/Projects/Notebooks/osw_project/measures/openstudio_results/resources/Siz.ZoneHVACBaseboardRadiantConvectiveElectric.rb\n",
      "Adding File C:/Projects/Notebooks/osw_project/measures/openstudio_results/resources/Siz.ZoneHVACBaseboardRadiantConvectiveWater.rb\n",
      "Adding File C:/Projects/Notebooks/osw_project/measures/openstudio_results/resources/Siz.ZoneHVACEnergyRecoveryVentilator.rb\n",
      "Adding File C:/Projects/Notebooks/osw_project/measures/openstudio_results/resources/Siz.ZoneHVACFourPipeFanCoil.rb\n",
      "Adding File C:/Projects/Notebooks/osw_project/measures/openstudio_results/resources/Siz.ZoneHVACHighTemperatureRadiant.rb\n",
      "Adding File C:/Projects/Notebooks/osw_project/measures/openstudio_results/resources/Siz.ZoneHVACIdealLoadsAirSystem.rb\n",
      "Adding File C:/Projects/Notebooks/osw_project/measures/openstudio_results/resources/Siz.ZoneHVACLowTempRadiantConstFlow.rb\n",
      "Adding File C:/Projects/Notebooks/osw_project/measures/openstudio_results/resources/Siz.ZoneHVACLowTempRadiantVarFlow.rb\n",
      "Adding File C:/Projects/Notebooks/osw_project/measures/openstudio_results/resources/Siz.ZoneHVACPackagedTerminalAirConditioner.rb\n",
      "Adding File C:/Projects/Notebooks/osw_project/measures/openstudio_results/resources/Siz.ZoneHVACPackagedTerminalHeatPump.rb\n",
      "Adding File C:/Projects/Notebooks/osw_project/measures/openstudio_results/resources/Siz.ZoneHVACTerminalUnitVariableRefrigerantFlow.rb\n",
      "Adding File C:/Projects/Notebooks/osw_project/measures/openstudio_results/resources/Siz.ZoneHVACUnitHeater.rb\n",
      "Adding File C:/Projects/Notebooks/osw_project/measures/openstudio_results/resources/Siz.ZoneHVACUnitVentilator.rb\n",
      "Adding File C:/Projects/Notebooks/osw_project/measures/openstudio_results/resources/Siz.ZoneHVACWaterToAirHeatPump.rb\n",
      "Adding File C:/Projects/Notebooks/osw_project/measures/openstudio_results/resources/Siz.ZoneVentilationDesignFlowRate.rb\n"
     ]
    },
    {
     "data": {
      "text/plain": [
       "[#<OpenStudio::Analysis::WorkflowStep:0x000000000c956620 @name=\"exterior_wall_thermal_properties_percent_change\", @display_name=\"Exterior Wall Thermal Percent Change\", @type=\"ModelMeasure\", @measure_definition_class_name=\"ExteriorWallThermalPropertiesPercentChange\", @measure_definition_directory=\"./measures/ExteriorWallThermalPropertiesPercentChange\", @measure_definition_directory_local=\"C:/Projects/Notebooks/osw_project/measures/ExteriorWallThermalPropertiesPercentChange\", @measure_definition_display_name=\"Exterior Wall Thermal Percent Change\", @measure_definition_name=\"exterior_wall_thermal_properties_percent_change\", @measure_definition_name_xml=nil, @measure_definition_uuid=\"6ab39cf2-1f9e-4570-a797-360a814aaa64\", @measure_definition_version_uuid=\"e6162515-fa62-411a-9f4f-ef27fec69598\", @uuid=\"6ab39cf2-1f9e-4570-a797-360a814aaa64\", @version_uuid=\"e6162515-fa62-411a-9f4f-ef27fec69598\", @description=\"Change exterior walls by altering the thermal resistance, density, and solar absorptance of the wall constructions by a Percent Change\", @arguments=[{:display_name=>\"Skip Entire Measure\", :display_name_short=>\"Skip\", :name=>\"__SKIP__\", :value_type=>\"boolean\", :default_value=>false, :value=>false}, {:display_name=>\"Exterior wall total R-value Percentage Change\", :display_name_short=>\"Exterior wall total R-value Percentage Change\", :name=>\"r_value_perc_change\", :value_type=>\"double\", :default_value=>0.0, :value=>10.0}, {:display_name=>\"Exterior wall solar absorptance Percentage Change\", :display_name_short=>\"Exterior wall solar absorptance Percentage Change\", :name=>\"solar_abs_perc_change\", :value_type=>\"double\", :default_value=>0.0, :value=>0.0}, {:display_name=>\"Exterior wall thermal mass Percentage Change\", :display_name_short=>\"Exterior wall thermal mass Percentage Change\", :name=>\"thermal_mass_perc_change\", :value_type=>\"double\", :default_value=>0.0, :value=>0.0}], @variables=[{:argument=>{:display_name=>\"Exterior wall total R-value Percentage Change\", :display_name_short=>\"Exterior wall total R-value Percentage Change\", :name=>\"r_value_perc_change\", :value_type=>\"double\", :default_value=>0.0, :value=>10.0}, :display_name=>\"Exterior wall total R-value Percent Change\", :display_name_short=>\"Exterior wall total R-value Percent Change\", :variable_type=>\"variable\", :units=>nil, :minimum=>-50, :maximum=>50, :relation_to_output=>nil, :uuid=>\"bc9a1ef6-ad12-42db-9607-26f1c338d595\", :version_uuid=>\"cdb1a8da-aa14-4625-b8d2-b5a16e138a6a\", :variable=>true, :static_value=>0.0, :uncertainty_description=>{:type=>\"uniform\", :attributes=>[{:name=>\"lower_bounds\", :value=>-50}, {:name=>\"upper_bounds\", :value=>50}, {:name=>\"modes\", :value=>0}, {:name=>\"delta_x\", :value=>nil}, {:name=>\"stddev\", :value=>nil}]}, :workflow_index=>0}]>, #<OpenStudio::Analysis::WorkflowStep:0x000000000c2e8158 @name=\"roof_thermal_properties_percent_change\", @display_name=\"Roof Thermal Properties Percent Change\", @type=\"ModelMeasure\", @measure_definition_class_name=\"RoofThermalPropertiesPercentChange\", @measure_definition_directory=\"./measures/RoofThermalPropertiesPercentChange\", @measure_definition_directory_local=\"C:/Projects/Notebooks/osw_project/measures/RoofThermalPropertiesPercentChange\", @measure_definition_display_name=\"Roof Thermal Properties Percent Change\", @measure_definition_name=\"roof_thermal_properties_percent_change\", @measure_definition_name_xml=nil, @measure_definition_uuid=\"07516685-60fd-4da8-9872-1154a995047d\", @measure_definition_version_uuid=\"31e6f50f-fdec-4791-8e73-c672998edd50\", @uuid=\"07516685-60fd-4da8-9872-1154a995047d\", @version_uuid=\"31e6f50f-fdec-4791-8e73-c672998edd50\", @description=\"Change Roof by altering the thermal resistance, density, and solar absorptance of the wall constructions by a Percent Change\", @arguments=[{:display_name=>\"Skip Entire Measure\", :display_name_short=>\"Skip\", :name=>\"__SKIP__\", :value_type=>\"boolean\", :default_value=>false, :value=>false}, {:display_name=>\"Roof total R-value Percent Change\", :display_name_short=>\"Roof total R-value Percent Change\", :name=>\"r_value_perc_change\", :value_type=>\"double\", :default_value=>0.0, :value=>10.0}, {:display_name=>\"Roof solar absorptance Percent Change\", :display_name_short=>\"Roof solar absorptance Percent Change\", :name=>\"solar_abs_perc_change\", :value_type=>\"double\", :default_value=>0.0, :value=>0.0}, {:display_name=>\"Roof thermal mass Percent Change\", :display_name_short=>\"Roof thermal mass Percent Change\", :name=>\"thermal_mass_perc_change\", :value_type=>\"double\", :default_value=>0.0, :value=>0.0}], @variables=[{:argument=>{:display_name=>\"Roof total R-value Percent Change\", :display_name_short=>\"Roof total R-value Percent Change\", :name=>\"r_value_perc_change\", :value_type=>\"double\", :default_value=>0.0, :value=>10.0}, :display_name=>\"Roof total R-value Percent Change\", :display_name_short=>\"Roof total R-value Percent Change\", :variable_type=>\"variable\", :units=>nil, :minimum=>-50, :maximum=>50, :relation_to_output=>nil, :uuid=>\"60515a1a-35f7-4e81-b288-8bfafb00f2a7\", :version_uuid=>\"86d47141-c57c-4de8-ae97-d66e8e693d71\", :variable=>true, :static_value=>0.0, :uncertainty_description=>{:type=>\"uniform\", :attributes=>[{:name=>\"lower_bounds\", :value=>-50}, {:name=>\"upper_bounds\", :value=>50}, {:name=>\"modes\", :value=>0}, {:name=>\"delta_x\", :value=>nil}, {:name=>\"stddev\", :value=>nil}]}, :workflow_index=>0}]>, #<OpenStudio::Analysis::WorkflowStep:0x0000000009d111f0 @name=\"coil_heating_gas_percent_change\", @display_name=\"Heating Coils Gas Percent Change\", @type=\"ModelMeasure\", @measure_definition_class_name=\"CoilHeatingGasPercentChange\", @measure_definition_directory=\"./measures/CoilHeatingGasPercentChange\", @measure_definition_directory_local=\"C:/Projects/Notebooks/osw_project/measures/CoilHeatingGasPercentChange\", @measure_definition_display_name=\"Heating Coils Gas Percent Change\", @measure_definition_name=\"coil_heating_gas_percent_change\", @measure_definition_name_xml=nil, @measure_definition_uuid=\"8589af79-cfe7-45fb-9c79-e7b95e5fb02f\", @measure_definition_version_uuid=\"af5f258e-3cbd-4cc4-a55e-efc2aa99d212\", @uuid=\"8589af79-cfe7-45fb-9c79-e7b95e5fb02f\", @version_uuid=\"af5f258e-3cbd-4cc4-a55e-efc2aa99d212\", @description=\"This is a general purpose measure to calibrate Gas Heating Coils with a Percent Change.\", @arguments=[{:display_name=>\"Skip Entire Measure\", :display_name_short=>\"Skip\", :name=>\"__SKIP__\", :value_type=>\"boolean\", :default_value=>false, :value=>false}, {:display_name=>\"Apply the Measure to a SINGLE Gas Heating Coil, ALL the Gas Heating Coils or NONE.\", :display_name_short=>\"Apply the Measure to a SINGLE Gas Heating Coil, ALL the Gas Heating Coils or NONE.\", :name=>\"coil\", :value_type=>\"string\", :default_value=>\"{f63fb2eb-22de-403d-ab86-84b453698ed6}\", :value=>\"*All Gas Heating Coils*\"}, {:display_name=>\"Percent Change for coil Efficiency.\", :display_name_short=>\"Percent Change for coil Efficiency.\", :name=>\"coil_efficiency_perc_change\", :value_type=>\"double\", :default_value=>0.0, :value=>10.0}, {:display_name=>\"Percent Change for coil Capacity.\", :display_name_short=>\"Percent Change for coil Capacity.\", :name=>\"coil_capacity_perc_change\", :value_type=>\"double\", :default_value=>0.0, :value=>0.0}, {:display_name=>\"Percent Change for coil parasitic electric load.\", :display_name_short=>\"Percent Change for coil parasitic electric load.\", :name=>\"coil_parasitic_electric_perc_change\", :value_type=>\"double\", :default_value=>0.0, :value=>0.0}, {:display_name=>\"Percent Change for coil parasitic gas load.\", :display_name_short=>\"Percent Change for coil parasitic gas load.\", :name=>\"coil_parasitic_gas_perc_change\", :value_type=>\"double\", :default_value=>0.0, :value=>0.0}], @variables=[{:argument=>{:display_name=>\"Percent Change for coil Efficiency.\", :display_name_short=>\"Percent Change for coil Efficiency.\", :name=>\"coil_efficiency_perc_change\", :value_type=>\"double\", :default_value=>0.0, :value=>10.0}, :display_name=>\"Percent Change for heating coil Efficiency\", :display_name_short=>\"Percent Change for heating coil Efficiency\", :variable_type=>\"variable\", :units=>nil, :minimum=>-50, :maximum=>50, :relation_to_output=>nil, :uuid=>\"5f54f765-ab52-4f52-a48c-a829b5bc7744\", :version_uuid=>\"b4622be3-60b4-4f28-8464-46bcbd64b22a\", :variable=>true, :static_value=>0.0, :uncertainty_description=>{:type=>\"uniform\", :attributes=>[{:name=>\"lower_bounds\", :value=>-50}, {:name=>\"upper_bounds\", :value=>50}, {:name=>\"modes\", :value=>0}, {:name=>\"delta_x\", :value=>nil}, {:name=>\"stddev\", :value=>nil}]}, :workflow_index=>0}]>, #<OpenStudio::Analysis::WorkflowStep:0x000000000af541f0 @name=\"coil_cooling_dx_single_speed_percent_change\", @display_name=\"Cooling Coils DX Single Speed Percent Change\", @type=\"ModelMeasure\", @measure_definition_class_name=\"CoilCoolingDXSingleSpeedPercentChange\", @measure_definition_directory=\"./measures/CoilCoolingDXSingleSpeedPercentChange\", @measure_definition_directory_local=\"C:/Projects/Notebooks/osw_project/measures/CoilCoolingDXSingleSpeedPercentChange\", @measure_definition_display_name=\"Cooling Coils DX Single Speed Percent Change\", @measure_definition_name=\"coil_cooling_dx_single_speed_percent_change\", @measure_definition_name_xml=nil, @measure_definition_uuid=\"97d0dbdf-6245-4cfd-8dfc-a6a5eb853b37\", @measure_definition_version_uuid=\"0b63c18e-4f1d-4dad-91ac-95e2b3fa7fa3\", @uuid=\"97d0dbdf-6245-4cfd-8dfc-a6a5eb853b37\", @version_uuid=\"0b63c18e-4f1d-4dad-91ac-95e2b3fa7fa3\", @description=\"This is a general purpose measure to calibrate DX Cooling Coils with a Percent Change.\", @arguments=[{:display_name=>\"Skip Entire Measure\", :display_name_short=>\"Skip\", :name=>\"__SKIP__\", :value_type=>\"boolean\", :default_value=>false, :value=>false}, {:display_name=>\"Apply the Measure to a SINGLE DX Cooling Coil, ALL the DX Cooling Coils or NONE.\", :display_name_short=>\"Apply the Measure to a SINGLE DX Cooling Coil, ALL the DX Cooling Coils or NONE.\", :name=>\"coil\", :value_type=>\"string\", :default_value=>\"{6d4cc6b3-8d52-4727-8fa3-6da413ff42a9}\", :value=>\"*All DX Cooling Coils*\"}, {:display_name=>\"Percent Change for COP.\", :display_name_short=>\"Percent Change for COP.\", :name=>\"rated_cop_perc_change\", :value_type=>\"double\", :default_value=>0.0, :value=>10.0}, {:display_name=>\"Percent Change for coil cooling Capacity.\", :display_name_short=>\"Percent Change for coil cooling Capacity.\", :name=>\"rated_cooling_capacity_perc_change\", :value_type=>\"double\", :default_value=>0.0, :value=>0.0}], @variables=[{:argument=>{:display_name=>\"Percent Change for COP.\", :display_name_short=>\"Percent Change for COP.\", :name=>\"rated_cop_perc_change\", :value_type=>\"double\", :default_value=>0.0, :value=>10.0}, :display_name=>\"Percent Change for DX COP\", :display_name_short=>\"Percent Change for DX COP\", :variable_type=>\"variable\", :units=>nil, :minimum=>-50, :maximum=>50, :relation_to_output=>nil, :uuid=>\"8dae2fc2-0eae-4723-98b8-8ad1f69aaaf7\", :version_uuid=>\"bd8ab630-a465-4c4e-98b8-d9f83b0d4f23\", :variable=>true, :static_value=>0.0, :uncertainty_description=>{:type=>\"uniform\", :attributes=>[{:name=>\"lower_bounds\", :value=>-50}, {:name=>\"upper_bounds\", :value=>50}, {:name=>\"modes\", :value=>0}, {:name=>\"delta_x\", :value=>nil}, {:name=>\"stddev\", :value=>nil}]}, :workflow_index=>0}]>, #<OpenStudio::Analysis::WorkflowStep:0x000000000c29f908 @name=\"fans_percent_change\", @display_name=\"Fans Percent Change\", @type=\"ModelMeasure\", @measure_definition_class_name=\"FansPercentChange\", @measure_definition_directory=\"./measures/FansPercentChange\", @measure_definition_directory_local=\"C:/Projects/Notebooks/osw_project/measures/FansPercentChange\", @measure_definition_display_name=\"Fans Percent Change\", @measure_definition_name=\"fans_percent_change\", @measure_definition_name_xml=nil, @measure_definition_uuid=\"4c13a935-976b-4d54-bf7f-a4064fb6e11d\", @measure_definition_version_uuid=\"9951c488-f9d1-44bb-83ef-3d54c2387791\", @uuid=\"4c13a935-976b-4d54-bf7f-a4064fb6e11d\", @version_uuid=\"9951c488-f9d1-44bb-83ef-3d54c2387791\", @description=\"This is a general purpose measure to calibrate Fans with a Percent Change.\", @arguments=[{:display_name=>\"Skip Entire Measure\", :display_name_short=>\"Skip\", :name=>\"__SKIP__\", :value_type=>\"boolean\", :default_value=>false, :value=>false}, {:display_name=>\"Apply the Measure to a SINGLE Fan, ALL the Fans or NONE.\", :display_name_short=>\"Apply the Measure to a SINGLE Fan, ALL the Fans or NONE.\", :name=>\"fan\", :value_type=>\"string\", :default_value=>\"{4515e273-905f-453b-a97f-2dba17ac73a9}\", :value=>\"*All Fans*\"}, {:display_name=>\"Percent Change for Maximum FlowRate.\", :display_name_short=>\"Percent Change for Maximum FlowRate.\", :name=>\"max_flowrate_perc_change\", :value_type=>\"double\", :default_value=>0.0, :value=>0.0}, {:display_name=>\"Percent Change for Fan Efficiency.\", :display_name_short=>\"Percent Change for Fan Efficiency.\", :name=>\"fan_efficiency_perc_change\", :value_type=>\"double\", :default_value=>0.0, :value=>10.0}, {:display_name=>\"Percent Change for Pressure Rise.\", :display_name_short=>\"Percent Change for Pressure Rise.\", :name=>\"pressure_rise_perc_change\", :value_type=>\"double\", :default_value=>0.0, :value=>0.0}, {:display_name=>\"Percent Change for Motor Efficiency.\", :display_name_short=>\"Percent Change for Motor Efficiency.\", :name=>\"motor_efficiency_perc_change\", :value_type=>\"double\", :default_value=>0.0, :value=>0.0}], @variables=[{:argument=>{:display_name=>\"Percent Change for Fan Efficiency.\", :display_name_short=>\"Percent Change for Fan Efficiency.\", :name=>\"fan_efficiency_perc_change\", :value_type=>\"double\", :default_value=>0.0, :value=>10.0}, :display_name=>\"Percent Change for Fan Efficiency\", :display_name_short=>\"Percent Change for Fan Efficiency\", :variable_type=>\"variable\", :units=>nil, :minimum=>-50, :maximum=>50, :relation_to_output=>nil, :uuid=>\"89279694-7d68-4a37-9d68-c6fc6412a04f\", :version_uuid=>\"2207f228-69ce-4c4c-8fb6-afcd84cb5072\", :variable=>true, :static_value=>0.0, :uncertainty_description=>{:type=>\"uniform\", :attributes=>[{:name=>\"lower_bounds\", :value=>-50}, {:name=>\"upper_bounds\", :value=>50}, {:name=>\"modes\", :value=>0}, {:name=>\"delta_x\", :value=>nil}, {:name=>\"stddev\", :value=>nil}]}, :workflow_index=>0}]>, #<OpenStudio::Analysis::WorkflowStep:0x000000000d0a5a20 @name=\"general_calibration_measure_percent_change\", @display_name=\"General Calibration Measure Percent Change\", @type=\"ModelMeasure\", @measure_definition_class_name=\"GeneralCalibrationMeasurePercentChange\", @measure_definition_directory=\"./measures/GeneralCalibrationMeasurePercentChange\", @measure_definition_directory_local=\"C:/Projects/Notebooks/osw_project/measures/GeneralCalibrationMeasurePercentChange\", @measure_definition_display_name=\"General Calibration Measure Percent Change\", @measure_definition_name=\"general_calibration_measure_percent_change\", @measure_definition_name_xml=nil, @measure_definition_uuid=\"0f583ac1-fa7e-48bc-9f80-12ed17180669\", @measure_definition_version_uuid=\"b90bd230-116d-4a1a-be73-eec73504b1da\", @uuid=\"0f583ac1-fa7e-48bc-9f80-12ed17180669\", @version_uuid=\"b90bd230-116d-4a1a-be73-eec73504b1da\", @description=\"This is a general purpose measure to calibrate space and space type elements with a percent change.\", @arguments=[{:display_name=>\"Skip Entire Measure\", :display_name_short=>\"Skip\", :name=>\"__SKIP__\", :value_type=>\"boolean\", :default_value=>false, :value=>false}, {:display_name=>\"Apply the Measure to a SINGLE SpaceType, ALL the SpaceTypes or NONE.\", :display_name_short=>\"Apply the Measure to a SINGLE SpaceType, ALL the SpaceTypes or NONE.\", :name=>\"space_type\", :value_type=>\"string\", :default_value=>\"{111cb5c7-730b-4e08-8229-2bba712e75b6}\", :value=>\"*All SpaceTypes*\"}, {:display_name=>\"Apply the Measure to a SINGLE Space, ALL the Spaces or NONE.\", :display_name_short=>\"Apply the Measure to a SINGLE Space, ALL the Spaces or NONE.\", :name=>\"space\", :value_type=>\"string\", :default_value=>\"{111cb5c7-730b-4e08-8229-2bba712e75b6}\", :value=>\"*All Spaces*\"}, {:display_name=>\"Percent Change in the default Lights Definition.\", :display_name_short=>\"Percent Change in the default Lights Definition.\", :name=>\"lights_perc_change\", :value_type=>\"double\", :default_value=>0.0, :value=>10.0}, {:display_name=>\"Percent Change in the default Luminaire Definition.\", :display_name_short=>\"Percent Change in the default Luminaire Definition.\", :name=>\"luminaire_perc_change\", :value_type=>\"double\", :default_value=>0.0, :value=>0.0}, {:display_name=>\"Percent Change in the default Electric Equipment Definition.\", :display_name_short=>\"Percent Change in the default Electric Equipment Definition.\", :name=>\"ElectricEquipment_perc_change\", :value_type=>\"double\", :default_value=>0.0, :value=>10.0}, {:display_name=>\"Percent Change in the default Gas Equipment Definition.\", :display_name_short=>\"Percent Change in the default Gas Equipment Definition.\", :name=>\"GasEquipment_perc_change\", :value_type=>\"double\", :default_value=>0.0, :value=>0.0}, {:display_name=>\"Percent Change in the default OtherEquipment Definition.\", :display_name_short=>\"Percent Change in the default OtherEquipment Definition.\", :name=>\"OtherEquipment_perc_change\", :value_type=>\"double\", :default_value=>0.0, :value=>0.0}, {:display_name=>\"Percent Change in the default People Definition.\", :display_name_short=>\"Percent Change in the default People Definition.\", :name=>\"people_perc_change\", :value_type=>\"double\", :default_value=>0.0, :value=>0.0}, {:display_name=>\"Percent Change in the default Internal Mass Definition.\", :display_name_short=>\"Percent Change in the default Internal Mass Definition.\", :name=>\"mass_perc_change\", :value_type=>\"double\", :default_value=>0.0, :value=>0.0}, {:display_name=>\"Percent Change in the default Design Infiltration Outdoor Air.\", :display_name_short=>\"Percent Change in the default Design Infiltration Outdoor Air.\", :name=>\"infil_perc_change\", :value_type=>\"double\", :default_value=>0.0, :value=>0.0}, {:display_name=>\"Percent Change in the default Design Specification Outdoor Air.\", :display_name_short=>\"Percent Change in the default Design Specification Outdoor Air.\", :name=>\"vent_perc_change\", :value_type=>\"double\", :default_value=>0.0, :value=>0.0}], @variables=[{:argument=>{:display_name=>\"Percent Change in the default Lights Definition.\", :display_name_short=>\"Percent Change in the default Lights Definition.\", :name=>\"lights_perc_change\", :value_type=>\"double\", :default_value=>0.0, :value=>10.0}, :display_name=>\"Lights Percent Change\", :display_name_short=>\"Lights Percent Change\", :variable_type=>\"variable\", :units=>nil, :minimum=>-50, :maximum=>50, :relation_to_output=>nil, :uuid=>\"0ba6703b-220c-47d7-9143-f3937ebcd1cf\", :version_uuid=>\"fa83c5ba-aa57-4698-ab40-4ec0de06a185\", :variable=>true, :static_value=>0.0, :uncertainty_description=>{:type=>\"uniform\", :attributes=>[{:name=>\"lower_bounds\", :value=>-50}, {:name=>\"upper_bounds\", :value=>50}, {:name=>\"modes\", :value=>0}, {:name=>\"delta_x\", :value=>nil}, {:name=>\"stddev\", :value=>nil}]}, :workflow_index=>0}, {:argument=>{:display_name=>\"Percent Change in the default Electric Equipment Definition.\", :display_name_short=>\"Percent Change in the default Electric Equipment Definition.\", :name=>\"ElectricEquipment_perc_change\", :value_type=>\"double\", :default_value=>0.0, :value=>10.0}, :display_name=>\"Electric Equipment Percent Change\", :display_name_short=>\"Electric Equipment Percent Change\", :variable_type=>\"variable\", :units=>nil, :minimum=>-50, :maximum=>50, :relation_to_output=>nil, :uuid=>\"6fc99c59-c0bd-4358-9b0c-6438f673b919\", :version_uuid=>\"e8b31600-c5a6-478c-ab54-e809b3a6999e\", :variable=>true, :static_value=>0.0, :uncertainty_description=>{:type=>\"uniform\", :attributes=>[{:name=>\"lower_bounds\", :value=>-50}, {:name=>\"upper_bounds\", :value=>50}, {:name=>\"modes\", :value=>0}, {:name=>\"delta_x\", :value=>nil}, {:name=>\"stddev\", :value=>nil}]}, :workflow_index=>1}]>, #<OpenStudio::Analysis::WorkflowStep:0x000000000b8e4c88 @name=\"openstudio_results\", @display_name=\"OpenStudio Results\", @type=\"ReportingMeasure\", @measure_definition_class_name=\"OpenStudioResults\", @measure_definition_directory=\"./measures/openstudio_results\", @measure_definition_directory_local=\"C:/Projects/Notebooks/osw_project/measures/openstudio_results\", @measure_definition_display_name=\"OpenStudio Results\", @measure_definition_name=\"openstudio_results\", @measure_definition_name_xml=nil, @measure_definition_uuid=\"a25386cd-60e4-46bc-8b11-c755f379d916\", @measure_definition_version_uuid=\"a645a12a-7d6b-4f0f-a549-e4f13f26e499\", @uuid=\"a25386cd-60e4-46bc-8b11-c755f379d916\", @version_uuid=\"a645a12a-7d6b-4f0f-a549-e4f13f26e499\", @description=\"This measure creates high level tables and charts pulling both from model inputs and EnergyPlus results. It has building level information as well as detail on space types, thermal zones, HVAC systems, envelope characteristics, and economics. Click the heading above a chart to view a table of the chart data.\", @arguments=[{:display_name=>\"Skip Entire Measure\", :display_name_short=>\"Skip\", :name=>\"__SKIP__\", :value_type=>\"boolean\", :default_value=>false, :value=>false}, {:display_name=>\"Which Unit System do you want to use?\", :display_name_short=>\"Which Unit System do you want to use?\", :name=>\"units\", :value_type=>\"string\", :default_value=>\"IP\", :value=>\"IP\"}, {:display_name=>\"Model Summary\", :display_name_short=>\"Model Summary\", :name=>\"building_summary_section\", :value_type=>\"boolean\", :default_value=>true, :value=>true}, {:display_name=>\"Annual Overview\", :display_name_short=>\"Annual Overview\", :name=>\"annual_overview_section\", :value_type=>\"boolean\", :default_value=>true, :value=>true}, {:display_name=>\"Monthly Overview\", :display_name_short=>\"Monthly Overview\", :name=>\"monthly_overview_section\", :value_type=>\"boolean\", :default_value=>true, :value=>true}, {:display_name=>\"Utility Bills/Rates\", :display_name_short=>\"Utility Bills/Rates\", :name=>\"utility_bills_rates_section\", :value_type=>\"boolean\", :default_value=>true, :value=>true}, {:display_name=>\"Envelope Summary\", :display_name_short=>\"Envelope Summary\", :name=>\"envelope_section_section\", :value_type=>\"boolean\", :default_value=>true, :value=>true}, {:display_name=>\"Space Type Breakdown\", :display_name_short=>\"Space Type Breakdown\", :name=>\"space_type_breakdown_section\", :value_type=>\"boolean\", :default_value=>true, :value=>true}, {:display_name=>\"Space Type Summary\", :display_name_short=>\"Space Type Summary\", :name=>\"space_type_details_section\", :value_type=>\"boolean\", :default_value=>true, :value=>true}, {:display_name=>\"Interior Lighting Summary\", :display_name_short=>\"Interior Lighting Summary\", :name=>\"interior_lighting_section\", :value_type=>\"boolean\", :default_value=>true, :value=>true}, {:display_name=>\"Plug Loads Summary\", :display_name_short=>\"Plug Loads Summary\", :name=>\"plug_loads_section\", :value_type=>\"boolean\", :default_value=>true, :value=>true}, {:display_name=>\"Exterior Lighting\", :display_name_short=>\"Exterior Lighting\", :name=>\"exterior_light_section\", :value_type=>\"boolean\", :default_value=>true, :value=>true}, {:display_name=>\"Water Use Equipment\", :display_name_short=>\"Water Use Equipment\", :name=>\"water_use_section\", :value_type=>\"boolean\", :default_value=>true, :value=>true}, {:display_name=>\"HVAC Load Profiles\", :display_name_short=>\"HVAC Load Profiles\", :name=>\"hvac_load_profile\", :value_type=>\"boolean\", :default_value=>true, :value=>true}, {:display_name=>\"Zone Conditions\", :display_name_short=>\"Zone Conditions\", :name=>\"zone_condition_section\", :value_type=>\"boolean\", :default_value=>true, :value=>true}, {:display_name=>\"Zone Overview\", :display_name_short=>\"Zone Overview\", :name=>\"zone_summary_section\", :value_type=>\"boolean\", :default_value=>true, :value=>true}, {:display_name=>\"Zone Equipment Detail\", :display_name_short=>\"Zone Equipment Detail\", :name=>\"zone_equipment_detail_section\", :value_type=>\"boolean\", :default_value=>true, :value=>true}, {:display_name=>\"Air Loops Detail\", :display_name_short=>\"Air Loops Detail\", :name=>\"air_loops_detail_section\", :value_type=>\"boolean\", :default_value=>true, :value=>true}, {:display_name=>\"Plant Loops Detail\", :display_name_short=>\"Plant Loops Detail\", :name=>\"plant_loops_detail_section\", :value_type=>\"boolean\", :default_value=>true, :value=>true}, {:display_name=>\"Outdoor Air\", :display_name_short=>\"Outdoor Air\", :name=>\"outdoor_air_section\", :value_type=>\"boolean\", :default_value=>true, :value=>true}, {:display_name=>\"Cash Flow\", :display_name_short=>\"Cash Flow\", :name=>\"cost_summary_section\", :value_type=>\"boolean\", :default_value=>true, :value=>true}, {:display_name=>\"Site and Source Summary\", :display_name_short=>\"Site and Source Summary\", :name=>\"source_energy_section\", :value_type=>\"boolean\", :default_value=>true, :value=>true}, {:display_name=>\"Schedule Overview\", :display_name_short=>\"Schedule Overview\", :name=>\"schedules_overview_section\", :value_type=>\"boolean\", :default_value=>true, :value=>true}, {:display_name=>\"Measure Warnings\", :display_name_short=>\"Measure Warnings\", :name=>\"measure_warning_section\", :value_type=>\"boolean\", :default_value=>true, :value=>true}, {:display_name=>\"Report monthly fuel and enduse breakdown to registerValue\", :display_name_short=>\"Report monthly fuel and enduse breakdown to registerValue\", :name=>\"reg_monthly_details\", :value_type=>\"boolean\", :default_value=>false, :value=>false}], @variables=[]>]"
      ]
     },
     "execution_count": 7,
     "metadata": {},
     "output_type": "execute_result"
    }
   ],
   "source": [
    "analysis.save_osa_zip('analysis.zip')"
   ]
  },
  {
   "cell_type": "code",
   "execution_count": null,
   "id": "c0da9505-d62e-425a-96f1-fdc479f67bb0",
   "metadata": {},
   "outputs": [],
   "source": []
  }
 ],
 "metadata": {
  "kernelspec": {
   "display_name": "Ruby 2.7.2",
   "language": "ruby",
   "name": "ruby"
  },
  "language_info": {
   "file_extension": ".rb",
   "mimetype": "application/x-ruby",
   "name": "ruby",
   "version": "2.7.2"
  }
 },
 "nbformat": 4,
 "nbformat_minor": 5
}
