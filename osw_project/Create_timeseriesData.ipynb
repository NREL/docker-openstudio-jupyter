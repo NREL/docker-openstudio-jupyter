{
 "cells": [
  {
   "cell_type": "markdown",
   "id": "ea981983-420a-4987-8af8-faf7f3d19656",
   "metadata": {},
   "source": [
    "**Create a Baseline Model and OpenStudio Workflow (OSW)**\n",
    "\n",
    "The OpenStudio SDK is a software development kit for building, simulating, and analyzing building performance. It provides a platform for modeling energy use, thermal comfort, indoor air quality, and other aspects of building performance. The OpenStudio Workflow (OSW) is a way to programmatically make changes to an OpenStudio Model using Measures. Measures are pre-packaged scripts that make specific changes to the model, such as adding windows, changing the orientation of the building, or changing the construction of walls.  They can be sourced from the OpenStudio Building Component Library or from the measure gems. The OSW provides a way to automate a series of Measures in a sequential manner, creating a repeatable and scalable method for modeling building performance. The OpenStudio Command Line Interface (CLI) allows you to run the Model using a command line interface, providing a powerful tool for automating workflows, large scale simulations, and data analysis.\n",
    "\n",
    "To begin, load the 'openstudio' Ruby bindings to the SDK as well as 'fileutils' for basic file/directory manipulation."
   ]
  },
  {
   "cell_type": "code",
   "execution_count": 1,
   "id": "8650a7c3-0a0f-424d-8c34-594153d77a9e",
   "metadata": {},
   "outputs": [
    {
     "data": {
      "text/plain": [
       "true"
      ]
     },
     "execution_count": 1,
     "metadata": {},
     "output_type": "execute_result"
    }
   ],
   "source": [
    "require 'fileutils'\n",
    "require 'openstudio'"
   ]
  },
  {
   "cell_type": "markdown",
   "id": "e1b5625a-8e46-4804-8223-bf38ce174e53",
   "metadata": {},
   "source": [
    "Create a folder named Baseline in the current working directory, and ensures that it only gets created if it does not already exist. The FileUtils.mkdir_p method creates the directory, and the Dir.exist? method checks for its existence before creating it."
   ]
  },
  {
   "cell_type": "code",
   "execution_count": 2,
   "id": "213b2078-b736-4e38-a910-ce3fde49d446",
   "metadata": {},
   "outputs": [],
   "source": [
    "project_dir = 'Timeseries'\n",
    "#create project folder\n",
    "FileUtils.mkdir_p(\"#{project_dir}\") unless Dir.exist?(\"#{project_dir}\")"
   ]
  },
  {
   "cell_type": "markdown",
   "id": "95ca280e-70f1-4987-9281-68ceeabdfc2c",
   "metadata": {},
   "source": [
    "Change the working directory to the Baseline folder to make it the current directory for file operations. The Dir.chdir method sets the current working directory to the specified folder. This is useful when you want to perform file operations in a specific directory, rather than the current working directory."
   ]
  },
  {
   "cell_type": "code",
   "execution_count": 3,
   "id": "3223eabd-07e7-471d-a55b-a84573d110b8",
   "metadata": {},
   "outputs": [
    {
     "data": {
      "text/plain": [
       "0"
      ]
     },
     "execution_count": 3,
     "metadata": {},
     "output_type": "execute_result"
    }
   ],
   "source": [
    "#change working directory\n",
    "Dir.chdir \"#{project_dir}\""
   ]
  },
  {
   "cell_type": "markdown",
   "id": "7458f58e-6a4f-4c5d-ae00-95852a255cf1",
   "metadata": {},
   "source": [
    "Create an example model using OpenStudio::Model.exampleModel and saves it in the \"seeds\" directory as an OSM file. The directory is created with FileUtils.mkdir_p if it doesn't exist. The file path is created with OpenStudio::Path.new and the model is saved with model.save, with the second argument 'true' meaning it can overwrite an existing file."
   ]
  },
  {
   "cell_type": "code",
   "execution_count": 4,
   "id": "43097da2-3aab-42cf-a9c8-1947dddf6ae0",
   "metadata": {},
   "outputs": [
    {
     "data": {
      "text/plain": [
       "true"
      ]
     },
     "execution_count": 4,
     "metadata": {},
     "output_type": "execute_result"
    }
   ],
   "source": [
    "\n",
    "# Create the Example Model\n",
    "model = OpenStudio::Model.exampleModel()\n",
    "\n",
    "#create directory for the seed model\n",
    "FileUtils.mkdir_p(\"seeds\") unless Dir.exist?(\"seeds\")\n",
    "# Save the model to an OSM file\n",
    "osm_path = OpenStudio::Path.new(File.expand_path(\"seeds/example_model_3_6_1.osm\"))\n",
    "model.save(osm_path, true)\n"
   ]
  },
  {
   "cell_type": "markdown",
   "id": "068784c2-64d7-4e91-9e2c-9e8022a4800f",
   "metadata": {},
   "source": [
    "download the weather file 'USA_CO_Golden-NREL.724666_TMY3.epw' and save it in the \"weather\" directory, checking first if the file already exists locally to avoid redownloading it."
   ]
  },
  {
   "cell_type": "code",
   "execution_count": 5,
   "id": "84ebd7ed-360e-4182-b853-fbb694a68081",
   "metadata": {},
   "outputs": [
    {
     "name": "stdout",
     "output_type": "stream",
     "text": [
      "copy the file SRRL_2013AMY_60min.epw\n"
     ]
    }
   ],
   "source": [
    "#get weather file\n",
    "\n",
    "# Local file name\n",
    "weather_file_name = 'SRRL_2013AMY_60min.epw'\n",
    "saved_weather_file_path = \"../weather/\" + weather_file_name\n",
    "weather_file_path = \"weather/#{weather_file_name}\"\n",
    "\n",
    "#create directory for the weather file\n",
    "FileUtils.mkdir_p(\"weather\") unless Dir.exist?(\"weather\")\n",
    "\n",
    "if !File.exist?(\"#{weather_file_path}\")\n",
    "    puts \"copy the file #{weather_file_name}\"\n",
    "    FileUtils.cp_r(\"#{saved_weather_file_path}\", \"#{weather_file_path}\")\n",
    "else\n",
    "    puts 'weather file exists locally'\n",
    "end\n"
   ]
  },
  {
   "cell_type": "markdown",
   "id": "b84d77f1-35c3-46a3-95ec-e169fe83720a",
   "metadata": {},
   "source": [
    "set a weather file in the OSM model.\n",
    "\n",
    "Load the weather file into OpenStudio using the OpenStudio::EpwFile.load method and passing the file path, which is constructed using OpenStudio::Path.new and File.expand_path to obtain the absolute path of the weather file.\n",
    "\n",
    "The weather file is then set in the model using the OpenStudio::Model::WeatherFile::setWeatherFile method, which takes the model and the weather file as arguments. The code then retrieves the weather file using model.getWeatherFile and assigns it to a variable weatherFile.\n",
    "\n",
    "Finally, the code validates the weather file by checking three properties: the checksum, the country, and the state/province/region. The checksum property is compared to the string 'BDF687C1' using puts weatherFile.checksum.get == 'BDF687C1', the country property is compared to the string 'USA' using puts weatherFile.country == 'USA', and the stateProvinceRegion property is compared to the string 'CO' using puts weatherFile.stateProvinceRegion == 'CO'.\n",
    "\n",
    "In summary, the code sets a weather file in the OSM model, retrieves it, and validates it by checking three of its properties."
   ]
  },
  {
   "cell_type": "code",
   "execution_count": 6,
   "id": "f0c61cb1-a213-41d1-8a76-75cc482a16a9",
   "metadata": {},
   "outputs": [
    {
     "name": "stdout",
     "output_type": "stream",
     "text": [
      "false\n",
      "true\n",
      "true\n"
     ]
    }
   ],
   "source": [
    "#set the weather file in the OSM\n",
    "#use absolute path\n",
    "epw_file = OpenStudio::EpwFile.load(OpenStudio::Path.new(File.expand_path(weather_file_path)))\n",
    "OpenStudio::Model::WeatherFile::setWeatherFile(model, epw_file.get)\n",
    "weatherFile = model.getWeatherFile\n",
    "# validate the weather file\n",
    "puts weatherFile.checksum.get == '7AC1BB48'\n",
    "puts weatherFile.country == 'USA'\n",
    "puts weatherFile.stateProvinceRegion == 'CO'\n"
   ]
  },
  {
   "cell_type": "markdown",
   "id": "da1030af-c851-4ea6-868e-938ca8c76af4",
   "metadata": {},
   "source": [
    "use the 'Open3' library to make a system call to the OpenStudio command-line interface (CLI) and check its version. The CLI path is stored in the 'cli' variable and the system call is made using the 'capture3' method of the 'Open3' module, which captures the standard output, standard error, and exit status of the system command. The result of the system call is checked using the 'status.success?' method, and if it is successful, the standard output is printed to the console. If it fails, the standard error is printed instead."
   ]
  },
  {
   "cell_type": "code",
   "execution_count": 7,
   "id": "e518c626-69bb-40bd-8a5f-b73ce9f9abfa",
   "metadata": {},
   "outputs": [
    {
     "name": "stdout",
     "output_type": "stream",
     "text": [
      "Command executed successfully\n",
      "3.6.1+bb9481519e\n"
     ]
    }
   ],
   "source": [
    "require 'open3'\n",
    "\n",
    "#get path to OpenStudio CLI\n",
    "cli = OpenStudio.getOpenStudioCLI.to_s\n",
    "\n",
    "# Make a system call to get version\n",
    "stdout, stderr, status = Open3.capture3(\"#{cli} --version\")\n",
    "\n",
    "# Check the result\n",
    "if status.success?\n",
    "  puts \"Command executed successfully\"\n",
    "  puts stdout\n",
    "else\n",
    "  puts \"Command failed\"\n",
    "  puts stderr\n",
    "end"
   ]
  },
  {
   "cell_type": "markdown",
   "id": "89d2357f-db4d-46c6-a3c5-163450888038",
   "metadata": {},
   "source": [
    "require the \"openstudio-calibration\" and \"openstudio-common-measures\" ruby gems. These gems contain pre-written scripts (OpenStudio Measures) that can make programmatic changes to an OpenStudio model, that we want to use in our project. Use the \"Gem::Specification\" method or the \"Gem.find_files\" method to find the local path to the /lib folder of the gem which is where the Measures are located. These paths are then stored in the variables \"calibration_measures_dir\" and \"common_measures_dir\"."
   ]
  },
  {
   "cell_type": "code",
   "execution_count": 8,
   "id": "2c285e0d-8f00-45dc-80b4-d4cf11dc0a0c",
   "metadata": {},
   "outputs": [
    {
     "name": "stdout",
     "output_type": "stream",
     "text": [
      "C:/Ruby27-x64/lib/ruby/gems/2.7.0/gems/openstudio-common-measures-0.8.0/lib\n"
     ]
    },
    {
     "data": {
      "text/plain": [
       "\"C:/Ruby27-x64/lib/ruby/gems/2.7.0/gems/openstudio-calibration-0.8.0\""
      ]
     },
     "execution_count": 8,
     "metadata": {},
     "output_type": "execute_result"
    }
   ],
   "source": [
    "require 'openstudio-calibration'\n",
    "require 'openstudio-common-measures'\n",
    "\n",
    "#find path to the Measures\n",
    "puts Pathname.new(Gem.find_files('openstudio-common-measures.rb').first).dirname\n",
    "# -or-\n",
    "#find path to Measures using gem::spec\n",
    "common_measures_dir = Gem::Specification.find_by_name(\"openstudio-common-measures\").gem_dir\n",
    "calibration_measures_dir = Gem::Specification.find_by_name(\"openstudio-calibration\").gem_dir"
   ]
  },
  {
   "cell_type": "markdown",
   "id": "3d016ac5-bf13-4c3e-bf19-71e80e28c216",
   "metadata": {},
   "source": [
    "copy the OpenStudio Measures from the openstudio-common-measures and openstudio-calibration gems into a local project directory called \"measures\". The purpose of this is to make these scripts available for use in the current project. The measures copied include \"openstudio_results\", \"AddMonthlyJSONUtilityData\", \"CalibrationReportsEnhanced\", and \"GeneralCalibrationMeasurePercentChange\"."
   ]
  },
  {
   "cell_type": "code",
   "execution_count": 9,
   "id": "6f7e3904-ec84-4dea-88c4-4d273f399dbb",
   "metadata": {},
   "outputs": [],
   "source": [
    "#make measure directories for the project\n",
    "\n",
    "FileUtils.mkdir_p(\"measures\") unless Dir.exist?(\"measures\")\n",
    "\n",
    "#copy measure from gem to local project directory\n",
    "FileUtils.cp_r(\"#{common_measures_dir}/lib/measures/openstudio_results\", \"measures\")\n",
    "FileUtils.cp_r(\"#{common_measures_dir}/lib/measures/RunPeriod\", \"measures\")\n",
    "FileUtils.cp_r(\"../measures/create_csv_output\", \"measures\")\n",
    "FileUtils.cp_r(\"../measures/TimeseriesObjectiveFunction\", \"measures\")\n",
    "FileUtils.cp_r(\"#{calibration_measures_dir}/lib/measures/GeneralCalibrationMeasurePercentChange\", \"measures\")"
   ]
  },
  {
   "cell_type": "markdown",
   "id": "6d8e4da6-3b86-46e9-9e44-ca040159c217",
   "metadata": {},
   "source": [
    "create a project directory named \"data\" if it doesn't already exist, and then copies the monthly metered data in the \"Data\" directory located outside of the project folder to the newly created \"data\" folder within the project folder. The data that is being copied is in JSON format."
   ]
  },
  {
   "cell_type": "code",
   "execution_count": 10,
   "id": "8d47941c-d817-4128-8784-7890ab627925",
   "metadata": {},
   "outputs": [
    {
     "data": {
      "text/plain": [
       "[\"data\"]"
      ]
     },
     "execution_count": 10,
     "metadata": {},
     "output_type": "execute_result"
    }
   ],
   "source": [
    "#make directory for the calibration data\n",
    "FileUtils.mkdir_p(\"data\") unless Dir.exist?(\"data\")\n",
    "\n",
    "#copy JSON data to local project directory\n",
    "#FileUtils.cp_r(\"../Data/.\", \"data\")"
   ]
  },
  {
   "cell_type": "code",
   "execution_count": null,
   "id": "eed706ee-03dc-46d5-ad3c-c799011af681",
   "metadata": {},
   "outputs": [],
   "source": []
  },
  {
   "cell_type": "markdown",
   "id": "e358f4ce-6c3b-4806-b1ba-428c0d98a63d",
   "metadata": {},
   "source": [
    "The OpenStudio Workflow (OSW) format is a JSON file format that describes a simulation workflow. In an OpenStudio Workflow, a seed OpenStudio Model is loaded. OpenStudio Model Measures are applied to the seed model. After these measures, the OpenStudio Model is translated to EnergyPlus IDF format. Once in EnergyPlus IDF format, OpenStudio EnergyPlus Measures are applied. After these measures, the EnergyPlus simulation is executed. Once the EnergyPlus simulation is complete, OpenStudio Reporting Measures are applied which generate reports. An error at any point in the workflow will halt the workflow. Once the workflow is completed (successfully or unsuccessfully) an output OSW file is written which contains output related to running the workflow.\n",
    "\n",
    "create a WorkflowJSON object which will be turned into our OSW json file."
   ]
  },
  {
   "cell_type": "code",
   "execution_count": 11,
   "id": "7517dcea-ee83-405a-8daa-c403c11e45a1",
   "metadata": {},
   "outputs": [
    {
     "data": {
      "text/plain": [
       "#<OpenStudio::WorkflowJSON:0x0000000006dcb210 @__swigtype__=\"_p_openstudio__WorkflowJSON\">"
      ]
     },
     "execution_count": 11,
     "metadata": {},
     "output_type": "execute_result"
    }
   ],
   "source": [
    "# Create a new OSW\n",
    "osw = OpenStudio::WorkflowJSON.new\n"
   ]
  },
  {
   "cell_type": "markdown",
   "id": "73d8ffc3-1779-4336-81cb-51cbc15d6771",
   "metadata": {},
   "source": [
    "Each step listed in the OSW file describes an OpenStudio Measure to apply. Measures are applied in order and must progress from OpenStudio Model Measures to OpenStudio EnergyPlus Measures to OpenStudio Reporting Measures. Each step lists a measure_dir_name which is the directory name of an OpenStudio Measure to apply. Measures are found at run time according to logic in WorkflowJSON::findMeasure. Each step specifies arguments to be passed to the measure, the measure argument's name is the key and the value to pass is the measure. Optional arguments may be ommitted, default values will be used in this case. The value passed to choice arguments may be either a valid choice value or a valid choice value display name.\n",
    "\n",
    "set up two Model measure steps to be run on our OpenStudio model. The first measure step is to add the electricity bill data from an external JSON file (electric.json) to the OpenStudio model, and the second measure step is to add the gas bill data from another JSON file (natural_gas.json) to the model. The arguments to these measure steps set the details of the data to be added, such as the fuel type, consumption unit, data key name, start and end dates, etc. The measure steps are then set as model measure steps in the OpenStudio Workflow (OSW) object.\n",
    "\n",
    "The AddMonthlyJSONUtilityData Measure populates a UtilityBill object in the OpenStudio Model using external JSON data.  The argument called 'json' is the file path, relative to the Measure at runtime, to the json data.  We have previously copied those jsons to the /data project folder.  At runtime there are two case to consider.  The first is if this run is taking place on an OS-Server or (OSAF) instance, where the project data is zipped up into an OSA.zip file and posted to the OS-Server Web node.  In this case, the relative path to the data would be:  \n",
    "\n",
    "**on the server:** '../../../lib/calibration_data/electric_json.json'\n",
    "\n",
    "Since we are running locally using the OpenStudio CLI, the path from the runtime copy of the Measure to the data is:       \n",
    "\n",
    "**CLI run:** '../../../data/electric.json'\n",
    "\n",
    "and that is what we will set the argument 'json' to.  \n",
    "\n",
    "In the first application of the Measure, we want to remove any exisitng UtilityBill objects in the model, so we set 'remove_existing_data' to True. We also want to set the Run Period object in the model to the Start and End dates that we have specified in the Measure. Add that MeasureStep to the measure_step array.\n",
    "\n",
    "In the second application of the Measure, we do not want to remove the existing UtilityBill object we previously setup, so that argument is now False.  The Run Period object is also already setup, so there is no need to set it since its default value is False. Add that MeasureStep to the measure_step array.\n",
    "\n",
    "Finally, add the model measure steps to the OSW (OpenStudio Workflow) object. The measure type is defined as a \"ModelMeasure\" and the measure steps are passed as arguments to the setMeasureSteps method of the OSW object."
   ]
  },
  {
   "cell_type": "code",
   "execution_count": 12,
   "id": "3198a273-7180-4374-b9ea-e081dfd569c7",
   "metadata": {},
   "outputs": [
    {
     "data": {
      "text/plain": [
       "true"
      ]
     },
     "execution_count": 12,
     "metadata": {},
     "output_type": "execute_result"
    }
   ],
   "source": [
    "# Define the model measure steps\n",
    "measure_steps = []\n",
    "\n",
    "#add Utility Bill object to model from external JSON file\n",
    "os_results = OpenStudio::MeasureStep.new(\"measures/RunPeriod\")\n",
    "os_results.setArgument(\"runPeriodName\",\"July 25\")\n",
    "os_results.setArgument(\"start_date\",\"2013-7-25\")\n",
    "os_results.setArgument(\"end_date\",\"2013-7-25\")\n",
    "measure_steps << os_results\n",
    "\n",
    "# Add the measure steps to the OSW\n",
    "measure_type = OpenStudio::MeasureType.new(\"ModelMeasure\")\n",
    "osw.setMeasureSteps(measure_type, measure_steps)"
   ]
  },
  {
   "cell_type": "markdown",
   "id": "777200a1-fdbd-4080-9a74-10a3fbf2755e",
   "metadata": {},
   "source": [
    "Add two reporting measures to be run as part of the OpenStudio Workflow (OSW): \"measures/openstudio_results\" and \"measures/CalibrationReportsEnhanced\". These reporting measures are added to the array reporting_steps and then set in the OSW object osw by creating a new MeasureType object with the type \"ReportingMeasure\" and calling the setMeasureSteps method on osw with this MeasureType object and the reporting_steps array."
   ]
  },
  {
   "cell_type": "code",
   "execution_count": 13,
   "id": "cac8b5b5-54aa-4766-a87a-1aa803f8dda4",
   "metadata": {},
   "outputs": [
    {
     "data": {
      "text/plain": [
       "true"
      ]
     },
     "execution_count": 13,
     "metadata": {},
     "output_type": "execute_result"
    }
   ],
   "source": [
    "# Define the reporting measure steps\n",
    "reporting_steps = []\n",
    "\n",
    "os_results = OpenStudio::MeasureStep.new(\"measures/create_csv_output\")\n",
    "os_results.setArgument(\"reporting_frequency\",\"Hourly\")\n",
    "reporting_steps << os_results\n",
    "\n",
    "#add openstudio_results to the reporting_steps array\n",
    "os_results = OpenStudio::MeasureStep.new(\"measures/openstudio_results\")\n",
    "reporting_steps << os_results\n",
    "\n",
    "#os_results = OpenStudio::MeasureStep.new(\"measures/CalibrationReportsEnhanced\")\n",
    "#reporting_steps << os_results\n",
    "\n",
    "# Set the measure steps in the OSW\n",
    "measure_type = OpenStudio::MeasureType.new(\"ReportingMeasure\")\n",
    "osw.setMeasureSteps(measure_type, reporting_steps)"
   ]
  },
  {
   "cell_type": "markdown",
   "id": "e0b00ccd-2f01-4972-8f07-fe813374f274",
   "metadata": {},
   "source": [
    "Add the example_model OSM we generated earlier as the 'seed' model and set the weatherfile in the OSW.\n",
    "Also, save the OSW as 'baseline_model.osw' by creating a full, absolute path to the file name and use the .saveAs() method."
   ]
  },
  {
   "cell_type": "code",
   "execution_count": 14,
   "id": "70e5df6a-5e89-4d0c-842b-2b8dcbd8f1cc",
   "metadata": {},
   "outputs": [
    {
     "data": {
      "text/plain": [
       "true"
      ]
     },
     "execution_count": 14,
     "metadata": {},
     "output_type": "execute_result"
    }
   ],
   "source": [
    "#add seed / weatherfile to OSW\n",
    "osw.setSeedFile(osm_path)\n",
    "osw.setWeatherFile(weather_file_path)\n",
    "#save file locally\n",
    "osw_path = OpenStudio::Path.new(File.expand_path(\"baseline_model.osw\"))\n",
    "osw.saveAs(osw_path)"
   ]
  },
  {
   "cell_type": "markdown",
   "id": "80ba305e-dcf9-41b1-9945-09dfe94ea3ad",
   "metadata": {},
   "source": [
    "Since this is in Ruby and the CLI is an executable, to run the workflow using the CLI, we will use the Open3.capture3 method to make a System Call to the CLI, which captures the standard output, standard error, and status code of the CLI command. The CLI command runs the workflow, specifying the workflow file path, and the --debug and --workflow options are passed to the CLI. Finally, the status code of the CLI command is stored in the status variable."
   ]
  },
  {
   "cell_type": "code",
   "execution_count": 15,
   "id": "a8b8038f-d7f0-4905-bb54-c8a75062cabf",
   "metadata": {},
   "outputs": [
    {
     "data": {
      "text/plain": [
       "#<Process::Status: pid 35008 exit 0>"
      ]
     },
     "execution_count": 15,
     "metadata": {},
     "output_type": "execute_result"
    }
   ],
   "source": [
    "#Run the workflow\n",
    "stdout, stderr, status = Open3.capture3(\"#{cli} run --debug --workflow #{osw_path}\")\n",
    "status"
   ]
  },
  {
   "cell_type": "markdown",
   "id": "483bb101-4bb3-475c-ad0a-839defd143d6",
   "metadata": {},
   "source": [
    "To view the results, set the file path to an HTML report generated by the \"CalibrationReportsEnhanced\" measure and display the contents of the file using IRuby's display method. The argument passed to the display method is the content of the file read using Ruby's File.read method, and the mime type is specified as 'text/html' to indicate that the contents are HTML. This code assumes that the file exists and will raise an error if it cannot be found or read."
   ]
  },
  {
   "cell_type": "code",
   "execution_count": 16,
   "id": "67cb9a47-dd62-4f16-a938-47de9a97293d",
   "metadata": {
    "tags": []
   },
   "outputs": [],
   "source": [
    "file_path = File.expand_path(Dir.pwd + '/run/001_measures/create_csv_output/report_variables_Hourly.csv')\n",
    "FileUtils.cp_r(\"#{file_path}\", \"./timeseries_data.csv\")\n"
   ]
  },
  {
   "cell_type": "markdown",
   "id": "daa3e6b3-8b29-4323-95b9-adc40e83f34d",
   "metadata": {},
   "source": [
    "or launch in an external browser like chrome, etc"
   ]
  },
  {
   "cell_type": "code",
   "execution_count": 17,
   "id": "313ed55d-d872-4651-a91f-268e8608b8d3",
   "metadata": {},
   "outputs": [],
   "source": [
    "#Open3.popen3(\"start chrome.exe #{file_path}\")"
   ]
  },
  {
   "cell_type": "code",
   "execution_count": null,
   "id": "5a3bee79-5a26-4f96-976a-91138d2fee64",
   "metadata": {},
   "outputs": [],
   "source": []
  },
  {
   "cell_type": "code",
   "execution_count": null,
   "id": "d1084205-427e-40c9-9552-e15a302de729",
   "metadata": {},
   "outputs": [],
   "source": []
  }
 ],
 "metadata": {
  "kernelspec": {
   "display_name": "Ruby 2.7.2",
   "language": "ruby",
   "name": "ruby"
  },
  "language_info": {
   "file_extension": ".rb",
   "mimetype": "application/x-ruby",
   "name": "ruby",
   "version": "2.7.2"
  }
 },
 "nbformat": 4,
 "nbformat_minor": 5
}
