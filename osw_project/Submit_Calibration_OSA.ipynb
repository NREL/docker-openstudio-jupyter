{
 "cells": [
  {
   "cell_type": "markdown",
   "id": "04b091df-43b7-4374-8b32-b5bf48964021",
   "metadata": {},
   "source": [
    "This notebook uses the OpenStudio Meta-CLI to submit OSA jobs to OpenStudio-Server.  \n",
    "\n",
    "The OpenStudio Meta-CLI is a ruby executable that can parse OpenStudio Analysis (OSA) json files and submit the appropriate job type and payload to a running OpenStudio-Server. These files can describe complex analyses, such as building-stock analysis, design optimization, uncertainty quantification, and calibration.  This example requires a running server.\n",
    "\n",
    "The variables below will use the paths that are appropriate for running this notebook in the provided Docker container.  To use it outside, just change the commented out variables below and change to the appropriate file locations for your specific system.  \n",
    "\n",
    "If this is running in the provided docker container, to get the HOST IP address, in a terminal or command p use  \n",
    "`>docker info`  \n",
    "and look for and use the **Node Address: xx.xx.xx.xx**\n",
    "\n",
    "**Change variables below to match your system**"
   ]
  },
  {
   "cell_type": "code",
   "execution_count": 1,
   "id": "8b1af2d3-0a1a-42c8-825e-5f94bf1cae4e",
   "metadata": {},
   "outputs": [
    {
     "data": {
      "text/plain": [
       "\"C:\\\\ParametricAnalysisTool-3.6.1\\\\pat\\\\ruby\\\\bin\\\\ruby\""
      ]
     },
     "execution_count": 1,
     "metadata": {},
     "output_type": "execute_result"
    }
   ],
   "source": [
    "#RUBY_CMD = 'ruby'\n",
    "RUBY_CMD = 'C:\\ParametricAnalysisTool-3.6.1\\pat\\ruby\\bin\\ruby'\n",
    "#META_CLI = File.absolute_path('/opt/OpenStudio-server/bin/openstudio_meta')\n",
    "META_CLI = File.absolute_path('C:\\ParametricAnalysisTool-3.6.1\\pat\\OpenStudio-server\\bin\\openstudio_meta')\n",
    "PROJECT = Dir.pwd\n",
    "#HOST = '192.168.65.3'\n",
    "HOST = '127.0.0.1'\n",
    "\n",
    "@host = HOST\n",
    "@project = PROJECT\n",
    "@meta_cli = META_CLI\n",
    "@ruby_cmd = RUBY_CMD"
   ]
  },
  {
   "cell_type": "markdown",
   "id": "17674249-0e72-47fd-82c6-911ccd41c942",
   "metadata": {},
   "source": [
    "Command to run analysis.  Can add the --debug --verbose flags for more info if there are issues.\n",
    "\n",
    "The location of the .zip file is given by the -z argument.  This can be left out if the name of the zip file is the same as the OSA json.  \n",
    "The analysis type is given by the -a argument, in this case it is **nsga_nrel**  \n",
    "The http string argument is the IP address of the OS-Server instance."
   ]
  },
  {
   "cell_type": "code",
   "execution_count": 3,
   "id": "85e789ca-c93f-4a2a-8ca8-b1481efa0b79",
   "metadata": {},
   "outputs": [
    {
     "data": {
      "text/plain": [
       "\"C:\\\\ParametricAnalysisTool-3.6.1\\\\pat\\\\ruby\\\\bin\\\\ruby C:/ParametricAnalysisTool-3.6.1/pat/OpenStudio-server/bin/openstudio_meta run_analysis 'C:/Projects/Notebooks/osw_project/analysis.json' 'http://127.0.0.1' -z 'analysis' -a single_run\""
      ]
     },
     "execution_count": 3,
     "metadata": {},
     "output_type": "execute_result"
    }
   ],
   "source": [
    "command = \"#{@ruby_cmd} #{@meta_cli} run_analysis '#{@project}/analysis.json' 'http://#{@host}' -z 'analysis' -a single_run\"\n",
    "#command = \"#{@ruby_cmd} #{@meta_cli} run_analysis --debug --verbose '#{@project}/analysis.json' 'http://#{@host}' -z 'analysis' -a rgenoud\""
   ]
  },
  {
   "cell_type": "markdown",
   "id": "2bef4c84-433a-4386-87d2-3a4480a08287",
   "metadata": {},
   "source": [
    "A System call can be used to run analysis, however the output capabilities are not the best"
   ]
  },
  {
   "cell_type": "code",
   "execution_count": 4,
   "id": "e691df28-69f1-4398-a0ba-64478578dbfb",
   "metadata": {},
   "outputs": [],
   "source": [
    "#run_analysis = system(command)"
   ]
  },
  {
   "cell_type": "markdown",
   "id": "e0bd7c00-80f7-4f87-bf10-f53ba5058b79",
   "metadata": {},
   "source": [
    "Use open3 to make the system call since it has better stdout capabilities.  This is essentially the command that the PAT GUI uses to submit an Analysis job to an OpenStudio-Server Stack."
   ]
  },
  {
   "cell_type": "code",
   "execution_count": 5,
   "id": "d91e9357-9690-4e41-98e9-83f8726fd922",
   "metadata": {},
   "outputs": [
    {
     "name": "stdout",
     "output_type": "stream",
     "text": [
      "Command executed successfully\n",
      "OpenStudio did not load, but most functionality is still available. Will continue...\n",
      "new project created with ID: 77a4ba98-9294-4910-af1c-759c780505d1\n",
      "asked to create analysis with 3f12e242-a398-44f4-9b47-a72562c07cbc\n",
      "options[:push_to_dencity] = false\n",
      "new analysis created with ID: 3f12e242-a398-44f4-9b47-a72562c07cbc\n",
      "Successfully uploaded ZIP file\n",
      "Run analysis is configured with {\"analysis_action\":\"start\",\"without_delay\":false,\"analysis_type\":\"single_run\",\"simulate_data_point_filename\":\"simulate_data_point.rb\",\"run_data_point_filename\":\"run_openstudio_workflow_monthly.rb\"}\n",
      "Received request to run analysis 3f12e242-a398-44f4-9b47-a72562c07cbc\n",
      "Run analysis is configured with {\"analysis_action\":\"start\",\"without_delay\":false,\"analysis_type\":\"batch_run\",\"simulate_data_point_filename\":\"simulate_data_point.rb\",\"run_data_point_filename\":\"run_openstudio_workflow_monthly.rb\"}\n",
      "Received request to run analysis 3f12e242-a398-44f4-9b47-a72562c07cbc\n"
     ]
    }
   ],
   "source": [
    "require 'open3'\n",
    "\n",
    "# Make a system call to get version\n",
    "stdout, stderr, status = Open3.capture3(\"#{command}\")\n",
    "\n",
    "# Check the result\n",
    "if status.success?\n",
    "  puts \"Command executed successfully\"\n",
    "  puts stdout\n",
    "else\n",
    "  puts \"Command failed\"\n",
    "  puts stderr\n",
    "end"
   ]
  },
  {
   "cell_type": "markdown",
   "id": "9be2e8ac-53df-40cf-a75a-42cd02cd87ba",
   "metadata": {},
   "source": [
    "sleep to let analysis process"
   ]
  },
  {
   "cell_type": "code",
   "execution_count": 6,
   "id": "6c2f173a-6e2a-4232-b541-662191a31e3e",
   "metadata": {},
   "outputs": [
    {
     "data": {
      "text/plain": [
       "5"
      ]
     },
     "execution_count": 6,
     "metadata": {},
     "output_type": "execute_result"
    }
   ],
   "source": [
    "sleep 5"
   ]
  },
  {
   "cell_type": "markdown",
   "id": "d3b29ef8-29ef-4daf-ad68-13623e5e48f6",
   "metadata": {},
   "source": [
    "From this point on, we will demonstrate some scripting / code that will use the Server API to get the submitted analyses and check the status of the running datapoints.  This is not necessary since the server already has the submitted job from the previous step.\n",
    "\n",
    "Get the UUIDs of the Analyses on the Server and sort by the time to get the one we just created."
   ]
  },
  {
   "cell_type": "code",
   "execution_count": 7,
   "id": "1d5e7da4-fac8-4b13-ac80-e34a879cf707",
   "metadata": {},
   "outputs": [
    {
     "data": {
      "text/plain": [
       "\"3f12e242-a398-44f4-9b47-a72562c07cbc\""
      ]
     },
     "execution_count": 7,
     "metadata": {},
     "output_type": "execute_result"
    }
   ],
   "source": [
    "require 'rest-client'\n",
    "require 'json'\n",
    "a = RestClient.get \"http://#{@host}/analyses.json\"\n",
    "a = JSON.parse(a, symbolize_names: true)\n",
    "a = a.sort { |x, y| x[:created_at] <=> y[:created_at] }.reverse\n",
    "analysis = a[0]\n",
    "analysis_id = analysis[:_id]"
   ]
  },
  {
   "cell_type": "markdown",
   "id": "02f94726-aa2a-4d24-a444-c24e4bd7e60b",
   "metadata": {},
   "source": [
    "get the status of the Analysis"
   ]
  },
  {
   "cell_type": "code",
   "execution_count": 8,
   "id": "1a2bd77e-6db8-4e50-b660-cad52d34984a",
   "metadata": {},
   "outputs": [
    {
     "data": {
      "text/plain": [
       "\"completed\""
      ]
     },
     "execution_count": 8,
     "metadata": {},
     "output_type": "execute_result"
    }
   ],
   "source": [
    "a = RestClient.get \"http://#{@host}/analyses/#{analysis_id}/status.json\"\n",
    "a = JSON.parse(a, symbolize_names: true)\n",
    "status = a[:analysis][:status]"
   ]
  },
  {
   "cell_type": "markdown",
   "id": "413cef13-12a7-4085-b73e-c68a5e08ff60",
   "metadata": {},
   "source": [
    "get the analysis type"
   ]
  },
  {
   "cell_type": "code",
   "execution_count": 9,
   "id": "9a2dd0fa-ce11-4c5b-9e39-b85d15fe7841",
   "metadata": {},
   "outputs": [
    {
     "data": {
      "text/plain": [
       "\"rgenoud\""
      ]
     },
     "execution_count": 9,
     "metadata": {},
     "output_type": "execute_result"
    }
   ],
   "source": [
    "a = RestClient.get \"http://#{@host}/analyses/#{analysis_id}.json\"\n",
    "a = JSON.parse(a, symbolize_names: true)\n",
    "status = a[:analysis][:problem][:analysis_type]"
   ]
  },
  {
   "cell_type": "markdown",
   "id": "19a641ed-8d42-4749-b36a-a6d9f33e8adc",
   "metadata": {},
   "source": [
    "get the current datapoints from the analysis, check their status and loop until the 220 datapoints are complete\n",
    "This is okay for a small problem"
   ]
  },
  {
   "cell_type": "code",
   "execution_count": null,
   "id": "f2db0533-bef6-4db0-8a5a-0692cb1fb01d",
   "metadata": {},
   "outputs": [
    {
     "name": "stdout",
     "output_type": "stream",
     "text": [
      "Accessed pages for analysis: 3f12e242-a398-44f4-9b47-a72562c07cbc, analysis_type: batch_run, status: completed\n",
      "jobs: [{:index=>0, :analysis_type=>\"single_run\", :status=>\"completed\", :status_message=>\"\"}, {:index=>1, :analysis_type=>\"batch_run\", :status=>\"post-processing finished\", :status_message=>\"\"}]\n",
      "status_message: \n",
      "\n"
     ]
    }
   ],
   "source": [
    "status = 'queued'\n",
    "timeout_seconds = 7200\n",
    "begin\n",
    "  ::Timeout.timeout(timeout_seconds) do\n",
    "    while status != 'completed'\n",
    "      # get the analysis pages\n",
    "      get_count = 0\n",
    "      get_count_max = 250\n",
    "      begin\n",
    "        a = RestClient.get \"http://#{@host}/analyses/#{analysis_id}/status.json\"\n",
    "        a = JSON.parse(a, symbolize_names: true)\n",
    "        analysis_type = a[:analysis][:analysis_type]\n",
    "        status = a[:analysis][:status]\n",
    "        puts \"Accessed pages for analysis: #{analysis_id}, analysis_type: #{analysis_type}, status: #{status}\"\n",
    "        jobs = a[:analysis][:jobs]\n",
    "        puts \"jobs: #{jobs}\"\n",
    "\n",
    "        a = RestClient.get \"http://#{@host}/analyses/#{analysis_id}.json\"\n",
    "        a = JSON.parse(a, symbolize_names: true)\n",
    "        status_message = a[:analysis][:status_message]\n",
    "        puts \"status_message: #{status_message}\"\n",
    "        # get all data points in this analysis\n",
    "        a = RestClient.get \"http://#{@host}/data_points.json\"\n",
    "        a = JSON.parse(a, symbolize_names: true)\n",
    "        data_points = []\n",
    "        a.each do |data_point|\n",
    "          if data_point[:analysis_id] == analysis_id\n",
    "            data_points << data_point\n",
    "          end\n",
    "        end\n",
    "        # confirm that queueing is working\n",
    "        data_points.each do |data_point|\n",
    "          # get the datapoint pages\n",
    "          data_point_id = data_point[:_id]\n",
    "          a = RestClient.get \"http://#{@host}/data_points/#{data_point_id}.json\"\n",
    "          a = JSON.parse(a, symbolize_names: true)\n",
    "          data_points_status = a[:data_point][:status]\n",
    "          if data_points_status == \"queued\"\n",
    "            puts \"data_point #{data_point_id}, data_points_status = #{data_points_status}\"\n",
    "          end\n",
    "        end\n",
    "      rescue RestClient::ExceptionWithResponse => e\n",
    "        puts \"rescue: #{e} get_count: #{get_count}\"\n",
    "        sleep Random.new.rand(1.0..10.0)\n",
    "        retry if get_count <= get_count_max\n",
    "      end\n",
    "      puts ''\n",
    "      sleep 120\n",
    "    end\n",
    "end\n",
    "rescue ::Timeout::Error\n",
    "    puts \"Analysis status is `#{status}` after #{timeout_seconds} seconds; assuming error.\"\n",
    "end"
   ]
  },
  {
   "cell_type": "markdown",
   "id": "d9f696ba-9380-4776-ba86-fd7bfb75ccf6",
   "metadata": {},
   "source": [
    "Use the API to download the Results CSV for the analysis and save it as 'results.csv'"
   ]
  },
  {
   "cell_type": "code",
   "execution_count": null,
   "id": "2247c8e5-0fbb-4c59-93f1-ba9888a79ad8",
   "metadata": {},
   "outputs": [],
   "source": [
    "require 'open-uri'\n",
    "File.write 'results.csv', URI.open(\"http://#{@host}/analyses/#{analysis_id}/download_data.csv?export=true\").read\n"
   ]
  },
  {
   "cell_type": "markdown",
   "id": "ad1a57c6-c588-4c0b-beeb-ec5422fd0ec0",
   "metadata": {},
   "source": [
    "To create the pareto plot, run the command below to open the XY interactive plot page of the Server.  Then, change the X / Y variables to 'electricity_cooling_ip' and 'natural_gas_heating_ip' and update the chart"
   ]
  },
  {
   "cell_type": "code",
   "execution_count": null,
   "id": "59d815d8-592a-4b64-a4f1-1906cd49db2d",
   "metadata": {},
   "outputs": [],
   "source": [
    "xy_plot = \"http://#{@host}/analyses/#{analysis_id}/plot_xy_interactive\"\n",
    "Open3.popen3(\"start chrome.exe #{xy_plot}\")"
   ]
  },
  {
   "cell_type": "code",
   "execution_count": null,
   "id": "0271c714-5422-44c9-8cab-581b781e96be",
   "metadata": {},
   "outputs": [],
   "source": []
  }
 ],
 "metadata": {
  "kernelspec": {
   "display_name": "Ruby 2.7.2",
   "language": "ruby",
   "name": "ruby"
  },
  "language_info": {
   "file_extension": ".rb",
   "mimetype": "application/x-ruby",
   "name": "ruby",
   "version": "2.7.2"
  }
 },
 "nbformat": 4,
 "nbformat_minor": 5
}
