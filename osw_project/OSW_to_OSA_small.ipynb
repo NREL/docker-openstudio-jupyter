{
 "cells": [
  {
   "cell_type": "code",
   "execution_count": 1,
   "id": "ae32065a-c04c-48e9-a558-4362c7f1a602",
   "metadata": {},
   "outputs": [],
   "source": [
    "#require 'openstudio'"
   ]
  },
  {
   "cell_type": "code",
   "execution_count": 2,
   "id": "e0a1c6a8-2342-47b4-91b3-7411848a8940",
   "metadata": {},
   "outputs": [
    {
     "name": "stderr",
     "output_type": "stream",
     "text": [
      "Top level ::CompositeIO is deprecated, require 'multipart/post' and use `Multipart::Post::CompositeReadIO` instead!\n",
      "Top level ::Parts is deprecated, require 'multipart/post' and use `Multipart::Post::Parts` instead!\n"
     ]
    },
    {
     "data": {
      "text/plain": [
       "true"
      ]
     },
     "execution_count": 2,
     "metadata": {},
     "output_type": "execute_result"
    }
   ],
   "source": [
    "gem 'openstudio-analysis', '1.2.1.pre.7'\n",
    "require 'openstudio-analysis'"
   ]
  },
  {
   "cell_type": "code",
   "execution_count": 3,
   "id": "ab1a3340-18fb-4ce3-afe9-dfe20da9c4f2",
   "metadata": {},
   "outputs": [
    {
     "data": {
      "text/plain": [
       "\"1.2.1-7\""
      ]
     },
     "execution_count": 3,
     "metadata": {},
     "output_type": "execute_result"
    }
   ],
   "source": [
    "OpenStudio::Analysis::VERSION"
   ]
  },
  {
   "cell_type": "code",
   "execution_count": null,
   "id": "5b2bc13c-f591-41cb-999f-54e6c0e47a13",
   "metadata": {},
   "outputs": [],
   "source": []
  },
  {
   "cell_type": "code",
   "execution_count": 4,
   "id": "bc1ea7bf-a23c-4ad2-a7d4-edf93937a721",
   "metadata": {},
   "outputs": [
    {
     "data": {
      "text/plain": [
       "\"calibration_workflow.osw\""
      ]
     },
     "execution_count": 4,
     "metadata": {},
     "output_type": "execute_result"
    }
   ],
   "source": [
    "osw_filename = 'calibration_workflow.osw'\n",
    "#load OSW\n",
    "#if File.exist? osw_filename\n",
    "#  osw = JSON.parse(File.read(osw_filename), symbolize_names: true)\n",
    "#end"
   ]
  },
  {
   "cell_type": "code",
   "execution_count": 5,
   "id": "e8cd31dc-7c0e-4d7e-b456-d5d85c7bc261",
   "metadata": {},
   "outputs": [
    {
     "data": {
      "text/plain": [
       "#<OpenStudio::Analysis::Formulation:0x000000000d03efc8 @display_name=\"Analysis Name\", @analysis_type=nil, @outputs=[], @workflow=#<OpenStudio::Analysis::Workflow:0x000000000d03ef78 @items=[]>, @weather_file=#<struct OpenStudio::Analysis::WeatherFile file=nil>, @seed_model=#<struct OpenStudio::Analysis::SeedModel file=nil>, @algorithm=#<OpenStudio::Analysis::AlgorithmAttributes:0x000000000d03eed8 @attributes={:seed=>nil, :failed_f_value=>1000000000000000000, :debug_messages=>1}>, @weather_files=#<OpenStudio::Analysis::SupportFiles:0x000000000d03ee88 @files=[]>, @seed_models=#<OpenStudio::Analysis::SupportFiles:0x000000000d03ee38 @files=[]>, @worker_inits=#<OpenStudio::Analysis::SupportFiles:0x000000000d03ede8 @files=[]>, @worker_finalizes=#<OpenStudio::Analysis::SupportFiles:0x000000000d03ed98 @files=[]>, @libraries=#<OpenStudio::Analysis::SupportFiles:0x000000000d03ed48 @files=[]>, @server_scripts=#<OpenStudio::Analysis::ServerScripts:0x000000000d03ecf8 @files=[]>>"
      ]
     },
     "execution_count": 5,
     "metadata": {},
     "output_type": "execute_result"
    },
    {
     "name": "stderr",
     "output_type": "stream",
     "text": [
      "Could not resolve a valid weather file. Check paths to weather files\n"
     ]
    }
   ],
   "source": [
    "analysis = OpenStudio::Analysis.create('Analysis Name')"
   ]
  },
  {
   "cell_type": "code",
   "execution_count": 6,
   "id": "0fe6e1b6-9a5a-476d-bbdb-e36d342545f5",
   "metadata": {},
   "outputs": [
    {
     "data": {
      "text/plain": [
       "[{:arguments=>{:consumption_unit=>\"kWh\", :data_key_name=>\"tot_kwh\", :end_date=>\"2013-12-31\", :fuel_type=>\"Electricity\", :json=>\"../../../data/electric.json\", :remove_existing_data=>true, :set_runperiod=>true, :start_date=>\"2013-01-1\", :variable_name=>\"Electricity Bill\"}, :measure_dir_name=>\"measures/AddMonthlyJSONUtilityData\"}, {:arguments=>{:consumption_unit=>\"therms\", :data_key_name=>\"tot_therms\", :end_date=>\"2013-12-31\", :fuel_type=>\"Gas\", :json=>\"../../../data/natural_gas.json\", :remove_existing_data=>false, :start_date=>\"2013-01-1\", :variable_name=>\"Gas Bill\"}, :measure_dir_name=>\"measures/AddMonthlyJSONUtilityData\"}, {:arguments=>{:ElectricEquipment_perc_change=>10.0, :infil_perc_change=>10.0, :lights_perc_change=>10.0, :mass_perc_change=>10.0, :people_perc_change=>10.0, :space=>\"*All Spaces*\", :space_type=>\"*All SpaceTypes*\", :vent_perc_change=>10.0}, :measure_dir_name=>\"measures/GeneralCalibrationMeasurePercentChange\"}, {:arguments=>{}, :measure_dir_name=>\"measures/openstudio_results\"}, {:arguments=>{}, :measure_dir_name=>\"measures/CalibrationReportsEnhanced\"}]"
      ]
     },
     "execution_count": 6,
     "metadata": {},
     "output_type": "execute_result"
    }
   ],
   "source": [
    "a = analysis.convert_osw('calibration_workflow.osw')"
   ]
  },
  {
   "cell_type": "code",
   "execution_count": 7,
   "id": "75cacad9-edda-4e68-8582-4ed8a95c2228",
   "metadata": {},
   "outputs": [
    {
     "data": {
      "text/plain": [
       "[{:units=>\"%\", :objective_function=>true, :objective_function_index=>0, :objective_function_target=>nil, :objective_function_group=>1, :scaling_factor=>nil, :visualize=>true, :metadata_id=>nil, :export=>true, :display_name=>\"electricity_consumption_cvrmse\", :name=>\"calibration_reports_enhanced.electricity_consumption_cvrmse\"}, {:units=>\"%\", :objective_function=>true, :objective_function_index=>1, :objective_function_target=>nil, :objective_function_group=>2, :scaling_factor=>nil, :visualize=>true, :metadata_id=>nil, :export=>true, :display_name=>\"electricity_consumption_nmbe\", :name=>\"calibration_reports_enhanced.electricity_consumption_nmbe\"}, {:units=>\"%\", :objective_function=>true, :objective_function_index=>2, :objective_function_target=>nil, :objective_function_group=>3, :scaling_factor=>nil, :visualize=>true, :metadata_id=>nil, :export=>true, :display_name=>\"natural_gas_consumption_cvrmse\", :name=>\"calibration_reports_enhanced.natural_gas_consumption_cvrmse\"}, {:units=>\"%\", :objective_function=>true, :objective_function_index=>3, :objective_function_target=>nil, :objective_function_group=>4, :scaling_factor=>nil, :visualize=>true, :metadata_id=>nil, :export=>true, :display_name=>\"natural_gas_consumption_nmbe\", :name=>\"calibration_reports_enhanced.natural_gas_consumption_nmbe\"}, {:units=>\"%\", :objective_function=>false, :objective_function_index=>nil, :objective_function_target=>nil, :objective_function_group=>nil, :scaling_factor=>nil, :visualize=>false, :metadata_id=>nil, :export=>true, :display_name=>\"electricity_ip\", :name=>\"openstudio_results.electricity_ip\"}]"
      ]
     },
     "execution_count": 7,
     "metadata": {},
     "output_type": "execute_result"
    }
   ],
   "source": [
    "o = analysis.add_output(\n",
    "      display_name: 'electricity_consumption_cvrmse',\n",
    "      name: 'calibration_reports_enhanced.electricity_consumption_cvrmse',\n",
    "      units: '%',\n",
    "      objective_function: true\n",
    "    )\n",
    "\n",
    "o = analysis.add_output(\n",
    "      display_name: 'electricity_consumption_nmbe',\n",
    "      name: 'calibration_reports_enhanced.electricity_consumption_nmbe',\n",
    "      units: '%',\n",
    "      objective_function: true,\n",
    "      objective_function_group: 2\n",
    "    )\n",
    "\n",
    "o = analysis.add_output(\n",
    "      display_name: 'natural_gas_consumption_cvrmse',\n",
    "      name: 'calibration_reports_enhanced.natural_gas_consumption_cvrmse',\n",
    "      units: '%',\n",
    "      objective_function: true,\n",
    "    objective_function_group: 3\n",
    "    )\n",
    "\n",
    "o = analysis.add_output(\n",
    "      display_name: 'natural_gas_consumption_nmbe',\n",
    "      name: 'calibration_reports_enhanced.natural_gas_consumption_nmbe',\n",
    "      units: '%',\n",
    "      objective_function: true,\n",
    "      objective_function_group: 4\n",
    "    )\n",
    "\n",
    "o = analysis.add_output(\n",
    "      display_name: 'electricity_ip',\n",
    "      name: 'openstudio_results.electricity_ip',\n",
    "      units: '%',\n",
    "    )"
   ]
  },
  {
   "cell_type": "code",
   "execution_count": 8,
   "id": "7dc590ac-07d5-4776-8bc4-bd67c915220f",
   "metadata": {},
   "outputs": [
    {
     "data": {
      "text/plain": [
       "true"
      ]
     },
     "execution_count": 8,
     "metadata": {},
     "output_type": "execute_result"
    }
   ],
   "source": [
    "#change paths to jsons to work on the server\n",
    "m = analysis.workflow.find_measure('add_monthly_json_utility_data')\n",
    "m.argument_value('json','../../../lib/calibration_data/electric.json')\n",
    "m = analysis.workflow.find_measure('add_monthly_json_utility_data_2')\n",
    "m.argument_value('json','../../../lib/calibration_data/natural_gas.json')"
   ]
  },
  {
   "cell_type": "code",
   "execution_count": 9,
   "id": "5d55a6d7-5fe9-43e5-b93b-826d1e7305d7",
   "metadata": {},
   "outputs": [
    {
     "data": {
      "text/plain": [
       "true"
      ]
     },
     "execution_count": 9,
     "metadata": {},
     "output_type": "execute_result"
    }
   ],
   "source": [
    "m = analysis.workflow.find_measure('general_calibration_measure_percent_change')\n",
    "d = {\n",
    "      type: 'uniform',\n",
    "      minimum: -50,\n",
    "      maximum: 50,\n",
    "      mean: 0\n",
    "    }\n",
    "    m.make_variable('lights_perc_change', 'Lights Percent Change', d)\n",
    "\n",
    "m = analysis.workflow.find_measure('general_calibration_measure_percent_change')\n",
    "d = {\n",
    "      type: 'uniform',\n",
    "      minimum: -50,\n",
    "      maximum: 50,\n",
    "      mean: 0\n",
    "    }\n",
    "    m.make_variable('ElectricEquipment_perc_change', 'Electric Equipment Percent Change', d)"
   ]
  },
  {
   "cell_type": "code",
   "execution_count": 10,
   "id": "1e60ebad-edcc-4534-a1c3-350b993fa788",
   "metadata": {},
   "outputs": [
    {
     "data": {
      "text/plain": [
       "true"
      ]
     },
     "execution_count": 10,
     "metadata": {},
     "output_type": "execute_result"
    }
   ],
   "source": [
    "#full_path_to_file = File.expand_path(\"scripts/script.sh\", path_to_this_file)\n",
    "analysis.server_scripts.add('scripts/script.sh', ['one', 'two'])\n",
    "# add analysis finalization script\n",
    "analysis.server_scripts.add('scripts/script.sh', ['three', 'four'], 'finalization', 'analysis')  "
   ]
  },
  {
   "cell_type": "code",
   "execution_count": 11,
   "id": "ba189b20-2862-480c-a947-734867c27050",
   "metadata": {},
   "outputs": [
    {
     "data": {
      "text/plain": [
       "31654"
      ]
     },
     "execution_count": 11,
     "metadata": {},
     "output_type": "execute_result"
    }
   ],
   "source": [
    "File.write('analysis.json',JSON.pretty_generate(analysis.to_hash))"
   ]
  },
  {
   "cell_type": "code",
   "execution_count": 12,
   "id": "32837fd0-4175-4acc-a197-8230b85a12ca",
   "metadata": {},
   "outputs": [
    {
     "data": {
      "text/plain": [
       "\"nsga_nrel\""
      ]
     },
     "execution_count": 12,
     "metadata": {},
     "output_type": "execute_result"
    }
   ],
   "source": [
    "#default analysis is single_run, change to NSGA2\n",
    "analysis.analysis_type = 'nsga_nrel'"
   ]
  },
  {
   "cell_type": "code",
   "execution_count": 13,
   "id": "300dd8be-c724-4bf2-9447-bb5af24f9b92",
   "metadata": {},
   "outputs": [],
   "source": [
    "#The add_monthly_json_utility_data needs the external data.\n",
    "#To upload it, give the path to the directory, in this case Data\n",
    "#It will be call 'calibration_data' and live at /lib/calibration_data in the server"
   ]
  },
  {
   "cell_type": "code",
   "execution_count": 14,
   "id": "27153dd2-0dc9-4f7e-a6af-8efc1f465d9e",
   "metadata": {},
   "outputs": [
    {
     "data": {
      "text/plain": [
       "true"
      ]
     },
     "execution_count": 14,
     "metadata": {},
     "output_type": "execute_result"
    }
   ],
   "source": [
    "analysis.libraries.add('Data', {library_name: 'calibration_data'})"
   ]
  },
  {
   "cell_type": "code",
   "execution_count": 15,
   "id": "cfd2ab34-6147-4d41-b947-8e799711b82f",
   "metadata": {},
   "outputs": [
    {
     "name": "stdout",
     "output_type": "stream",
     "text": [
      "osw_path: C:/Projects/OpenStudio-Notebooks/calibration_workflow.osw\n",
      "osw_full_path: C:/Projects/OpenStudio-Notebooks\n",
      "Adding Support Files: Weather\n",
      "  Adding weather/USA_CO_Golden-NREL.724666_TMY3.epw\n",
      "Adding Support Files: Seed Models\n",
      "  Adding C:/Projects/OpenStudio-Notebooks/Calibration/seeds/example_model.osm\n",
      "Adding Support Files: Libraries\n",
      "  Adding Data/electric.json\n",
      "  Adding Data/natural_gas.json\n",
      "Adding Support Files: Server Scripts\n",
      "  Adding C:/Projects/OpenStudio-Notebooks/scripts/script.sh as scripts/data_point/initialization.sh\n",
      "  Adding arguments as scripts/data_point/initialization.args\n",
      "  Adding C:/Projects/OpenStudio-Notebooks/scripts/script.sh as scripts/analysis/finalization.sh\n",
      "  Adding arguments as scripts/analysis/finalization.args\n",
      "Adding Measures\n",
      "  Adding AddMonthlyJSONUtilityData\n",
      "    Adding File C:/Projects/OpenStudio-Notebooks/measures/AddMonthlyJSONUtilityData/LICENSE.md\n",
      "    Adding File C:/Projects/OpenStudio-Notebooks/measures/AddMonthlyJSONUtilityData/measure.rb\n",
      "    Adding File C:/Projects/OpenStudio-Notebooks/measures/AddMonthlyJSONUtilityData/measure.xml\n",
      "    Adding File C:/Projects/OpenStudio-Notebooks/measures/AddMonthlyJSONUtilityData/README.md\n",
      "    Adding File C:/Projects/OpenStudio-Notebooks/measures/AddMonthlyJSONUtilityData/README.md.erb\n",
      "  Adding GeneralCalibrationMeasurePercentChange\n",
      "    Adding File C:/Projects/OpenStudio-Notebooks/measures/GeneralCalibrationMeasurePercentChange/LICENSE.md\n",
      "    Adding File C:/Projects/OpenStudio-Notebooks/measures/GeneralCalibrationMeasurePercentChange/measure.rb\n",
      "    Adding File C:/Projects/OpenStudio-Notebooks/measures/GeneralCalibrationMeasurePercentChange/measure.xml\n",
      "    Adding File C:/Projects/OpenStudio-Notebooks/measures/GeneralCalibrationMeasurePercentChange/README.md\n",
      "    Adding File C:/Projects/OpenStudio-Notebooks/measures/GeneralCalibrationMeasurePercentChange/README.md.erb\n",
      "  Adding openstudio_results\n",
      "    Adding File C:/Projects/OpenStudio-Notebooks/measures/openstudio_results/LICENSE.md\n",
      "    Adding File C:/Projects/OpenStudio-Notebooks/measures/openstudio_results/measure.rb\n",
      "    Adding File C:/Projects/OpenStudio-Notebooks/measures/openstudio_results/measure.xml\n",
      "    Adding File C:/Projects/OpenStudio-Notebooks/measures/openstudio_results/README.md\n",
      "    Adding File C:/Projects/OpenStudio-Notebooks/measures/openstudio_results/README.md.erb\n",
      "Add Directory C:/Projects/OpenStudio-Notebooks/measures/openstudio_results/resources\n",
      "Adding File C:/Projects/OpenStudio-Notebooks/measures/openstudio_results/resources/os_lib_reporting.rb\n",
      "Adding File C:/Projects/OpenStudio-Notebooks/measures/openstudio_results/resources/report.html.erb\n",
      "Adding File C:/Projects/OpenStudio-Notebooks/measures/openstudio_results/resources/Siz.AirConditionerVariableRefrigerantFlow.rb\n",
      "Adding File C:/Projects/OpenStudio-Notebooks/measures/openstudio_results/resources/Siz.AirLoopHVAC.rb\n",
      "Adding File C:/Projects/OpenStudio-Notebooks/measures/openstudio_results/resources/Siz.AirLoopHVACUnitaryHeatCoolVAVChangeoverBypass.rb\n",
      "Adding File C:/Projects/OpenStudio-Notebooks/measures/openstudio_results/resources/Siz.AirLoopHVACUnitaryHeatPumpAirToAir.rb\n",
      "Adding File C:/Projects/OpenStudio-Notebooks/measures/openstudio_results/resources/Siz.AirLoopHVACUnitaryHeatPumpAirToAirMultiSpeed.rb\n",
      "Adding File C:/Projects/OpenStudio-Notebooks/measures/openstudio_results/resources/Siz.AirLoopHVACUnitarySystem.rb\n",
      "Adding File C:/Projects/OpenStudio-Notebooks/measures/openstudio_results/resources/Siz.AirTerminalDualDuctVAV.rb\n",
      "Adding File C:/Projects/OpenStudio-Notebooks/measures/openstudio_results/resources/Siz.AirTerminalSingleDuctConstantVolumeCooledBeam.rb\n",
      "Adding File C:/Projects/OpenStudio-Notebooks/measures/openstudio_results/resources/Siz.AirTerminalSingleDuctConstantVolumeFourPipeInduction.rb\n",
      "Adding File C:/Projects/OpenStudio-Notebooks/measures/openstudio_results/resources/Siz.AirTerminalSingleDuctConstantVolumeReheat.rb\n",
      "Adding File C:/Projects/OpenStudio-Notebooks/measures/openstudio_results/resources/Siz.AirTerminalSingleDuctParallelPIUReheat.rb\n",
      "Adding File C:/Projects/OpenStudio-Notebooks/measures/openstudio_results/resources/Siz.AirTerminalSingleDuctSeriesPIUReheat.rb\n",
      "Adding File C:/Projects/OpenStudio-Notebooks/measures/openstudio_results/resources/Siz.AirTerminalSingleDuctUncontrolled.rb\n",
      "Adding File C:/Projects/OpenStudio-Notebooks/measures/openstudio_results/resources/Siz.AirTerminalSingleDuctVAVHeatAndCoolNoReheat.rb\n",
      "Adding File C:/Projects/OpenStudio-Notebooks/measures/openstudio_results/resources/Siz.AirTerminalSingleDuctVAVHeatAndCoolReheat.rb\n",
      "Adding File C:/Projects/OpenStudio-Notebooks/measures/openstudio_results/resources/Siz.AirTerminalSingleDuctVAVNoReheat.rb\n",
      "Adding File C:/Projects/OpenStudio-Notebooks/measures/openstudio_results/resources/Siz.AirTerminalSingleDuctVAVReheat.rb\n",
      "Adding File C:/Projects/OpenStudio-Notebooks/measures/openstudio_results/resources/Siz.BoilerHotWater.rb\n",
      "Adding File C:/Projects/OpenStudio-Notebooks/measures/openstudio_results/resources/Siz.BoilerSteam.rb\n",
      "Adding File C:/Projects/OpenStudio-Notebooks/measures/openstudio_results/resources/Siz.ChillerAbsorption.rb\n",
      "Adding File C:/Projects/OpenStudio-Notebooks/measures/openstudio_results/resources/Siz.ChillerAbsorptionIndirect.rb\n",
      "Adding File C:/Projects/OpenStudio-Notebooks/measures/openstudio_results/resources/Siz.ChillerElectricEIR.rb\n",
      "Adding File C:/Projects/OpenStudio-Notebooks/measures/openstudio_results/resources/Siz.ChillerHeaterPerformanceElectricEIR.rb\n",
      "Adding File C:/Projects/OpenStudio-Notebooks/measures/openstudio_results/resources/Siz.CoilCoolingDXMultiSpeed.rb\n",
      "Adding File C:/Projects/OpenStudio-Notebooks/measures/openstudio_results/resources/Siz.CoilCoolingDXMultiSpeedStageData.rb\n",
      "Adding File C:/Projects/OpenStudio-Notebooks/measures/openstudio_results/resources/Siz.CoilCoolingDXSingleSpeed.rb\n",
      "Adding File C:/Projects/OpenStudio-Notebooks/measures/openstudio_results/resources/Siz.CoilCoolingDXTwoSpeed.rb\n",
      "Adding File C:/Projects/OpenStudio-Notebooks/measures/openstudio_results/resources/Siz.CoilCoolingDXTwoStageWithHumidityControlMode.rb\n",
      "Adding File C:/Projects/OpenStudio-Notebooks/measures/openstudio_results/resources/Siz.CoilCoolingDXVariableRefrigerantFlow.rb\n",
      "Adding File C:/Projects/OpenStudio-Notebooks/measures/openstudio_results/resources/Siz.CoilCoolingDXVariableSpeed.rb\n",
      "Adding File C:/Projects/OpenStudio-Notebooks/measures/openstudio_results/resources/Siz.CoilCoolingDXVariableSpeedSpeedData.rb\n",
      "Adding File C:/Projects/OpenStudio-Notebooks/measures/openstudio_results/resources/Siz.CoilCoolingLowTempRadiantVarFlow.rb\n",
      "Adding File C:/Projects/OpenStudio-Notebooks/measures/openstudio_results/resources/Siz.CoilCoolingWater.rb\n",
      "Adding File C:/Projects/OpenStudio-Notebooks/measures/openstudio_results/resources/Siz.CoilCoolingWaterToAirHeatPumpEquationFit.rb\n",
      "Adding File C:/Projects/OpenStudio-Notebooks/measures/openstudio_results/resources/Siz.CoilCoolingWaterToAirHeatPumpVariableSpeedEquationFit.rb\n",
      "Adding File C:/Projects/OpenStudio-Notebooks/measures/openstudio_results/resources/Siz.CoilCoolingWaterToAirHeatPumpVariableSpeedEquationFitSpeedData.rb\n",
      "Adding File C:/Projects/OpenStudio-Notebooks/measures/openstudio_results/resources/Siz.CoilHeatingDesuperheater.rb\n",
      "Adding File C:/Projects/OpenStudio-Notebooks/measures/openstudio_results/resources/Siz.CoilHeatingDXMultiSpeed.rb\n",
      "Adding File C:/Projects/OpenStudio-Notebooks/measures/openstudio_results/resources/Siz.CoilHeatingDXMultiSpeedStageData.rb\n",
      "Adding File C:/Projects/OpenStudio-Notebooks/measures/openstudio_results/resources/Siz.CoilHeatingDXSingleSpeed.rb\n",
      "Adding File C:/Projects/OpenStudio-Notebooks/measures/openstudio_results/resources/Siz.CoilHeatingDXVariableRefrigerantFlow.rb\n",
      "Adding File C:/Projects/OpenStudio-Notebooks/measures/openstudio_results/resources/Siz.CoilHeatingDXVariableSpeed.rb\n",
      "Adding File C:/Projects/OpenStudio-Notebooks/measures/openstudio_results/resources/Siz.CoilHeatingDXVariableSpeedSpeedData.rb\n",
      "Adding File C:/Projects/OpenStudio-Notebooks/measures/openstudio_results/resources/Siz.CoilHeatingElectric.rb\n",
      "Adding File C:/Projects/OpenStudio-Notebooks/measures/openstudio_results/resources/Siz.CoilHeatingGas.rb\n",
      "Adding File C:/Projects/OpenStudio-Notebooks/measures/openstudio_results/resources/Siz.CoilHeatingGasMultiStage.rb\n",
      "Adding File C:/Projects/OpenStudio-Notebooks/measures/openstudio_results/resources/Siz.CoilHeatingGasMultiStageStageData.rb\n",
      "Adding File C:/Projects/OpenStudio-Notebooks/measures/openstudio_results/resources/Siz.CoilHeatingLowTempRadiantVarFlow.rb\n",
      "Adding File C:/Projects/OpenStudio-Notebooks/measures/openstudio_results/resources/Siz.CoilHeatingWater.rb\n",
      "Adding File C:/Projects/OpenStudio-Notebooks/measures/openstudio_results/resources/Siz.CoilHeatingWaterBaseboard.rb\n",
      "Adding File C:/Projects/OpenStudio-Notebooks/measures/openstudio_results/resources/Siz.CoilHeatingWaterBaseboardRadiant.rb\n",
      "Adding File C:/Projects/OpenStudio-Notebooks/measures/openstudio_results/resources/Siz.CoilHeatingWaterToAirHeatPumpEquationFit.rb\n",
      "Adding File C:/Projects/OpenStudio-Notebooks/measures/openstudio_results/resources/Siz.CoilHeatingWaterToAirHeatPumpVariableSpeedEquationFit.rb\n",
      "Adding File C:/Projects/OpenStudio-Notebooks/measures/openstudio_results/resources/Siz.CoilHeatingWaterToAirHeatPumpVariableSpeedEquationFitSpeedData.rb\n",
      "Adding File C:/Projects/OpenStudio-Notebooks/measures/openstudio_results/resources/Siz.CoilPerformanceDXCooling.rb\n",
      "Adding File C:/Projects/OpenStudio-Notebooks/measures/openstudio_results/resources/Siz.CoilSystemCoolingDXHeatExchangerAssisted.rb\n",
      "Adding File C:/Projects/OpenStudio-Notebooks/measures/openstudio_results/resources/Siz.CoilSystemCoolingWaterHeatExchangerAssisted.rb\n",
      "Adding File C:/Projects/OpenStudio-Notebooks/measures/openstudio_results/resources/Siz.CoilWaterHeatingAirToWaterHeatPump.rb\n",
      "Adding File C:/Projects/OpenStudio-Notebooks/measures/openstudio_results/resources/Siz.CoilWaterHeatingAirToWaterHeatPumpWrapped.rb\n",
      "Adding File C:/Projects/OpenStudio-Notebooks/measures/openstudio_results/resources/Siz.CoilWaterHeatingDesuperheater.rb\n",
      "Adding File C:/Projects/OpenStudio-Notebooks/measures/openstudio_results/resources/Siz.ControllerOutdoorAir.rb\n",
      "Adding File C:/Projects/OpenStudio-Notebooks/measures/openstudio_results/resources/Siz.CoolingTowerSingleSpeed.rb\n",
      "Adding File C:/Projects/OpenStudio-Notebooks/measures/openstudio_results/resources/Siz.CoolingTowerTwoSpeed.rb\n",
      "Adding File C:/Projects/OpenStudio-Notebooks/measures/openstudio_results/resources/Siz.CoolingTowerVariableSpeed.rb\n",
      "Adding File C:/Projects/OpenStudio-Notebooks/measures/openstudio_results/resources/Siz.DistrictCooling.rb\n",
      "Adding File C:/Projects/OpenStudio-Notebooks/measures/openstudio_results/resources/Siz.DistrictHeating.rb\n",
      "Adding File C:/Projects/OpenStudio-Notebooks/measures/openstudio_results/resources/Siz.ElectricLoadCenterInverterLookUpTable.rb\n",
      "Adding File C:/Projects/OpenStudio-Notebooks/measures/openstudio_results/resources/Siz.ElectricLoadCenterInverterSimple.rb\n",
      "Adding File C:/Projects/OpenStudio-Notebooks/measures/openstudio_results/resources/Siz.ElectricLoadCenterStorageConverter.rb\n",
      "Adding File C:/Projects/OpenStudio-Notebooks/measures/openstudio_results/resources/Siz.ElectricLoadCenterStorageSimple.rb\n",
      "Adding File C:/Projects/OpenStudio-Notebooks/measures/openstudio_results/resources/Siz.EvaporativeCoolerDirectResearchSpecial.rb\n",
      "Adding File C:/Projects/OpenStudio-Notebooks/measures/openstudio_results/resources/Siz.EvaporativeCoolerIndirectResearchSpecial.rb\n",
      "Adding File C:/Projects/OpenStudio-Notebooks/measures/openstudio_results/resources/Siz.EvaporativeFluidCoolerSingleSpeed.rb\n",
      "Adding File C:/Projects/OpenStudio-Notebooks/measures/openstudio_results/resources/Siz.EvaporativeFluidCoolerTwoSpeed.rb\n",
      "Adding File C:/Projects/OpenStudio-Notebooks/measures/openstudio_results/resources/Siz.FanConstantVolume.rb\n",
      "Adding File C:/Projects/OpenStudio-Notebooks/measures/openstudio_results/resources/Siz.FanOnOff.rb\n",
      "Adding File C:/Projects/OpenStudio-Notebooks/measures/openstudio_results/resources/Siz.FanVariableVolume.rb\n",
      "Adding File C:/Projects/OpenStudio-Notebooks/measures/openstudio_results/resources/Siz.FanZoneExhaust.rb\n",
      "Adding File C:/Projects/OpenStudio-Notebooks/measures/openstudio_results/resources/Siz.FluidCoolerSingleSpeed.rb\n",
      "Adding File C:/Projects/OpenStudio-Notebooks/measures/openstudio_results/resources/Siz.FluidCoolerTwoSpeed.rb\n",
      "Adding File C:/Projects/OpenStudio-Notebooks/measures/openstudio_results/resources/Siz.GeneratorFuelCellElectricalStorage.rb\n",
      "Adding File C:/Projects/OpenStudio-Notebooks/measures/openstudio_results/resources/Siz.GeneratorFuelCellInverter.rb\n",
      "Adding File C:/Projects/OpenStudio-Notebooks/measures/openstudio_results/resources/Siz.GeneratorFuelCellPowerModule.rb\n",
      "Adding File C:/Projects/OpenStudio-Notebooks/measures/openstudio_results/resources/Siz.GeneratorMicroTurbine.rb\n",
      "Adding File C:/Projects/OpenStudio-Notebooks/measures/openstudio_results/resources/Siz.GeneratorMicroTurbineHeatRecovery.rb\n",
      "Adding File C:/Projects/OpenStudio-Notebooks/measures/openstudio_results/resources/Siz.HeaderedPumpsConstantSpeed.rb\n",
      "Adding File C:/Projects/OpenStudio-Notebooks/measures/openstudio_results/resources/Siz.HeaderedPumpsVariableSpeed.rb\n",
      "Adding File C:/Projects/OpenStudio-Notebooks/measures/openstudio_results/resources/Siz.HeatExchangerAirToAirSensibleAndLatent.rb\n",
      "Adding File C:/Projects/OpenStudio-Notebooks/measures/openstudio_results/resources/Siz.HeatExchangerFluidToFluid.rb\n",
      "Adding File C:/Projects/OpenStudio-Notebooks/measures/openstudio_results/resources/Siz.HeatPumpWaterToWaterEquationFitCooling.rb\n",
      "Adding File C:/Projects/OpenStudio-Notebooks/measures/openstudio_results/resources/Siz.HeatPumpWaterToWaterEquationFitHeating.rb\n",
      "Adding File C:/Projects/OpenStudio-Notebooks/measures/openstudio_results/resources/Siz.HumidifierSteamElectric.rb\n",
      "Adding File C:/Projects/OpenStudio-Notebooks/measures/openstudio_results/resources/Siz.HVACComponent.rb\n",
      "Adding File C:/Projects/OpenStudio-Notebooks/measures/openstudio_results/resources/Siz.Model.rb\n",
      "Adding File C:/Projects/OpenStudio-Notebooks/measures/openstudio_results/resources/Siz.ModelObject.rb\n",
      "Adding File C:/Projects/OpenStudio-Notebooks/measures/openstudio_results/resources/Siz.PhotovoltaicPerformanceSimple.rb\n",
      "Adding File C:/Projects/OpenStudio-Notebooks/measures/openstudio_results/resources/Siz.PlantComponentTemperatureSource.rb\n",
      "Adding File C:/Projects/OpenStudio-Notebooks/measures/openstudio_results/resources/Siz.PlantLoop.rb\n",
      "Adding File C:/Projects/OpenStudio-Notebooks/measures/openstudio_results/resources/Siz.PumpConstantSpeed.rb\n",
      "Adding File C:/Projects/OpenStudio-Notebooks/measures/openstudio_results/resources/Siz.PumpVariableSpeed.rb\n",
      "Adding File C:/Projects/OpenStudio-Notebooks/measures/openstudio_results/resources/Siz.RefrigerationSecondarySystem.rb\n",
      "Adding File C:/Projects/OpenStudio-Notebooks/measures/openstudio_results/resources/Siz.RefrigerationSystem.rb\n",
      "Adding File C:/Projects/OpenStudio-Notebooks/measures/openstudio_results/resources/Siz.RefrigerationTranscriticalSystem.rb\n",
      "Adding File C:/Projects/OpenStudio-Notebooks/measures/openstudio_results/resources/Siz.SizingSystem.rb\n",
      "Adding File C:/Projects/OpenStudio-Notebooks/measures/openstudio_results/resources/Siz.SolarCollectorFlatPlatePhotovoltaicThermal.rb\n",
      "Adding File C:/Projects/OpenStudio-Notebooks/measures/openstudio_results/resources/Siz.SolarCollectorPerformancePhotovoltaicThermalSimple.rb\n",
      "Adding File C:/Projects/OpenStudio-Notebooks/measures/openstudio_results/resources/Siz.ThermalStorageChilledWaterStratified.rb\n",
      "Adding File C:/Projects/OpenStudio-Notebooks/measures/openstudio_results/resources/Siz.WaterHeaterHeatPump.rb\n",
      "Adding File C:/Projects/OpenStudio-Notebooks/measures/openstudio_results/resources/Siz.WaterHeaterHeatPumpWrappedCondenser.rb\n",
      "Adding File C:/Projects/OpenStudio-Notebooks/measures/openstudio_results/resources/Siz.WaterHeaterMixed.rb\n",
      "Adding File C:/Projects/OpenStudio-Notebooks/measures/openstudio_results/resources/Siz.WaterHeaterStratified.rb\n",
      "Adding File C:/Projects/OpenStudio-Notebooks/measures/openstudio_results/resources/Siz.ZoneHVACBaseboardConvectiveElectric.rb\n",
      "Adding File C:/Projects/OpenStudio-Notebooks/measures/openstudio_results/resources/Siz.ZoneHVACBaseboardConvectiveWater.rb\n",
      "Adding File C:/Projects/OpenStudio-Notebooks/measures/openstudio_results/resources/Siz.ZoneHVACBaseboardRadiantConvectiveElectric.rb\n",
      "Adding File C:/Projects/OpenStudio-Notebooks/measures/openstudio_results/resources/Siz.ZoneHVACBaseboardRadiantConvectiveWater.rb\n",
      "Adding File C:/Projects/OpenStudio-Notebooks/measures/openstudio_results/resources/Siz.ZoneHVACEnergyRecoveryVentilator.rb\n",
      "Adding File C:/Projects/OpenStudio-Notebooks/measures/openstudio_results/resources/Siz.ZoneHVACFourPipeFanCoil.rb\n",
      "Adding File C:/Projects/OpenStudio-Notebooks/measures/openstudio_results/resources/Siz.ZoneHVACHighTemperatureRadiant.rb\n",
      "Adding File C:/Projects/OpenStudio-Notebooks/measures/openstudio_results/resources/Siz.ZoneHVACIdealLoadsAirSystem.rb\n",
      "Adding File C:/Projects/OpenStudio-Notebooks/measures/openstudio_results/resources/Siz.ZoneHVACLowTempRadiantConstFlow.rb\n",
      "Adding File C:/Projects/OpenStudio-Notebooks/measures/openstudio_results/resources/Siz.ZoneHVACLowTempRadiantVarFlow.rb\n",
      "Adding File C:/Projects/OpenStudio-Notebooks/measures/openstudio_results/resources/Siz.ZoneHVACPackagedTerminalAirConditioner.rb\n",
      "Adding File C:/Projects/OpenStudio-Notebooks/measures/openstudio_results/resources/Siz.ZoneHVACPackagedTerminalHeatPump.rb\n",
      "Adding File C:/Projects/OpenStudio-Notebooks/measures/openstudio_results/resources/Siz.ZoneHVACTerminalUnitVariableRefrigerantFlow.rb\n",
      "Adding File C:/Projects/OpenStudio-Notebooks/measures/openstudio_results/resources/Siz.ZoneHVACUnitHeater.rb\n",
      "Adding File C:/Projects/OpenStudio-Notebooks/measures/openstudio_results/resources/Siz.ZoneHVACUnitVentilator.rb\n",
      "Adding File C:/Projects/OpenStudio-Notebooks/measures/openstudio_results/resources/Siz.ZoneHVACWaterToAirHeatPump.rb\n",
      "Adding File C:/Projects/OpenStudio-Notebooks/measures/openstudio_results/resources/Siz.ZoneVentilationDesignFlowRate.rb\n",
      "  Adding CalibrationReportsEnhanced\n",
      "    Adding File C:/Projects/OpenStudio-Notebooks/measures/CalibrationReportsEnhanced/LICENSE.md\n",
      "    Adding File C:/Projects/OpenStudio-Notebooks/measures/CalibrationReportsEnhanced/measure.rb\n",
      "    Adding File C:/Projects/OpenStudio-Notebooks/measures/CalibrationReportsEnhanced/measure.xml\n",
      "    Adding File C:/Projects/OpenStudio-Notebooks/measures/CalibrationReportsEnhanced/README.md\n",
      "    Adding File C:/Projects/OpenStudio-Notebooks/measures/CalibrationReportsEnhanced/README.md.erb\n",
      "Add Directory C:/Projects/OpenStudio-Notebooks/measures/CalibrationReportsEnhanced/resources\n",
      "Adding File C:/Projects/OpenStudio-Notebooks/measures/CalibrationReportsEnhanced/resources/report.html.in\n"
     ]
    },
    {
     "data": {
      "text/plain": [
       "[#<OpenStudio::Analysis::WorkflowStep:0x000000000d2cc330 @name=\"add_monthly_json_utility_data\", @display_name=\"Add Monthly JSON Utility Data\", @type=\"ModelMeasure\", @measure_definition_class_name=\"AddMonthlyJSONUtilityData\", @measure_definition_directory=\"./measures/AddMonthlyJSONUtilityData\", @measure_definition_directory_local=\"C:/Projects/OpenStudio-Notebooks/measures/AddMonthlyJSONUtilityData\", @measure_definition_display_name=\"Add Monthly JSON Utility Data\", @measure_definition_name=\"add_monthly_json_utility_data\", @measure_definition_name_xml=nil, @measure_definition_uuid=\"6da969e0-4256-49bf-9607-26504cc3d423\", @measure_definition_version_uuid=\"706776f7-efa4-4aa4-9733-96f4e64033fe\", @uuid=\"6da969e0-4256-49bf-9607-26504cc3d423\", @version_uuid=\"706776f7-efa4-4aa4-9733-96f4e64033fe\", @description=\"Add Monthly JSON Utility Data\", @arguments=[{:display_name=>\"Skip Entire Measure\", :display_name_short=>\"Skip\", :name=>\"__SKIP__\", :value_type=>\"boolean\", :default_value=>false, :value=>false}, {:display_name=>\"Path to JSON Data in the Server.\", :display_name_short=>\"Path to JSON Data in the Server.\", :name=>\"json\", :value_type=>\"string\", :default_value=>\"../../../lib/calibration_data/electric.json\", :value=>\"../../../lib/calibration_data/electric.json\"}, {:display_name=>\"Variable name\", :display_name_short=>\"Variable name\", :name=>\"variable_name\", :value_type=>\"string\", :default_value=>\"Electric Bill\", :value=>\"Electricity Bill\"}, {:display_name=>\"Fuel Type\", :display_name_short=>\"Fuel Type\", :name=>\"fuel_type\", :value_type=>\"string\", :default_value=>\"Electricity\", :value=>\"Electricity\"}, {:display_name=>\"Consumption Unit\", :display_name_short=>\"Consumption Unit\", :name=>\"consumption_unit\", :value_type=>\"string\", :default_value=>\"kWh\", :value=>\"kWh\"}, {:display_name=>\"data key name in JSON\", :display_name_short=>\"data key name in JSON\", :name=>\"data_key_name\", :value_type=>\"string\", :default_value=>\"tot_kwh\", :value=>\"tot_kwh\"}, {:display_name=>\"Start date\", :display_name_short=>\"Start date\", :name=>\"start_date\", :value_type=>\"string\", :default_value=>\"2013-01-1\", :value=>\"2013-01-1\"}, {:display_name=>\"End date\", :display_name_short=>\"End date\", :name=>\"end_date\", :value_type=>\"string\", :default_value=>\"2013-12-31\", :value=>\"2013-12-31\"}, {:display_name=>\"remove all existing Utility Bill data objects from model\", :display_name_short=>\"remove all existing Utility Bill data objects from model\", :name=>\"remove_existing_data\", :value_type=>\"boolean\", :default_value=>false, :value=>true}, {:display_name=>\"Set RunPeriod Object in model to use start and end dates\", :display_name_short=>\"Set RunPeriod Object in model to use start and end dates\", :name=>\"set_runperiod\", :value_type=>\"boolean\", :default_value=>false, :value=>true}], @variables=[]>, #<OpenStudio::Analysis::WorkflowStep:0x000000000d425f10 @name=\"add_monthly_json_utility_data_2\", @display_name=\"Add Monthly JSON Utility Data 2\", @type=\"ModelMeasure\", @measure_definition_class_name=\"AddMonthlyJSONUtilityData\", @measure_definition_directory=\"./measures/AddMonthlyJSONUtilityData\", @measure_definition_directory_local=\"C:/Projects/OpenStudio-Notebooks/measures/AddMonthlyJSONUtilityData\", @measure_definition_display_name=\"Add Monthly JSON Utility Data\", @measure_definition_name=\"add_monthly_json_utility_data\", @measure_definition_name_xml=nil, @measure_definition_uuid=\"6da969e0-4256-49bf-9607-26504cc3d423\", @measure_definition_version_uuid=\"706776f7-efa4-4aa4-9733-96f4e64033fe\", @uuid=\"6da969e0-4256-49bf-9607-26504cc3d423\", @version_uuid=\"706776f7-efa4-4aa4-9733-96f4e64033fe\", @description=\"Add Monthly JSON Utility Data\", @arguments=[{:display_name=>\"Skip Entire Measure\", :display_name_short=>\"Skip\", :name=>\"__SKIP__\", :value_type=>\"boolean\", :default_value=>false, :value=>false}, {:display_name=>\"Path to JSON Data in the Server.\", :display_name_short=>\"Path to JSON Data in the Server.\", :name=>\"json\", :value_type=>\"string\", :default_value=>\"../../../lib/calibration_data/electric.json\", :value=>\"../../../lib/calibration_data/natural_gas.json\"}, {:display_name=>\"Variable name\", :display_name_short=>\"Variable name\", :name=>\"variable_name\", :value_type=>\"string\", :default_value=>\"Electric Bill\", :value=>\"Gas Bill\"}, {:display_name=>\"Fuel Type\", :display_name_short=>\"Fuel Type\", :name=>\"fuel_type\", :value_type=>\"string\", :default_value=>\"Electricity\", :value=>\"Gas\"}, {:display_name=>\"Consumption Unit\", :display_name_short=>\"Consumption Unit\", :name=>\"consumption_unit\", :value_type=>\"string\", :default_value=>\"kWh\", :value=>\"therms\"}, {:display_name=>\"data key name in JSON\", :display_name_short=>\"data key name in JSON\", :name=>\"data_key_name\", :value_type=>\"string\", :default_value=>\"tot_kwh\", :value=>\"tot_therms\"}, {:display_name=>\"Start date\", :display_name_short=>\"Start date\", :name=>\"start_date\", :value_type=>\"string\", :default_value=>\"2013-01-1\", :value=>\"2013-01-1\"}, {:display_name=>\"End date\", :display_name_short=>\"End date\", :name=>\"end_date\", :value_type=>\"string\", :default_value=>\"2013-12-31\", :value=>\"2013-12-31\"}, {:display_name=>\"remove all existing Utility Bill data objects from model\", :display_name_short=>\"remove all existing Utility Bill data objects from model\", :name=>\"remove_existing_data\", :value_type=>\"boolean\", :default_value=>false, :value=>false}, {:display_name=>\"Set RunPeriod Object in model to use start and end dates\", :display_name_short=>\"Set RunPeriod Object in model to use start and end dates\", :name=>\"set_runperiod\", :value_type=>\"boolean\", :default_value=>false, :value=>false}], @variables=[]>, #<OpenStudio::Analysis::WorkflowStep:0x000000000be33428 @name=\"general_calibration_measure_percent_change\", @display_name=\"General Calibration Measure Percent Change\", @type=\"ModelMeasure\", @measure_definition_class_name=\"GeneralCalibrationMeasurePercentChange\", @measure_definition_directory=\"./measures/GeneralCalibrationMeasurePercentChange\", @measure_definition_directory_local=\"C:/Projects/OpenStudio-Notebooks/measures/GeneralCalibrationMeasurePercentChange\", @measure_definition_display_name=\"General Calibration Measure Percent Change\", @measure_definition_name=\"general_calibration_measure_percent_change\", @measure_definition_name_xml=nil, @measure_definition_uuid=\"0f583ac1-fa7e-48bc-9f80-12ed17180669\", @measure_definition_version_uuid=\"b90bd230-116d-4a1a-be73-eec73504b1da\", @uuid=\"0f583ac1-fa7e-48bc-9f80-12ed17180669\", @version_uuid=\"b90bd230-116d-4a1a-be73-eec73504b1da\", @description=\"This is a general purpose measure to calibrate space and space type elements with a percent change.\", @arguments=[{:display_name=>\"Skip Entire Measure\", :display_name_short=>\"Skip\", :name=>\"__SKIP__\", :value_type=>\"boolean\", :default_value=>false, :value=>false}, {:display_name=>\"Apply the Measure to a SINGLE SpaceType, ALL the SpaceTypes or NONE.\", :display_name_short=>\"Apply the Measure to a SINGLE SpaceType, ALL the SpaceTypes or NONE.\", :name=>\"space_type\", :value_type=>\"string\", :default_value=>\"{111cb5c7-730b-4e08-8229-2bba712e75b6}\", :value=>\"*All SpaceTypes*\"}, {:display_name=>\"Apply the Measure to a SINGLE Space, ALL the Spaces or NONE.\", :display_name_short=>\"Apply the Measure to a SINGLE Space, ALL the Spaces or NONE.\", :name=>\"space\", :value_type=>\"string\", :default_value=>\"{111cb5c7-730b-4e08-8229-2bba712e75b6}\", :value=>\"*All Spaces*\"}, {:display_name=>\"Percent Change in the default Lights Definition.\", :display_name_short=>\"Percent Change in the default Lights Definition.\", :name=>\"lights_perc_change\", :value_type=>\"double\", :default_value=>0.0, :value=>10.0}, {:display_name=>\"Percent Change in the default Luminaire Definition.\", :display_name_short=>\"Percent Change in the default Luminaire Definition.\", :name=>\"luminaire_perc_change\", :value_type=>\"double\", :default_value=>0.0, :value=>0.0}, {:display_name=>\"Percent Change in the default Electric Equipment Definition.\", :display_name_short=>\"Percent Change in the default Electric Equipment Definition.\", :name=>\"ElectricEquipment_perc_change\", :value_type=>\"double\", :default_value=>0.0, :value=>10.0}, {:display_name=>\"Percent Change in the default Gas Equipment Definition.\", :display_name_short=>\"Percent Change in the default Gas Equipment Definition.\", :name=>\"GasEquipment_perc_change\", :value_type=>\"double\", :default_value=>0.0, :value=>0.0}, {:display_name=>\"Percent Change in the default OtherEquipment Definition.\", :display_name_short=>\"Percent Change in the default OtherEquipment Definition.\", :name=>\"OtherEquipment_perc_change\", :value_type=>\"double\", :default_value=>0.0, :value=>0.0}, {:display_name=>\"Percent Change in the default People Definition.\", :display_name_short=>\"Percent Change in the default People Definition.\", :name=>\"people_perc_change\", :value_type=>\"double\", :default_value=>0.0, :value=>10.0}, {:display_name=>\"Percent Change in the default Internal Mass Definition.\", :display_name_short=>\"Percent Change in the default Internal Mass Definition.\", :name=>\"mass_perc_change\", :value_type=>\"double\", :default_value=>0.0, :value=>10.0}, {:display_name=>\"Percent Change in the default Design Infiltration Outdoor Air.\", :display_name_short=>\"Percent Change in the default Design Infiltration Outdoor Air.\", :name=>\"infil_perc_change\", :value_type=>\"double\", :default_value=>0.0, :value=>10.0}, {:display_name=>\"Percent Change in the default Design Specification Outdoor Air.\", :display_name_short=>\"Percent Change in the default Design Specification Outdoor Air.\", :name=>\"vent_perc_change\", :value_type=>\"double\", :default_value=>0.0, :value=>10.0}], @variables=[{:argument=>{:display_name=>\"Percent Change in the default Lights Definition.\", :display_name_short=>\"Percent Change in the default Lights Definition.\", :name=>\"lights_perc_change\", :value_type=>\"double\", :default_value=>0.0, :value=>10.0}, :display_name=>\"Lights Percent Change\", :display_name_short=>\"Lights Percent Change\", :variable_type=>\"variable\", :units=>nil, :minimum=>-50, :maximum=>50, :relation_to_output=>nil, :uuid=>\"2f5456fb-8352-4472-869e-d09797c3345d\", :version_uuid=>\"82fa3294-7822-4855-b0a7-b831cdf4e89a\", :variable=>true, :static_value=>0.0, :uncertainty_description=>{:type=>\"uniform\", :attributes=>[{:name=>\"lower_bounds\", :value=>-50}, {:name=>\"upper_bounds\", :value=>50}, {:name=>\"modes\", :value=>0}, {:name=>\"delta_x\", :value=>nil}, {:name=>\"stddev\", :value=>nil}]}, :workflow_index=>0}, {:argument=>{:display_name=>\"Percent Change in the default Electric Equipment Definition.\", :display_name_short=>\"Percent Change in the default Electric Equipment Definition.\", :name=>\"ElectricEquipment_perc_change\", :value_type=>\"double\", :default_value=>0.0, :value=>10.0}, :display_name=>\"Electric Equipment Percent Change\", :display_name_short=>\"Electric Equipment Percent Change\", :variable_type=>\"variable\", :units=>nil, :minimum=>-50, :maximum=>50, :relation_to_output=>nil, :uuid=>\"9d3b0a67-3a3a-4e1d-917e-cdc7c445c2b3\", :version_uuid=>\"544cdee3-c598-4bcd-9a18-1264842c40fa\", :variable=>true, :static_value=>0.0, :uncertainty_description=>{:type=>\"uniform\", :attributes=>[{:name=>\"lower_bounds\", :value=>-50}, {:name=>\"upper_bounds\", :value=>50}, {:name=>\"modes\", :value=>0}, {:name=>\"delta_x\", :value=>nil}, {:name=>\"stddev\", :value=>nil}]}, :workflow_index=>1}]>, #<OpenStudio::Analysis::WorkflowStep:0x000000000d2b5108 @name=\"openstudio_results\", @display_name=\"OpenStudio Results\", @type=\"ReportingMeasure\", @measure_definition_class_name=\"OpenStudioResults\", @measure_definition_directory=\"./measures/openstudio_results\", @measure_definition_directory_local=\"C:/Projects/OpenStudio-Notebooks/measures/openstudio_results\", @measure_definition_display_name=\"OpenStudio Results\", @measure_definition_name=\"openstudio_results\", @measure_definition_name_xml=nil, @measure_definition_uuid=\"a25386cd-60e4-46bc-8b11-c755f379d916\", @measure_definition_version_uuid=\"6b37673b-b0d8-4ab4-8f5a-0a48f170b4e8\", @uuid=\"a25386cd-60e4-46bc-8b11-c755f379d916\", @version_uuid=\"6b37673b-b0d8-4ab4-8f5a-0a48f170b4e8\", @description=\"This measure creates high level tables and charts pulling both from model inputs and EnergyPlus results. It has building level information as well as detail on space types, thermal zones, HVAC systems, envelope characteristics, and economics. Click the heading above a chart to view a table of the chart data.\", @arguments=[{:display_name=>\"Skip Entire Measure\", :display_name_short=>\"Skip\", :name=>\"__SKIP__\", :value_type=>\"boolean\", :default_value=>false, :value=>false}, {:display_name=>\"Which Unit System do you want to use?\", :display_name_short=>\"Which Unit System do you want to use?\", :name=>\"units\", :value_type=>\"string\", :default_value=>\"IP\", :value=>\"IP\"}, {:display_name=>\"Model Summary\", :display_name_short=>\"Model Summary\", :name=>\"building_summary_section\", :value_type=>\"boolean\", :default_value=>true, :value=>true}, {:display_name=>\"Annual Overview\", :display_name_short=>\"Annual Overview\", :name=>\"annual_overview_section\", :value_type=>\"boolean\", :default_value=>true, :value=>true}, {:display_name=>\"Monthly Overview\", :display_name_short=>\"Monthly Overview\", :name=>\"monthly_overview_section\", :value_type=>\"boolean\", :default_value=>true, :value=>true}, {:display_name=>\"Utility Bills/Rates\", :display_name_short=>\"Utility Bills/Rates\", :name=>\"utility_bills_rates_section\", :value_type=>\"boolean\", :default_value=>true, :value=>true}, {:display_name=>\"Envelope Summary\", :display_name_short=>\"Envelope Summary\", :name=>\"envelope_section_section\", :value_type=>\"boolean\", :default_value=>true, :value=>true}, {:display_name=>\"Space Type Breakdown\", :display_name_short=>\"Space Type Breakdown\", :name=>\"space_type_breakdown_section\", :value_type=>\"boolean\", :default_value=>true, :value=>true}, {:display_name=>\"Space Type Summary\", :display_name_short=>\"Space Type Summary\", :name=>\"space_type_details_section\", :value_type=>\"boolean\", :default_value=>true, :value=>true}, {:display_name=>\"Interior Lighting Summary\", :display_name_short=>\"Interior Lighting Summary\", :name=>\"interior_lighting_section\", :value_type=>\"boolean\", :default_value=>true, :value=>true}, {:display_name=>\"Plug Loads Summary\", :display_name_short=>\"Plug Loads Summary\", :name=>\"plug_loads_section\", :value_type=>\"boolean\", :default_value=>true, :value=>true}, {:display_name=>\"Exterior Lighting\", :display_name_short=>\"Exterior Lighting\", :name=>\"exterior_light_section\", :value_type=>\"boolean\", :default_value=>true, :value=>true}, {:display_name=>\"Water Use Equipment\", :display_name_short=>\"Water Use Equipment\", :name=>\"water_use_section\", :value_type=>\"boolean\", :default_value=>true, :value=>true}, {:display_name=>\"HVAC Load Profiles\", :display_name_short=>\"HVAC Load Profiles\", :name=>\"hvac_load_profile\", :value_type=>\"boolean\", :default_value=>true, :value=>true}, {:display_name=>\"Zone Conditions\", :display_name_short=>\"Zone Conditions\", :name=>\"zone_condition_section\", :value_type=>\"boolean\", :default_value=>true, :value=>true}, {:display_name=>\"Zone Overview\", :display_name_short=>\"Zone Overview\", :name=>\"zone_summary_section\", :value_type=>\"boolean\", :default_value=>true, :value=>true}, {:display_name=>\"Zone Equipment Detail\", :display_name_short=>\"Zone Equipment Detail\", :name=>\"zone_equipment_detail_section\", :value_type=>\"boolean\", :default_value=>true, :value=>true}, {:display_name=>\"Air Loops Detail\", :display_name_short=>\"Air Loops Detail\", :name=>\"air_loops_detail_section\", :value_type=>\"boolean\", :default_value=>true, :value=>true}, {:display_name=>\"Plant Loops Detail\", :display_name_short=>\"Plant Loops Detail\", :name=>\"plant_loops_detail_section\", :value_type=>\"boolean\", :default_value=>true, :value=>true}, {:display_name=>\"Outdoor Air\", :display_name_short=>\"Outdoor Air\", :name=>\"outdoor_air_section\", :value_type=>\"boolean\", :default_value=>true, :value=>true}, {:display_name=>\"Cash Flow\", :display_name_short=>\"Cash Flow\", :name=>\"cost_summary_section\", :value_type=>\"boolean\", :default_value=>true, :value=>true}, {:display_name=>\"Site and Source Summary\", :display_name_short=>\"Site and Source Summary\", :name=>\"source_energy_section\", :value_type=>\"boolean\", :default_value=>true, :value=>true}, {:display_name=>\"Schedule Overview\", :display_name_short=>\"Schedule Overview\", :name=>\"schedules_overview_section\", :value_type=>\"boolean\", :default_value=>true, :value=>true}, {:display_name=>\"Measure Warnings\", :display_name_short=>\"Measure Warnings\", :name=>\"measure_warning_section\", :value_type=>\"boolean\", :default_value=>true, :value=>true}, {:display_name=>\"Report monthly fuel and enduse breakdown to registerValue\", :display_name_short=>\"Report monthly fuel and enduse breakdown to registerValue\", :name=>\"reg_monthly_details\", :value_type=>\"boolean\", :default_value=>false, :value=>false}], @variables=[]>, #<OpenStudio::Analysis::WorkflowStep:0x000000000d5c7f58 @name=\"calibration_reports_enhanced\", @display_name=\"Calibration Reports Enhanced\", @type=\"ReportingMeasure\", @measure_definition_class_name=\"CalibrationReportsEnhanced\", @measure_definition_directory=\"./measures/CalibrationReportsEnhanced\", @measure_definition_directory_local=\"C:/Projects/OpenStudio-Notebooks/measures/CalibrationReportsEnhanced\", @measure_definition_display_name=\"Calibration Reports Enhanced\", @measure_definition_name=\"calibration_reports_enhanced\", @measure_definition_name_xml=nil, @measure_definition_uuid=\"e6642d40-7366-4647-8724-53a37991d668\", @measure_definition_version_uuid=\"96f837a8-f6af-4c34-84fc-c26b2ec2feba\", @uuid=\"e6642d40-7366-4647-8724-53a37991d668\", @version_uuid=\"96f837a8-f6af-4c34-84fc-c26b2ec2feba\", @description=\"This measure is intended for calibibration of modeled results against user entered utility bill.\", @arguments=[{:display_name=>\"Skip Entire Measure\", :display_name_short=>\"Skip\", :name=>\"__SKIP__\", :value_type=>\"boolean\", :default_value=>false, :value=>false}, {:display_name=>\"Electric NMBE limit (%)\", :display_name_short=>\"Electric NMBE limit (%)\", :name=>\"electric_nmbe_limit\", :value_type=>\"double\", :default_value=>5.0, :value=>5.0}, {:display_name=>\"Electric CVRMSE limit (%)\", :display_name_short=>\"Electric CVRMSE limit (%)\", :name=>\"electric_cvrmse_limit\", :value_type=>\"double\", :default_value=>15.0, :value=>15.0}, {:display_name=>\"Gas NMBE limit (%)\", :display_name_short=>\"Gas NMBE limit (%)\", :name=>\"gas_nmbe_limit\", :value_type=>\"double\", :default_value=>5.0, :value=>5.0}, {:display_name=>\"Gas CVRMSE limit (%)\", :display_name_short=>\"Gas CVRMSE limit (%)\", :name=>\"gas_cvrmse_limit\", :value_type=>\"double\", :default_value=>15.0, :value=>15.0}, {:display_name=>\"Fuel Oil#2 NMBE limit (%)\", :display_name_short=>\"Fuel Oil#2 NMBE limit (%)\", :name=>\"fuel_oil_nmbe_limit\", :value_type=>\"double\", :default_value=>5.0, :value=>5.0}, {:display_name=>\"Fuel Oil#2 CVRMSE limit (%)\", :display_name_short=>\"Fuel Oil#2 CVRMSE limit (%)\", :name=>\"fuel_oil_cvrmse_limit\", :value_type=>\"double\", :default_value=>15.0, :value=>15.0}], @variables=[]>]"
      ]
     },
     "execution_count": 15,
     "metadata": {},
     "output_type": "execute_result"
    }
   ],
   "source": [
    "analysis.save_osa_zip('analysis.zip')"
   ]
  },
  {
   "cell_type": "code",
   "execution_count": null,
   "id": "c0da9505-d62e-425a-96f1-fdc479f67bb0",
   "metadata": {},
   "outputs": [],
   "source": []
  },
  {
   "cell_type": "code",
   "execution_count": null,
   "id": "c922157b-e316-4b6e-9afa-b9d34d769a3b",
   "metadata": {},
   "outputs": [],
   "source": []
  }
 ],
 "metadata": {
  "kernelspec": {
   "display_name": "Ruby 2.7.2",
   "language": "ruby",
   "name": "ruby"
  },
  "language_info": {
   "file_extension": ".rb",
   "mimetype": "application/x-ruby",
   "name": "ruby",
   "version": "2.7.2"
  }
 },
 "nbformat": 4,
 "nbformat_minor": 5
}
