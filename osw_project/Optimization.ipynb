{
 "cells": [
  {
   "cell_type": "markdown",
   "id": "d7916c1b-4600-45c6-9abb-9a9a75c3fa67",
   "metadata": {},
   "source": [
    "**Add Measures to make an Optimization OpenStudio Workflow (OSW)**\n",
    "\n",
    "The OpenStudio SDK provides a tool for programmatically making changes to an OpenStudio Model. By using the OpenStudio Workflow (OSW), you can define a series of measures that make these changes in a specified order. We will add measures from the calibration-measures gem to the baseline model workflow described in BaselineModel.ipynb. We will also change measure arguments by modifying the measure's properties in the OSW file.\n",
    "\n",
    "To begin, load the 'openstudio' Ruby bindings to the SDK as well as 'fileutils' for basic file/directory manipulation."
   ]
  },
  {
   "cell_type": "code",
   "execution_count": 1,
   "id": "8650a7c3-0a0f-424d-8c34-594153d77a9e",
   "metadata": {},
   "outputs": [
    {
     "data": {
      "text/plain": [
       "true"
      ]
     },
     "execution_count": 1,
     "metadata": {},
     "output_type": "execute_result"
    }
   ],
   "source": [
    "require 'fileutils'\n",
    "require 'openstudio'"
   ]
  },
  {
   "cell_type": "markdown",
   "id": "31167fd5-64c0-4375-bbbc-face6d380f4f",
   "metadata": {},
   "source": [
    "create project directory called 'Optimization' and change the working directory to match."
   ]
  },
  {
   "cell_type": "code",
   "execution_count": 2,
   "id": "213b2078-b736-4e38-a910-ce3fde49d446",
   "metadata": {},
   "outputs": [
    {
     "data": {
      "text/plain": [
       "0"
      ]
     },
     "execution_count": 2,
     "metadata": {},
     "output_type": "execute_result"
    }
   ],
   "source": [
    "project_dir = 'Optimization'\n",
    "#create project folder\n",
    "FileUtils.mkdir_p(\"#{project_dir}\") unless Dir.exist?(\"#{project_dir}\")\n",
    "\n",
    "#change working directory\n",
    "Dir.chdir \"#{project_dir}\""
   ]
  },
  {
   "cell_type": "markdown",
   "id": "ffebc564-7762-43e3-9ba0-c5adf8170bf3",
   "metadata": {},
   "source": [
    "Create the example model and save in the 'seeds' folder"
   ]
  },
  {
   "cell_type": "code",
   "execution_count": 4,
   "id": "43097da2-3aab-42cf-a9c8-1947dddf6ae0",
   "metadata": {},
   "outputs": [
    {
     "data": {
      "text/plain": [
       "true"
      ]
     },
     "execution_count": 4,
     "metadata": {},
     "output_type": "execute_result"
    }
   ],
   "source": [
    "# Create the Example Model\n",
    "model = OpenStudio::Model.exampleModel()\n",
    "\n",
    "#create directory for the seed model\n",
    "FileUtils.mkdir_p(\"seeds\") unless Dir.exist?(\"seeds\")\n",
    "# Save the model to an OSM file\n",
    "osm_path = OpenStudio::Path.new(File.expand_path(\"seeds/example_model.osm\"))\n",
    "model.save(osm_path, true)\n"
   ]
  },
  {
   "cell_type": "markdown",
   "id": "45cce69b-4d1f-41c6-acb3-dde355658da0",
   "metadata": {},
   "source": [
    "Get the weather file from previous download or redownload and put in the weather directory.  Set the weather file into the Model and do some basic validation on it. "
   ]
  },
  {
   "cell_type": "code",
   "execution_count": 5,
   "id": "84ebd7ed-360e-4182-b853-fbb694a68081",
   "metadata": {},
   "outputs": [
    {
     "name": "stdout",
     "output_type": "stream",
     "text": [
      "Download the file USA_CO_Golden-NREL.724666_TMY3.epw\n",
      "true\n",
      "true\n",
      "true\n"
     ]
    }
   ],
   "source": [
    "#get weather file\n",
    "require 'open-uri'\n",
    "\n",
    "# URL of the file to download\n",
    "url = 'https://github.com/NREL/OpenStudio/raw/develop/resources/utilities/Filetypes/'\n",
    "\n",
    "# Local file name\n",
    "weather_file_name = 'USA_CO_Golden-NREL.724666_TMY3.epw'\n",
    "weather_file_path = \"weather/\" + weather_file_name\n",
    "\n",
    "#create directory for the weather file\n",
    "FileUtils.mkdir_p(\"weather\") unless Dir.exist?(\"weather\")\n",
    "\n",
    "if !File.exist?(weather_file_path)\n",
    "    puts \"Download the file #{weather_file_name}\"\n",
    "    URI.open(url + weather_file_name) do |file|\n",
    "      File.write(weather_file_path, file.read)\n",
    "    end\n",
    "else\n",
    "    puts 'weather file exists locally'\n",
    "end\n",
    "\n",
    "#set the weather file in the OSM\n",
    "#use absolute path\n",
    "epw_file = OpenStudio::EpwFile.load(OpenStudio::Path.new(File.expand_path(weather_file_path)), true)\n",
    "OpenStudio::Model::WeatherFile::setWeatherFile(model, epw_file.get)\n",
    "weatherFile = model.getWeatherFile\n",
    "# validate the weather file\n",
    "puts weatherFile.checksum.get == 'BDF687C1'\n",
    "puts weatherFile.country == 'USA'\n",
    "puts weatherFile.stateProvinceRegion == 'CO'"
   ]
  },
  {
   "cell_type": "markdown",
   "id": "5f7af11c-ecfc-4340-a966-adb1a9a1ae35",
   "metadata": {},
   "source": [
    "use the 'Open3' library to make a system call to the OpenStudio command-line interface (CLI) and check its version. The CLI path is stored in the 'cli' variable and the system call is made using the 'capture3' method of the 'Open3' module, which captures the standard output, standard error, and exit status of the system command. The result of the system call is checked using the 'status.success?' method, and if it is successful, the standard output is printed to the console. If it fails, the standard error is printed instead."
   ]
  },
  {
   "cell_type": "code",
   "execution_count": 6,
   "id": "e518c626-69bb-40bd-8a5f-b73ce9f9abfa",
   "metadata": {},
   "outputs": [
    {
     "name": "stdout",
     "output_type": "stream",
     "text": [
      "Command executed successfully\n",
      "3.5.0+7b14ce1588\n"
     ]
    }
   ],
   "source": [
    "require 'open3'\n",
    "\n",
    "#get path to OpenStudio CLI\n",
    "cli = OpenStudio.getOpenStudioCLI.to_s\n",
    "\n",
    "# Make a system call to get version\n",
    "stdout, stderr, status = Open3.capture3(\"#{cli} --version\")\n",
    "\n",
    "# Check the result\n",
    "if status.success?\n",
    "  puts \"Command executed successfully\"\n",
    "  puts stdout\n",
    "else\n",
    "  puts \"Command failed\"\n",
    "  puts stderr\n",
    "end"
   ]
  },
  {
   "cell_type": "markdown",
   "id": "219a7921-f88d-474a-8036-c75bbe4f08c4",
   "metadata": {},
   "source": [
    "require the \"openstudio-calibration\" and \"openstudio-common-measures\" ruby gems. These gems contain pre-written scripts (OpenStudio Measures) that can make programmatic changes to an OpenStudio model, that we want to use in our project. Use the \"Gem::Specification\" method or the \"Gem.find_files\" method to find the local path to the /lib folder of the gem which is where the Measures are located. These paths are then stored in the variables \"calibration_measures_dir\" and \"common_measures_dir\"."
   ]
  },
  {
   "cell_type": "code",
   "execution_count": 7,
   "id": "2c285e0d-8f00-45dc-80b4-d4cf11dc0a0c",
   "metadata": {},
   "outputs": [
    {
     "name": "stdout",
     "output_type": "stream",
     "text": [
      "C:/Ruby27-x64/lib/ruby/gems/2.7.0/gems/openstudio-common-measures-0.7.0/lib\n"
     ]
    },
    {
     "data": {
      "text/plain": [
       "\"C:/Ruby27-x64/lib/ruby/gems/2.7.0/gems/openstudio-calibration-0.7.0\""
      ]
     },
     "execution_count": 7,
     "metadata": {},
     "output_type": "execute_result"
    }
   ],
   "source": [
    "require 'openstudio-calibration'\n",
    "require 'openstudio-common-measures'\n",
    "\n",
    "#find path to the Measures\n",
    "puts Pathname.new(Gem.find_files('openstudio-common-measures.rb').first).dirname\n",
    "# -or\n",
    "#find path to Measures using gem::spec\n",
    "common_measures_dir = Gem::Specification.find_by_name(\"openstudio-common-measures\").gem_dir\n",
    "calibration_measures_dir = Gem::Specification.find_by_name(\"openstudio-calibration\").gem_dir"
   ]
  },
  {
   "cell_type": "markdown",
   "id": "2aa26c32-2c92-498d-b393-c0de47d239fc",
   "metadata": {},
   "source": [
    "copy the OpenStudio Measures from the openstudio-common-measures and openstudio-calibration gems into a local project directory called \"measures\". The purpose of this is to make these scripts available for use in the current project. The measures copied include \"openstudio_results\", \"ExteriorWallThermalPropertiesPercentChange\", \"RoofThermalPropertiesPercentChange\", \"CoilHeatingGasPercentChange\", \"CoilCoolingDXSingleSpeedPercentChange\", \"FansPercentChange\" and \"GeneralCalibrationMeasurePercentChange\".\n",
    "\n",
    "**NOTE** the CoilCoolingDXSingleSpeedPercentChange Measure needs calibration gem version >= 0.8.0 due to an OS API change."
   ]
  },
  {
   "cell_type": "code",
   "execution_count": 8,
   "id": "6f7e3904-ec84-4dea-88c4-4d273f399dbb",
   "metadata": {},
   "outputs": [],
   "source": [
    "#make measure directories for the project\n",
    "\n",
    "FileUtils.mkdir_p(\"measures\") unless Dir.exist?(\"measures\")\n",
    "\n",
    "#copy measure from gem to local project directory\n",
    "FileUtils.cp_r(\"#{common_measures_dir}/lib/measures/openstudio_results\", \"measures\")\n",
    "FileUtils.cp_r(\"#{calibration_measures_dir}/lib/measures/ExteriorWallThermalPropertiesPercentChange\", \"measures\")\n",
    "FileUtils.cp_r(\"#{calibration_measures_dir}/lib/measures/RoofThermalPropertiesPercentChange\", \"measures\")\n",
    "FileUtils.cp_r(\"#{calibration_measures_dir}/lib/measures/CoilHeatingGasPercentChange\", \"measures\")\n",
    "FileUtils.cp_r(\"#{calibration_measures_dir}/lib/measures/CoilCoolingDXSingleSpeedPercentChange\", \"measures\")\n",
    "FileUtils.cp_r(\"#{calibration_measures_dir}/lib/measures/FansPercentChange\", \"measures\")\n",
    "FileUtils.cp_r(\"#{calibration_measures_dir}/lib/measures/GeneralCalibrationMeasurePercentChange\", \"measures\")"
   ]
  },
  {
   "cell_type": "markdown",
   "id": "9b9b1409-8de9-4d75-b430-1872bb7c5ec2",
   "metadata": {},
   "source": [
    "The OSW file assumes that the associated files and directories are in the same location.\n",
    "\n",
    "  /calibration_workflow.osw  \n",
    "  /measures  \n",
    "  /seeds  \n",
    "  /weather   \n"
   ]
  },
  {
   "cell_type": "code",
   "execution_count": null,
   "id": "c3cca7ab-3e3c-474a-8d60-c0abcd85aa95",
   "metadata": {},
   "outputs": [],
   "source": []
  },
  {
   "cell_type": "markdown",
   "id": "db33981f-7191-44d9-b09f-52ca66457a5e",
   "metadata": {},
   "source": [
    "Create the OSW as before and add the Measures to the ModelMeasure step."
   ]
  },
  {
   "cell_type": "code",
   "execution_count": 9,
   "id": "0ff2cf28-1340-46f8-8a87-ac64663cebe2",
   "metadata": {},
   "outputs": [
    {
     "data": {
      "text/plain": [
       "true"
      ]
     },
     "execution_count": 9,
     "metadata": {},
     "output_type": "execute_result"
    }
   ],
   "source": [
    "# Create a new OSW\n",
    "osw = OpenStudio::WorkflowJSON.new\n",
    "\n",
    "# Define the reporting measure steps\n",
    "measure_steps = []\n",
    "\n",
    "#add Utility Bill object to model from external JSON file\n",
    "os_results = OpenStudio::MeasureStep.new(\"measures/ExteriorWallThermalPropertiesPercentChange\")\n",
    "os_results.setArgument(\"r_value_perc_change\",10.0)\n",
    "measure_steps << os_results\n",
    "\n",
    "os_results = OpenStudio::MeasureStep.new(\"measures/RoofThermalPropertiesPercentChange\")\n",
    "os_results.setArgument(\"r_value_perc_change\",10.0)\n",
    "measure_steps << os_results\n",
    "\n",
    "os_results = OpenStudio::MeasureStep.new(\"measures/CoilHeatingGasPercentChange\")\n",
    "os_results.setArgument(\"coil\",\"*All Gas Heating Coils*\")\n",
    "os_results.setArgument(\"coil_efficiency_perc_change\",10.0)\n",
    "measure_steps << os_results\n",
    "\n",
    "os_results = OpenStudio::MeasureStep.new(\"measures/CoilCoolingDXSingleSpeedPercentChange\")\n",
    "os_results.setArgument(\"coil\",\"*All DX Cooling Coils*\")\n",
    "os_results.setArgument(\"rated_cop_perc_change\",10.0)\n",
    "measure_steps << os_results\n",
    "\n",
    "os_results = OpenStudio::MeasureStep.new(\"measures/FansPercentChange\")\n",
    "os_results.setArgument(\"fan\",\"*All Fans*\")\n",
    "os_results.setArgument(\"fan_efficiency_perc_change\",10.0)\n",
    "measure_steps << os_results\n",
    "\n",
    "os_results = OpenStudio::MeasureStep.new(\"measures/GeneralCalibrationMeasurePercentChange\")\n",
    "os_results.setArgument(\"space_type\",\"*All SpaceTypes*\")\n",
    "os_results.setArgument(\"space\",\"*All Spaces*\")\n",
    "os_results.setArgument(\"lights_perc_change\",10.0)\n",
    "os_results.setArgument(\"ElectricEquipment_perc_change\",10.0)\n",
    "measure_steps << os_results\n",
    "\n",
    "# Set the measure steps in the OSW\n",
    "measure_type = OpenStudio::MeasureType.new(\"ModelMeasure\")\n",
    "osw.setMeasureSteps(measure_type, measure_steps)\n",
    "\n",
    "# Define the reporting measure steps\n",
    "reporting_steps = []\n",
    "\n",
    "#add openstudio_results to the reporting_steps array\n",
    "os_results = OpenStudio::MeasureStep.new(\"measures/openstudio_results\")\n",
    "reporting_steps << os_results\n",
    "\n",
    "# Set the measure steps in the OSW\n",
    "measure_type = OpenStudio::MeasureType.new(\"ReportingMeasure\")\n",
    "osw.setMeasureSteps(measure_type, reporting_steps)"
   ]
  },
  {
   "cell_type": "markdown",
   "id": "a3b6c46a-3b12-4b68-b207-49ac3f141411",
   "metadata": {},
   "source": [
    "Add the example_model OSM we generated earlier as the 'seed' model and set the weatherfile in the OSW. Also, save the OSW as 'optimization_workflow.osw' by creating a full, absolute path to the file name and use the .saveAs() method."
   ]
  },
  {
   "cell_type": "code",
   "execution_count": 10,
   "id": "70e5df6a-5e89-4d0c-842b-2b8dcbd8f1cc",
   "metadata": {},
   "outputs": [
    {
     "data": {
      "text/plain": [
       "true"
      ]
     },
     "execution_count": 10,
     "metadata": {},
     "output_type": "execute_result"
    }
   ],
   "source": [
    "#add seed / weatherfile to OSW\n",
    "osw.setSeedFile(osm_path)\n",
    "osw.setWeatherFile(weather_file_path)\n",
    "#save file locally\n",
    "osw_path = OpenStudio::Path.new(File.expand_path(\"optimization_workflow.osw\"))\n",
    "osw.saveAs(osw_path)"
   ]
  },
  {
   "cell_type": "markdown",
   "id": "df309134-045c-4f11-832c-4201a047fa69",
   "metadata": {},
   "source": [
    "Since this is in Ruby and the CLI is an executable, to run the workflow using the CLI, we will use the Open3.capture3 method to make a System Call to the CLI, which captures the standard output, standard error, and status code of the CLI command. The CLI command runs the workflow, specifying the workflow file path, and the --debug and --workflow options are passed to the CLI. Finally, the status code of the CLI command is stored in the status variable."
   ]
  },
  {
   "cell_type": "code",
   "execution_count": 22,
   "id": "a8b8038f-d7f0-4905-bb54-c8a75062cabf",
   "metadata": {},
   "outputs": [
    {
     "data": {
      "text/plain": [
       "#<Process::Status: pid 24356 exit 0>"
      ]
     },
     "execution_count": 22,
     "metadata": {},
     "output_type": "execute_result"
    }
   ],
   "source": [
    "#Run the workflow\n",
    "stdout, stderr, status = Open3.capture3(\"#{cli} run --debug --workflow #{osw_path}\")\n",
    "status"
   ]
  },
  {
   "cell_type": "code",
   "execution_count": null,
   "id": "76da1915-2764-426c-85fa-1d4b9bd7e897",
   "metadata": {},
   "outputs": [],
   "source": []
  },
  {
   "cell_type": "markdown",
   "id": "09d38f93-d962-4fee-bcd2-92adcd501fb4",
   "metadata": {},
   "source": [
    "To view the results, set the file path to an HTML report generated by the \"openstudio_results\" measure and display the contents of the file using IRuby's display method. The argument passed to the display method is the content of the file read using Ruby's File.read method, and the mime type is specified as 'text/html' to indicate that the contents are HTML. This code assumes that the file exists and will raise an error if it cannot be found or read."
   ]
  },
  {
   "cell_type": "code",
   "execution_count": 25,
   "id": "67cb9a47-dd62-4f16-a938-47de9a97293d",
   "metadata": {
    "tags": []
   },
   "outputs": [
    {
     "data": {
      "text/plain": [
       "\"C:/Projects/Notebooks/osw_project/Optimization/run/006_measures/openstudio_results/report.html\""
      ]
     },
     "execution_count": 25,
     "metadata": {},
     "output_type": "execute_result"
    }
   ],
   "source": [
    "file_path = File.expand_path(Dir.pwd + '/run/006_measures/openstudio_results/report.html')\n",
    "\n",
    "#IRuby.display File.read(file_path), mime: 'text/html'"
   ]
  },
  {
   "cell_type": "markdown",
   "id": "bde1269c-6db2-47f5-ad06-6d868a12f7fc",
   "metadata": {},
   "source": [
    "or launch in an external browser like chrome, etc"
   ]
  },
  {
   "cell_type": "code",
   "execution_count": 26,
   "id": "41b35ec2-45f2-43bd-8623-3d591625d465",
   "metadata": {},
   "outputs": [
    {
     "data": {
      "text/plain": [
       "[#<IO:fd 4>, #<IO:fd 5>, #<IO:fd 7>, #<Process::Waiter:0x000000000d46f660 run>]"
      ]
     },
     "execution_count": 26,
     "metadata": {},
     "output_type": "execute_result"
    }
   ],
   "source": [
    "Open3.popen3(\"start chrome.exe #{file_path}\")"
   ]
  },
  {
   "cell_type": "code",
   "execution_count": null,
   "id": "3c37ffe6-423f-41ad-ad95-0a2aacf8b4b0",
   "metadata": {},
   "outputs": [],
   "source": []
  }
 ],
 "metadata": {
  "kernelspec": {
   "display_name": "Ruby 2.7.2",
   "language": "ruby",
   "name": "ruby"
  },
  "language_info": {
   "file_extension": ".rb",
   "mimetype": "application/x-ruby",
   "name": "ruby",
   "version": "2.7.2"
  }
 },
 "nbformat": 4,
 "nbformat_minor": 5
}
