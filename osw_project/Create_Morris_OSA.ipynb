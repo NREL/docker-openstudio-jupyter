{
 "cells": [
  {
   "cell_type": "markdown",
   "id": "7eca5df4-ada8-4279-b40c-583ad768f92b",
   "metadata": {},
   "source": [
    "**Create an OpenStudio Analysis JSON (OSA)**\n",
    "\n",
    "The following is taken from: https://www.tandfonline.com/doi/full/10.1080/19401493.2020.1778788\n",
    "\n",
    "The OpenStudio Analysis Framework (OSAF) was developed with the intention of putting advanced energy modelling capabilities in the hands of industry practitioners. To do this, OSAF uses analysis workflows that are shareable, transportable, and reproducible by using a standardized OSA problem definition JSON file, and supporting files that can be easily compressed and used on different computing environments. The OSA contains information on the algorithm and its parameters, variables with their uncertainty descriptions (e.g. the minimum and maximum allowed values, normally or uniformly distributed), output variables, and objective functions.\n",
    "\n",
    "In these workflows, individual models are no longer the basis from which the analysis is derived. Instead, the paradigm involves a ‘seed’, which is the baseline model around which the analysis is built, and a chain of scripts, which are run by the Workflow Gem and are used to programmatically implement changes to the baseline model. The scripts, called Measures (Roth, Goldwasser, and Parker 2016; Brackney et al. 2018; Roth et al. 2018), can be generic and reusable across different models and analyses. The chain of scripts and their arguments, as well as the definition of the variables, is described in the ‘workflow’ section of the OSA.\n",
    "\n",
    "The Measure-based workflow can be described abstractly as a black box mathematical function  \n",
    "\n",
    "    y=F(x)        equation (1)    \n",
    "\n",
    "where x is a vector of independent variables or inputs, y is a vector of output variables, and the function F is the application of Measures on the seed model followed by the simulation of the building energy model and any reporting Measures that are part of the workflow and used to compute the output variables. Formulating the problem in this way enables the application and switching between the algorithms that operate on the entire BEM based workflow, since the algorithms are designed to operate on processes which can be defined by equation (1). In this context, an independent variable x is simply a Measure input argument that is no longer fixed to a specific value, but one that has an allowed range of values and an uncertainty distribution type. To compute the outputs y, the selected algorithm creates a set of specific x variable values (based on the problem type and variable uncertainty descriptions) along with the information in the workflow section, and eventually gets transformed to a set of specific OSWs, which are then simulated.\n",
    "\n",
    "![Image description](OSA.png)\n",
    "\n",
    "The baseline model changes can be varied manually by the user or automatically by an algorithm. Although manually configured analyses are limited by nature in the number of design alternatives they contain, algorithmic analyses can have a much larger number of design alternatives. The use of the same simulation workflow is key to enabling different algorithmic types of analyses (i.e. change from full factorial to sensitivity analysis to uncertainty quantification to optimization to calibration).\n",
    "\n",
    "OSAs can be created using the GUI OpenStudio Parametric Analysis Tool (PAT) or programatically using the OpenStudio-Analysis gem, which is the focus of this notebook.\n",
    "To start, load the openstudio-analysis gem.  The features described here require Version >= 1.3.0-0"
   ]
  },
  {
   "cell_type": "code",
   "execution_count": 1,
   "id": "e0a1c6a8-2342-47b4-91b3-7411848a8940",
   "metadata": {},
   "outputs": [
    {
     "name": "stderr",
     "output_type": "stream",
     "text": [
      "Top level ::CompositeIO is deprecated, require 'multipart/post' and use `Multipart::Post::CompositeReadIO` instead!\n",
      "Top level ::Parts is deprecated, require 'multipart/post' and use `Multipart::Post::Parts` instead!\n"
     ]
    },
    {
     "data": {
      "text/plain": [
       "\"1.3.0-0\""
      ]
     },
     "execution_count": 1,
     "metadata": {},
     "output_type": "execute_result"
    }
   ],
   "source": [
    "gem 'openstudio-analysis', '1.3.0.pre.0'\n",
    "require 'openstudio-analysis'\n",
    "\n",
    "OpenStudio::Analysis::VERSION"
   ]
  },
  {
   "cell_type": "markdown",
   "id": "0a143fc6-c565-4713-b676-e65a7c585dbf",
   "metadata": {},
   "source": [
    "We previously defined our workflow in the OSW 'calibration_workflow.osw'. We can use that as a starting point and turn that workflow into an OSA.\n",
    "To start, create an OpenStudio::Analysis object and call it 'Calibration Example'.\n",
    "Next, call the .convert_osw function on the OSW to move the [:steps] section of the OSW into the [:problem][:workflow] section of the OSA."
   ]
  },
  {
   "cell_type": "code",
   "execution_count": 2,
   "id": "e8cd31dc-7c0e-4d7e-b456-d5d85c7bc261",
   "metadata": {},
   "outputs": [
    {
     "data": {
      "text/plain": [
       "[{:arguments=>{:consumption_unit=>\"kWh\", :data_key_name=>\"tot_kwh\", :end_date=>\"2013-12-31\", :fuel_type=>\"Electricity\", :json=>\"../../../data/electric.json\", :remove_existing_data=>true, :set_runperiod=>true, :start_date=>\"2013-01-1\", :variable_name=>\"Electricity Bill\"}, :measure_dir_name=>\"measures/AddMonthlyJSONUtilityData\"}, {:arguments=>{:consumption_unit=>\"therms\", :data_key_name=>\"tot_therms\", :end_date=>\"2013-12-31\", :fuel_type=>\"Gas\", :json=>\"../../../data/natural_gas.json\", :remove_existing_data=>false, :start_date=>\"2013-01-1\", :variable_name=>\"Gas Bill\"}, :measure_dir_name=>\"measures/AddMonthlyJSONUtilityData\"}, {:arguments=>{:ElectricEquipment_perc_change=>10.0, :infil_perc_change=>10.0, :lights_perc_change=>10.0, :mass_perc_change=>10.0, :people_perc_change=>10.0, :space=>\"*All Spaces*\", :space_type=>\"*All SpaceTypes*\", :vent_perc_change=>10.0}, :measure_dir_name=>\"measures/GeneralCalibrationMeasurePercentChange\"}, {:arguments=>{}, :measure_dir_name=>\"measures/CalibrationReportsEnhanced\"}]"
      ]
     },
     "execution_count": 2,
     "metadata": {},
     "output_type": "execute_result"
    }
   ],
   "source": [
    "analysis = OpenStudio::Analysis.create('Calibration Example')\n",
    "analysis.convert_osw('calibration_workflow.osw')"
   ]
  },
  {
   "cell_type": "markdown",
   "id": "0429d45f-3e63-4db5-8779-421557787b4d",
   "metadata": {},
   "source": [
    "Next we will define Output Variables and Objective Functions.  Notice that the first four Output Variables below are turned into Objective Functions by setting the :objective_function key to `True`.  Multi-Objective algorithms have the ability to group Objective Functions together in the sense that they will be added together and treated as a single value, typically using the L2 Norm.  The default value for key :objective_function_group is 1, so to make them separate groups so that they can be optimized or treated separately we will change their values to 2,3,4.  \n",
    "\n",
    "The last entry is a plain old output variable used for reporting and wont be used by any algorithm."
   ]
  },
  {
   "cell_type": "code",
   "execution_count": 3,
   "id": "75cacad9-edda-4e68-8582-4ed8a95c2228",
   "metadata": {},
   "outputs": [
    {
     "data": {
      "text/plain": [
       "[{:units=>\"%\", :objective_function=>true, :objective_function_index=>0, :objective_function_target=>nil, :objective_function_group=>1, :scaling_factor=>nil, :visualize=>true, :metadata_id=>nil, :export=>true, :display_name=>\"electricity_consumption_cvrmse\", :name=>\"calibration_reports_enhanced.electricity_consumption_cvrmse\"}, {:units=>\"%\", :objective_function=>true, :objective_function_index=>1, :objective_function_target=>nil, :objective_function_group=>2, :scaling_factor=>nil, :visualize=>true, :metadata_id=>nil, :export=>true, :display_name=>\"electricity_consumption_nmbe\", :name=>\"calibration_reports_enhanced.electricity_consumption_nmbe\"}, {:units=>\"%\", :objective_function=>true, :objective_function_index=>2, :objective_function_target=>nil, :objective_function_group=>3, :scaling_factor=>nil, :visualize=>true, :metadata_id=>nil, :export=>true, :display_name=>\"natural_gas_consumption_cvrmse\", :name=>\"calibration_reports_enhanced.natural_gas_consumption_cvrmse\"}, {:units=>\"%\", :objective_function=>true, :objective_function_index=>3, :objective_function_target=>nil, :objective_function_group=>4, :scaling_factor=>nil, :visualize=>true, :metadata_id=>nil, :export=>true, :display_name=>\"natural_gas_consumption_nmbe\", :name=>\"calibration_reports_enhanced.natural_gas_consumption_nmbe\"}, {:units=>\"%\", :objective_function=>false, :objective_function_index=>nil, :objective_function_target=>nil, :objective_function_group=>nil, :scaling_factor=>nil, :visualize=>false, :metadata_id=>nil, :export=>true, :display_name=>\"electricity_ip\", :name=>\"openstudio_results.electricity_ip\"}]"
      ]
     },
     "execution_count": 3,
     "metadata": {},
     "output_type": "execute_result"
    }
   ],
   "source": [
    "o = analysis.add_output(\n",
    "      display_name: 'electricity_consumption_cvrmse',\n",
    "      name: 'calibration_reports_enhanced.electricity_consumption_cvrmse',\n",
    "      units: '%',\n",
    "      objective_function: true\n",
    "    )\n",
    "\n",
    "o = analysis.add_output(\n",
    "      display_name: 'electricity_consumption_nmbe',\n",
    "      name: 'calibration_reports_enhanced.electricity_consumption_nmbe',\n",
    "      units: '%',\n",
    "      objective_function: true,\n",
    "      objective_function_group: 2\n",
    "    )\n",
    "\n",
    "o = analysis.add_output(\n",
    "      display_name: 'natural_gas_consumption_cvrmse',\n",
    "      name: 'calibration_reports_enhanced.natural_gas_consumption_cvrmse',\n",
    "      units: '%',\n",
    "      objective_function: true,\n",
    "      objective_function_group: 3\n",
    "    )\n",
    "\n",
    "o = analysis.add_output(\n",
    "      display_name: 'natural_gas_consumption_nmbe',\n",
    "      name: 'calibration_reports_enhanced.natural_gas_consumption_nmbe',\n",
    "      units: '%',\n",
    "      objective_function: true,\n",
    "      objective_function_group: 4\n",
    "    )\n",
    "\n",
    "o = analysis.add_output(\n",
    "      display_name: 'electricity_ip',\n",
    "      name: 'openstudio_results.electricity_ip',\n",
    "      units: '%',\n",
    "    )"
   ]
  },
  {
   "cell_type": "markdown",
   "id": "19663fda-8240-4198-a3cb-2f1a3d4c49d1",
   "metadata": {},
   "source": [
    "The AddMonthlyJSONUtilityData Measure populates a UtilityBill object in the OpenStudio Model using external JSON data.  The argument called 'json' is the file path, relative to the Measure at runtime, to the json data.  We have previously copied those jsons to the /data project folder.  At runtime there are two case to consider.  The first is if this run is taking place on an OS-Server or (OSAF) instance, where the project data is zipped up into an OSA.zip file and posted to the OS-Server Web node.  In this case, the relative path to the data would be:  \n",
    "\n",
    "**on the server:** '../../../lib/calibration_data/electric_json.json'\n",
    "\n",
    "and that is what we will set the argument 'json' to.\n",
    "Use the **analysis.workflow.find_measure('')** function to return the AddMonthlyJSONUtilityData Measure object in the Workflow. To find it, you need to use the \\<name\\> that is defined in the Measure.XML file. In this case it is add_monthly_json_utility_data."
   ]
  },
  {
   "cell_type": "code",
   "execution_count": 4,
   "id": "7dc590ac-07d5-4776-8bc4-bd67c915220f",
   "metadata": {},
   "outputs": [
    {
     "data": {
      "text/plain": [
       "true"
      ]
     },
     "execution_count": 4,
     "metadata": {},
     "output_type": "execute_result"
    }
   ],
   "source": [
    "#change paths to jsons to work on the server\n",
    "m = analysis.workflow.find_measure('add_monthly_json_utility_data')\n",
    "m.argument_value('json','../../../lib/calibration_data/electric.json')\n",
    "m = analysis.workflow.find_measure('add_monthly_json_utility_data_2')\n",
    "m.argument_value('json','../../../lib/calibration_data/natural_gas.json')"
   ]
  },
  {
   "cell_type": "markdown",
   "id": "c2307931-7816-401b-b57e-97ea92297a95",
   "metadata": {},
   "source": [
    "A static Measure Argument can be turned into a Variable by assigning a likelihood distribution type to it along with parameters that best describe its variability.  As an example, we could describe a variable with equal probability of taking values from 0 to 10 as a `uniform` distribution with a `:minimum` value of `0` and a `:maximum` value of `10`.  \n",
    "\n",
    "The distribution is described by a hash with the following keys, not all of them are required:  \n",
    "\n",
    "`:type` of distributions are: `discrete`, `uniform`, `triangle`, `normal`, `lognormal`, `integer_sequence`. **required**  \n",
    "`:minimum` Minimum value of the distribution, **required** for all distributions  \n",
    "`:maximum` Maximum value of the distribution, **required** for all distributions  \n",
    "`:standard_deviation` The standard deviation, if the distribution requires it.  \n",
    "`:mode` The mean/mode of the distribution (if required)  \n",
    "`:mean` Alias for the mode. If this is used it will override the mode  \n",
    "`:relation_to_output` How is the variable correlates to the output of interest (for continuous distributions)  \n",
    "`:step_size` Minimum step size (delta_x) of the variable (for continuous distributions)  \n",
    "`:values` If discrete, then the values to run  \n",
    "`:weights` If discrete, then the weights for each of the discrete values, must be the same length as values, and sum to 1. If empty, then it will create this automatically to be uniform.  \n",
    "\n",
    "The steps to making a Variable is to  \n",
    "  1. find the Measure in the workflow.  \n",
    "  2. create distribution hash.  \n",
    "  3. call `.make_variable` with the name of the argument that will become a variable and the name you wish to call the variable, along with the distribution hash. \n"
   ]
  },
  {
   "cell_type": "code",
   "execution_count": 5,
   "id": "5d55a6d7-5fe9-43e5-b93b-826d1e7305d7",
   "metadata": {},
   "outputs": [
    {
     "data": {
      "text/plain": [
       "true"
      ]
     },
     "execution_count": 5,
     "metadata": {},
     "output_type": "execute_result"
    }
   ],
   "source": [
    "m = analysis.workflow.find_measure('general_calibration_measure_percent_change')\n",
    "d = {\n",
    "      type: 'uniform',\n",
    "      minimum: -50,\n",
    "      maximum: 50,\n",
    "      mean: 0\n",
    "    }\n",
    "    m.make_variable('lights_perc_change', 'Lights Percent Change', d)\n",
    "\n",
    "m = analysis.workflow.find_measure('general_calibration_measure_percent_change')\n",
    "d = {\n",
    "      type: 'uniform',\n",
    "      minimum: -50,\n",
    "      maximum: 50,\n",
    "      mean: 0\n",
    "    }\n",
    "    m.make_variable('ElectricEquipment_perc_change', 'Electric Equipment Percent Change', d)"
   ]
  },
  {
   "cell_type": "markdown",
   "id": "f05c48be-2e09-4529-8f3f-6c9ee03f5274",
   "metadata": {},
   "source": [
    "Server scripts are bash scripts that can be used for various purposes such as changing the Gems that are used in an analysis or sending results to an S3 bucket.  There are 2 types of scripts: `Analysis` and `DataPoint` and they can be either `initialization` or `finalization`.  As an example, we have a dummy script that simply prints a one, two, three or four and various locations in the analysis.  These scripts need to be added so that the scripts are added to the .zip payload that gets submitted to the Server along with the Measures, seed models, etc. The path to the scripts is the first argument, an array of arguments for the script is next, followed by when the script should run."
   ]
  },
  {
   "cell_type": "code",
   "execution_count": 6,
   "id": "1e60ebad-edcc-4534-a1c3-350b993fa788",
   "metadata": {},
   "outputs": [
    {
     "data": {
      "text/plain": [
       "true"
      ]
     },
     "execution_count": 6,
     "metadata": {},
     "output_type": "execute_result"
    }
   ],
   "source": [
    "#full_path_to_file = File.expand_path(\"scripts/script.sh\", path_to_this_file)\n",
    "analysis.server_scripts.add('scripts/script.sh', ['one', 'two'])\n",
    "# add analysis finalization script\n",
    "analysis.server_scripts.add('scripts/script.sh', ['three', 'four'], 'finalization', 'analysis')  "
   ]
  },
  {
   "cell_type": "code",
   "execution_count": 7,
   "id": "ba189b20-2862-480c-a947-734867c27050",
   "metadata": {},
   "outputs": [
    {
     "data": {
      "text/plain": [
       "23035"
      ]
     },
     "execution_count": 7,
     "metadata": {},
     "output_type": "execute_result"
    }
   ],
   "source": [
    "#default analysis is single_run, change to Morris\n",
    "analysis.analysis_type = 'morris'\n",
    "\n",
    "File.write('analysis.json',JSON.pretty_generate(analysis.to_hash))"
   ]
  },
  {
   "cell_type": "code",
   "execution_count": null,
   "id": "32837fd0-4175-4acc-a197-8230b85a12ca",
   "metadata": {},
   "outputs": [],
   "source": []
  },
  {
   "cell_type": "code",
   "execution_count": 8,
   "id": "300dd8be-c724-4bf2-9447-bb5af24f9b92",
   "metadata": {},
   "outputs": [],
   "source": [
    "#The add_monthly_json_utility_data needs the external data.\n",
    "#To upload it, give the path to the directory, in this case Data\n",
    "#It will be call 'calibration_data' and live at /lib/calibration_data in the server"
   ]
  },
  {
   "cell_type": "code",
   "execution_count": 9,
   "id": "27153dd2-0dc9-4f7e-a6af-8efc1f465d9e",
   "metadata": {},
   "outputs": [
    {
     "data": {
      "text/plain": [
       "true"
      ]
     },
     "execution_count": 9,
     "metadata": {},
     "output_type": "execute_result"
    }
   ],
   "source": [
    "analysis.libraries.add('Data', {library_name: 'calibration_data'})"
   ]
  },
  {
   "cell_type": "code",
   "execution_count": 10,
   "id": "cfd2ab34-6147-4d41-b947-8e799711b82f",
   "metadata": {},
   "outputs": [
    {
     "name": "stdout",
     "output_type": "stream",
     "text": [
      "osw_path: C:/Projects/Notebooks/osw_project/calibration_workflow.osw\n",
      "osw_full_path: C:/Projects/Notebooks/osw_project\n",
      "Adding Support Files: Weather\n",
      "  Adding weather/USA_CO_Golden-NREL.724666_TMY3.epw\n",
      "Adding Support Files: Seed Models\n",
      "  Adding seeds/example_model.osm\n",
      "Adding Support Files: Libraries\n",
      "  Adding Data/electric.json\n",
      "  Adding Data/natural_gas.json\n",
      "Adding Support Files: Server Scripts\n",
      "  Adding C:/Projects/Notebooks/osw_project/scripts/script.sh as scripts/data_point/initialization.sh\n",
      "  Adding arguments as scripts/data_point/initialization.args\n",
      "  Adding C:/Projects/Notebooks/osw_project/scripts/script.sh as scripts/analysis/finalization.sh\n",
      "  Adding arguments as scripts/analysis/finalization.args\n",
      "Adding Measures\n",
      "  Adding AddMonthlyJSONUtilityData\n",
      "    Adding File C:/Projects/Notebooks/osw_project/measures/AddMonthlyJSONUtilityData/LICENSE.md\n",
      "    Adding File C:/Projects/Notebooks/osw_project/measures/AddMonthlyJSONUtilityData/measure.rb\n",
      "    Adding File C:/Projects/Notebooks/osw_project/measures/AddMonthlyJSONUtilityData/measure.xml\n",
      "    Adding File C:/Projects/Notebooks/osw_project/measures/AddMonthlyJSONUtilityData/README.md\n",
      "    Adding File C:/Projects/Notebooks/osw_project/measures/AddMonthlyJSONUtilityData/README.md.erb\n",
      "  Adding GeneralCalibrationMeasurePercentChange\n",
      "    Adding File C:/Projects/Notebooks/osw_project/measures/GeneralCalibrationMeasurePercentChange/LICENSE.md\n",
      "    Adding File C:/Projects/Notebooks/osw_project/measures/GeneralCalibrationMeasurePercentChange/measure.rb\n",
      "    Adding File C:/Projects/Notebooks/osw_project/measures/GeneralCalibrationMeasurePercentChange/measure.xml\n",
      "    Adding File C:/Projects/Notebooks/osw_project/measures/GeneralCalibrationMeasurePercentChange/README.md\n",
      "    Adding File C:/Projects/Notebooks/osw_project/measures/GeneralCalibrationMeasurePercentChange/README.md.erb\n",
      "  Adding CalibrationReportsEnhanced\n",
      "    Adding File C:/Projects/Notebooks/osw_project/measures/CalibrationReportsEnhanced/LICENSE.md\n",
      "    Adding File C:/Projects/Notebooks/osw_project/measures/CalibrationReportsEnhanced/measure.rb\n",
      "    Adding File C:/Projects/Notebooks/osw_project/measures/CalibrationReportsEnhanced/measure.xml\n",
      "    Adding File C:/Projects/Notebooks/osw_project/measures/CalibrationReportsEnhanced/README.md\n",
      "    Adding File C:/Projects/Notebooks/osw_project/measures/CalibrationReportsEnhanced/README.md.erb\n",
      "Add Directory C:/Projects/Notebooks/osw_project/measures/CalibrationReportsEnhanced/resources\n",
      "Adding File C:/Projects/Notebooks/osw_project/measures/CalibrationReportsEnhanced/resources/report.html.in\n"
     ]
    },
    {
     "data": {
      "text/plain": [
       "[#<OpenStudio::Analysis::WorkflowStep:0x000000000d2df048 @name=\"add_monthly_json_utility_data\", @display_name=\"Add Monthly JSON Utility Data\", @type=\"ModelMeasure\", @measure_definition_class_name=\"AddMonthlyJSONUtilityData\", @measure_definition_directory=\"./measures/AddMonthlyJSONUtilityData\", @measure_definition_directory_local=\"C:/Projects/Notebooks/osw_project/measures/AddMonthlyJSONUtilityData\", @measure_definition_display_name=\"Add Monthly JSON Utility Data\", @measure_definition_name=\"add_monthly_json_utility_data\", @measure_definition_name_xml=nil, @measure_definition_uuid=\"6da969e0-4256-49bf-9607-26504cc3d423\", @measure_definition_version_uuid=\"706776f7-efa4-4aa4-9733-96f4e64033fe\", @uuid=\"6da969e0-4256-49bf-9607-26504cc3d423\", @version_uuid=\"706776f7-efa4-4aa4-9733-96f4e64033fe\", @description=\"Add Monthly JSON Utility Data\", @arguments=[{:display_name=>\"Skip Entire Measure\", :display_name_short=>\"Skip\", :name=>\"__SKIP__\", :value_type=>\"boolean\", :default_value=>false, :value=>false}, {:display_name=>\"Path to JSON Data in the Server.\", :display_name_short=>\"Path to JSON Data in the Server.\", :name=>\"json\", :value_type=>\"string\", :default_value=>\"../../../lib/calibration_data/electric.json\", :value=>\"../../../lib/calibration_data/electric.json\"}, {:display_name=>\"Variable name\", :display_name_short=>\"Variable name\", :name=>\"variable_name\", :value_type=>\"string\", :default_value=>\"Electric Bill\", :value=>\"Electricity Bill\"}, {:display_name=>\"Fuel Type\", :display_name_short=>\"Fuel Type\", :name=>\"fuel_type\", :value_type=>\"string\", :default_value=>\"Electricity\", :value=>\"Electricity\"}, {:display_name=>\"Consumption Unit\", :display_name_short=>\"Consumption Unit\", :name=>\"consumption_unit\", :value_type=>\"string\", :default_value=>\"kWh\", :value=>\"kWh\"}, {:display_name=>\"data key name in JSON\", :display_name_short=>\"data key name in JSON\", :name=>\"data_key_name\", :value_type=>\"string\", :default_value=>\"tot_kwh\", :value=>\"tot_kwh\"}, {:display_name=>\"Start date\", :display_name_short=>\"Start date\", :name=>\"start_date\", :value_type=>\"string\", :default_value=>\"2013-01-1\", :value=>\"2013-01-1\"}, {:display_name=>\"End date\", :display_name_short=>\"End date\", :name=>\"end_date\", :value_type=>\"string\", :default_value=>\"2013-12-31\", :value=>\"2013-12-31\"}, {:display_name=>\"remove all existing Utility Bill data objects from model\", :display_name_short=>\"remove all existing Utility Bill data objects from model\", :name=>\"remove_existing_data\", :value_type=>\"boolean\", :default_value=>false, :value=>true}, {:display_name=>\"Set RunPeriod Object in model to use start and end dates\", :display_name_short=>\"Set RunPeriod Object in model to use start and end dates\", :name=>\"set_runperiod\", :value_type=>\"boolean\", :default_value=>false, :value=>true}], @variables=[]>, #<OpenStudio::Analysis::WorkflowStep:0x000000000d441300 @name=\"add_monthly_json_utility_data_2\", @display_name=\"Add Monthly JSON Utility Data 2\", @type=\"ModelMeasure\", @measure_definition_class_name=\"AddMonthlyJSONUtilityData\", @measure_definition_directory=\"./measures/AddMonthlyJSONUtilityData\", @measure_definition_directory_local=\"C:/Projects/Notebooks/osw_project/measures/AddMonthlyJSONUtilityData\", @measure_definition_display_name=\"Add Monthly JSON Utility Data\", @measure_definition_name=\"add_monthly_json_utility_data\", @measure_definition_name_xml=nil, @measure_definition_uuid=\"6da969e0-4256-49bf-9607-26504cc3d423\", @measure_definition_version_uuid=\"706776f7-efa4-4aa4-9733-96f4e64033fe\", @uuid=\"6da969e0-4256-49bf-9607-26504cc3d423\", @version_uuid=\"706776f7-efa4-4aa4-9733-96f4e64033fe\", @description=\"Add Monthly JSON Utility Data\", @arguments=[{:display_name=>\"Skip Entire Measure\", :display_name_short=>\"Skip\", :name=>\"__SKIP__\", :value_type=>\"boolean\", :default_value=>false, :value=>false}, {:display_name=>\"Path to JSON Data in the Server.\", :display_name_short=>\"Path to JSON Data in the Server.\", :name=>\"json\", :value_type=>\"string\", :default_value=>\"../../../lib/calibration_data/electric.json\", :value=>\"../../../lib/calibration_data/natural_gas.json\"}, {:display_name=>\"Variable name\", :display_name_short=>\"Variable name\", :name=>\"variable_name\", :value_type=>\"string\", :default_value=>\"Electric Bill\", :value=>\"Gas Bill\"}, {:display_name=>\"Fuel Type\", :display_name_short=>\"Fuel Type\", :name=>\"fuel_type\", :value_type=>\"string\", :default_value=>\"Electricity\", :value=>\"Gas\"}, {:display_name=>\"Consumption Unit\", :display_name_short=>\"Consumption Unit\", :name=>\"consumption_unit\", :value_type=>\"string\", :default_value=>\"kWh\", :value=>\"therms\"}, {:display_name=>\"data key name in JSON\", :display_name_short=>\"data key name in JSON\", :name=>\"data_key_name\", :value_type=>\"string\", :default_value=>\"tot_kwh\", :value=>\"tot_therms\"}, {:display_name=>\"Start date\", :display_name_short=>\"Start date\", :name=>\"start_date\", :value_type=>\"string\", :default_value=>\"2013-01-1\", :value=>\"2013-01-1\"}, {:display_name=>\"End date\", :display_name_short=>\"End date\", :name=>\"end_date\", :value_type=>\"string\", :default_value=>\"2013-12-31\", :value=>\"2013-12-31\"}, {:display_name=>\"remove all existing Utility Bill data objects from model\", :display_name_short=>\"remove all existing Utility Bill data objects from model\", :name=>\"remove_existing_data\", :value_type=>\"boolean\", :default_value=>false, :value=>false}, {:display_name=>\"Set RunPeriod Object in model to use start and end dates\", :display_name_short=>\"Set RunPeriod Object in model to use start and end dates\", :name=>\"set_runperiod\", :value_type=>\"boolean\", :default_value=>false, :value=>false}], @variables=[]>, #<OpenStudio::Analysis::WorkflowStep:0x000000000beaea38 @name=\"general_calibration_measure_percent_change\", @display_name=\"General Calibration Measure Percent Change\", @type=\"ModelMeasure\", @measure_definition_class_name=\"GeneralCalibrationMeasurePercentChange\", @measure_definition_directory=\"./measures/GeneralCalibrationMeasurePercentChange\", @measure_definition_directory_local=\"C:/Projects/Notebooks/osw_project/measures/GeneralCalibrationMeasurePercentChange\", @measure_definition_display_name=\"General Calibration Measure Percent Change\", @measure_definition_name=\"general_calibration_measure_percent_change\", @measure_definition_name_xml=nil, @measure_definition_uuid=\"0f583ac1-fa7e-48bc-9f80-12ed17180669\", @measure_definition_version_uuid=\"b90bd230-116d-4a1a-be73-eec73504b1da\", @uuid=\"0f583ac1-fa7e-48bc-9f80-12ed17180669\", @version_uuid=\"b90bd230-116d-4a1a-be73-eec73504b1da\", @description=\"This is a general purpose measure to calibrate space and space type elements with a percent change.\", @arguments=[{:display_name=>\"Skip Entire Measure\", :display_name_short=>\"Skip\", :name=>\"__SKIP__\", :value_type=>\"boolean\", :default_value=>false, :value=>false}, {:display_name=>\"Apply the Measure to a SINGLE SpaceType, ALL the SpaceTypes or NONE.\", :display_name_short=>\"Apply the Measure to a SINGLE SpaceType, ALL the SpaceTypes or NONE.\", :name=>\"space_type\", :value_type=>\"string\", :default_value=>\"{111cb5c7-730b-4e08-8229-2bba712e75b6}\", :value=>\"*All SpaceTypes*\"}, {:display_name=>\"Apply the Measure to a SINGLE Space, ALL the Spaces or NONE.\", :display_name_short=>\"Apply the Measure to a SINGLE Space, ALL the Spaces or NONE.\", :name=>\"space\", :value_type=>\"string\", :default_value=>\"{111cb5c7-730b-4e08-8229-2bba712e75b6}\", :value=>\"*All Spaces*\"}, {:display_name=>\"Percent Change in the default Lights Definition.\", :display_name_short=>\"Percent Change in the default Lights Definition.\", :name=>\"lights_perc_change\", :value_type=>\"double\", :default_value=>0.0, :value=>10.0}, {:display_name=>\"Percent Change in the default Luminaire Definition.\", :display_name_short=>\"Percent Change in the default Luminaire Definition.\", :name=>\"luminaire_perc_change\", :value_type=>\"double\", :default_value=>0.0, :value=>0.0}, {:display_name=>\"Percent Change in the default Electric Equipment Definition.\", :display_name_short=>\"Percent Change in the default Electric Equipment Definition.\", :name=>\"ElectricEquipment_perc_change\", :value_type=>\"double\", :default_value=>0.0, :value=>10.0}, {:display_name=>\"Percent Change in the default Gas Equipment Definition.\", :display_name_short=>\"Percent Change in the default Gas Equipment Definition.\", :name=>\"GasEquipment_perc_change\", :value_type=>\"double\", :default_value=>0.0, :value=>0.0}, {:display_name=>\"Percent Change in the default OtherEquipment Definition.\", :display_name_short=>\"Percent Change in the default OtherEquipment Definition.\", :name=>\"OtherEquipment_perc_change\", :value_type=>\"double\", :default_value=>0.0, :value=>0.0}, {:display_name=>\"Percent Change in the default People Definition.\", :display_name_short=>\"Percent Change in the default People Definition.\", :name=>\"people_perc_change\", :value_type=>\"double\", :default_value=>0.0, :value=>10.0}, {:display_name=>\"Percent Change in the default Internal Mass Definition.\", :display_name_short=>\"Percent Change in the default Internal Mass Definition.\", :name=>\"mass_perc_change\", :value_type=>\"double\", :default_value=>0.0, :value=>10.0}, {:display_name=>\"Percent Change in the default Design Infiltration Outdoor Air.\", :display_name_short=>\"Percent Change in the default Design Infiltration Outdoor Air.\", :name=>\"infil_perc_change\", :value_type=>\"double\", :default_value=>0.0, :value=>10.0}, {:display_name=>\"Percent Change in the default Design Specification Outdoor Air.\", :display_name_short=>\"Percent Change in the default Design Specification Outdoor Air.\", :name=>\"vent_perc_change\", :value_type=>\"double\", :default_value=>0.0, :value=>10.0}], @variables=[{:argument=>{:display_name=>\"Percent Change in the default Lights Definition.\", :display_name_short=>\"Percent Change in the default Lights Definition.\", :name=>\"lights_perc_change\", :value_type=>\"double\", :default_value=>0.0, :value=>10.0}, :display_name=>\"Lights Percent Change\", :display_name_short=>\"Lights Percent Change\", :variable_type=>\"variable\", :units=>nil, :minimum=>-50, :maximum=>50, :relation_to_output=>nil, :uuid=>\"c601668d-3053-4585-bc18-c2bb4d834500\", :version_uuid=>\"92993a25-5eee-470b-84d0-9747eaae1b90\", :variable=>true, :static_value=>0.0, :uncertainty_description=>{:type=>\"uniform\", :attributes=>[{:name=>\"lower_bounds\", :value=>-50}, {:name=>\"upper_bounds\", :value=>50}, {:name=>\"modes\", :value=>0}, {:name=>\"delta_x\", :value=>nil}, {:name=>\"stddev\", :value=>nil}]}, :workflow_index=>0}, {:argument=>{:display_name=>\"Percent Change in the default Electric Equipment Definition.\", :display_name_short=>\"Percent Change in the default Electric Equipment Definition.\", :name=>\"ElectricEquipment_perc_change\", :value_type=>\"double\", :default_value=>0.0, :value=>10.0}, :display_name=>\"Electric Equipment Percent Change\", :display_name_short=>\"Electric Equipment Percent Change\", :variable_type=>\"variable\", :units=>nil, :minimum=>-50, :maximum=>50, :relation_to_output=>nil, :uuid=>\"18de6317-e09e-4d6f-ab23-a290ac77d018\", :version_uuid=>\"bdbcf9a8-7582-4571-aecf-590dec61e18e\", :variable=>true, :static_value=>0.0, :uncertainty_description=>{:type=>\"uniform\", :attributes=>[{:name=>\"lower_bounds\", :value=>-50}, {:name=>\"upper_bounds\", :value=>50}, {:name=>\"modes\", :value=>0}, {:name=>\"delta_x\", :value=>nil}, {:name=>\"stddev\", :value=>nil}]}, :workflow_index=>1}]>, #<OpenStudio::Analysis::WorkflowStep:0x000000000cc08058 @name=\"calibration_reports_enhanced\", @display_name=\"Calibration Reports Enhanced\", @type=\"ReportingMeasure\", @measure_definition_class_name=\"CalibrationReportsEnhanced\", @measure_definition_directory=\"./measures/CalibrationReportsEnhanced\", @measure_definition_directory_local=\"C:/Projects/Notebooks/osw_project/measures/CalibrationReportsEnhanced\", @measure_definition_display_name=\"Calibration Reports Enhanced\", @measure_definition_name=\"calibration_reports_enhanced\", @measure_definition_name_xml=nil, @measure_definition_uuid=\"e6642d40-7366-4647-8724-53a37991d668\", @measure_definition_version_uuid=\"96f837a8-f6af-4c34-84fc-c26b2ec2feba\", @uuid=\"e6642d40-7366-4647-8724-53a37991d668\", @version_uuid=\"96f837a8-f6af-4c34-84fc-c26b2ec2feba\", @description=\"This measure is intended for calibibration of modeled results against user entered utility bill.\", @arguments=[{:display_name=>\"Skip Entire Measure\", :display_name_short=>\"Skip\", :name=>\"__SKIP__\", :value_type=>\"boolean\", :default_value=>false, :value=>false}, {:display_name=>\"Electric NMBE limit (%)\", :display_name_short=>\"Electric NMBE limit (%)\", :name=>\"electric_nmbe_limit\", :value_type=>\"double\", :default_value=>5.0, :value=>5.0}, {:display_name=>\"Electric CVRMSE limit (%)\", :display_name_short=>\"Electric CVRMSE limit (%)\", :name=>\"electric_cvrmse_limit\", :value_type=>\"double\", :default_value=>15.0, :value=>15.0}, {:display_name=>\"Gas NMBE limit (%)\", :display_name_short=>\"Gas NMBE limit (%)\", :name=>\"gas_nmbe_limit\", :value_type=>\"double\", :default_value=>5.0, :value=>5.0}, {:display_name=>\"Gas CVRMSE limit (%)\", :display_name_short=>\"Gas CVRMSE limit (%)\", :name=>\"gas_cvrmse_limit\", :value_type=>\"double\", :default_value=>15.0, :value=>15.0}, {:display_name=>\"Fuel Oil#2 NMBE limit (%)\", :display_name_short=>\"Fuel Oil#2 NMBE limit (%)\", :name=>\"fuel_oil_nmbe_limit\", :value_type=>\"double\", :default_value=>5.0, :value=>5.0}, {:display_name=>\"Fuel Oil#2 CVRMSE limit (%)\", :display_name_short=>\"Fuel Oil#2 CVRMSE limit (%)\", :name=>\"fuel_oil_cvrmse_limit\", :value_type=>\"double\", :default_value=>15.0, :value=>15.0}], @variables=[]>]"
      ]
     },
     "execution_count": 10,
     "metadata": {},
     "output_type": "execute_result"
    }
   ],
   "source": [
    "analysis.save_osa_zip('analysis.zip')"
   ]
  },
  {
   "cell_type": "code",
   "execution_count": null,
   "id": "c0da9505-d62e-425a-96f1-fdc479f67bb0",
   "metadata": {},
   "outputs": [],
   "source": []
  },
  {
   "cell_type": "code",
   "execution_count": null,
   "id": "c922157b-e316-4b6e-9afa-b9d34d769a3b",
   "metadata": {},
   "outputs": [],
   "source": []
  }
 ],
 "metadata": {
  "kernelspec": {
   "display_name": "Ruby 2.7.2",
   "language": "ruby",
   "name": "ruby"
  },
  "language_info": {
   "file_extension": ".rb",
   "mimetype": "application/x-ruby",
   "name": "ruby",
   "version": "2.7.2"
  }
 },
 "nbformat": 4,
 "nbformat_minor": 5
}
