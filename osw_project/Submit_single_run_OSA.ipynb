{
 "cells": [
  {
   "cell_type": "markdown",
   "id": "04b091df-43b7-4374-8b32-b5bf48964021",
   "metadata": {},
   "source": [
    "This notebook uses the OpenStudio Meta-CLI to submit OSA jobs to OpenStudio-Server.  \n",
    "\n",
    "The OpenStudio Meta-CLI is a ruby executable that can parse OpenStudio Analysis (OSA) json files and submit the appropriate job type and payload to a running OpenStudio-Server. These files can describe complex analyses, such as building-stock analysis, design optimization, uncertainty quantification, and calibration.  This example requires a running server.\n",
    "\n",
    "If this is running in the provided docker container, to get the HOST IP address, in a terminal or command p use  \n",
    "`>docker info`  \n",
    "and look for and use the **Node Address: xx.xx.xx.xx**"
   ]
  },
  {
   "cell_type": "code",
   "execution_count": 1,
   "id": "8b1af2d3-0a1a-42c8-825e-5f94bf1cae4e",
   "metadata": {},
   "outputs": [
    {
     "data": {
      "text/plain": [
       "\"C:\\\\ParametricAnalysisTool-3.3.0\\\\pat\\\\ruby\\\\bin\\\\ruby\""
      ]
     },
     "execution_count": 1,
     "metadata": {},
     "output_type": "execute_result"
    }
   ],
   "source": [
    "RUBY_CMD = 'C:\\ParametricAnalysisTool-3.3.0\\pat\\ruby\\bin\\ruby'\n",
    "#META_CLI = File.absolute_path('/opt/OpenStudio-server/bin/openstudio_meta')\n",
    "META_CLI = File.absolute_path('C:\\ParametricAnalysisTool-3.3.0\\pat\\OpenStudio-server\\bin\\openstudio_meta')\n",
    "PROJECT = Dir.pwd\n",
    "HOST = 'localhost'\n",
    "\n",
    "@host = HOST\n",
    "@project = PROJECT\n",
    "@meta_cli = META_CLI\n",
    "@ruby_cmd = RUBY_CMD"
   ]
  },
  {
   "cell_type": "raw",
   "id": "8dc34574-ae80-4c45-9f5b-64ded75a40d3",
   "metadata": {},
   "source": [
    "Command to run analysis"
   ]
  },
  {
   "cell_type": "code",
   "execution_count": 4,
   "id": "85e789ca-c93f-4a2a-8ca8-b1481efa0b79",
   "metadata": {},
   "outputs": [
    {
     "data": {
      "text/plain": [
       "\"C:\\\\ParametricAnalysisTool-3.3.0\\\\pat\\\\ruby\\\\bin\\\\ruby C:/ParametricAnalysisTool-3.3.0/pat/OpenStudio-server/bin/openstudio_meta run_analysis --debug --verbose 'C:/Projects/Notebooks/osw_project/analysis.json' 'http://localhost' -z 'analysis' -a single_run\""
      ]
     },
     "execution_count": 4,
     "metadata": {},
     "output_type": "execute_result"
    }
   ],
   "source": [
    "command = \"#{@ruby_cmd} #{@meta_cli} run_analysis --debug --verbose '#{@project}/analysis.json' 'http://#{@host}' -z 'analysis' -a single_run\""
   ]
  },
  {
   "cell_type": "raw",
   "id": "f4a1ee68-3b7d-41da-88f6-f868d5c4fa41",
   "metadata": {},
   "source": [
    "System call to run analysis"
   ]
  },
  {
   "cell_type": "code",
   "execution_count": 5,
   "id": "e691df28-69f1-4398-a0ba-64478578dbfb",
   "metadata": {},
   "outputs": [
    {
     "data": {
      "text/plain": [
       "true"
      ]
     },
     "execution_count": 5,
     "metadata": {},
     "output_type": "execute_result"
    }
   ],
   "source": [
    "run_analysis = system(command)"
   ]
  },
  {
   "cell_type": "raw",
   "id": "43ea6338-d32e-4b1f-9b4c-a3d58d8f63a5",
   "metadata": {},
   "source": [
    "sleep to let analysis process"
   ]
  },
  {
   "cell_type": "code",
   "execution_count": 6,
   "id": "6c2f173a-6e2a-4232-b541-662191a31e3e",
   "metadata": {},
   "outputs": [
    {
     "data": {
      "text/plain": [
       "5"
      ]
     },
     "execution_count": 6,
     "metadata": {},
     "output_type": "execute_result"
    }
   ],
   "source": [
    "sleep 5"
   ]
  },
  {
   "cell_type": "raw",
   "id": "81bb8234-b57f-44de-9070-b1921943729b",
   "metadata": {},
   "source": [
    "use Server API to get the submitted analyses and sort by the newest"
   ]
  },
  {
   "cell_type": "code",
   "execution_count": 7,
   "id": "1d5e7da4-fac8-4b13-ac80-e34a879cf707",
   "metadata": {},
   "outputs": [
    {
     "data": {
      "text/plain": [
       "\"16f16f84-d96d-49db-83ee-c09dde6c5673\""
      ]
     },
     "execution_count": 7,
     "metadata": {},
     "output_type": "execute_result"
    }
   ],
   "source": [
    "require 'rest-client'\n",
    "require 'json'\n",
    "a = RestClient.get \"http://#{@host}/analyses.json\"\n",
    "a = JSON.parse(a, symbolize_names: true)\n",
    "a = a.sort { |x, y| x[:created_at] <=> y[:created_at] }.reverse\n",
    "analysis = a[0]\n",
    "analysis_id = analysis[:_id]"
   ]
  },
  {
   "cell_type": "raw",
   "id": "fcf2ffa9-6400-4b01-a15b-38ac0aab9ddd",
   "metadata": {},
   "source": [
    "get the status of the Analysis"
   ]
  },
  {
   "cell_type": "code",
   "execution_count": 8,
   "id": "1a2bd77e-6db8-4e50-b660-cad52d34984a",
   "metadata": {},
   "outputs": [
    {
     "data": {
      "text/plain": [
       "\"started\""
      ]
     },
     "execution_count": 8,
     "metadata": {},
     "output_type": "execute_result"
    }
   ],
   "source": [
    "a = RestClient.get \"http://#{@host}/analyses/#{analysis_id}/status.json\"\n",
    "a = JSON.parse(a, symbolize_names: true)\n",
    "status = a[:analysis][:status]"
   ]
  },
  {
   "cell_type": "raw",
   "id": "4cbd77d7-b501-40a8-871a-53c2c8684f92",
   "metadata": {},
   "source": [
    "get the analysis type"
   ]
  },
  {
   "cell_type": "code",
   "execution_count": 9,
   "id": "9a2dd0fa-ce11-4c5b-9e39-b85d15fe7841",
   "metadata": {},
   "outputs": [
    {
     "data": {
      "text/plain": [
       "\"single_run\""
      ]
     },
     "execution_count": 9,
     "metadata": {},
     "output_type": "execute_result"
    }
   ],
   "source": [
    "a = RestClient.get \"http://#{@host}/analyses/#{analysis_id}.json\"\n",
    "a = JSON.parse(a, symbolize_names: true)\n",
    "status = a[:analysis][:problem][:analysis_type]"
   ]
  },
  {
   "cell_type": "raw",
   "id": "441c695a-c90c-48a2-b6af-a17f84ec6c73",
   "metadata": {},
   "source": [
    "get the current datapoints from the analysis\n",
    "TODO - add while check to wait on datapoints"
   ]
  },
  {
   "cell_type": "code",
   "execution_count": 19,
   "id": "f2db0533-bef6-4db0-8a5a-0692cb1fb01d",
   "metadata": {},
   "outputs": [
    {
     "data": {
      "text/plain": [
       "1"
      ]
     },
     "execution_count": 19,
     "metadata": {},
     "output_type": "execute_result"
    }
   ],
   "source": [
    "# get all data points in this analysis\n",
    "a = RestClient.get \"http://#{@host}/data_points.json\"\n",
    "a = JSON.parse(a, symbolize_names: true)\n",
    "data_points = []\n",
    "a.each do |data_point|\n",
    "  if data_point[:analysis_id] == analysis_id\n",
    "    data_points << data_point\n",
    "  end\n",
    "end\n",
    "data_points.size"
   ]
  },
  {
   "cell_type": "code",
   "execution_count": 20,
   "id": "e7654c0a-55d1-4f99-80f6-a07c6a0c22d8",
   "metadata": {},
   "outputs": [
    {
     "data": {
      "text/plain": [
       "\"9ea9754b-47e5-49e9-bcb7-cf0c0b10df1c\""
      ]
     },
     "execution_count": 20,
     "metadata": {},
     "output_type": "execute_result"
    }
   ],
   "source": [
    "data_point_id = data_points[0][:_id]"
   ]
  },
  {
   "cell_type": "raw",
   "id": "b2190db6-5236-4138-ae27-1cbeadf7c791",
   "metadata": {},
   "source": [
    "get their status"
   ]
  },
  {
   "cell_type": "code",
   "execution_count": 21,
   "id": "61a50334-19d5-41c2-8cfc-1069d40637ce",
   "metadata": {},
   "outputs": [
    {
     "data": {
      "text/plain": [
       "\"completed\""
      ]
     },
     "execution_count": 21,
     "metadata": {},
     "output_type": "execute_result"
    }
   ],
   "source": [
    "dp = RestClient.get \"http://#{@host}/data_points/#{data_point_id}.json\"\n",
    "dp = JSON.parse(dp, symbolize_names: true)\n",
    "data_points_status = dp[:data_point][:status]"
   ]
  },
  {
   "cell_type": "code",
   "execution_count": 22,
   "id": "a8687c48-59cc-4e88-891d-c784e0f219ab",
   "metadata": {},
   "outputs": [
    {
     "data": {
      "text/plain": [
       "\"completed normal\""
      ]
     },
     "execution_count": 22,
     "metadata": {},
     "output_type": "execute_result"
    }
   ],
   "source": [
    "dp[:data_point][:status_message]"
   ]
  },
  {
   "cell_type": "code",
   "execution_count": 25,
   "id": "8bc29792-222a-475e-b596-cc88d0d37530",
   "metadata": {},
   "outputs": [
    {
     "data": {
      "text/plain": [
       "{:electric_nmbe_limit=>5.0, :electric_cvrmse_limit=>15.0, :gas_nmbe_limit=>5.0, :gas_cvrmse_limit=>15.0, :fuel_oil_nmbe_limit=>5.0, :fuel_oil_cvrmse_limit=>15.0, :ashrae_max_nmbe=>5.0, :ashrae_max_cvrmse=>15.0, :femp_max_nmbe=>15.0, :femp_max_cvrmse=>10.0, :electricity_consumption_cvrmse=>0.4545908511694533, :electricity_consumption_nmbe=>-0.43459090244563026, :electricity_period_1_start_date=>\"2013-Jan-01\", :electricity_period_1_end_date=>\"2013-Jan-31\", :electricity_period_1_consumption_actual=>2392.55, :electricity_period_1_consumption_modeled=>2396.9374669288045, :electricity_period_1_peak_demand_modeled=>8.07783303221987, :electricity_period_1_consumption_nmbe=>0.18338036525064533, :electricity_period_2_start_date=>\"2013-Feb-01\", :electricity_period_2_end_date=>\"2013-Feb-28\", :electricity_period_2_consumption_actual=>2152.71, :electricity_period_2_consumption_modeled=>2156.9649937436, :electricity_period_2_peak_demand_modeled=>8.63936588113086, :electricity_period_2_consumption_nmbe=>0.19765754530801422, :electricity_period_3_start_date=>\"2013-Mar-01\", :electricity_period_3_end_date=>\"2013-Mar-31\", :electricity_period_3_consumption_actual=>2445.09, :electricity_period_3_consumption_modeled=>2453.2196843426805, :electricity_period_3_peak_demand_modeled=>9.103603005568264, :electricity_period_3_consumption_nmbe=>0.3324901882008564, :electricity_period_4_start_date=>\"2013-Apr-01\", :electricity_period_4_end_date=>\"2013-Apr-30\", :electricity_period_4_consumption_actual=>2608.66, :electricity_period_4_consumption_modeled=>2620.558628870786, :electricity_period_4_peak_demand_modeled=>10.022894544353449, :electricity_period_4_consumption_nmbe=>0.4561203403581176, :electricity_period_5_start_date=>\"2013-May-01\", :electricity_period_5_end_date=>\"2013-May-31\", :electricity_period_5_consumption_actual=>2942.43, :electricity_period_5_consumption_modeled=>2957.2111476693226, :electricity_period_5_peak_demand_modeled=>12.133417335197844, :electricity_period_5_consumption_nmbe=>0.502344921351494, :electricity_period_6_start_date=>\"2013-Jun-01\", :electricity_period_6_end_date=>\"2013-Jun-30\", :electricity_period_6_consumption_actual=>3014.3, :electricity_period_6_consumption_modeled=>3029.071237905791, :electricity_period_6_peak_demand_modeled=>11.702775838499555, :electricity_period_6_consumption_nmbe=>0.49003874550611126, :electricity_period_7_start_date=>\"2013-Jul-01\", :electricity_period_7_end_date=>\"2013-Jul-31\", :electricity_period_7_consumption_actual=>3506.8, :electricity_period_7_consumption_modeled=>3523.4722511264395, :electricity_period_7_peak_demand_modeled=>12.853496744316681, :electricity_period_7_consumption_nmbe=>0.4754263467103706, :electricity_period_8_start_date=>\"2013-Aug-01\", :electricity_period_8_end_date=>\"2013-Aug-31\", :electricity_period_8_consumption_actual=>3425.06, :electricity_period_8_consumption_modeled=>3441.6841729864227, :electricity_period_8_peak_demand_modeled=>12.536137471582094, :electricity_period_8_consumption_nmbe=>0.48536881066091586, :electricity_period_9_start_date=>\"2013-Sep-01\", :electricity_period_9_end_date=>\"2013-Sep-30\", :electricity_period_9_consumption_actual=>2884.89, :electricity_period_9_consumption_modeled=>2900.0471827094507, :electricity_period_9_peak_demand_modeled=>11.63053707007454, :electricity_period_9_consumption_nmbe=>0.5253989826111501, :electricity_period_10_start_date=>\"2013-Oct-01\", :electricity_period_10_end_date=>\"2013-Oct-31\", :electricity_period_10_consumption_actual=>2676.21, :electricity_period_10_consumption_modeled=>2688.7139727932367, :electricity_period_10_peak_demand_modeled=>9.392237062530707, :electricity_period_10_consumption_nmbe=>0.46722689150839053, :electricity_period_11_start_date=>\"2013-Nov-01\", :electricity_period_11_end_date=>\"2013-Nov-30\", :electricity_period_11_consumption_actual=>2356.0, :electricity_period_11_consumption_modeled=>2363.4473877241376, :electricity_period_11_peak_demand_modeled=>9.135167624648062, :electricity_period_11_consumption_nmbe=>0.31610304431823305, :electricity_period_12_start_date=>\"2013-Dec-01\", :electricity_period_12_end_date=>\"2013-Dec-31\", :electricity_period_12_consumption_actual=>2333.98, :electricity_period_12_consumption_modeled=>2337.7745876550503, :electricity_period_12_peak_demand_modeled=>7.892431386983002, :electricity_period_12_consumption_nmbe=>0.16258012729544538, :electricity_consumption_actual=>32738.68, :electricity_consumption_modeled=>32869.10271445572, :electricity_sum_of_squares=>1691.9748578102844, :electricity_dof=>12, :electricity_rmse=>11.874253863612807, :natural_gas_consumption_cvrmse=>1.4828909643126638, :natural_gas_consumption_nmbe=>1.0767346762992567, :natural_gas_period_1_start_date=>\"2013-Jan-01\", :natural_gas_period_1_end_date=>\"2013-Jan-31\", :natural_gas_period_1_consumption_actual=>75.74, :natural_gas_period_1_consumption_modeled=>74.83683609266134, :natural_gas_period_1_consumption_nmbe=>-1.192453006784594, :natural_gas_period_2_start_date=>\"2013-Feb-01\", :natural_gas_period_2_end_date=>\"2013-Feb-28\", :natural_gas_period_2_consumption_actual=>85.18, :natural_gas_period_2_consumption_modeled=>84.4076673673237, :natural_gas_period_2_consumption_nmbe=>-0.9067065422356304, :natural_gas_period_3_start_date=>\"2013-Mar-01\", :natural_gas_period_3_end_date=>\"2013-Mar-31\", :natural_gas_period_3_consumption_actual=>55.24, :natural_gas_period_3_consumption_modeled=>54.67418196622997, :natural_gas_period_3_consumption_nmbe=>-1.024290430430899, :natural_gas_period_4_start_date=>\"2013-Apr-01\", :natural_gas_period_4_end_date=>\"2013-Apr-30\", :natural_gas_period_4_consumption_actual=>19.69, :natural_gas_period_4_consumption_modeled=>19.526387977932405, :natural_gas_period_4_consumption_nmbe=>-0.8309396753052122, :natural_gas_period_5_start_date=>\"2013-May-01\", :natural_gas_period_5_end_date=>\"2013-May-31\", :natural_gas_period_5_consumption_actual=>11.08, :natural_gas_period_5_consumption_modeled=>11.013981747976592, :natural_gas_period_5_consumption_nmbe=>-0.5958325994892424, :natural_gas_period_6_start_date=>\"2013-Jun-01\", :natural_gas_period_6_end_date=>\"2013-Jun-30\", :natural_gas_period_6_consumption_actual=>0.84, :natural_gas_period_6_consumption_modeled=>0.8426280746706454, :natural_gas_period_6_consumption_nmbe=>0.3128660322196915, :natural_gas_period_7_start_date=>\"2013-Jul-01\", :natural_gas_period_7_end_date=>\"2013-Jul-31\", :natural_gas_period_7_consumption_actual=>0.26, :natural_gas_period_7_consumption_modeled=>0.2681292392120773, :natural_gas_period_7_consumption_nmbe=>3.1266304661835806, :natural_gas_period_8_start_date=>\"2013-Aug-01\", :natural_gas_period_8_end_date=>\"2013-Aug-31\", :natural_gas_period_8_consumption_actual=>0.16, :natural_gas_period_8_consumption_modeled=>0.1590693642572829, :natural_gas_period_8_consumption_nmbe=>-0.5816473391981846, :natural_gas_period_9_start_date=>\"2013-Sep-01\", :natural_gas_period_9_end_date=>\"2013-Sep-30\", :natural_gas_period_9_consumption_actual=>2.76, :natural_gas_period_9_consumption_modeled=>2.736531325900847, :natural_gas_period_9_consumption_nmbe=>-0.8503142789548104, :natural_gas_period_10_start_date=>\"2013-Oct-01\", :natural_gas_period_10_end_date=>\"2013-Oct-31\", :natural_gas_period_10_consumption_actual=>18.19, :natural_gas_period_10_consumption_modeled=>18.043587542517955, :natural_gas_period_10_consumption_nmbe=>-0.8049063083125161, :natural_gas_period_11_start_date=>\"2013-Nov-01\", :natural_gas_period_11_end_date=>\"2013-Nov-30\", :natural_gas_period_11_consumption_actual=>56.4, :natural_gas_period_11_consumption_modeled=>55.800070967902776, :natural_gas_period_11_consumption_nmbe=>-1.0637039576191882, :natural_gas_period_12_start_date=>\"2013-Dec-01\", :natural_gas_period_12_end_date=>\"2013-Dec-31\", :natural_gas_period_12_consumption_actual=>89.15, :natural_gas_period_12_consumption_modeled=>88.28790989003113, :natural_gas_period_12_consumption_nmbe=>-0.9670107795500562, :natural_gas_consumption_actual=>414.69000000000005, :natural_gas_consumption_modeled=>410.59698155661675, :natural_gas_sum_of_squares=>2.888655534739284, :natural_gas_dof=>12, :natural_gas_rmse=>0.4906335644466316, :total_sum_of_squares=>5.408285649637576e+16, :total_dof=>24, :total_rmse=>47470541.96041643, :electricity_cvrmse_within_limit=>1, :electricity_nmbe_within_limit=>1, :natural_gas_cvrmse_within_limit=>1, :natural_gas_nmbe_within_limit=>1, :applicable=>true}"
      ]
     },
     "execution_count": 25,
     "metadata": {},
     "output_type": "execute_result"
    }
   ],
   "source": [
    "results = dp[:data_point][:results][:calibration_reports_enhanced]"
   ]
  },
  {
   "cell_type": "code",
   "execution_count": 26,
   "id": "f9d29173-31ec-43d1-992b-bd15da0426d9",
   "metadata": {},
   "outputs": [
    {
     "data": {
      "text/plain": [
       "{:electricity_consumption_cvrmse=>0.4545908511694533, :electricity_consumption_nmbe=>-0.43459090244563026, :natural_gas_consumption_cvrmse=>1.4828909643126638, :natural_gas_consumption_nmbe=>1.0767346762992567}"
      ]
     },
     "execution_count": 26,
     "metadata": {},
     "output_type": "execute_result"
    }
   ],
   "source": [
    "results.slice(:electricity_consumption_cvrmse, :electricity_consumption_nmbe, :natural_gas_consumption_cvrmse, :natural_gas_consumption_nmbe)"
   ]
  },
  {
   "cell_type": "code",
   "execution_count": 27,
   "id": "ffbea07f-2f42-45d8-9278-0a8aaef2229e",
   "metadata": {},
   "outputs": [
    {
     "data": {
      "text/plain": [
       "{:objective_function_1=>0.4545908511694533, :objective_function_group_1=>1.0, :objective_function_2=>-0.43459090244563026, :objective_function_group_2=>2.0, :objective_function_3=>1.4828909643126638, :objective_function_group_3=>3.0, :objective_function_4=>1.0767346762992567, :objective_function_group_4=>4.0}"
      ]
     },
     "execution_count": 27,
     "metadata": {},
     "output_type": "execute_result"
    }
   ],
   "source": [
    "objectives_json = RestClient.get \"http://#{@host}/data_points/#{data_point_id}/download_result_file?filename=objectives.json\"\n",
    "objectives_json = JSON.parse(objectives_json, symbolize_names: true)"
   ]
  },
  {
   "cell_type": "code",
   "execution_count": 28,
   "id": "2247c8e5-0fbb-4c59-93f1-ba9888a79ad8",
   "metadata": {},
   "outputs": [
    {
     "data": {
      "text/plain": [
       "690"
      ]
     },
     "execution_count": 28,
     "metadata": {},
     "output_type": "execute_result"
    }
   ],
   "source": [
    "require 'open-uri'\n",
    "File.write 'results.csv', URI.open(\"http://#{@host}/analyses/#{analysis_id}/download_data.csv?export=true\").read\n"
   ]
  },
  {
   "cell_type": "code",
   "execution_count": null,
   "id": "59d815d8-592a-4b64-a4f1-1906cd49db2d",
   "metadata": {},
   "outputs": [],
   "source": []
  }
 ],
 "metadata": {
  "kernelspec": {
   "display_name": "Ruby 2.7.2",
   "language": "ruby",
   "name": "ruby"
  },
  "language_info": {
   "file_extension": ".rb",
   "mimetype": "application/x-ruby",
   "name": "ruby",
   "version": "2.7.2"
  }
 },
 "nbformat": 4,
 "nbformat_minor": 5
}
