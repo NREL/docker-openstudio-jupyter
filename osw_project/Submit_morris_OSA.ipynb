{
 "cells": [
  {
   "cell_type": "markdown",
   "id": "04b091df-43b7-4374-8b32-b5bf48964021",
   "metadata": {},
   "source": [
    "This notebook uses the OpenStudio Meta-CLI to submit OSA jobs to OpenStudio-Server.  \n",
    "\n",
    "The OpenStudio Meta-CLI is a ruby executable that can parse OpenStudio Analysis (OSA) json files and submit the appropriate job type and payload to a running OpenStudio-Server. These files can describe complex analyses, such as building-stock analysis, design optimization, uncertainty quantification, and calibration.  This example requires a running server."
   ]
  },
  {
   "cell_type": "code",
   "execution_count": 1,
   "id": "8b1af2d3-0a1a-42c8-825e-5f94bf1cae4e",
   "metadata": {},
   "outputs": [
    {
     "data": {
      "text/plain": [
       "\"C:\\\\ParametricAnalysisTool-3.3.0\\\\pat\\\\ruby\\\\bin\\\\ruby\""
      ]
     },
     "execution_count": 1,
     "metadata": {},
     "output_type": "execute_result"
    }
   ],
   "source": [
    "RUBY_CMD = 'C:\\ParametricAnalysisTool-3.3.0\\pat\\ruby\\bin\\ruby'\n",
    "#META_CLI = File.absolute_path('/opt/OpenStudio-server/bin/openstudio_meta')\n",
    "META_CLI = File.absolute_path('C:\\ParametricAnalysisTool-3.3.0\\pat\\OpenStudio-server\\bin\\openstudio_meta')\n",
    "PROJECT = Dir.pwd\n",
    "HOST = 'localhost'\n",
    "\n",
    "@host = HOST\n",
    "@project = PROJECT\n",
    "@meta_cli = META_CLI\n",
    "@ruby_cmd = RUBY_CMD"
   ]
  },
  {
   "cell_type": "raw",
   "id": "8dc34574-ae80-4c45-9f5b-64ded75a40d3",
   "metadata": {},
   "source": [
    "Command to run analysis"
   ]
  },
  {
   "cell_type": "code",
   "execution_count": 2,
   "id": "85e789ca-c93f-4a2a-8ca8-b1481efa0b79",
   "metadata": {},
   "outputs": [
    {
     "data": {
      "text/plain": [
       "\"C:\\\\ParametricAnalysisTool-3.3.0\\\\pat\\\\ruby\\\\bin\\\\ruby C:/ParametricAnalysisTool-3.3.0/pat/OpenStudio-server/bin/openstudio_meta run_analysis --debug --verbose 'C:/Projects/Notebooks/osw_project/analysis.json' 'http://localhost' -z 'analysis' -a morris\""
      ]
     },
     "execution_count": 2,
     "metadata": {},
     "output_type": "execute_result"
    }
   ],
   "source": [
    "command = \"#{@ruby_cmd} #{@meta_cli} run_analysis --debug --verbose '#{@project}/analysis.json' 'http://#{@host}' -z 'analysis' -a morris\""
   ]
  },
  {
   "cell_type": "raw",
   "id": "f4a1ee68-3b7d-41da-88f6-f868d5c4fa41",
   "metadata": {},
   "source": [
    "System call to run analysis"
   ]
  },
  {
   "cell_type": "code",
   "execution_count": 3,
   "id": "e691df28-69f1-4398-a0ba-64478578dbfb",
   "metadata": {},
   "outputs": [
    {
     "data": {
      "text/plain": [
       "true"
      ]
     },
     "execution_count": 3,
     "metadata": {},
     "output_type": "execute_result"
    }
   ],
   "source": [
    "run_analysis = system(command)"
   ]
  },
  {
   "cell_type": "raw",
   "id": "43ea6338-d32e-4b1f-9b4c-a3d58d8f63a5",
   "metadata": {},
   "source": [
    "sleep to let analysis process"
   ]
  },
  {
   "cell_type": "code",
   "execution_count": 4,
   "id": "6c2f173a-6e2a-4232-b541-662191a31e3e",
   "metadata": {},
   "outputs": [
    {
     "data": {
      "text/plain": [
       "5"
      ]
     },
     "execution_count": 4,
     "metadata": {},
     "output_type": "execute_result"
    }
   ],
   "source": [
    "sleep 5"
   ]
  },
  {
   "cell_type": "raw",
   "id": "81bb8234-b57f-44de-9070-b1921943729b",
   "metadata": {},
   "source": [
    "use Server API to get the submitted analyses and sort by the newest"
   ]
  },
  {
   "cell_type": "code",
   "execution_count": 5,
   "id": "1d5e7da4-fac8-4b13-ac80-e34a879cf707",
   "metadata": {},
   "outputs": [
    {
     "data": {
      "text/plain": [
       "\"4b1c4ff8-0d00-45c6-9491-11e40ea184f7\""
      ]
     },
     "execution_count": 5,
     "metadata": {},
     "output_type": "execute_result"
    }
   ],
   "source": [
    "require 'rest-client'\n",
    "require 'json'\n",
    "a = RestClient.get \"http://#{@host}/analyses.json\"\n",
    "a = JSON.parse(a, symbolize_names: true)\n",
    "a = a.sort { |x, y| x[:created_at] <=> y[:created_at] }.reverse\n",
    "analysis = a[0]\n",
    "analysis_id = analysis[:_id]"
   ]
  },
  {
   "cell_type": "raw",
   "id": "fcf2ffa9-6400-4b01-a15b-38ac0aab9ddd",
   "metadata": {},
   "source": [
    "get the status of the Analysis"
   ]
  },
  {
   "cell_type": "code",
   "execution_count": 6,
   "id": "1a2bd77e-6db8-4e50-b660-cad52d34984a",
   "metadata": {},
   "outputs": [
    {
     "data": {
      "text/plain": [
       "\"queued\""
      ]
     },
     "execution_count": 6,
     "metadata": {},
     "output_type": "execute_result"
    }
   ],
   "source": [
    "a = RestClient.get \"http://#{@host}/analyses/#{analysis_id}/status.json\"\n",
    "a = JSON.parse(a, symbolize_names: true)\n",
    "status = a[:analysis][:status]"
   ]
  },
  {
   "cell_type": "raw",
   "id": "4cbd77d7-b501-40a8-871a-53c2c8684f92",
   "metadata": {},
   "source": [
    "get the analysis type"
   ]
  },
  {
   "cell_type": "code",
   "execution_count": 7,
   "id": "9a2dd0fa-ce11-4c5b-9e39-b85d15fe7841",
   "metadata": {},
   "outputs": [
    {
     "data": {
      "text/plain": [
       "\"morris\""
      ]
     },
     "execution_count": 7,
     "metadata": {},
     "output_type": "execute_result"
    }
   ],
   "source": [
    "a = RestClient.get \"http://#{@host}/analyses/#{analysis_id}.json\"\n",
    "a = JSON.parse(a, symbolize_names: true)\n",
    "status = a[:analysis][:problem][:analysis_type]"
   ]
  },
  {
   "cell_type": "raw",
   "id": "441c695a-c90c-48a2-b6af-a17f84ec6c73",
   "metadata": {},
   "source": [
    "get the current datapoints from the analysis\n",
    "TODO - add while check to wait on datapoints"
   ]
  },
  {
   "cell_type": "code",
   "execution_count": 8,
   "id": "f2db0533-bef6-4db0-8a5a-0692cb1fb01d",
   "metadata": {},
   "outputs": [
    {
     "data": {
      "text/plain": [
       "0"
      ]
     },
     "execution_count": 8,
     "metadata": {},
     "output_type": "execute_result"
    }
   ],
   "source": [
    "# get all data points in this analysis\n",
    "a = RestClient.get \"http://#{@host}/data_points.json\"\n",
    "a = JSON.parse(a, symbolize_names: true)\n",
    "data_points = []\n",
    "a.each do |data_point|\n",
    "  if data_point[:analysis_id] == analysis_id\n",
    "    data_points << data_point\n",
    "  end\n",
    "end\n",
    "data_points.size"
   ]
  },
  {
   "cell_type": "code",
   "execution_count": 9,
   "id": "e7654c0a-55d1-4f99-80f6-a07c6a0c22d8",
   "metadata": {},
   "outputs": [
    {
     "ename": "NoMethodError",
     "evalue": "undefined method `[]' for nil:NilClass",
     "output_type": "error",
     "traceback": [
      "\u001b[31mNoMethodError\u001b[0m: undefined method `[]' for nil:NilClass",
      "(irb):in `irb_binding'"
     ]
    }
   ],
   "source": [
    "data_point_id = data_points[0][:_id]"
   ]
  },
  {
   "cell_type": "raw",
   "id": "b2190db6-5236-4138-ae27-1cbeadf7c791",
   "metadata": {},
   "source": [
    "get their status"
   ]
  },
  {
   "cell_type": "code",
   "execution_count": 10,
   "id": "61a50334-19d5-41c2-8cfc-1069d40637ce",
   "metadata": {},
   "outputs": [
    {
     "ename": "RestClient::NotFound",
     "evalue": "404 Not Found",
     "output_type": "error",
     "traceback": [
      "\u001b[31mRestClient::NotFound\u001b[0m: 404 Not Found",
      "C:/Ruby27-x64/lib/ruby/gems/2.7.0/gems/rest-client-2.1.0-x64-mingw32/lib/restclient/abstract_response.rb:249:in `exception_with_response'",
      "C:/Ruby27-x64/lib/ruby/gems/2.7.0/gems/rest-client-2.1.0-x64-mingw32/lib/restclient/abstract_response.rb:129:in `return!'",
      "C:/Ruby27-x64/lib/ruby/gems/2.7.0/gems/rest-client-2.1.0-x64-mingw32/lib/restclient/request.rb:836:in `process_result'",
      "C:/Ruby27-x64/lib/ruby/gems/2.7.0/gems/rest-client-2.1.0-x64-mingw32/lib/restclient/request.rb:743:in `block in transmit'",
      "C:/Ruby27-x64/lib/ruby/2.7.0/net/http.rb:933:in `start'",
      "C:/Ruby27-x64/lib/ruby/gems/2.7.0/gems/rest-client-2.1.0-x64-mingw32/lib/restclient/request.rb:727:in `transmit'",
      "C:/Ruby27-x64/lib/ruby/gems/2.7.0/gems/rest-client-2.1.0-x64-mingw32/lib/restclient/request.rb:163:in `execute'",
      "C:/Ruby27-x64/lib/ruby/gems/2.7.0/gems/rest-client-2.1.0-x64-mingw32/lib/restclient/request.rb:63:in `execute'",
      "C:/Ruby27-x64/lib/ruby/gems/2.7.0/gems/rest-client-2.1.0-x64-mingw32/lib/restclient.rb:66:in `get'",
      "(irb):in `irb_binding'"
     ]
    }
   ],
   "source": [
    "dp = RestClient.get \"http://#{@host}/data_points/#{data_point_id}.json\"\n",
    "dp = JSON.parse(dp, symbolize_names: true)\n",
    "data_points_status = dp[:data_point][:status]"
   ]
  },
  {
   "cell_type": "code",
   "execution_count": 11,
   "id": "a8687c48-59cc-4e88-891d-c784e0f219ab",
   "metadata": {},
   "outputs": [
    {
     "ename": "NoMethodError",
     "evalue": "undefined method `[]' for nil:NilClass",
     "output_type": "error",
     "traceback": [
      "\u001b[31mNoMethodError\u001b[0m: undefined method `[]' for nil:NilClass",
      "(irb):in `irb_binding'"
     ]
    }
   ],
   "source": [
    "dp[:data_point][:status_message]"
   ]
  },
  {
   "cell_type": "code",
   "execution_count": 12,
   "id": "8bc29792-222a-475e-b596-cc88d0d37530",
   "metadata": {},
   "outputs": [
    {
     "ename": "NoMethodError",
     "evalue": "undefined method `[]' for nil:NilClass",
     "output_type": "error",
     "traceback": [
      "\u001b[31mNoMethodError\u001b[0m: undefined method `[]' for nil:NilClass",
      "(irb):in `irb_binding'"
     ]
    }
   ],
   "source": [
    "results = dp[:data_point][:results][:calibration_reports_enhanced]"
   ]
  },
  {
   "cell_type": "code",
   "execution_count": 13,
   "id": "f9d29173-31ec-43d1-992b-bd15da0426d9",
   "metadata": {},
   "outputs": [
    {
     "ename": "NoMethodError",
     "evalue": "undefined method `slice' for nil:NilClass",
     "output_type": "error",
     "traceback": [
      "\u001b[31mNoMethodError\u001b[0m: undefined method `slice' for nil:NilClass",
      "(irb):in `irb_binding'"
     ]
    }
   ],
   "source": [
    "results.slice(:electricity_consumption_cvrmse, :electricity_consumption_nmbe, :natural_gas_consumption_cvrmse, :natural_gas_consumption_nmbe)"
   ]
  },
  {
   "cell_type": "code",
   "execution_count": 14,
   "id": "ffbea07f-2f42-45d8-9278-0a8aaef2229e",
   "metadata": {},
   "outputs": [
    {
     "ename": "JSON::ParserError",
     "evalue": "783: unexpected token at '<!DOCTYPE html>\n<html>\n<head>\n  <title>OpenStudio Cloud Management Console</title>\n  <link rel=\"stylesheet\" media=\"all\" href=\"/assets/application-6582de865e52143ca19db02c7cadcf2a59d7d1400b3d2207d1b13f7c2dcd9ea4.css\" />\n  <script src=\"/assets/application-a0d2a6d56c25686ffaf0ad9147b0d63b131d2a7b8148a5150714e1db02fcc796.js\"></script>\n  <meta name=\"csrf-param\" content=\"authenticity_token\" />\n<meta name=\"csrf-token\" content=\"DXANtZ6DjtRjwxvtPqblj3+AKgcbZBLMuc8TNgogZNdyHsq/ExlzOKsh6sj0NBeIdA9AdiY0Ved/vUzDLlRa4A==\" />\n</head>\n<body>\n\n\n\n\n<div class=\"fluid-container\">\n  \n<nav class=\"navbar navbar-default\" role=\"navigation\">\n  <div class=\"container-fluid\">\n    <div class=\"collapse nav-collapse\">\n    <ul class=\"nav navbar-nav\">\n      <li><a href=\"/\">Home</a></li>\n      <li class=\"active\"><a href=\"/projects\">Projects</a></li>\n      <li  class=\"dropdown \">\n\n        <a href=\"#\" class=\"dropdown-toggle\" data-toggle=\"dropdown\">Analyses <b class=\"caret\"></b></a>\n\n        <ul class=\"dropdown-menu\">\n            <li ><a href=\"/analyses/3cd92199-e52a-4ab4-bdfe-90c568dd9a12\">URBANopt_090_sr</a></li>\n            <li ><a href=\"/analyses/30ae4a48-998d-4be1-8f8f-7bc18a0b3654\">calibration_example</a></li>\n            <li ><a href=\"/analyses/16f16f84-d96d-49db-83ee-c09dde6c5673\">calibration_example</a></li>\n            <li ><a href=\"/analyses/b4d57d7f-7ba6-4c74-9e45-352e249614cb\">calibration_example</a></li>\n            <li ><a href=\"/analyses/4b1c4ff8-0d00-45c6-9491-11e40ea184f7\">calibration_example</a></li>\n            <li ><a href=\"/analyses\">Show All</a></li>\n        </ul>\n      </li>\n      <li><a href=\"/compute_nodes\">Nodes</a></li>\n      <li><a href=\"/admin\">Admin</a></li>\n      <li><a href=\"/about\">About</a></li>\n\n    </ul>\n   </div>\n   </div><!-- /.container-fluid -->\n</nav>\n\n\n\n  <div class=\"row-fluid header-row\">\n    <div class=\"span12\">\n      <h1 class=\"sitename\"><a class=\"sitename\" href=\"/projects\">OpenStudio Cloud Management Console</a></h1>\n    </div>\n\n  </div>\n  <div id=\"blue-line-and-fade\" class=\"row-fluid header-row\">\n\n    <div class=\"span12\">\n      <hr class='top-blue '>\n      <div class=\"below-header\">\n\n      </div>\n\n    </div>\n  </div>\n\n\n\n  <div class=\"row-fluid header-row\">\n    <!-- notices -->\n    \n\n<div id=\"flash_messages\"> \n    Could not find datapoint<br/>\n</div>\n\n\n  </div>\n  \n<h2>Projects</h2>\n\n<table class=\"table table-striped\">\n  <tr>\n    <th>Name</th>\n    <th>View</th>\n    <th>Action</th>\n  </tr>\n  <tr>\n    <td><a href=\"/projects/6fbcf6c5-183b-405c-8549-5352cedb4cb3\">Project 2023-02-14 15:59:58</a></td>\n    <td><a href=\"/projects/6fbcf6c5-183b-405c-8549-5352cedb4cb3\">HTML</a> | <a href=\"/projects/6fbcf6c5-183b-405c-8549-5352cedb4cb3.json\">JSON</a></td>\n        <td><a data-confirm=\"Are you sure?\" rel=\"nofollow\" data-method=\"delete\" href=\"/projects/6fbcf6c5-183b-405c-8549-5352cedb4cb3\">Delete</a></td>\n  </tr>\n  <tr>\n    <td><a href=\"/projects/0e90927b-0d42-4f2f-9b1f-e1a5c3b6cd6b\">Project 2023-02-14 15:37:40</a></td>\n    <td><a href=\"/projects/0e90927b-0d42-4f2f-9b1f-e1a5c3b6cd6b\">HTML</a> | <a href=\"/projects/0e90927b-0d42-4f2f-9b1f-e1a5c3b6cd6b.json\">JSON</a></td>\n        <td><a data-confirm=\"Are you sure?\" rel=\"nofollow\" data-method=\"delete\" href=\"/projects/0e90927b-0d42-4f2f-9b1f-e1a5c3b6cd6b\">Delete</a></td>\n  </tr>\n  <tr>\n    <td><a href=\"/projects/a760ae92-21b4-4221-a389-c1c9b6a1ffd9\">Project 2023-02-14 16:11:23</a></td>\n    <td><a href=\"/projects/a760ae92-21b4-4221-a389-c1c9b6a1ffd9\">HTML</a> | <a href=\"/projects/a760ae92-21b4-4221-a389-c1c9b6a1ffd9.json\">JSON</a></td>\n        <td><a data-confirm=\"Are you sure?\" rel=\"nofollow\" data-method=\"delete\" href=\"/projects/a760ae92-21b4-4221-a389-c1c9b6a1ffd9\">Delete</a></td>\n  </tr>\n  <tr>\n    <td><a href=\"/projects/ac33fe20-767e-4d20-86b7-13da2d32a777\">Project 2023-02-14 16:37:49</a></td>\n    <td><a href=\"/projects/ac33fe20-767e-4d20-86b7-13da2d32a777\">HTML</a> | <a href=\"/projects/ac33fe20-767e-4d20-86b7-13da2d32a777.json\">JSON</a></td>\n        <td><a data-confirm=\"Are you sure?\" rel=\"nofollow\" data-method=\"delete\" href=\"/projects/ac33fe20-767e-4d20-86b7-13da2d32a777\">Delete</a></td>\n  </tr>\n  <tr>\n    <td><a href=\"/projects/6f77cbeb-3c91-49ef-a51a-d42619f1bcff\">Project 2023-02-14 16:41:23</a></td>\n    <td><a href=\"/projects/6f77cbeb-3c91-49ef-a51a-d42619f1bcff\">HTML</a> | <a href=\"/projects/6f77cbeb-3c91-49ef-a51a-d42619f1bcff.json\">JSON</a></td>\n        <td><a data-confirm=\"Are you sure?\" href=\"/analyses/4b1c4ff8-0d00-45c6-9491-11e40ea184f7/stop\">Stop</a></td>\n  </tr>\n</table>\n\n\n</div> <!-- /container -->\n\n\n</body>\n</html>\n'",
     "output_type": "error",
     "traceback": [
      "\u001b[31mJSON::ParserError\u001b[0m: 783: unexpected token at '<!DOCTYPE html>\n<html>\n<head>\n  <title>OpenStudio Cloud Management Console</title>\n  <link rel=\"stylesheet\" media=\"all\" href=\"/assets/application-6582de865e52143ca19db02c7cadcf2a59d7d1400b3d2207d1b13f7c2dcd9ea4.css\" />\n  <script src=\"/assets/application-a0d2a6d56c25686ffaf0ad9147b0d63b131d2a7b8148a5150714e1db02fcc796.js\"></script>\n  <meta name=\"csrf-param\" content=\"authenticity_token\" />\n<meta name=\"csrf-token\" content=\"DXANtZ6DjtRjwxvtPqblj3+AKgcbZBLMuc8TNgogZNdyHsq/ExlzOKsh6sj0NBeIdA9AdiY0Ved/vUzDLlRa4A==\" />\n</head>\n<body>\n\n\n\n\n<div class=\"fluid-container\">\n  \n<nav class=\"navbar navbar-default\" role=\"navigation\">\n  <div class=\"container-fluid\">\n    <div class=\"collapse nav-collapse\">\n    <ul class=\"nav navbar-nav\">\n      <li><a href=\"/\">Home</a></li>\n      <li class=\"active\"><a href=\"/projects\">Projects</a></li>\n      <li  class=\"dropdown \">\n\n        <a href=\"#\" class=\"dropdown-toggle\" data-toggle=\"dropdown\">Analyses <b class=\"caret\"></b></a>\n\n        <ul class=\"dropdown-menu\">\n            <li ><a href=\"/analyses/3cd92199-e52a-4ab4-bdfe-90c568dd9a12\">URBANopt_090_sr</a></li>\n            <li ><a href=\"/analyses/30ae4a48-998d-4be1-8f8f-7bc18a0b3654\">calibration_example</a></li>\n            <li ><a href=\"/analyses/16f16f84-d96d-49db-83ee-c09dde6c5673\">calibration_example</a></li>\n            <li ><a href=\"/analyses/b4d57d7f-7ba6-4c74-9e45-352e249614cb\">calibration_example</a></li>\n            <li ><a href=\"/analyses/4b1c4ff8-0d00-45c6-9491-11e40ea184f7\">calibration_example</a></li>\n            <li ><a href=\"/analyses\">Show All</a></li>\n        </ul>\n      </li>\n      <li><a href=\"/compute_nodes\">Nodes</a></li>\n      <li><a href=\"/admin\">Admin</a></li>\n      <li><a href=\"/about\">About</a></li>\n\n    </ul>\n   </div>\n   </div><!-- /.container-fluid -->\n</nav>\n\n\n\n  <div class=\"row-fluid header-row\">\n    <div class=\"span12\">\n      <h1 class=\"sitename\"><a class=\"sitename\" href=\"/projects\">OpenStudio Cloud Management Console</a></h1>\n    </div>\n\n  </div>\n  <div id=\"blue-line-and-fade\" class=\"row-fluid header-row\">\n\n    <div class=\"span12\">\n      <hr class='top-blue '>\n      <div class=\"below-header\">\n\n      </div>\n\n    </div>\n  </div>\n\n\n\n  <div class=\"row-fluid header-row\">\n    <!-- notices -->\n    \n\n<div id=\"flash_messages\"> \n    Could not find datapoint<br/>\n</div>\n\n\n  </div>\n  \n<h2>Projects</h2>\n\n<table class=\"table table-striped\">\n  <tr>\n    <th>Name</th>\n    <th>View</th>\n    <th>Action</th>\n  </tr>\n  <tr>\n    <td><a href=\"/projects/6fbcf6c5-183b-405c-8549-5352cedb4cb3\">Project 2023-02-14 15:59:58</a></td>\n    <td><a href=\"/projects/6fbcf6c5-183b-405c-8549-5352cedb4cb3\">HTML</a> | <a href=\"/projects/6fbcf6c5-183b-405c-8549-5352cedb4cb3.json\">JSON</a></td>\n        <td><a data-confirm=\"Are you sure?\" rel=\"nofollow\" data-method=\"delete\" href=\"/projects/6fbcf6c5-183b-405c-8549-5352cedb4cb3\">Delete</a></td>\n  </tr>\n  <tr>\n    <td><a href=\"/projects/0e90927b-0d42-4f2f-9b1f-e1a5c3b6cd6b\">Project 2023-02-14 15:37:40</a></td>\n    <td><a href=\"/projects/0e90927b-0d42-4f2f-9b1f-e1a5c3b6cd6b\">HTML</a> | <a href=\"/projects/0e90927b-0d42-4f2f-9b1f-e1a5c3b6cd6b.json\">JSON</a></td>\n        <td><a data-confirm=\"Are you sure?\" rel=\"nofollow\" data-method=\"delete\" href=\"/projects/0e90927b-0d42-4f2f-9b1f-e1a5c3b6cd6b\">Delete</a></td>\n  </tr>\n  <tr>\n    <td><a href=\"/projects/a760ae92-21b4-4221-a389-c1c9b6a1ffd9\">Project 2023-02-14 16:11:23</a></td>\n    <td><a href=\"/projects/a760ae92-21b4-4221-a389-c1c9b6a1ffd9\">HTML</a> | <a href=\"/projects/a760ae92-21b4-4221-a389-c1c9b6a1ffd9.json\">JSON</a></td>\n        <td><a data-confirm=\"Are you sure?\" rel=\"nofollow\" data-method=\"delete\" href=\"/projects/a760ae92-21b4-4221-a389-c1c9b6a1ffd9\">Delete</a></td>\n  </tr>\n  <tr>\n    <td><a href=\"/projects/ac33fe20-767e-4d20-86b7-13da2d32a777\">Project 2023-02-14 16:37:49</a></td>\n    <td><a href=\"/projects/ac33fe20-767e-4d20-86b7-13da2d32a777\">HTML</a> | <a href=\"/projects/ac33fe20-767e-4d20-86b7-13da2d32a777.json\">JSON</a></td>\n        <td><a data-confirm=\"Are you sure?\" rel=\"nofollow\" data-method=\"delete\" href=\"/projects/ac33fe20-767e-4d20-86b7-13da2d32a777\">Delete</a></td>\n  </tr>\n  <tr>\n    <td><a href=\"/projects/6f77cbeb-3c91-49ef-a51a-d42619f1bcff\">Project 2023-02-14 16:41:23</a></td>\n    <td><a href=\"/projects/6f77cbeb-3c91-49ef-a51a-d42619f1bcff\">HTML</a> | <a href=\"/projects/6f77cbeb-3c91-49ef-a51a-d42619f1bcff.json\">JSON</a></td>\n        <td><a data-confirm=\"Are you sure?\" href=\"/analyses/4b1c4ff8-0d00-45c6-9491-11e40ea184f7/stop\">Stop</a></td>\n  </tr>\n</table>\n\n\n</div> <!-- /container -->\n\n\n</body>\n</html>\n'",
      "C:/Ruby27-x64/lib/ruby/2.7.0/json/common.rb:156:in `parse'",
      "C:/Ruby27-x64/lib/ruby/2.7.0/json/common.rb:156:in `parse'",
      "(irb):1:in `irb_binding'"
     ]
    }
   ],
   "source": [
    "objectives_json = RestClient.get \"http://#{@host}/data_points/#{data_point_id}/download_result_file?filename=objectives.json\"\n",
    "objectives_json = JSON.parse(objectives_json, symbolize_names: true)"
   ]
  },
  {
   "cell_type": "code",
   "execution_count": 15,
   "id": "2247c8e5-0fbb-4c59-93f1-ba9888a79ad8",
   "metadata": {},
   "outputs": [
    {
     "data": {
      "text/plain": [
       "464"
      ]
     },
     "execution_count": 15,
     "metadata": {},
     "output_type": "execute_result"
    }
   ],
   "source": [
    "require 'open-uri'\n",
    "File.write 'results.csv', URI.open(\"http://#{@host}/analyses/#{analysis_id}/download_data.csv?export=true\").read\n"
   ]
  },
  {
   "cell_type": "code",
   "execution_count": null,
   "id": "59d815d8-592a-4b64-a4f1-1906cd49db2d",
   "metadata": {},
   "outputs": [],
   "source": []
  }
 ],
 "metadata": {
  "kernelspec": {
   "display_name": "Ruby 2.7.2",
   "language": "ruby",
   "name": "ruby"
  },
  "language_info": {
   "file_extension": ".rb",
   "mimetype": "application/x-ruby",
   "name": "ruby",
   "version": "2.7.2"
  }
 },
 "nbformat": 4,
 "nbformat_minor": 5
}
