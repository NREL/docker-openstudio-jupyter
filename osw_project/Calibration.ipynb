{
 "cells": [
  {
   "cell_type": "markdown",
   "id": "d7916c1b-4600-45c6-9abb-9a9a75c3fa67",
   "metadata": {},
   "source": [
    "**Add a Calibration Measure to the OpenStudio Workflow (OSW)**\n",
    "\n",
    "The OpenStudio SDK provides a tool for programmatically making changes to an OpenStudio Model. By using the OpenStudio Workflow (OSW), you can define a series of measures that make these changes in a specified order. We will add a calibration measure from the calibration-measures gem to the baseline model workflow described in BaselineModel.ipynb. We will also change measure arguments by modifying the measure's properties in the OSW file.\n",
    "\n",
    "To begin, load the 'openstudio' Ruby bindings to the SDK as well as 'fileutils' for basic file/directory manipulation."
   ]
  },
  {
   "cell_type": "code",
   "execution_count": 1,
   "id": "8650a7c3-0a0f-424d-8c34-594153d77a9e",
   "metadata": {},
   "outputs": [
    {
     "data": {
      "text/plain": [
       "true"
      ]
     },
     "execution_count": 1,
     "metadata": {},
     "output_type": "execute_result"
    }
   ],
   "source": [
    "require 'fileutils'\n",
    "require 'openstudio'"
   ]
  },
  {
   "cell_type": "markdown",
   "id": "31167fd5-64c0-4375-bbbc-face6d380f4f",
   "metadata": {},
   "source": [
    "create project directory called 'Calibration' and change the working directory to match."
   ]
  },
  {
   "cell_type": "code",
   "execution_count": 2,
   "id": "213b2078-b736-4e38-a910-ce3fde49d446",
   "metadata": {},
   "outputs": [
    {
     "data": {
      "text/plain": [
       "0"
      ]
     },
     "execution_count": 2,
     "metadata": {},
     "output_type": "execute_result"
    }
   ],
   "source": [
    "project_dir = 'Calibration'\n",
    "#create project folder\n",
    "FileUtils.mkdir_p(\"#{project_dir}\") unless Dir.exist?(\"#{project_dir}\")\n",
    "\n",
    "#change working directory\n",
    "Dir.chdir \"#{project_dir}\""
   ]
  },
  {
   "cell_type": "markdown",
   "id": "ffebc564-7762-43e3-9ba0-c5adf8170bf3",
   "metadata": {},
   "source": [
    "Create the example model and save in the 'seeds' folder"
   ]
  },
  {
   "cell_type": "code",
   "execution_count": 3,
   "id": "43097da2-3aab-42cf-a9c8-1947dddf6ae0",
   "metadata": {},
   "outputs": [
    {
     "data": {
      "text/plain": [
       "true"
      ]
     },
     "execution_count": 3,
     "metadata": {},
     "output_type": "execute_result"
    }
   ],
   "source": [
    "# Create the Example Model\n",
    "model = OpenStudio::Model.exampleModel()\n",
    "\n",
    "#create directory for the seed model\n",
    "FileUtils.mkdir_p(\"seeds\") unless Dir.exist?(\"seeds\")\n",
    "# Save the model to an OSM file\n",
    "osm_path = OpenStudio::Path.new(File.expand_path(\"seeds/example_model.osm\"))\n",
    "model.save(osm_path, true)\n"
   ]
  },
  {
   "cell_type": "markdown",
   "id": "45cce69b-4d1f-41c6-acb3-dde355658da0",
   "metadata": {},
   "source": [
    "Get the weather file from previous download or redownload and put in the weather directory.  Set the weather file into the Model and do some basic validation on it. "
   ]
  },
  {
   "cell_type": "code",
   "execution_count": 4,
   "id": "84ebd7ed-360e-4182-b853-fbb694a68081",
   "metadata": {},
   "outputs": [
    {
     "name": "stdout",
     "output_type": "stream",
     "text": [
      "Download the file USA_CO_Golden-NREL.724666_TMY3.epw\n",
      "true\n",
      "true\n",
      "true\n"
     ]
    }
   ],
   "source": [
    "#get weather file\n",
    "require 'open-uri'\n",
    "\n",
    "# URL of the file to download\n",
    "url = 'https://github.com/NREL/OpenStudio/raw/develop/resources/utilities/Filetypes/'\n",
    "\n",
    "# Local file name\n",
    "weather_file_name = 'USA_CO_Golden-NREL.724666_TMY3.epw'\n",
    "weather_file_path = \"weather/\" + weather_file_name\n",
    "\n",
    "#create directory for the weather file\n",
    "FileUtils.mkdir_p(\"weather\") unless Dir.exist?(\"weather\")\n",
    "\n",
    "if !File.exist?(weather_file_path)\n",
    "    puts \"Download the file #{weather_file_name}\"\n",
    "    URI.open(url + weather_file_name) do |file|\n",
    "      File.write(weather_file_path, file.read)\n",
    "    end\n",
    "else\n",
    "    puts 'weather file exists locally'\n",
    "end\n",
    "\n",
    "#set the weather file in the OSM\n",
    "#use absolute path\n",
    "epw_file = OpenStudio::EpwFile.load(OpenStudio::Path.new(File.expand_path(weather_file_path)), true)\n",
    "OpenStudio::Model::WeatherFile::setWeatherFile(model, epw_file.get)\n",
    "weatherFile = model.getWeatherFile\n",
    "# validate the weather file\n",
    "puts weatherFile.checksum.get == 'BDF687C1'\n",
    "puts weatherFile.country == 'USA'\n",
    "puts weatherFile.stateProvinceRegion == 'CO'"
   ]
  },
  {
   "cell_type": "markdown",
   "id": "5f7af11c-ecfc-4340-a966-adb1a9a1ae35",
   "metadata": {},
   "source": [
    "use the 'Open3' library to make a system call to the OpenStudio command-line interface (CLI) and check its version. The CLI path is stored in the 'cli' variable and the system call is made using the 'capture3' method of the 'Open3' module, which captures the standard output, standard error, and exit status of the system command. The result of the system call is checked using the 'status.success?' method, and if it is successful, the standard output is printed to the console. If it fails, the standard error is printed instead."
   ]
  },
  {
   "cell_type": "code",
   "execution_count": 5,
   "id": "e518c626-69bb-40bd-8a5f-b73ce9f9abfa",
   "metadata": {},
   "outputs": [
    {
     "name": "stdout",
     "output_type": "stream",
     "text": [
      "Command executed successfully\n",
      "3.5.0+7b14ce1588\n"
     ]
    }
   ],
   "source": [
    "require 'open3'\n",
    "\n",
    "#get path to OpenStudio CLI\n",
    "cli = OpenStudio.getOpenStudioCLI.to_s\n",
    "\n",
    "# Make a system call to get version\n",
    "stdout, stderr, status = Open3.capture3(\"#{cli} --version\")\n",
    "\n",
    "# Check the result\n",
    "if status.success?\n",
    "  puts \"Command executed successfully\"\n",
    "  puts stdout\n",
    "else\n",
    "  puts \"Command failed\"\n",
    "  puts stderr\n",
    "end"
   ]
  },
  {
   "cell_type": "markdown",
   "id": "219a7921-f88d-474a-8036-c75bbe4f08c4",
   "metadata": {},
   "source": [
    "require the \"openstudio-calibration\" and \"openstudio-common-measures\" ruby gems. These gems contain pre-written scripts (OpenStudio Measures) that can make programmatic changes to an OpenStudio model, that we want to use in our project. Use the \"Gem::Specification\" method or the \"Gem.find_files\" method to find the local path to the /lib folder of the gem which is where the Measures are located. These paths are then stored in the variables \"calibration_measures_dir\" and \"common_measures_dir\"."
   ]
  },
  {
   "cell_type": "code",
   "execution_count": 6,
   "id": "2c285e0d-8f00-45dc-80b4-d4cf11dc0a0c",
   "metadata": {},
   "outputs": [
    {
     "name": "stdout",
     "output_type": "stream",
     "text": [
      "C:/Ruby27-x64/lib/ruby/gems/2.7.0/gems/openstudio-common-measures-0.7.0/lib\n"
     ]
    },
    {
     "data": {
      "text/plain": [
       "\"C:/Ruby27-x64/lib/ruby/gems/2.7.0/gems/openstudio-calibration-0.7.0\""
      ]
     },
     "execution_count": 6,
     "metadata": {},
     "output_type": "execute_result"
    }
   ],
   "source": [
    "require 'openstudio-calibration'\n",
    "require 'openstudio-common-measures'\n",
    "\n",
    "#find path to the Measures\n",
    "puts Pathname.new(Gem.find_files('openstudio-common-measures.rb').first).dirname\n",
    "# -or\n",
    "#find path to Measures using gem::spec\n",
    "common_measures_dir = Gem::Specification.find_by_name(\"openstudio-common-measures\").gem_dir\n",
    "calibration_measures_dir = Gem::Specification.find_by_name(\"openstudio-calibration\").gem_dir"
   ]
  },
  {
   "cell_type": "markdown",
   "id": "2aa26c32-2c92-498d-b393-c0de47d239fc",
   "metadata": {},
   "source": [
    "copy the OpenStudio Measures from the openstudio-common-measures and openstudio-calibration gems into a local project directory called \"measures\". The purpose of this is to make these scripts available for use in the current project. The measures copied include \"openstudio_results\", \"AddMonthlyJSONUtilityData\", \"CalibrationReportsEnhanced\", and \"GeneralCalibrationMeasurePercentChange\"."
   ]
  },
  {
   "cell_type": "code",
   "execution_count": 7,
   "id": "6f7e3904-ec84-4dea-88c4-4d273f399dbb",
   "metadata": {},
   "outputs": [],
   "source": [
    "#make measure directories for the project\n",
    "\n",
    "FileUtils.mkdir_p(\"measures\") unless Dir.exist?(\"measures\")\n",
    "\n",
    "#copy measure from gem to local project directory\n",
    "FileUtils.cp_r(\"#{common_measures_dir}/lib/measures/openstudio_results\", \"measures\")\n",
    "FileUtils.cp_r(\"#{calibration_measures_dir}/lib/measures/AddMonthlyJSONUtilityData\", \"measures\")\n",
    "FileUtils.cp_r(\"#{calibration_measures_dir}/lib/measures/CalibrationReportsEnhanced\", \"measures\")\n",
    "FileUtils.cp_r(\"#{calibration_measures_dir}/lib/measures/GeneralCalibrationMeasurePercentChange\", \"measures\")"
   ]
  },
  {
   "cell_type": "markdown",
   "id": "9b9b1409-8de9-4d75-b430-1872bb7c5ec2",
   "metadata": {},
   "source": [
    "create a project directory named \"data\" if it doesn't already exist, and then copies the monthly metered data in the \"Data\" directory located outside of the project folder to the newly created \"data\" folder within the project folder. The data that is being copied is in JSON format.\n",
    "\n",
    "The OSW file assumes that the associated files and directories are in the same location.\n",
    "\n",
    "  /calibration_workflow.osw  \n",
    "  /measures  \n",
    "  /seeds  \n",
    "  /weather   \n",
    "  /data  \n",
    "\n"
   ]
  },
  {
   "cell_type": "code",
   "execution_count": 8,
   "id": "8d47941c-d817-4128-8784-7890ab627925",
   "metadata": {},
   "outputs": [],
   "source": [
    "#make directory for the calibration data\n",
    "FileUtils.mkdir_p(\"data\") unless Dir.exist?(\"data\")\n",
    "\n",
    "#copy JSON data to local project directory\n",
    "FileUtils.cp_r(\"../Data/.\", \"data\")"
   ]
  },
  {
   "cell_type": "code",
   "execution_count": null,
   "id": "c3cca7ab-3e3c-474a-8d60-c0abcd85aa95",
   "metadata": {},
   "outputs": [],
   "source": []
  },
  {
   "cell_type": "markdown",
   "id": "db33981f-7191-44d9-b09f-52ca66457a5e",
   "metadata": {},
   "source": [
    "Create the OSW as before and add the GeneralCalibrationMeasurePercentChange to the ModelMeasure step. This is a general purpose measure that can be used for changing of space and spaceType loads as well as infiltration, and outdoor air with a percent change. The user can choose between a SINGLE SpaceType or ALL the SpaceTypes as well as a SINGLE Space or ALL the Spaces.\n",
    "\n",
    "Change the Space Lights, Electric Equipment, People, Mass, Infiltration and Ventilation all by 10% and add to the OSW."
   ]
  },
  {
   "cell_type": "code",
   "execution_count": 9,
   "id": "0ff2cf28-1340-46f8-8a87-ac64663cebe2",
   "metadata": {},
   "outputs": [
    {
     "data": {
      "text/plain": [
       "true"
      ]
     },
     "execution_count": 9,
     "metadata": {},
     "output_type": "execute_result"
    }
   ],
   "source": [
    "# Create a new OSW\n",
    "osw = OpenStudio::WorkflowJSON.new\n",
    "\n",
    "# Define the reporting measure steps\n",
    "measure_steps = []\n",
    "\n",
    "#add Utility Bill object to model from external JSON file\n",
    "os_results = OpenStudio::MeasureStep.new(\"measures/AddMonthlyJSONUtilityData\")\n",
    "os_results.setArgument(\"json\",\"../../../data/electric.json\")\n",
    "os_results.setArgument(\"variable_name\",\"Electricity Bill\")\n",
    "os_results.setArgument(\"fuel_type\",\"Electricity\")\n",
    "os_results.setArgument(\"consumption_unit\",\"kWh\")\n",
    "os_results.setArgument(\"data_key_name\",\"tot_kwh\")\n",
    "os_results.setArgument(\"start_date\",\"2013-01-1\")\n",
    "os_results.setArgument(\"end_date\",\"2013-12-31\")\n",
    "os_results.setArgument(\"remove_existing_data\",TRUE)\n",
    "os_results.setArgument(\"set_runperiod\",TRUE)\n",
    "measure_steps << os_results\n",
    "\n",
    "os_results = OpenStudio::MeasureStep.new(\"measures/AddMonthlyJSONUtilityData\")\n",
    "os_results.setArgument(\"json\",\"../../../data/natural_gas.json\")\n",
    "os_results.setArgument(\"variable_name\",\"Gas Bill\")\n",
    "os_results.setArgument(\"fuel_type\",\"Gas\")\n",
    "os_results.setArgument(\"consumption_unit\",\"therms\")\n",
    "os_results.setArgument(\"data_key_name\",\"tot_therms\")\n",
    "os_results.setArgument(\"start_date\",\"2013-01-1\")\n",
    "os_results.setArgument(\"end_date\",\"2013-12-31\")\n",
    "os_results.setArgument(\"remove_existing_data\",FALSE)\n",
    "#os_results.setArgument(\"set_runperiod\",TRUE)\n",
    "measure_steps << os_results\n",
    "\n",
    "os_results = OpenStudio::MeasureStep.new(\"measures/GeneralCalibrationMeasurePercentChange\")\n",
    "os_results.setArgument(\"space_type\",\"*All SpaceTypes*\")\n",
    "os_results.setArgument(\"space\",\"*All Spaces*\")\n",
    "os_results.setArgument(\"lights_perc_change\",10.0)\n",
    "os_results.setArgument(\"ElectricEquipment_perc_change\",10.0)\n",
    "os_results.setArgument(\"people_perc_change\",10.0)\n",
    "os_results.setArgument(\"mass_perc_change\",10.0)\n",
    "os_results.setArgument(\"infil_perc_change\",10.0)\n",
    "os_results.setArgument(\"vent_perc_change\",10.0)\n",
    "measure_steps << os_results\n",
    "\n",
    "# Set the measure steps in the OSW\n",
    "measure_type = OpenStudio::MeasureType.new(\"ModelMeasure\")\n",
    "osw.setMeasureSteps(measure_type, measure_steps)\n",
    "\n",
    "# Define the reporting measure steps\n",
    "reporting_steps = []\n",
    "\n",
    "#add openstudio_results to the reporting_steps array\n",
    "os_results = OpenStudio::MeasureStep.new(\"measures/openstudio_results\")\n",
    "reporting_steps << os_results\n",
    "\n",
    "os_results = OpenStudio::MeasureStep.new(\"measures/CalibrationReportsEnhanced\")\n",
    "reporting_steps << os_results\n",
    "\n",
    "# Set the measure steps in the OSW\n",
    "measure_type = OpenStudio::MeasureType.new(\"ReportingMeasure\")\n",
    "osw.setMeasureSteps(measure_type, reporting_steps)"
   ]
  },
  {
   "cell_type": "markdown",
   "id": "a3b6c46a-3b12-4b68-b207-49ac3f141411",
   "metadata": {},
   "source": [
    "Add the example_model OSM we generated earlier as the 'seed' model and set the weatherfile in the OSW. Also, save the OSW as 'baseline_model.osw' by creating a full, absolute path to the file name and use the .saveAs() method."
   ]
  },
  {
   "cell_type": "code",
   "execution_count": 10,
   "id": "70e5df6a-5e89-4d0c-842b-2b8dcbd8f1cc",
   "metadata": {},
   "outputs": [
    {
     "data": {
      "text/plain": [
       "true"
      ]
     },
     "execution_count": 10,
     "metadata": {},
     "output_type": "execute_result"
    }
   ],
   "source": [
    "#add seed / weatherfile to OSW\n",
    "osw.setSeedFile(osm_path)\n",
    "osw.setWeatherFile(weather_file_path)\n",
    "#save file locally\n",
    "osw_path = OpenStudio::Path.new(File.expand_path(\"calibration_workflow.osw\"))\n",
    "osw.saveAs(osw_path)"
   ]
  },
  {
   "cell_type": "markdown",
   "id": "df309134-045c-4f11-832c-4201a047fa69",
   "metadata": {},
   "source": [
    "Since this is in Ruby and the CLI is an executable, to run the workflow using the CLI, we will use the Open3.capture3 method to make a System Call to the CLI, which captures the standard output, standard error, and status code of the CLI command. The CLI command runs the workflow, specifying the workflow file path, and the --debug and --workflow options are passed to the CLI. Finally, the status code of the CLI command is stored in the status variable."
   ]
  },
  {
   "cell_type": "code",
   "execution_count": 11,
   "id": "a8b8038f-d7f0-4905-bb54-c8a75062cabf",
   "metadata": {},
   "outputs": [
    {
     "data": {
      "text/plain": [
       "#<Process::Status: pid 17708 exit 0>"
      ]
     },
     "execution_count": 11,
     "metadata": {},
     "output_type": "execute_result"
    }
   ],
   "source": [
    "#Run the workflow\n",
    "stdout, stderr, status = Open3.capture3(\"#{cli} run --debug --workflow #{osw_path}\")\n",
    "status"
   ]
  },
  {
   "cell_type": "code",
   "execution_count": null,
   "id": "76da1915-2764-426c-85fa-1d4b9bd7e897",
   "metadata": {},
   "outputs": [],
   "source": []
  },
  {
   "cell_type": "markdown",
   "id": "09d38f93-d962-4fee-bcd2-92adcd501fb4",
   "metadata": {},
   "source": [
    "To view the results, set the file path to an HTML report generated by the \"CalibrationReportsEnhanced\" measure and display the contents of the file using IRuby's display method. The argument passed to the display method is the content of the file read using Ruby's File.read method, and the mime type is specified as 'text/html' to indicate that the contents are HTML. This code assumes that the file exists and will raise an error if it cannot be found or read."
   ]
  },
  {
   "cell_type": "code",
   "execution_count": 14,
   "id": "67cb9a47-dd62-4f16-a938-47de9a97293d",
   "metadata": {
    "tags": []
   },
   "outputs": [
    {
     "data": {
      "text/html": [
       "<!DOCTYPE html>\n",
       "<html>\n",
       "<head>\n",
       "<meta charset=\"utf-8\">\n",
       "<title>Calibration | OpenStudio</title>\n",
       "<link href=\"http://cdnjs.cloudflare.com/ajax/libs/twitter-bootstrap/2.3.2/css/bootstrap.min.css\" rel=\"stylesheet\">\n",
       "<style type=\"text/css\">\n",
       "body {\n",
       "    font: 10px sans-serif;\n",
       "    min-width: 750px;\n",
       "}\n",
       "table {\n",
       "    max-width:700px;\n",
       "}\n",
       ".axis path, .axis line {\n",
       "    fill: none;\n",
       "    stroke: #000;\n",
       "    shape-rendering: crispEdges;\n",
       "}\n",
       ".bar {\n",
       "    fill: steelblue;\n",
       "}\n",
       ".x.axis path {\n",
       "    display: none;\n",
       "}\n",
       ".d3-tip {\n",
       "    line-height: 1;\n",
       "    font-weight: bold;\n",
       "    padding: 12px;\n",
       "    background: rgba(0, 0, 0, 0.8);\n",
       "    color: #fff;\n",
       "    border-radius: 2px;\n",
       "}\n",
       "/* Creates a small triangle extender for the tooltip */\n",
       ".d3-tip:after {\n",
       "    box-sizing: border-box;\n",
       "    display: inline;\n",
       "    font-size: 10px;\n",
       "    width: 100%;\n",
       "    line-height: 1;\n",
       "    color: rgba(0, 0, 0, 0.8);\n",
       "    content:\"\\25BC\";\n",
       "    position: absolute;\n",
       "    text-align: center;\n",
       "}\n",
       "/* Style northward tooltips differently */\n",
       ".d3-tip.n:after {\n",
       "    margin: -1px 0 0 0;\n",
       "    top: 100%;\n",
       "    left: 0;\n",
       "}\n",
       ".chartInfo h6 {\n",
       "    display: inline;\n",
       "}\n",
       "</style>\n",
       "<script type=\"text/javascript\" src=\"http://cdnjs.cloudflare.com/ajax/libs/jquery/2.0.3/jquery.min.js\"></script>\n",
       "<script type=\"text/javascript\" src=\"http://cdnjs.cloudflare.com/ajax/libs/d3/3.3.9/d3.min.js\"></script>\n",
       "<script type=\"text/javascript\">\n",
       "// http://labratrevenge.com/d3-tip/javascripts/d3.tip.min.js\n",
       "d3.tip=function(){function t(t){v=m(t),w=v.createSVGPoint(),document.body.appendChild(x)}function e(){return\"n\"}function n(){return[0,0]}function r(){return\" \"}function o(){var t=p();return{top:t.n.y-x.offsetHeight,left:t.n.x-x.offsetWidth/2}}function s(){var t=p();return{top:t.s.y,left:t.s.x-x.offsetWidth/2}}function l(){var t=p();return{top:t.e.y-x.offsetHeight/2,left:t.e.x}}function u(){var t=p();return{top:t.w.y-x.offsetHeight/2,left:t.w.x-x.offsetWidth}}function f(){var t=p();return{top:t.nw.y-x.offsetHeight,left:t.nw.x-x.offsetWidth}}function i(){var t=p();return{top:t.ne.y-x.offsetHeight,left:t.ne.x}}function a(){var t=p();return{top:t.sw.y,left:t.sw.x-x.offsetWidth}}function c(){var t=p();return{top:t.se.y,left:t.e.x}}function d(){var t=d3.select(document.createElement(\"div\"));return t.style({position:\"absolute\",opacity:0,pointerEvents:\"none\",boxSizing:\"border-box\"}),t.node()}function m(t){return t=t.node(),\"svg\"==t.tagName.toLowerCase()?t:t.ownerSVGElement}function p(){var t=d3.event.target,e={},n=t.getScreenCTM(),r=t.getBBox(),o=r.width,s=r.height,l=r.x,u=r.y,f=document.body.scrollTop,i=document.body.scrollLeft;return document.documentElement&&document.documentElement.scrollTop&&(f=document.documentElement.scrollTop,i=document.documentElement.scrollLeft),w.x=l+i,w.y=u+f,e.nw=w.matrixTransform(n),w.x+=o,e.ne=w.matrixTransform(n),w.y+=s,e.se=w.matrixTransform(n),w.x-=o,e.sw=w.matrixTransform(n),w.y-=s/2,e.w=w.matrixTransform(n),w.x+=o,e.e=w.matrixTransform(n),w.x-=o/2,w.y-=s/2,e.n=w.matrixTransform(n),w.y+=s,e.s=w.matrixTransform(n),e}var y=e,g=n,h=r,x=d(),v=null,w=null;t.show=function(){var e,n=h.apply(this,arguments),r=g.apply(this,arguments),o=y.apply(this,arguments),s=d3.select(x),l=0;for(s.html(n).style({opacity:1,pointerEvents:\"all\"});l--;)s.classed(E[l],!1);return e=T.get(o).apply(this),s.classed(o,!0).style({top:e.top+r[0]+\"px\",left:e.left+r[1]+\"px\"}),t},t.hide=function(){return nodel=d3.select(x),nodel.style({opacity:0,pointerEvents:\"none\"}),t},t.attr=function(e){if(2>arguments.length&&\"string\"==typeof e)return d3.select(x).attr(e);var n=Array.prototype.slice.call(arguments);return d3.selection.prototype.attr.apply(d3.select(x),n),t},t.style=function(e){if(2>arguments.length&&\"string\"==typeof e)return d3.select(x).style(e);var n=Array.prototype.slice.call(arguments);return d3.selection.prototype.style.apply(d3.select(x),n),t},t.direction=function(e){return arguments.length?(y=null==e?e:d3.functor(e),t):y},t.offset=function(e){return arguments.length?(g=null==e?e:d3.functor(e),t):g},t.html=function(e){return arguments.length?(h=null==e?e:d3.functor(e),t):h};var T=d3.map({n:o,s:s,e:l,w:u,nw:f,ne:i,sw:a,se:c}),E=T.keys();return t};\n",
       "</script>\n",
       "</head>\n",
       "<body>\n",
       "<div style=\"width:250px;display:inline-block;\">\n",
       "  <label>Calibration Method</label>\n",
       "  <select id=\"calibrationMethodSelect\">\n",
       "  </select>\n",
       "</div>\n",
       "<div style=\"width:400px;display:inline-block;\">\n",
       "  <h6 id=\"calibrationString\"></h6>\n",
       "</div>\n",
       "<div id=\"consumptionString-0\" class=\"chartInfo\"></div>\n",
       "<div id=\"chart-0\"></div>\n",
       "<div id=\"table-0\" ></div>\n",
       "<div id=\"consumptionString-1\" class=\"chartInfo\"></div>\n",
       "<div id=\"chart-1\"></div>\n",
       "<div id=\"table-1\" ></div>\n",
       "<div id=\"consumptionString-2\" class=\"chartInfo\"></div>\n",
       "<div id=\"chart-2\"></div>\n",
       "<div id=\"table-2\" ></div>\n",
       "<div id=\"consumptionString-3\" class=\"chartInfo\"></div>\n",
       "<div id=\"chart-3\"></div>\n",
       "<div id=\"table-3\" ></div>\n",
       "<script type=\"text/javascript\">\n",
       "    function numFormat(n) {\n",
       "        var parts = n.toString().split(\".\");\n",
       "        return parts[0].replace(/\\B(?=(\\d{3})+(?!\\d))/g, \",\") + (parts[1] ? \".\" + parts[1] : \"\");\n",
       "    }\n",
       "\n",
       "var calibrationGuidelines  = [\"ASHRAE 14-2002\",\"FEMP\"];\n",
       "var ashraeMaxNMBE = 5.0;\n",
       "var ashraeMaxCVRMSE = 15.0;\n",
       "var fempMaxNMBE = 15.0;\n",
       "var fempMaxCVRMSE = 10.0;\n",
       "var consumption = {\n",
       "\t\"Electricity Consumption\":{\n",
       "\t\t\"units\":\"kWh\",\n",
       "\t\t\"cvrsme\":\"9.11\",\n",
       "\t\t\"nmbe\":\"-9.47\",\n",
       "\t\t\t\"data\":{\n",
       "\t\t\t\t\"Start\":[\"1/1\",\"2/1\",\"3/1\",\"4/1\",\"5/1\",\"6/1\",\"7/1\",\"8/1\",\"9/1\",\"10/1\",\"11/1\",\"12/1\"],\n",
       "\t\t\t\t\"End\":[\"1/31\",\"2/28\",\"3/31\",\"4/30\",\"5/31\",\"6/30\",\"7/31\",\"8/31\",\"9/30\",\"10/31\",\"11/30\",\"12/31\"],\n",
       "\t\t\t\t\"Actual\":[2392.55,2152.71,2445.09,2608.66,2942.43,3014.3,3506.8,3425.06,2884.89,2676.21,2356.0,2333.98],\n",
       "\t\t\t\t\"Model\":[2614.61,2346.79,2668.4,2846.76,3199.66,3258.15,3776.43,3689.63,3132.0,2925.11,2575.77,2547.82],\n",
       "\t\t\t\t\"NMBE\":[9.28,9.02,9.13,9.13,8.74,8.09,7.69,7.72,8.57,9.30,9.33,9.16]\n",
       "\t\t}\n",
       "\t},\n",
       "\t\"Electricity Demand\":{\n",
       "\t\t\"units\":\"kW\",\n",
       "\t\t\"cvrsme\":\"9.11\",\n",
       "\t\t\"nmbe\":\"-9.47\",\n",
       "\t\t\t\"data\":{\n",
       "\t\t\t\t\"Start\":[\"1/1\",\"2/1\",\"3/1\",\"4/1\",\"5/1\",\"6/1\",\"7/1\",\"8/1\",\"9/1\",\"10/1\",\"11/1\",\"12/1\"],\n",
       "\t\t\t\t\"End\":[\"1/31\",\"2/28\",\"3/31\",\"4/30\",\"5/31\",\"6/30\",\"7/31\",\"8/31\",\"9/30\",\"10/31\",\"11/30\",\"12/31\"],\n",
       "\t\t\t\t\"Actual\":[0,0,0,0,0,0,0,0,0,0,0,0],\n",
       "\t\t\t\t\"Model\":[8.9,9.4,9.8,10.7,12.8,12.4,13.6,13.2,12.3,10.1,9.8,8.7],\n",
       "\t\t\t\t\"NMBE\":[0,0,0,0,0,0,0,0,0,0,0,0]\n",
       "\t\t}\n",
       "\t},\n",
       "\t\"Natural Gas Consumption\":{\n",
       "\t\t\"units\":\"therms\",\n",
       "\t\t\"cvrsme\":\"10.17\",\n",
       "\t\t\"nmbe\":\"7.65\",\n",
       "\t\t\t\"data\":{\n",
       "\t\t\t\t\"Start\":[\"1/1\",\"2/1\",\"3/1\",\"4/1\",\"5/1\",\"6/1\",\"7/1\",\"8/1\",\"9/1\",\"10/1\",\"11/1\",\"12/1\"],\n",
       "\t\t\t\t\"End\":[\"1/31\",\"2/28\",\"3/31\",\"4/30\",\"5/31\",\"6/30\",\"7/31\",\"8/31\",\"9/30\",\"10/31\",\"11/30\",\"12/31\"],\n",
       "\t\t\t\t\"Actual\":[75.74,85.18,55.24,19.69,11.08,0.84,0.26,0.16,2.76,18.19,56.4,89.15],\n",
       "\t\t\t\t\"Model\":[69.65,79.83,51.56,18.29,10.32,0.75,0.24,0.16,2.48,16.86,52.18,83.3],\n",
       "\t\t\t\t\"NMBE\":[-8.04,-6.28,-6.66,-7.09,-6.90,-11.21,-7.38,0.42,-10.15,-7.33,-7.49,-6.56]\n",
       "\t\t}\n",
       "\t},\n",
       "};\n",
       "\n",
       "    $.each(calibrationGuidelines, function (index, value) {\n",
       "        $('#calibrationMethodSelect')\n",
       "            .append($(\"<option></option>\")\n",
       "            .attr(\"value\", index)\n",
       "            .text(value));\n",
       "    });\n",
       "\n",
       "    $(\"#calibrationMethodSelect\").change(onMethodChange);\n",
       "\n",
       "    var maxNMBE = 0;\n",
       "    var maxCVRMSE = 0;\n",
       "\n",
       "    function onMethodChange() {\n",
       "        if ($('#calibrationMethodSelect').val() == \"0\") {\n",
       "            maxNMBE = ashraeMaxNMBE;\n",
       "            maxCVRMSE = ashraeMaxCVRMSE;\n",
       "        } else {\n",
       "            maxNMBE = fempMaxNMBE;\n",
       "            maxCVRMSE = fempMaxCVRMSE;\n",
       "        }\n",
       "        $('#calibrationString').text(\"NMBE of \" + maxNMBE + \"% or less and CV(RMSE) of \" + maxCVRMSE + \"% relative to monthly data.  Must contain all utility data for one year and real weather data.  Check the guideline for additional requirements.\");\n",
       "\n",
       "        $('.table').each(function(i) {\n",
       "            $(this).find('tr:last td:not(:first)').each(function(j) {\n",
       "                var value = $(this).text().replace(/%/g, '');\n",
       "                if (value != \"&mdash;\") {\n",
       "                    var num = parseFloat(value);\n",
       "                    if (Math.abs(num) > maxNMBE) {\n",
       "                        num = \"<font color=\\\"red\\\">\" + num;\n",
       "                    }\n",
       "                    num = num + \"%\";\n",
       "                    $(this).html(num);\n",
       "                }\n",
       "            });\n",
       "        })\n",
       "\n",
       "        for (var c in charts) {\n",
       "        \n",
       "        if(consumption[charts[c]]){\n",
       "            cvrmseString = \"<h6>CV(RMSE) = </h6>\"\n",
       "            num = consumption[charts[c]].cvrsme;\n",
       "            if (Math.abs(num) > maxCVRMSE) {\n",
       "                num = \"<font color=\\\"red\\\">\" + num + \"<font color=\\\"black\\\">\";\n",
       "            }\n",
       "            cvrmseString = cvrmseString + num;\n",
       "\n",
       "            nmbeString = \"<h6>NMBE = </h6>\"\n",
       "            num = consumption[charts[c]].nmbe;\n",
       "            if (Math.abs(num) > maxNMBE) {\n",
       "                num = \"<font color=\\\"red\\\">\" + num;\n",
       "            }\n",
       "            nmbeString = nmbeString + num;\n",
       "\n",
       "            string = \"<h4 style=\\\"margin-bottom:-10px;\\\">\" + charts[c] + \" (\" + consumption[charts[c]].units + \")</h4>\";\n",
       "            if(charts[c] != \"Electricity Demand\"){\n",
       "                string = string + \"<br>\" + cvrmseString + \"<br>\" + nmbeString;\n",
       "            }\n",
       "            $('#consumptionString-' + c).html(string);\n",
       "        }\n",
       "\n",
       "        }\n",
       "\n",
       "    }\n",
       "\n",
       "    onMethodChange();\n",
       "\n",
       "    function outputTable(name, units, obj, id) {\n",
       "        var $table = $('<table id=\"' + name.toLowerCase().replace(/ /g, '-') + '\">').addClass(\"table table-striped table-bordered table-condensed\");\n",
       "        var headers = '';\n",
       "        for (var i = 1; i <= obj.Start.length; i++) headers += '<th>' + i + '</th>';\n",
       "        $table.append('<thead>').children('thead').append('<tr />').children('tr').append('<th>&nbsp;</th>').append(headers);\n",
       "        var $tbody = $table.append('<tbody />').children('tbody');\n",
       "        var key;\n",
       "        for (key in obj) {\n",
       "            if (obj.hasOwnProperty(key)) {\n",
       "                if (key == \"Start\" | key == \"End\" | key == \"Actual\" | key == \"Model\" | key == \"NMBE\") {\n",
       "                    var $row = $tbody.append('<tr />').children('tr:last');\n",
       "                    $row.append(\"<td>\" + key + \"</td>\");\n",
       "                    for (i = 0; i < obj.Start.length; i++) {\n",
       "                        var num = obj[key][i] === 0 ? \"&mdash;\" : numFormat(obj[key][i]);\n",
       "\n",
       "                        if (num != \"&mdash;\") {\n",
       "                            if (key == \"NMBE\") {\n",
       "                                if (Math.abs(num) > maxNMBE) {\n",
       "                                    num = \"<font color=\\\"red\\\">\" + num;\n",
       "                                }\n",
       "                                num = num + \"%\";\n",
       "                            }\n",
       "                        }\n",
       "\n",
       "                        $row.append(\"<td>\" + num + \"</td>\");\n",
       "                    }\n",
       "                }\n",
       "            }\n",
       "        }\n",
       "        $table.appendTo('#' + id);\n",
       "    }\n",
       "\n",
       "    var margin = {\n",
       "        top: 20.5,\n",
       "        right: 20,\n",
       "        bottom: 30,\n",
       "        left: 40.5\n",
       "    },\n",
       "    width = 560 - margin.left - margin.right,\n",
       "        height = 300 - margin.top - margin.bottom;\n",
       "\n",
       "    var x0 = d3.scale.ordinal()\n",
       "        .rangeRoundBands([0, width], 0.1);\n",
       "\n",
       "    var x1 = d3.scale.ordinal();\n",
       "\n",
       "    var y = d3.scale.linear()\n",
       "        .range([height, 0]);\n",
       "\n",
       "    var color = d3.scale.ordinal()\n",
       "        .range([\"#8CC739\", \"#29AAE7\"]);\n",
       "\n",
       "    var xAxis = d3.svg.axis()\n",
       "        .scale(x0)\n",
       "        .orient(\"bottom\");\n",
       "\n",
       "    var yAxis = d3.svg.axis()\n",
       "        .scale(y)\n",
       "        .orient(\"left\")\n",
       "        .tickFormat(d3.format(\".2s\"));\n",
       "\n",
       "    var tip = d3.tip()\n",
       "        .attr('class', 'd3-tip')\n",
       "        .offset([-10, 0])\n",
       "        .html(function (d) {\n",
       "        return \"<strong>\" + d3.event.target.__data__.name + \":</strong> <span style='color:red'>\" + d3.event.target.__data__.value + \"</span>\";\n",
       "    });\n",
       "\n",
       "    var charts = [\"Electricity Consumption\", \"Electricity Demand\", \"Natural Gas Consumption\", \"Fuel Oil 2 Consumption\"];\n",
       "\n",
       "    for (var c in charts) {\n",
       "\n",
       "    if(consumption[charts[c]]){\n",
       "    \n",
       "        if (c == 0) {\n",
       "            margin.right = 125;\n",
       "        }\n",
       "\n",
       "        cvrmseString = \"<h6>CV(RMSE) = </h6>\"\n",
       "        num = consumption[charts[c]].cvrsme;\n",
       "        if (Math.abs(num) > maxCVRMSE) {\n",
       "            num = \"<font color=\\\"red\\\">\" + num + \"<font color=\\\"black\\\">\";\n",
       "        }\n",
       "        cvrmseString = cvrmseString + num;\n",
       "\n",
       "        nmbeString = \"<h6>NMBE = </h6>\"\n",
       "        num = consumption[charts[c]].nmbe;\n",
       "        if (Math.abs(num) > maxNMBE) {\n",
       "            num = \"<font color=\\\"red\\\">\" + num;\n",
       "        }\n",
       "        nmbeString = nmbeString + num;\n",
       "\n",
       "        string = \"<h4 style=\\\"margin-bottom:-10px;\\\">\" + charts[c] + \" (\" + consumption[charts[c]].units + \")</h4>\";\n",
       "        if(charts[c] != \"Electricity Demand\"){\n",
       "            string = string + \"<br>\" + cvrmseString + \"<br>\" + nmbeString;\n",
       "        }\n",
       "        $('#consumptionString-' + c).html(string);\n",
       "\n",
       "        var svg = d3.select(\"#chart-\" + c).append(\"svg\")\n",
       "            .attr(\"width\", width + margin.left + margin.right)\n",
       "            .attr(\"height\", height + margin.top + margin.bottom)\n",
       "            .append(\"g\")\n",
       "            .attr(\"transform\", \"translate(\" + margin.left + \",\" + margin.top + \")\");\n",
       "        svg.call(tip);\n",
       "\n",
       "        data = [];\n",
       "        for (var enduse in consumption[charts[c]].data) {\n",
       "            if (enduse == \"Actual\" | enduse == \"Model\") {\n",
       "                var enduse_data = consumption[charts[c]].data[enduse];\n",
       "                for (var i = 1; i <= enduse_data.length; i++) {\n",
       "                    if (data.length < enduse_data.length) {\n",
       "                        var temp = {\n",
       "                            \"Month\": i\n",
       "                        };\n",
       "                        temp[enduse] = enduse_data[i - 1];\n",
       "                        data.push(temp);\n",
       "                    } else {\n",
       "                        data[i - 1][enduse] = enduse_data[i - 1];\n",
       "                    }\n",
       "                }\n",
       "            }\n",
       "        }\n",
       "        var comparison = d3.keys(data[0]).filter(function (key) {\n",
       "            return key !== \"Month\";\n",
       "        });\n",
       "\n",
       "        data.forEach(function (d) {\n",
       "            d.consumption = comparison.map(function (name) {\n",
       "                return {\n",
       "                    name: name,\n",
       "                    value: +d[name]\n",
       "                };\n",
       "            });\n",
       "        });\n",
       "\n",
       "        x0.domain(data.map(function (d) {\n",
       "            return d.Month;\n",
       "        }));\n",
       "        x1.domain(comparison).rangeRoundBands([0, x0.rangeBand()]);\n",
       "        y.domain([0, d3.max(data, function (d) {\n",
       "            return d3.max(d.consumption, function (d) {\n",
       "                return d.value;\n",
       "            });\n",
       "        })]);\n",
       "\n",
       "        //data.sort(function(a, b) { return b.total - a.total; });\n",
       "\n",
       "        svg.append(\"g\")\n",
       "            .attr(\"class\", \"x axis\")\n",
       "            .attr(\"transform\", \"translate(0,\" + height + \")\")\n",
       "            .call(xAxis);\n",
       "\n",
       "        svg.append(\"g\")\n",
       "            .attr(\"class\", \"y axis\")\n",
       "            .call(yAxis)\n",
       "            .append(\"text\")\n",
       "            .attr(\"transform\", \"rotate(-90)\")\n",
       "            .attr(\"y\", -36)\n",
       "            .attr(\"dy\", \".71em\")\n",
       "            .style(\"text-anchor\", \"end\")\n",
       "            .text(consumption[charts[c]].units);\n",
       "\n",
       "        var month = svg.selectAll(\".month\")\n",
       "            .data(data)\n",
       "            .enter().append(\"g\")\n",
       "            .attr(\"class\", \"g\")\n",
       "            .on('mouseover', tip.show)\n",
       "            .on('mouseout', tip.hide)\n",
       "            .attr(\"transform\", function (d) {\n",
       "            return \"translate(\" + x0(d.Month) + \",0)\";\n",
       "        });\n",
       "\n",
       "        month.selectAll(\"rect\")\n",
       "            .data(function (d) {\n",
       "            return d.consumption;\n",
       "        })\n",
       "            .enter().append(\"rect\")\n",
       "            .attr(\"width\", x1.rangeBand())\n",
       "            .attr(\"x\", function (d) {\n",
       "            return x1(d.name);\n",
       "        })\n",
       "            .attr(\"y\", function (d) {\n",
       "            return y(d.value);\n",
       "        })\n",
       "            .attr(\"height\", function (d) {\n",
       "            return height - y(d.value);\n",
       "        })\n",
       "            .style(\"fill\", function (d) {\n",
       "            return color(d.name);\n",
       "        });\n",
       "\n",
       "        var legend = svg.selectAll(\".legend\")\n",
       "            .data(comparison.slice().reverse())\n",
       "            .enter().append(\"g\")\n",
       "            .attr(\"class\", \"legend\")\n",
       "            .attr(\"transform\", function (d, i) {\n",
       "            return \"translate(0,\" + i * 20 + \")\";\n",
       "        });\n",
       "\n",
       "        legend.append(\"rect\")\n",
       "            .attr(\"x\", width + 105)\n",
       "            .attr(\"width\", 18)\n",
       "            .attr(\"height\", 18)\n",
       "            .style(\"fill\", color);\n",
       "\n",
       "        legend.append(\"text\")\n",
       "            .attr(\"x\", width + 105 - 3)\n",
       "            .attr(\"y\", 9)\n",
       "            .attr(\"dy\", \".35em\")\n",
       "            .style(\"text-anchor\", \"end\")\n",
       "            .text(function (d) {\n",
       "            return d;\n",
       "        });\n",
       "\n",
       "        svg.selectAll(\".g\").attr(\"stroke\", \"black\");\n",
       "\n",
       "        outputTable(charts[c], consumption[charts[c]].units, consumption[charts[c]].data, \"table-\" + c);\n",
       "    }\n",
       "    \n",
       "    }\n",
       "</script>\n",
       "</body>\n",
       "</html>\n"
      ],
      "text/plain": [
       "\"<!DOCTYPE html>\\n<html>\\n<head>\\n<meta charset=\\\"utf-8\\\">\\n<title>Calibration | OpenStudio</title>\\n<link href=\\\"http://cdnjs.cloudflare.com/ajax/libs/twitter-bootstrap/2.3.2/css/bootstrap.min.css\\\" rel=\\\"stylesheet\\\">\\n<style type=\\\"text/css\\\">\\nbody {\\n    font: 10px sans-serif;\\n    min-width: 750px;\\n}\\ntable {\\n    max-width:700px;\\n}\\n.axis path, .axis line {\\n    fill: none;\\n    stroke: #000;\\n    shape-rendering: crispEdges;\\n}\\n.bar {\\n    fill: steelblue;\\n}\\n.x.axis path {\\n    display: none;\\n}\\n.d3-tip {\\n    line-height: 1;\\n    font-weight: bold;\\n    padding: 12px;\\n    background: rgba(0, 0, 0, 0.8);\\n    color: #fff;\\n    border-radius: 2px;\\n}\\n/* Creates a small triangle extender for the tooltip */\\n.d3-tip:after {\\n    box-sizing: border-box;\\n    display: inline;\\n    font-size: 10px;\\n    width: 100%;\\n    line-height: 1;\\n    color: rgba(0, 0, 0, 0.8);\\n    content:\\\"\\\\25BC\\\";\\n    position: absolute;\\n    text-align: center;\\n}\\n/* Style northward tooltips differently */\\n.d3-tip.n:after {\\n    margin: -1px 0 0 0;\\n    top: 100%;\\n    left: 0;\\n}\\n.chartInfo h6 {\\n    display: inline;\\n}\\n</style>\\n<script type=\\\"text/javascript\\\" src=\\\"http://cdnjs.cloudflare.com/ajax/libs/jquery/2.0.3/jquery.min.js\\\"></script>\\n<script type=\\\"text/javascript\\\" src=\\\"http://cdnjs.cloudflare.com/ajax/libs/d3/3.3.9/d3.min.js\\\"></script>\\n<script type=\\\"text/javascript\\\">\\n// http://labratrevenge.com/d3-tip/javascripts/d3.tip.min.js\\nd3.tip=function(){function t(t){v=m(t),w=v.createSVGPoint(),document.body.appendChild(x)}function e(){return\\\"n\\\"}function n(){return[0,0]}function r(){return\\\" \\\"}function o(){var t=p();return{top:t.n.y-x.offsetHeight,left:t.n.x-x.offsetWidth/2}}function s(){var t=p();return{top:t.s.y,left:t.s.x-x.offsetWidth/2}}function l(){var t=p();return{top:t.e.y-x.offsetHeight/2,left:t.e.x}}function u(){var t=p();return{top:t.w.y-x.offsetHeight/2,left:t.w.x-x.offsetWidth}}function f(){var t=p();return{top:t.nw.y-x.offsetHeight,left:t.nw.x-x.offsetWidth}}function i(){var t=p();return{top:t.ne.y-x.offsetHeight,left:t.ne.x}}function a(){var t=p();return{top:t.sw.y,left:t.sw.x-x.offsetWidth}}function c(){var t=p();return{top:t.se.y,left:t.e.x}}function d(){var t=d3.select(document.createElement(\\\"div\\\"));return t.style({position:\\\"absolute\\\",opacity:0,pointerEvents:\\\"none\\\",boxSizing:\\\"border-box\\\"}),t.node()}function m(t){return t=t.node(),\\\"svg\\\"==t.tagName.toLowerCase()?t:t.ownerSVGElement}function p(){var t=d3.event.target,e={},n=t.getScreenCTM(),r=t.getBBox(),o=r.width,s=r.height,l=r.x,u=r.y,f=document.body.scrollTop,i=document.body.scrollLeft;return document.documentElement&&document.documentElement.scrollTop&&(f=document.documentElement.scrollTop,i=document.documentElement.scrollLeft),w.x=l+i,w.y=u+f,e.nw=w.matrixTransform(n),w.x+=o,e.ne=w.matrixTransform(n),w.y+=s,e.se=w.matrixTransform(n),w.x-=o,e.sw=w.matrixTransform(n),w.y-=s/2,e.w=w.matrixTransform(n),w.x+=o,e.e=w.matrixTransform(n),w.x-=o/2,w.y-=s/2,e.n=w.matrixTransform(n),w.y+=s,e.s=w.matrixTransform(n),e}var y=e,g=n,h=r,x=d(),v=null,w=null;t.show=function(){var e,n=h.apply(this,arguments),r=g.apply(this,arguments),o=y.apply(this,arguments),s=d3.select(x),l=0;for(s.html(n).style({opacity:1,pointerEvents:\\\"all\\\"});l--;)s.classed(E[l],!1);return e=T.get(o).apply(this),s.classed(o,!0).style({top:e.top+r[0]+\\\"px\\\",left:e.left+r[1]+\\\"px\\\"}),t},t.hide=function(){return nodel=d3.select(x),nodel.style({opacity:0,pointerEvents:\\\"none\\\"}),t},t.attr=function(e){if(2>arguments.length&&\\\"string\\\"==typeof e)return d3.select(x).attr(e);var n=Array.prototype.slice.call(arguments);return d3.selection.prototype.attr.apply(d3.select(x),n),t},t.style=function(e){if(2>arguments.length&&\\\"string\\\"==typeof e)return d3.select(x).style(e);var n=Array.prototype.slice.call(arguments);return d3.selection.prototype.style.apply(d3.select(x),n),t},t.direction=function(e){return arguments.length?(y=null==e?e:d3.functor(e),t):y},t.offset=function(e){return arguments.length?(g=null==e?e:d3.functor(e),t):g},t.html=function(e){return arguments.length?(h=null==e?e:d3.functor(e),t):h};var T=d3.map({n:o,s:s,e:l,w:u,nw:f,ne:i,sw:a,se:c}),E=T.keys();return t};\\n</script>\\n</head>\\n<body>\\n<div style=\\\"width:250px;display:inline-block;\\\">\\n  <label>Calibration Method</label>\\n  <select id=\\\"calibrationMethodSelect\\\">\\n  </select>\\n</div>\\n<div style=\\\"width:400px;display:inline-block;\\\">\\n  <h6 id=\\\"calibrationString\\\"></h6>\\n</div>\\n<div id=\\\"consumptionString-0\\\" class=\\\"chartInfo\\\"></div>\\n<div id=\\\"chart-0\\\"></div>\\n<div id=\\\"table-0\\\" ></div>\\n<div id=\\\"consumptionString-1\\\" class=\\\"chartInfo\\\"></div>\\n<div id=\\\"chart-1\\\"></div>\\n<div id=\\\"table-1\\\" ></div>\\n<div id=\\\"consumptionString-2\\\" class=\\\"chartInfo\\\"></div>\\n<div id=\\\"chart-2\\\"></div>\\n<div id=\\\"table-2\\\" ></div>\\n<div id=\\\"consumptionString-3\\\" class=\\\"chartInfo\\\"></div>\\n<div id=\\\"chart-3\\\"></div>\\n<div id=\\\"table-3\\\" ></div>\\n<script type=\\\"text/javascript\\\">\\n    function numFormat(n) {\\n        var parts = n.toString().split(\\\".\\\");\\n        return parts[0].replace(/\\\\B(?=(\\\\d{3})+(?!\\\\d))/g, \\\",\\\") + (parts[1] ? \\\".\\\" + parts[1] : \\\"\\\");\\n    }\\n\\nvar calibrationGuidelines  = [\\\"ASHRAE 14-2002\\\",\\\"FEMP\\\"];\\nvar ashraeMaxNMBE = 5.0;\\nvar ashraeMaxCVRMSE = 15.0;\\nvar fempMaxNMBE = 15.0;\\nvar fempMaxCVRMSE = 10.0;\\nvar consumption = {\\n\\t\\\"Electricity Consumption\\\":{\\n\\t\\t\\\"units\\\":\\\"kWh\\\",\\n\\t\\t\\\"cvrsme\\\":\\\"9.11\\\",\\n\\t\\t\\\"nmbe\\\":\\\"-9.47\\\",\\n\\t\\t\\t\\\"data\\\":{\\n\\t\\t\\t\\t\\\"Start\\\":[\\\"1/1\\\",\\\"2/1\\\",\\\"3/1\\\",\\\"4/1\\\",\\\"5/1\\\",\\\"6/1\\\",\\\"7/1\\\",\\\"8/1\\\",\\\"9/1\\\",\\\"10/1\\\",\\\"11/1\\\",\\\"12/1\\\"],\\n\\t\\t\\t\\t\\\"End\\\":[\\\"1/31\\\",\\\"2/28\\\",\\\"3/31\\\",\\\"4/30\\\",\\\"5/31\\\",\\\"6/30\\\",\\\"7/31\\\",\\\"8/31\\\",\\\"9/30\\\",\\\"10/31\\\",\\\"11/30\\\",\\\"12/31\\\"],\\n\\t\\t\\t\\t\\\"Actual\\\":[2392.55,2152.71,2445.09,2608.66,2942.43,3014.3,3506.8,3425.06,2884.89,2676.21,2356.0,2333.98],\\n\\t\\t\\t\\t\\\"Model\\\":[2614.61,2346.79,2668.4,2846.76,3199.66,3258.15,3776.43,3689.63,3132.0,2925.11,2575.77,2547.82],\\n\\t\\t\\t\\t\\\"NMBE\\\":[9.28,9.02,9.13,9.13,8.74,8.09,7.69,7.72,8.57,9.30,9.33,9.16]\\n\\t\\t}\\n\\t},\\n\\t\\\"Electricity Demand\\\":{\\n\\t\\t\\\"units\\\":\\\"kW\\\",\\n\\t\\t\\\"cvrsme\\\":\\\"9.11\\\",\\n\\t\\t\\\"nmbe\\\":\\\"-9.47\\\",\\n\\t\\t\\t\\\"data\\\":{\\n\\t\\t\\t\\t\\\"Start\\\":[\\\"1/1\\\",\\\"2/1\\\",\\\"3/1\\\",\\\"4/1\\\",\\\"5/1\\\",\\\"6/1\\\",\\\"7/1\\\",\\\"8/1\\\",\\\"9/1\\\",\\\"10/1\\\",\\\"11/1\\\",\\\"12/1\\\"],\\n\\t\\t\\t\\t\\\"End\\\":[\\\"1/31\\\",\\\"2/28\\\",\\\"3/31\\\",\\\"4/30\\\",\\\"5/31\\\",\\\"6/30\\\",\\\"7/31\\\",\\\"8/31\\\",\\\"9/30\\\",\\\"10/31\\\",\\\"11/30\\\",\\\"12/31\\\"],\\n\\t\\t\\t\\t\\\"Actual\\\":[0,0,0,0,0,0,0,0,0,0,0,0],\\n\\t\\t\\t\\t\\\"Model\\\":[8.9,9.4,9.8,10.7,12.8,12.4,13.6,13.2,12.3,10.1,9.8,8.7],\\n\\t\\t\\t\\t\\\"NMBE\\\":[0,0,0,0,0,0,0,0,0,0,0,0]\\n\\t\\t}\\n\\t},\\n\\t\\\"Natural Gas Consumption\\\":{\\n\\t\\t\\\"units\\\":\\\"therms\\\",\\n\\t\\t\\\"cvrsme\\\":\\\"10.17\\\",\\n\\t\\t\\\"nmbe\\\":\\\"7.65\\\",\\n\\t\\t\\t\\\"data\\\":{\\n\\t\\t\\t\\t\\\"Start\\\":[\\\"1/1\\\",\\\"2/1\\\",\\\"3/1\\\",\\\"4/1\\\",\\\"5/1\\\",\\\"6/1\\\",\\\"7/1\\\",\\\"8/1\\\",\\\"9/1\\\",\\\"10/1\\\",\\\"11/1\\\",\\\"12/1\\\"],\\n\\t\\t\\t\\t\\\"End\\\":[\\\"1/31\\\",\\\"2/28\\\",\\\"3/31\\\",\\\"4/30\\\",\\\"5/31\\\",\\\"6/30\\\",\\\"7/31\\\",\\\"8/31\\\",\\\"9/30\\\",\\\"10/31\\\",\\\"11/30\\\",\\\"12/31\\\"],\\n\\t\\t\\t\\t\\\"Actual\\\":[75.74,85.18,55.24,19.69,11.08,0.84,0.26,0.16,2.76,18.19,56.4,89.15],\\n\\t\\t\\t\\t\\\"Model\\\":[69.65,79.83,51.56,18.29,10.32,0.75,0.24,0.16,2.48,16.86,52.18,83.3],\\n\\t\\t\\t\\t\\\"NMBE\\\":[-8.04,-6.28,-6.66,-7.09,-6.90,-11.21,-7.38,0.42,-10.15,-7.33,-7.49,-6.56]\\n\\t\\t}\\n\\t},\\n};\\n\\n    $.each(calibrationGuidelines, function (index, value) {\\n        $('#calibrationMethodSelect')\\n            .append($(\\\"<option></option>\\\")\\n            .attr(\\\"value\\\", index)\\n            .text(value));\\n    });\\n\\n    $(\\\"#calibrationMethodSelect\\\").change(onMethodChange);\\n\\n    var maxNMBE = 0;\\n    var maxCVRMSE = 0;\\n\\n    function onMethodChange() {\\n        if ($('#calibrationMethodSelect').val() == \\\"0\\\") {\\n            maxNMBE = ashraeMaxNMBE;\\n            maxCVRMSE = ashraeMaxCVRMSE;\\n        } else {\\n            maxNMBE = fempMaxNMBE;\\n            maxCVRMSE = fempMaxCVRMSE;\\n        }\\n        $('#calibrationString').text(\\\"NMBE of \\\" + maxNMBE + \\\"% or less and CV(RMSE) of \\\" + maxCVRMSE + \\\"% relative to monthly data.  Must contain all utility data for one year and real weather data.  Check the guideline for additional requirements.\\\");\\n\\n        $('.table').each(function(i) {\\n            $(this).find('tr:last td:not(:first)').each(function(j) {\\n                var value = $(this).text().replace(/%/g, '');\\n                if (value != \\\"&mdash;\\\") {\\n                    var num = parseFloat(value);\\n                    if (Math.abs(num) > maxNMBE) {\\n                        num = \\\"<font color=\\\\\\\"red\\\\\\\">\\\" + num;\\n                    }\\n                    num = num + \\\"%\\\";\\n                    $(this).html(num);\\n                }\\n            });\\n        })\\n\\n        for (var c in charts) {\\n        \\n        if(consumption[charts[c]]){\\n            cvrmseString = \\\"<h6>CV(RMSE) = </h6>\\\"\\n            num = consumption[charts[c]].cvrsme;\\n            if (Math.abs(num) > maxCVRMSE) {\\n                num = \\\"<font color=\\\\\\\"red\\\\\\\">\\\" + num + \\\"<font color=\\\\\\\"black\\\\\\\">\\\";\\n            }\\n            cvrmseString = cvrmseString + num;\\n\\n            nmbeString = \\\"<h6>NMBE = </h6>\\\"\\n            num = consumption[charts[c]].nmbe;\\n            if (Math.abs(num) > maxNMBE) {\\n                num = \\\"<font color=\\\\\\\"red\\\\\\\">\\\" + num;\\n            }\\n            nmbeString = nmbeString + num;\\n\\n            string = \\\"<h4 style=\\\\\\\"margin-bottom:-10px;\\\\\\\">\\\" + charts[c] + \\\" (\\\" + consumption[charts[c]].units + \\\")</h4>\\\";\\n            if(charts[c] != \\\"Electricity Demand\\\"){\\n                string = string + \\\"<br>\\\" + cvrmseString + \\\"<br>\\\" + nmbeString;\\n            }\\n            $('#consumptionString-' + c).html(string);\\n        }\\n\\n        }\\n\\n    }\\n\\n    onMethodChange();\\n\\n    function outputTable(name, units, obj, id) {\\n        var $table = $('<table id=\\\"' + name.toLowerCase().replace(/ /g, '-') + '\\\">').addClass(\\\"table table-striped table-bordered table-condensed\\\");\\n        var headers = '';\\n        for (var i = 1; i <= obj.Start.length; i++) headers += '<th>' + i + '</th>';\\n        $table.append('<thead>').children('thead').append('<tr />').children('tr').append('<th>&nbsp;</th>').append(headers);\\n        var $tbody = $table.append('<tbody />').children('tbody');\\n        var key;\\n        for (key in obj) {\\n            if (obj.hasOwnProperty(key)) {\\n                if (key == \\\"Start\\\" | key == \\\"End\\\" | key == \\\"Actual\\\" | key == \\\"Model\\\" | key == \\\"NMBE\\\") {\\n                    var $row = $tbody.append('<tr />').children('tr:last');\\n                    $row.append(\\\"<td>\\\" + key + \\\"</td>\\\");\\n                    for (i = 0; i < obj.Start.length; i++) {\\n                        var num = obj[key][i] === 0 ? \\\"&mdash;\\\" : numFormat(obj[key][i]);\\n\\n                        if (num != \\\"&mdash;\\\") {\\n                            if (key == \\\"NMBE\\\") {\\n                                if (Math.abs(num) > maxNMBE) {\\n                                    num = \\\"<font color=\\\\\\\"red\\\\\\\">\\\" + num;\\n                                }\\n                                num = num + \\\"%\\\";\\n                            }\\n                        }\\n\\n                        $row.append(\\\"<td>\\\" + num + \\\"</td>\\\");\\n                    }\\n                }\\n            }\\n        }\\n        $table.appendTo('#' + id);\\n    }\\n\\n    var margin = {\\n        top: 20.5,\\n        right: 20,\\n        bottom: 30,\\n        left: 40.5\\n    },\\n    width = 560 - margin.left - margin.right,\\n        height = 300 - margin.top - margin.bottom;\\n\\n    var x0 = d3.scale.ordinal()\\n        .rangeRoundBands([0, width], 0.1);\\n\\n    var x1 = d3.scale.ordinal();\\n\\n    var y = d3.scale.linear()\\n        .range([height, 0]);\\n\\n    var color = d3.scale.ordinal()\\n        .range([\\\"#8CC739\\\", \\\"#29AAE7\\\"]);\\n\\n    var xAxis = d3.svg.axis()\\n        .scale(x0)\\n        .orient(\\\"bottom\\\");\\n\\n    var yAxis = d3.svg.axis()\\n        .scale(y)\\n        .orient(\\\"left\\\")\\n        .tickFormat(d3.format(\\\".2s\\\"));\\n\\n    var tip = d3.tip()\\n        .attr('class', 'd3-tip')\\n        .offset([-10, 0])\\n        .html(function (d) {\\n        return \\\"<strong>\\\" + d3.event.target.__data__.name + \\\":</strong> <span style='color:red'>\\\" + d3.event.target.__data__.value + \\\"</span>\\\";\\n    });\\n\\n    var charts = [\\\"Electricity Consumption\\\", \\\"Electricity Demand\\\", \\\"Natural Gas Consumption\\\", \\\"Fuel Oil 2 Consumption\\\"];\\n\\n    for (var c in charts) {\\n\\n    if(consumption[charts[c]]){\\n    \\n        if (c == 0) {\\n            margin.right = 125;\\n        }\\n\\n        cvrmseString = \\\"<h6>CV(RMSE) = </h6>\\\"\\n        num = consumption[charts[c]].cvrsme;\\n        if (Math.abs(num) > maxCVRMSE) {\\n            num = \\\"<font color=\\\\\\\"red\\\\\\\">\\\" + num + \\\"<font color=\\\\\\\"black\\\\\\\">\\\";\\n        }\\n        cvrmseString = cvrmseString + num;\\n\\n        nmbeString = \\\"<h6>NMBE = </h6>\\\"\\n        num = consumption[charts[c]].nmbe;\\n        if (Math.abs(num) > maxNMBE) {\\n            num = \\\"<font color=\\\\\\\"red\\\\\\\">\\\" + num;\\n        }\\n        nmbeString = nmbeString + num;\\n\\n        string = \\\"<h4 style=\\\\\\\"margin-bottom:-10px;\\\\\\\">\\\" + charts[c] + \\\" (\\\" + consumption[charts[c]].units + \\\")</h4>\\\";\\n        if(charts[c] != \\\"Electricity Demand\\\"){\\n            string = string + \\\"<br>\\\" + cvrmseString + \\\"<br>\\\" + nmbeString;\\n        }\\n        $('#consumptionString-' + c).html(string);\\n\\n        var svg = d3.select(\\\"#chart-\\\" + c).append(\\\"svg\\\")\\n            .attr(\\\"width\\\", width + margin.left + margin.right)\\n            .attr(\\\"height\\\", height + margin.top + margin.bottom)\\n            .append(\\\"g\\\")\\n            .attr(\\\"transform\\\", \\\"translate(\\\" + margin.left + \\\",\\\" + margin.top + \\\")\\\");\\n        svg.call(tip);\\n\\n        data = [];\\n        for (var enduse in consumption[charts[c]].data) {\\n            if (enduse == \\\"Actual\\\" | enduse == \\\"Model\\\") {\\n                var enduse_data = consumption[charts[c]].data[enduse];\\n                for (var i = 1; i <= enduse_data.length; i++) {\\n                    if (data.length < enduse_data.length) {\\n                        var temp = {\\n                            \\\"Month\\\": i\\n                        };\\n                        temp[enduse] = enduse_data[i - 1];\\n                        data.push(temp);\\n                    } else {\\n                        data[i - 1][enduse] = enduse_data[i - 1];\\n                    }\\n                }\\n            }\\n        }\\n        var comparison = d3.keys(data[0]).filter(function (key) {\\n            return key !== \\\"Month\\\";\\n        });\\n\\n        data.forEach(function (d) {\\n            d.consumption = comparison.map(function (name) {\\n                return {\\n                    name: name,\\n                    value: +d[name]\\n                };\\n            });\\n        });\\n\\n        x0.domain(data.map(function (d) {\\n            return d.Month;\\n        }));\\n        x1.domain(comparison).rangeRoundBands([0, x0.rangeBand()]);\\n        y.domain([0, d3.max(data, function (d) {\\n            return d3.max(d.consumption, function (d) {\\n                return d.value;\\n            });\\n        })]);\\n\\n        //data.sort(function(a, b) { return b.total - a.total; });\\n\\n        svg.append(\\\"g\\\")\\n            .attr(\\\"class\\\", \\\"x axis\\\")\\n            .attr(\\\"transform\\\", \\\"translate(0,\\\" + height + \\\")\\\")\\n            .call(xAxis);\\n\\n        svg.append(\\\"g\\\")\\n            .attr(\\\"class\\\", \\\"y axis\\\")\\n            .call(yAxis)\\n            .append(\\\"text\\\")\\n            .attr(\\\"transform\\\", \\\"rotate(-90)\\\")\\n            .attr(\\\"y\\\", -36)\\n            .attr(\\\"dy\\\", \\\".71em\\\")\\n            .style(\\\"text-anchor\\\", \\\"end\\\")\\n            .text(consumption[charts[c]].units);\\n\\n        var month = svg.selectAll(\\\".month\\\")\\n            .data(data)\\n            .enter().append(\\\"g\\\")\\n            .attr(\\\"class\\\", \\\"g\\\")\\n            .on('mouseover', tip.show)\\n            .on('mouseout', tip.hide)\\n            .attr(\\\"transform\\\", function (d) {\\n            return \\\"translate(\\\" + x0(d.Month) + \\\",0)\\\";\\n        });\\n\\n        month.selectAll(\\\"rect\\\")\\n            .data(function (d) {\\n            return d.consumption;\\n        })\\n            .enter().append(\\\"rect\\\")\\n            .attr(\\\"width\\\", x1.rangeBand())\\n            .attr(\\\"x\\\", function (d) {\\n            return x1(d.name);\\n        })\\n            .attr(\\\"y\\\", function (d) {\\n            return y(d.value);\\n        })\\n            .attr(\\\"height\\\", function (d) {\\n            return height - y(d.value);\\n        })\\n            .style(\\\"fill\\\", function (d) {\\n            return color(d.name);\\n        });\\n\\n        var legend = svg.selectAll(\\\".legend\\\")\\n            .data(comparison.slice().reverse())\\n            .enter().append(\\\"g\\\")\\n            .attr(\\\"class\\\", \\\"legend\\\")\\n            .attr(\\\"transform\\\", function (d, i) {\\n            return \\\"translate(0,\\\" + i * 20 + \\\")\\\";\\n        });\\n\\n        legend.append(\\\"rect\\\")\\n            .attr(\\\"x\\\", width + 105)\\n            .attr(\\\"width\\\", 18)\\n            .attr(\\\"height\\\", 18)\\n            .style(\\\"fill\\\", color);\\n\\n        legend.append(\\\"text\\\")\\n            .attr(\\\"x\\\", width + 105 - 3)\\n            .attr(\\\"y\\\", 9)\\n            .attr(\\\"dy\\\", \\\".35em\\\")\\n            .style(\\\"text-anchor\\\", \\\"end\\\")\\n            .text(function (d) {\\n            return d;\\n        });\\n\\n        svg.selectAll(\\\".g\\\").attr(\\\"stroke\\\", \\\"black\\\");\\n\\n        outputTable(charts[c], consumption[charts[c]].units, consumption[charts[c]].data, \\\"table-\\\" + c);\\n    }\\n    \\n    }\\n</script>\\n</body>\\n</html>\\n\""
      ]
     },
     "metadata": {},
     "output_type": "display_data"
    }
   ],
   "source": [
    "file_path = File.expand_path(Dir.pwd + '/run/004_measures/CalibrationReportsEnhanced/report.html')\n",
    "\n",
    "IRuby.display File.read(file_path), mime: 'text/html'"
   ]
  },
  {
   "cell_type": "markdown",
   "id": "bde1269c-6db2-47f5-ad06-6d868a12f7fc",
   "metadata": {},
   "source": [
    "or launch in an external browser like chrome, etc"
   ]
  },
  {
   "cell_type": "code",
   "execution_count": 13,
   "id": "41b35ec2-45f2-43bd-8623-3d591625d465",
   "metadata": {},
   "outputs": [
    {
     "data": {
      "text/plain": [
       "[#<IO:fd 4>, #<IO:fd 5>, #<IO:fd 7>, #<Process::Waiter:0x000000000e89d628 run>]"
      ]
     },
     "execution_count": 13,
     "metadata": {},
     "output_type": "execute_result"
    }
   ],
   "source": [
    "Open3.popen3(\"start chrome.exe #{file_path}\")"
   ]
  }
 ],
 "metadata": {
  "kernelspec": {
   "display_name": "Ruby 2.7.2",
   "language": "ruby",
   "name": "ruby"
  },
  "language_info": {
   "file_extension": ".rb",
   "mimetype": "application/x-ruby",
   "name": "ruby",
   "version": "2.7.2"
  }
 },
 "nbformat": 4,
 "nbformat_minor": 5
}
